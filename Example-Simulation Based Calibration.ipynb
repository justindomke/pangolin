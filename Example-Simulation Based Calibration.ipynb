{
 "cells": [
  {
   "cell_type": "code",
   "execution_count": null,
   "metadata": {
    "collapsed": true,
    "pycharm": {
     "is_executing": true
    }
   },
   "outputs": [],
   "source": [
    "import numpy as np\n",
    "from pangolin import d, t, Given, I, IID, vmap, recurse, scan, sample, E, P, var, std, cov, corr, jags_code, makerv\n",
    "from matplotlib import pyplot as plt"
   ]
  },
  {
   "cell_type": "code",
   "execution_count": null,
   "outputs": [],
   "source": [
    "def simulation_rank(prior,likelihood):\n",
    "    \"\"\"\n",
    "    1. Draw (θٰʹ,yʹ) ~ p(θ,y)\n",
    "    2. Use MCMC to generate samples approximately from p(θ|yʹ)\n",
    "    3. Find rank of θʹ among samples from θ\n",
    "    \"\"\"\n",
    "    latent_vars = prior()\n",
    "    observed_vars = likelihood(*latent_vars)\n",
    "\n",
    "    # draw latents and observed variables from prior\n",
    "    all_samps = sample(latent_vars + observed_vars, niter=1) # just draw one sample\n",
    "    all_samps = [samps[0] for samps in all_samps] # remove dummy first dimension\n",
    "    latent_samps = all_samps[:len(latent_vars)]\n",
    "    observed_samps = all_samps[len(latent_vars):]\n",
    "\n",
    "    # do inference on latents given observed variables\n",
    "    # intentionally screw up calibration by using a small number of Gibbs iterations\n",
    "    evidence = [observed_var == observed_samp for (observed_var, observed_samp) in zip(observed_vars, observed_samps)]\n",
    "    inference_samps = sample(latent_vars, Given(*evidence), niter=100)\n",
    "\n",
    "    # get rank of true latents compared to sampled latents\n",
    "    ranks = []\n",
    "    for latent_samp, inference_samp in zip(latent_samps, inference_samps):\n",
    "        ranks.append( np.mean(latent_samp < inference_samp, axis=0))\n",
    "\n",
    "    return ranks\n",
    "\n",
    "def SBC(prior,likelihood,nreps=100):\n",
    "    \"\"\"\n",
    "    Call simulation_rank several times, make a histogram\n",
    "    \"\"\"\n",
    "    my_ranks = simulation_rank(prior,likelihood)\n",
    "    ranks = [np.zeros([nreps, *r.shape]) for r in my_ranks]\n",
    "    for i in range(nreps):\n",
    "        my_ranks = simulation_rank(prior,likelihood)\n",
    "        for r, my_r in zip(ranks, my_ranks):\n",
    "            r[i] = my_r\n",
    "\n",
    "    for r in ranks:\n",
    "        plt.figure()\n",
    "        plt.hist(r,np.arange(0,1,.1),density=True)\n",
    "        # annoying we can't do plt.title(nameof(r))...\n",
    "\n",
    "# Simple model with two latent variables and two observation variables, all scalar\n",
    "def prior():\n",
    "    u = d.norm(0,1)\n",
    "    s = d.exp(1)\n",
    "    return u,s\n",
    "\n",
    "def likelihood(u,s):\n",
    "    y = d.norm(u,s)\n",
    "    z = d.norm(u,s)\n",
    "    return y,z\n",
    "\n",
    "SBC(prior,likelihood)"
   ],
   "metadata": {
    "collapsed": false,
    "pycharm": {
     "is_executing": true
    }
   }
  },
  {
   "cell_type": "code",
   "execution_count": null,
   "outputs": [],
   "source": [
    "# proof that this works with different models\n",
    "\n",
    "def prior():\n",
    "    u1 = d.norm(0,1)\n",
    "    u2 = d.norm(0,1)\n",
    "    w = d.unif(0,1)\n",
    "    return u1,u2,w\n",
    "\n",
    "def likelihood(u1,u2,w):\n",
    "    x1 = d.norm(u1,1)\n",
    "    x2 = d.norm(x1 + w*u2, w)\n",
    "    x3 = d.norm(x2 + w*u2, w)\n",
    "    x4 = d.norm(x3 + w*u2, w)\n",
    "    return x1, x2, x3, x4\n",
    "\n",
    "SBC(prior,likelihood)"
   ],
   "metadata": {
    "collapsed": false,
    "pycharm": {
     "is_executing": true
    }
   }
  },
  {
   "cell_type": "markdown",
   "source": [
    "Alternatively, I guess you might just pass the random variables directly?"
   ],
   "metadata": {
    "collapsed": false
   }
  },
  {
   "cell_type": "code",
   "execution_count": null,
   "outputs": [],
   "source": [
    "# Define a simple model with two latent variables and two observation variables, all scalar\n",
    "\n",
    "def simulation_rank(latent_vars,observed_vars):\n",
    "    \"\"\"\n",
    "    1. Draw (θٰʹ,yʹ) ~ p(θ,y)\n",
    "    2. Use MCMC to generate samples approximately from p(θ|yʹ)\n",
    "    3. Find rank of θʹ among samples from θ\n",
    "    \"\"\"\n",
    "    # draw latents and observed variables from prior\n",
    "    all_samps = sample(latent_vars + observed_vars, niter=1) # just draw one sample\n",
    "    all_samps = [samps[0] for samps in all_samps] # remove dummy first dimension\n",
    "    latent_samps = all_samps[:len(latent_vars)]\n",
    "    observed_samps = all_samps[len(latent_vars):]\n",
    "\n",
    "    # do inference on latents given observed variables\n",
    "    # intentionally screw up calibration by using a small number of Gibbs iterations\n",
    "    evidence = [observed_var == observed_samp for (observed_var, observed_samp) in zip(observed_vars, observed_samps)]\n",
    "    inference_samps = sample(latent_vars, Given(*evidence), niter=100)\n",
    "\n",
    "    # get rank of true latents compared to sampled latents\n",
    "    ranks = []\n",
    "    for latent_samp, inference_samp in zip(latent_samps, inference_samps):\n",
    "        ranks.append( np.mean(latent_samp < inference_samp, axis=0))\n",
    "\n",
    "    return ranks\n",
    "\n",
    "def SBC(prior,likelihood,nreps=100):\n",
    "    \"\"\"\n",
    "    Call simulation_rank several times, make a histogram\n",
    "    \"\"\"\n",
    "    my_ranks = simulation_rank(prior,likelihood)\n",
    "    ranks = [np.zeros([nreps, *r.shape]) for r in my_ranks]\n",
    "    for i in range(nreps):\n",
    "        my_ranks = simulation_rank(prior,likelihood)\n",
    "        for r, my_r in zip(ranks, my_ranks):\n",
    "            r[i] = my_r\n",
    "\n",
    "    for r in ranks:\n",
    "        plt.figure()\n",
    "        plt.hist(r,np.arange(0,1,.1),density=True)\n",
    "\n",
    "u = d.norm(0,1)\n",
    "s = d.exp(1)\n",
    "y = d.norm(u,s)\n",
    "z = d.norm(u,s)\n",
    "\n",
    "latent_vars = [u,s]\n",
    "observed_vars = [y,z]\n",
    "\n",
    "SBC(latent_vars,observed_vars)"
   ],
   "metadata": {
    "collapsed": false,
    "pycharm": {
     "is_executing": true
    }
   }
  },
  {
   "cell_type": "code",
   "execution_count": null,
   "outputs": [],
   "source": [],
   "metadata": {
    "collapsed": false,
    "pycharm": {
     "is_executing": true
    }
   }
  }
 ],
 "metadata": {
  "kernelspec": {
   "display_name": "Python 3",
   "language": "python",
   "name": "python3"
  },
  "language_info": {
   "codemirror_mode": {
    "name": "ipython",
    "version": 2
   },
   "file_extension": ".py",
   "mimetype": "text/x-python",
   "name": "python",
   "nbconvert_exporter": "python",
   "pygments_lexer": "ipython2",
   "version": "2.7.6"
  }
 },
 "nbformat": 4,
 "nbformat_minor": 0
}
