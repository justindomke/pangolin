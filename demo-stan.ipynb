{
 "cells": [
  {
   "cell_type": "code",
   "execution_count": 1,
   "outputs": [
    {
     "name": "stderr",
     "output_type": "stream",
     "text": [
      "INFO:pycmdstan.model:starting /Users/j/.cache/pycmdstan/model-2777e6e1 id=68269 sample num_warmup=200 num_samples=200 data file=/var/folders/5z/ngs4vf717m12n9fd_sfbyyyw0000gn/T/tmp3_qrs_j1/data.R output file=/var/folders/5z/ngs4vf717m12n9fd_sfbyyyw0000gn/T/tmp3_qrs_j1/output.csv refresh=1\n"
     ]
    },
    {
     "name": "stdout",
     "output_type": "stream",
     "text": [
      "--- Translating Stan model to C++ code ---\n",
      "bin/stanc  --o=/Users/j/.cache/pycmdstan/model-2777e6e1.hpp /Users/j/.cache/pycmdstan/model-2777e6e1.stan\n",
      "\n",
      "--- Compiling the main object file. This might take up to a minute. ---\n",
      "clang++ -std=c++1y -Wno-unknown-warning-option -Wno-tautological-compare -Wno-sign-compare -D_REENTRANT -Wno-ignored-attributes      -I /opt/anaconda3/envs/pangolin/include/    -O3 -I src -I stan/src -I stan/lib/rapidjson_1.1.0/ -I lib/CLI11-1.9.1/ -I stan/lib/stan_math/ -I stan/lib/stan_math/lib/eigen_3.3.9 -I stan/lib/stan_math/lib/boost_1.78.0 -I stan/lib/stan_math/lib/sundials_6.1.1/include -I stan/lib/stan_math/lib/sundials_6.1.1/src/sundials    -DBOOST_DISABLE_ASSERTS   -DTBB_INTERFACE_NEW  -DTBB_INTERFACE_NEW     -c -o src/cmdstan/main.o src/cmdstan/main.cpp\n",
      "In file included from src/cmdstan/main.cpp:1:\n",
      "In file included from src/cmdstan/command.hpp:4:\n",
      "In file included from src/cmdstan/arguments/arg_data.hpp:4:\n",
      "In file included from src/cmdstan/arguments/categorical_argument.hpp:4:\n",
      "In file included from src/cmdstan/arguments/argument.hpp:4:\n",
      "In file included from stan/src/stan/callbacks/writer.hpp:4:\n",
      "In file included from stan/lib/stan_math/lib/boost_1.78.0/boost/lexical_cast.hpp:21:\n",
      "In file included from stan/lib/stan_math/lib/boost_1.78.0/boost/config.hpp:57:\n",
      "In file included from stan/lib/stan_math/lib/boost_1.78.0/boost/config/platform/macos.hpp:28:\n",
      "stan/lib/stan_math/lib/boost_1.78.0/boost/config/detail/posix_features.hpp:18:15: fatal error: 'unistd.h' file not found\n",
      "#     include <unistd.h>\n",
      "              ^~~~~~~~~~\n",
      "1 error generated.\n",
      "make: *** [make/program:14: src/cmdstan/main.o] Error 1\n"
     ]
    },
    {
     "ename": "FileNotFoundError",
     "evalue": "[Errno 2] No such file or directory: '/Users/j/.cache/pycmdstan/model-2777e6e1'",
     "output_type": "error",
     "traceback": [
      "\u001B[0;31m---------------------------------------------------------------------------\u001B[0m",
      "\u001B[0;31mFileNotFoundError\u001B[0m                         Traceback (most recent call last)",
      "Cell \u001B[0;32mIn[1], line 32\u001B[0m\n\u001B[1;32m     30\u001B[0m mus \u001B[38;5;241m=\u001B[39m np\u001B[38;5;241m.\u001B[39mr_[\u001B[38;5;241m1.0\u001B[39m, \u001B[38;5;241m3.0\u001B[39m, \u001B[38;5;241m5.0\u001B[39m, \u001B[38;5;241m7.0\u001B[39m, \u001B[38;5;241m9.0\u001B[39m]\n\u001B[1;32m     31\u001B[0m \u001B[38;5;28;01mfor\u001B[39;00m mu \u001B[38;5;129;01min\u001B[39;00m mus:\n\u001B[0;32m---> 32\u001B[0m     run \u001B[38;5;241m=\u001B[39m \u001B[43mmodel\u001B[49m\u001B[38;5;241;43m.\u001B[39;49m\u001B[43msample\u001B[49m\u001B[43m(\u001B[49m\n\u001B[1;32m     33\u001B[0m \u001B[43m        \u001B[49m\u001B[43mdata\u001B[49m\u001B[38;5;241;43m=\u001B[39;49m\u001B[38;5;28;43mdict\u001B[39;49m\u001B[43m(\u001B[49m\u001B[43mmu\u001B[49m\u001B[38;5;241;43m=\u001B[39;49m\u001B[43mmu\u001B[49m\u001B[43m,\u001B[49m\u001B[43m \u001B[49m\u001B[38;5;241;43m*\u001B[39;49m\u001B[38;5;241;43m*\u001B[39;49m\u001B[43mdata\u001B[49m\u001B[43m)\u001B[49m\u001B[43m,\u001B[49m\u001B[43m \u001B[49m\u001B[43mnum_warmup\u001B[49m\u001B[38;5;241;43m=\u001B[39;49m\u001B[38;5;241;43m200\u001B[39;49m\u001B[43m,\u001B[49m\u001B[43m \u001B[49m\u001B[43mnum_samples\u001B[49m\u001B[38;5;241;43m=\u001B[39;49m\u001B[38;5;241;43m200\u001B[39;49m\u001B[43m)\u001B[49m\n\u001B[1;32m     34\u001B[0m     loo\u001B[38;5;241m.\u001B[39mappend(run[\u001B[38;5;124m'\u001B[39m\u001B[38;5;124mloo\u001B[39m\u001B[38;5;124m'\u001B[39m])\n\u001B[1;32m     35\u001B[0m \u001B[38;5;28;01massert\u001B[39;00m mus[np\u001B[38;5;241m.\u001B[39margmin(loo)] \u001B[38;5;241m==\u001B[39m \u001B[38;5;241m5.0\u001B[39m\n",
      "File \u001B[0;32m/opt/anaconda3/envs/pangolin/lib/python3.10/site-packages/pycmdstan/model.py:144\u001B[0m, in \u001B[0;36mModel.sample\u001B[0;34m(self, **kwargs)\u001B[0m\n\u001B[1;32m    141\u001B[0m \u001B[38;5;28;01mdef\u001B[39;00m \u001B[38;5;21msample\u001B[39m(\u001B[38;5;28mself\u001B[39m, \u001B[38;5;241m*\u001B[39m\u001B[38;5;241m*\u001B[39mkwargs):\n\u001B[1;32m    142\u001B[0m \u001B[38;5;250m    \u001B[39m\u001B[38;5;124;03m\"\"\"Run the model with the sample (NUTS/HMC) method.\u001B[39;00m\n\u001B[1;32m    143\u001B[0m \u001B[38;5;124;03m    \"\"\"\u001B[39;00m\n\u001B[0;32m--> 144\u001B[0m     \u001B[38;5;28;01mreturn\u001B[39;00m \u001B[38;5;28;43mself\u001B[39;49m\u001B[38;5;241;43m.\u001B[39;49m\u001B[43mrun\u001B[49m\u001B[43m(\u001B[49m\u001B[43mmethod\u001B[49m\u001B[38;5;241;43m=\u001B[39;49m\u001B[38;5;124;43m'\u001B[39;49m\u001B[38;5;124;43msample\u001B[39;49m\u001B[38;5;124;43m'\u001B[39;49m\u001B[43m,\u001B[49m\u001B[43m \u001B[49m\u001B[38;5;241;43m*\u001B[39;49m\u001B[38;5;241;43m*\u001B[39;49m\u001B[43mkwargs\u001B[49m\u001B[43m)\u001B[49m\n",
      "File \u001B[0;32m/opt/anaconda3/envs/pangolin/lib/python3.10/site-packages/pycmdstan/model.py:162\u001B[0m, in \u001B[0;36mModel.run\u001B[0;34m(self, method, chains, wait, seed, **kwargs)\u001B[0m\n\u001B[1;32m    160\u001B[0m rng \u001B[38;5;241m=\u001B[39m np\u001B[38;5;241m.\u001B[39mrandom\u001B[38;5;241m.\u001B[39mRandomState()\n\u001B[1;32m    161\u001B[0m rng\u001B[38;5;241m.\u001B[39mseed(seed)\n\u001B[0;32m--> 162\u001B[0m runs \u001B[38;5;241m=\u001B[39m [\n\u001B[1;32m    163\u001B[0m     Run(model\u001B[38;5;241m=\u001B[39m\u001B[38;5;28mself\u001B[39m,\n\u001B[1;32m    164\u001B[0m         method\u001B[38;5;241m=\u001B[39mmethod,\n\u001B[1;32m    165\u001B[0m         \u001B[38;5;28mid\u001B[39m\u001B[38;5;241m=\u001B[39mrng\u001B[38;5;241m.\u001B[39mrandom_integers(\u001B[38;5;241m99999\u001B[39m),\n\u001B[1;32m    166\u001B[0m         \u001B[38;5;241m*\u001B[39m\u001B[38;5;241m*\u001B[39mkwargs) \u001B[38;5;28;01mfor\u001B[39;00m _ \u001B[38;5;129;01min\u001B[39;00m \u001B[38;5;28mrange\u001B[39m(chains)\n\u001B[1;32m    167\u001B[0m ]\n\u001B[1;32m    168\u001B[0m \u001B[38;5;28;01mif\u001B[39;00m \u001B[38;5;28mlen\u001B[39m(runs) \u001B[38;5;241m==\u001B[39m \u001B[38;5;241m1\u001B[39m:\n\u001B[1;32m    169\u001B[0m     \u001B[38;5;28;01mreturn\u001B[39;00m runs[\u001B[38;5;241m0\u001B[39m]\n",
      "File \u001B[0;32m/opt/anaconda3/envs/pangolin/lib/python3.10/site-packages/pycmdstan/model.py:163\u001B[0m, in \u001B[0;36m<listcomp>\u001B[0;34m(.0)\u001B[0m\n\u001B[1;32m    160\u001B[0m rng \u001B[38;5;241m=\u001B[39m np\u001B[38;5;241m.\u001B[39mrandom\u001B[38;5;241m.\u001B[39mRandomState()\n\u001B[1;32m    161\u001B[0m rng\u001B[38;5;241m.\u001B[39mseed(seed)\n\u001B[1;32m    162\u001B[0m runs \u001B[38;5;241m=\u001B[39m [\n\u001B[0;32m--> 163\u001B[0m     \u001B[43mRun\u001B[49m\u001B[43m(\u001B[49m\u001B[43mmodel\u001B[49m\u001B[38;5;241;43m=\u001B[39;49m\u001B[38;5;28;43mself\u001B[39;49m\u001B[43m,\u001B[49m\n\u001B[1;32m    164\u001B[0m \u001B[43m        \u001B[49m\u001B[43mmethod\u001B[49m\u001B[38;5;241;43m=\u001B[39;49m\u001B[43mmethod\u001B[49m\u001B[43m,\u001B[49m\n\u001B[1;32m    165\u001B[0m \u001B[43m        \u001B[49m\u001B[38;5;28;43mid\u001B[39;49m\u001B[38;5;241;43m=\u001B[39;49m\u001B[43mrng\u001B[49m\u001B[38;5;241;43m.\u001B[39;49m\u001B[43mrandom_integers\u001B[49m\u001B[43m(\u001B[49m\u001B[38;5;241;43m99999\u001B[39;49m\u001B[43m)\u001B[49m\u001B[43m,\u001B[49m\n\u001B[1;32m    166\u001B[0m \u001B[43m        \u001B[49m\u001B[38;5;241;43m*\u001B[39;49m\u001B[38;5;241;43m*\u001B[39;49m\u001B[43mkwargs\u001B[49m\u001B[43m)\u001B[49m \u001B[38;5;28;01mfor\u001B[39;00m _ \u001B[38;5;129;01min\u001B[39;00m \u001B[38;5;28mrange\u001B[39m(chains)\n\u001B[1;32m    167\u001B[0m ]\n\u001B[1;32m    168\u001B[0m \u001B[38;5;28;01mif\u001B[39;00m \u001B[38;5;28mlen\u001B[39m(runs) \u001B[38;5;241m==\u001B[39m \u001B[38;5;241m1\u001B[39m:\n\u001B[1;32m    169\u001B[0m     \u001B[38;5;28;01mreturn\u001B[39;00m runs[\u001B[38;5;241m0\u001B[39m]\n",
      "File \u001B[0;32m/opt/anaconda3/envs/pangolin/lib/python3.10/site-packages/pycmdstan/model.py:200\u001B[0m, in \u001B[0;36mRun.__init__\u001B[0;34m(self, model, method, data, id, log_lik, start, wait, tmp_dir, **method_args)\u001B[0m\n\u001B[1;32m    198\u001B[0m     io\u001B[38;5;241m.\u001B[39mrdump(\u001B[38;5;28mself\u001B[39m\u001B[38;5;241m.\u001B[39mdata_R_fname, data)\n\u001B[1;32m    199\u001B[0m \u001B[38;5;28;01mif\u001B[39;00m start:\n\u001B[0;32m--> 200\u001B[0m     \u001B[38;5;28;43mself\u001B[39;49m\u001B[38;5;241;43m.\u001B[39;49m\u001B[43mstart\u001B[49m\u001B[43m(\u001B[49m\u001B[43mwait\u001B[49m\u001B[38;5;241;43m=\u001B[39;49m\u001B[43mwait\u001B[49m\u001B[43m)\u001B[49m\n",
      "File \u001B[0;32m/opt/anaconda3/envs/pangolin/lib/python3.10/site-packages/pycmdstan/model.py:246\u001B[0m, in \u001B[0;36mRun.start\u001B[0;34m(self, wait)\u001B[0m\n\u001B[1;32m    244\u001B[0m logger\u001B[38;5;241m.\u001B[39mdebug(\u001B[38;5;124m'\u001B[39m\u001B[38;5;124mstarting \u001B[39m\u001B[38;5;132;01m%r\u001B[39;00m\u001B[38;5;124m'\u001B[39m, \u001B[38;5;28mself\u001B[39m\u001B[38;5;241m.\u001B[39mcmd)\n\u001B[1;32m    245\u001B[0m \u001B[38;5;28mself\u001B[39m\u001B[38;5;241m.\u001B[39m_output_fd \u001B[38;5;241m=\u001B[39m \u001B[38;5;28mopen\u001B[39m(\u001B[38;5;28mself\u001B[39m\u001B[38;5;241m.\u001B[39moutput_fname, \u001B[38;5;124m'\u001B[39m\u001B[38;5;124mw\u001B[39m\u001B[38;5;124m'\u001B[39m)\n\u001B[0;32m--> 246\u001B[0m \u001B[38;5;28mself\u001B[39m\u001B[38;5;241m.\u001B[39mproc \u001B[38;5;241m=\u001B[39m \u001B[43msubprocess\u001B[49m\u001B[38;5;241;43m.\u001B[39;49m\u001B[43mPopen\u001B[49m\u001B[43m(\u001B[49m\n\u001B[1;32m    247\u001B[0m \u001B[43m    \u001B[49m\u001B[38;5;28;43mself\u001B[39;49m\u001B[38;5;241;43m.\u001B[39;49m\u001B[43mcmd\u001B[49m\u001B[43m,\u001B[49m\u001B[43m \u001B[49m\u001B[43mstdout\u001B[49m\u001B[38;5;241;43m=\u001B[39;49m\u001B[38;5;28;43mself\u001B[39;49m\u001B[38;5;241;43m.\u001B[39;49m\u001B[43m_output_fd\u001B[49m\u001B[43m,\u001B[49m\u001B[43m \u001B[49m\u001B[43mstderr\u001B[49m\u001B[38;5;241;43m=\u001B[39;49m\u001B[43msubprocess\u001B[49m\u001B[38;5;241;43m.\u001B[39;49m\u001B[43mSTDOUT\u001B[49m\u001B[43m)\u001B[49m\n\u001B[1;32m    248\u001B[0m \u001B[38;5;28;01mif\u001B[39;00m wait:\n\u001B[1;32m    249\u001B[0m     \u001B[38;5;28mself\u001B[39m\u001B[38;5;241m.\u001B[39mwait()\n",
      "File \u001B[0;32m/opt/anaconda3/envs/pangolin/lib/python3.10/subprocess.py:971\u001B[0m, in \u001B[0;36mPopen.__init__\u001B[0;34m(self, args, bufsize, executable, stdin, stdout, stderr, preexec_fn, close_fds, shell, cwd, env, universal_newlines, startupinfo, creationflags, restore_signals, start_new_session, pass_fds, user, group, extra_groups, encoding, errors, text, umask, pipesize)\u001B[0m\n\u001B[1;32m    967\u001B[0m         \u001B[38;5;28;01mif\u001B[39;00m \u001B[38;5;28mself\u001B[39m\u001B[38;5;241m.\u001B[39mtext_mode:\n\u001B[1;32m    968\u001B[0m             \u001B[38;5;28mself\u001B[39m\u001B[38;5;241m.\u001B[39mstderr \u001B[38;5;241m=\u001B[39m io\u001B[38;5;241m.\u001B[39mTextIOWrapper(\u001B[38;5;28mself\u001B[39m\u001B[38;5;241m.\u001B[39mstderr,\n\u001B[1;32m    969\u001B[0m                     encoding\u001B[38;5;241m=\u001B[39mencoding, errors\u001B[38;5;241m=\u001B[39merrors)\n\u001B[0;32m--> 971\u001B[0m     \u001B[38;5;28;43mself\u001B[39;49m\u001B[38;5;241;43m.\u001B[39;49m\u001B[43m_execute_child\u001B[49m\u001B[43m(\u001B[49m\u001B[43margs\u001B[49m\u001B[43m,\u001B[49m\u001B[43m \u001B[49m\u001B[43mexecutable\u001B[49m\u001B[43m,\u001B[49m\u001B[43m \u001B[49m\u001B[43mpreexec_fn\u001B[49m\u001B[43m,\u001B[49m\u001B[43m \u001B[49m\u001B[43mclose_fds\u001B[49m\u001B[43m,\u001B[49m\n\u001B[1;32m    972\u001B[0m \u001B[43m                        \u001B[49m\u001B[43mpass_fds\u001B[49m\u001B[43m,\u001B[49m\u001B[43m \u001B[49m\u001B[43mcwd\u001B[49m\u001B[43m,\u001B[49m\u001B[43m \u001B[49m\u001B[43menv\u001B[49m\u001B[43m,\u001B[49m\n\u001B[1;32m    973\u001B[0m \u001B[43m                        \u001B[49m\u001B[43mstartupinfo\u001B[49m\u001B[43m,\u001B[49m\u001B[43m \u001B[49m\u001B[43mcreationflags\u001B[49m\u001B[43m,\u001B[49m\u001B[43m \u001B[49m\u001B[43mshell\u001B[49m\u001B[43m,\u001B[49m\n\u001B[1;32m    974\u001B[0m \u001B[43m                        \u001B[49m\u001B[43mp2cread\u001B[49m\u001B[43m,\u001B[49m\u001B[43m \u001B[49m\u001B[43mp2cwrite\u001B[49m\u001B[43m,\u001B[49m\n\u001B[1;32m    975\u001B[0m \u001B[43m                        \u001B[49m\u001B[43mc2pread\u001B[49m\u001B[43m,\u001B[49m\u001B[43m \u001B[49m\u001B[43mc2pwrite\u001B[49m\u001B[43m,\u001B[49m\n\u001B[1;32m    976\u001B[0m \u001B[43m                        \u001B[49m\u001B[43merrread\u001B[49m\u001B[43m,\u001B[49m\u001B[43m \u001B[49m\u001B[43merrwrite\u001B[49m\u001B[43m,\u001B[49m\n\u001B[1;32m    977\u001B[0m \u001B[43m                        \u001B[49m\u001B[43mrestore_signals\u001B[49m\u001B[43m,\u001B[49m\n\u001B[1;32m    978\u001B[0m \u001B[43m                        \u001B[49m\u001B[43mgid\u001B[49m\u001B[43m,\u001B[49m\u001B[43m \u001B[49m\u001B[43mgids\u001B[49m\u001B[43m,\u001B[49m\u001B[43m \u001B[49m\u001B[43muid\u001B[49m\u001B[43m,\u001B[49m\u001B[43m \u001B[49m\u001B[43mumask\u001B[49m\u001B[43m,\u001B[49m\n\u001B[1;32m    979\u001B[0m \u001B[43m                        \u001B[49m\u001B[43mstart_new_session\u001B[49m\u001B[43m)\u001B[49m\n\u001B[1;32m    980\u001B[0m \u001B[38;5;28;01mexcept\u001B[39;00m:\n\u001B[1;32m    981\u001B[0m     \u001B[38;5;66;03m# Cleanup if the child failed starting.\u001B[39;00m\n\u001B[1;32m    982\u001B[0m     \u001B[38;5;28;01mfor\u001B[39;00m f \u001B[38;5;129;01min\u001B[39;00m \u001B[38;5;28mfilter\u001B[39m(\u001B[38;5;28;01mNone\u001B[39;00m, (\u001B[38;5;28mself\u001B[39m\u001B[38;5;241m.\u001B[39mstdin, \u001B[38;5;28mself\u001B[39m\u001B[38;5;241m.\u001B[39mstdout, \u001B[38;5;28mself\u001B[39m\u001B[38;5;241m.\u001B[39mstderr)):\n",
      "File \u001B[0;32m/opt/anaconda3/envs/pangolin/lib/python3.10/subprocess.py:1863\u001B[0m, in \u001B[0;36mPopen._execute_child\u001B[0;34m(self, args, executable, preexec_fn, close_fds, pass_fds, cwd, env, startupinfo, creationflags, shell, p2cread, p2cwrite, c2pread, c2pwrite, errread, errwrite, restore_signals, gid, gids, uid, umask, start_new_session)\u001B[0m\n\u001B[1;32m   1861\u001B[0m     \u001B[38;5;28;01mif\u001B[39;00m errno_num \u001B[38;5;241m!=\u001B[39m \u001B[38;5;241m0\u001B[39m:\n\u001B[1;32m   1862\u001B[0m         err_msg \u001B[38;5;241m=\u001B[39m os\u001B[38;5;241m.\u001B[39mstrerror(errno_num)\n\u001B[0;32m-> 1863\u001B[0m     \u001B[38;5;28;01mraise\u001B[39;00m child_exception_type(errno_num, err_msg, err_filename)\n\u001B[1;32m   1864\u001B[0m \u001B[38;5;28;01mraise\u001B[39;00m child_exception_type(err_msg)\n",
      "\u001B[0;31mFileNotFoundError\u001B[0m: [Errno 2] No such file or directory: '/Users/j/.cache/pycmdstan/model-2777e6e1'"
     ]
    }
   ],
   "source": [
    "import os\n",
    "os.environ['CMDSTAN'] = '/opt/anaconda3/envs/pangolin/bin/cmdstan'\n",
    "from pycmdstan import Model, Run\n",
    "import numpy as np\n",
    "\n",
    "model = Model('''\n",
    "data { vector[20] x; real mu; }\n",
    "parameters { real sig; }\n",
    "model {\n",
    "    x ~ normal(mu, sig);\n",
    "}\n",
    "generated quantities {\n",
    "    vector[20] log_lik;\n",
    "    for (i in 1:20) log_lik[i] = normal_lpdf(x[i] | mu, sig);\n",
    "}\n",
    "''')\n",
    "\n",
    "# mu = np.array([0.5])\n",
    "# data = {}\n",
    "#\n",
    "# runs = model.sample(\n",
    "#         data=dict(mu, **data),\n",
    "#         chains=4\n",
    "# )\n",
    "# assert runs.N_eff_per_iter.min() > 0.2\n",
    "# assert runs.R_hat.max() < 1.2\n",
    "\n",
    "data = {'x': np.random.randn(20) + 5.0}\n",
    "loo = []\n",
    "mus = np.r_[1.0, 3.0, 5.0, 7.0, 9.0]\n",
    "for mu in mus:\n",
    "    run = model.sample(\n",
    "        data=dict(mu=mu, **data), num_warmup=200, num_samples=200)\n",
    "    loo.append(run['loo'])\n",
    "assert mus[np.argmin(loo)] == 5.0"
   ],
   "metadata": {
    "collapsed": false
   }
  },
  {
   "cell_type": "code",
   "execution_count": 2,
   "outputs": [
    {
     "ename": "AttributeError",
     "evalue": "module 'stan' has no attribute 'StanModel'",
     "output_type": "error",
     "traceback": [
      "\u001B[0;31m---------------------------------------------------------------------------\u001B[0m",
      "\u001B[0;31mAttributeError\u001B[0m                            Traceback (most recent call last)",
      "Cell \u001B[0;32mIn[2], line 30\u001B[0m\n\u001B[1;32m      6\u001B[0m schools_code \u001B[38;5;241m=\u001B[39m \u001B[38;5;124m\"\"\"\u001B[39m\n\u001B[1;32m      7\u001B[0m \u001B[38;5;124mdata \u001B[39m\u001B[38;5;124m{\u001B[39m\n\u001B[1;32m      8\u001B[0m \u001B[38;5;124m  int<lower=0> J;         // number of schools\u001B[39m\n\u001B[0;32m   (...)\u001B[0m\n\u001B[1;32m     23\u001B[0m \u001B[38;5;124m}\u001B[39m\n\u001B[1;32m     24\u001B[0m \u001B[38;5;124m\"\"\"\u001B[39m\n\u001B[1;32m     26\u001B[0m schools_data \u001B[38;5;241m=\u001B[39m {\u001B[38;5;124m\"\u001B[39m\u001B[38;5;124mJ\u001B[39m\u001B[38;5;124m\"\u001B[39m: \u001B[38;5;241m8\u001B[39m,\n\u001B[1;32m     27\u001B[0m                 \u001B[38;5;124m\"\u001B[39m\u001B[38;5;124my\u001B[39m\u001B[38;5;124m\"\u001B[39m: [\u001B[38;5;241m28\u001B[39m,  \u001B[38;5;241m8\u001B[39m, \u001B[38;5;241m-\u001B[39m\u001B[38;5;241m3\u001B[39m,  \u001B[38;5;241m7\u001B[39m, \u001B[38;5;241m-\u001B[39m\u001B[38;5;241m1\u001B[39m,  \u001B[38;5;241m1\u001B[39m, \u001B[38;5;241m18\u001B[39m, \u001B[38;5;241m12\u001B[39m],\n\u001B[1;32m     28\u001B[0m                 \u001B[38;5;124m\"\u001B[39m\u001B[38;5;124msigma\u001B[39m\u001B[38;5;124m\"\u001B[39m: [\u001B[38;5;241m15\u001B[39m, \u001B[38;5;241m10\u001B[39m, \u001B[38;5;241m16\u001B[39m, \u001B[38;5;241m11\u001B[39m,  \u001B[38;5;241m9\u001B[39m, \u001B[38;5;241m11\u001B[39m, \u001B[38;5;241m10\u001B[39m, \u001B[38;5;241m18\u001B[39m]}\n\u001B[0;32m---> 30\u001B[0m sm \u001B[38;5;241m=\u001B[39m \u001B[43mstan\u001B[49m\u001B[38;5;241;43m.\u001B[39;49m\u001B[43mStanModel\u001B[49m(model_code\u001B[38;5;241m=\u001B[39mschools_code)\n\u001B[1;32m     31\u001B[0m fit \u001B[38;5;241m=\u001B[39m sm\u001B[38;5;241m.\u001B[39msampling(data\u001B[38;5;241m=\u001B[39mschools_data, \u001B[38;5;28miter\u001B[39m\u001B[38;5;241m=\u001B[39m\u001B[38;5;241m1000\u001B[39m, chains\u001B[38;5;241m=\u001B[39m\u001B[38;5;241m4\u001B[39m, seed\u001B[38;5;241m=\u001B[39m\u001B[38;5;241m1\u001B[39m)\n\u001B[1;32m     32\u001B[0m fit\u001B[38;5;241m.\u001B[39mextract()[\u001B[38;5;124m\"\u001B[39m\u001B[38;5;124meta\u001B[39m\u001B[38;5;124m\"\u001B[39m]\n",
      "\u001B[0;31mAttributeError\u001B[0m: module 'stan' has no attribute 'StanModel'"
     ]
    }
   ],
   "source": [
    "import multiprocessing\n",
    "multiprocessing.set_start_method(\"fork\")\n",
    "\n",
    "import stan\n",
    "\n",
    "schools_code = \"\"\"\n",
    "data {\n",
    "  int<lower=0> J;         // number of schools\n",
    "  real y[J];              // estimated treatment effects\n",
    "  real<lower=0> sigma[J]; // standard error of effect estimates\n",
    "}\n",
    "parameters {\n",
    "  real mu;                // population treatment effect\n",
    "  real<lower=0> tau;      // standard deviation in treatment effects\n",
    "  vector[J] eta;          // unscaled deviation from mu by school\n",
    "}\n",
    "transformed parameters {\n",
    "  vector[J] theta = mu + tau * eta;        // school treatment effects\n",
    "}\n",
    "model {\n",
    "  target += normal_lpdf(eta | 0, 1);       // prior log-density\n",
    "  target += normal_lpdf(y | theta, sigma); // log-likelihood\n",
    "}\n",
    "\"\"\"\n",
    "\n",
    "schools_data = {\"J\": 8,\n",
    "                \"y\": [28,  8, -3,  7, -1,  1, 18, 12],\n",
    "                \"sigma\": [15, 10, 16, 11,  9, 11, 10, 18]}\n",
    "\n",
    "sm = stan.StanModel(model_code=schools_code)\n",
    "fit = sm.sampling(data=schools_data, iter=1000, chains=4, seed=1)\n",
    "fit.extract()[\"eta\"]\n"
   ],
   "metadata": {
    "collapsed": false
   }
  },
  {
   "cell_type": "code",
   "execution_count": 9,
   "outputs": [
    {
     "name": "stdout",
     "output_type": "stream",
     "text": [
      "Building..."
     ]
    },
    {
     "name": "stderr",
     "output_type": "stream",
     "text": [
      "INFO:aiohttp.access:127.0.0.1 [06/Nov/2023:21:26:39 +0000] \"POST /v1/models/i4wqqx53/params HTTP/1.1\" 404 250 \"-\" \"Python/3.10 aiohttp/3.8.5\"\n",
      "INFO:httpstan:Building model-specific services extension module for `models/i4wqqx53`.\n",
      "INFO:root:building 'stan_services_model_i4wqqx53' extension\n",
      "INFO:root:clang -Wno-unused-result -Wsign-compare -Wunreachable-code -DNDEBUG -fwrapv -O2 -Wall -fPIC -O2 -isystem /opt/anaconda3/envs/pangolin/include -fPIC -O2 -isystem /opt/anaconda3/envs/pangolin/include -DBOOST_DISABLE_ASSERTS -DBOOST_PHOENIX_NO_VARIADIC_EXPRESSION -DSTAN_THREADS -D_REENTRANT -D_GLIBCXX_USE_CXX11_ABI=0 -I/Users/j/Library/Caches/httpstan/4.10.0/models/i4wqqx53 -I/opt/anaconda3/envs/pangolin/lib/python3.10/site-packages/httpstan/include -I/opt/anaconda3/envs/pangolin/include/python3.10 -c /Users/j/Library/Caches/httpstan/4.10.0/models/i4wqqx53/model_i4wqqx53.cpp -o build/temp.macosx-10.9-x86_64-cpython-310/Users/j/Library/Caches/httpstan/4.10.0/models/i4wqqx53/model_i4wqqx53.o -O3 -std=c++14 -Wno-sign-compare\n",
      "In file included from /Users/j/Library/Caches/httpstan/4.10.0/models/i4wqqx53/model_i4wqqx53.cpp:2:\n",
      "In file included from /opt/anaconda3/envs/pangolin/lib/python3.10/site-packages/httpstan/include/stan/model/model_header.hpp:4:\n",
      "In file included from /opt/anaconda3/envs/pangolin/lib/python3.10/site-packages/httpstan/include/stan/math.hpp:19:\n",
      "In file included from /opt/anaconda3/envs/pangolin/lib/python3.10/site-packages/httpstan/include/stan/math/rev.hpp:4:\n",
      "In file included from /opt/anaconda3/envs/pangolin/lib/python3.10/site-packages/httpstan/include/stan/math/prim/fun/Eigen.hpp:22:\n",
      "In file included from /opt/anaconda3/envs/pangolin/lib/python3.10/site-packages/httpstan/include/Eigen/Dense:1:\n",
      "In file included from /opt/anaconda3/envs/pangolin/lib/python3.10/site-packages/httpstan/include/Eigen/Core:19:\n",
      "In file included from /opt/anaconda3/envs/pangolin/lib/python3.10/site-packages/httpstan/include/Eigen/src/Core/util/Macros.h:679:\n",
      "In file included from /opt/anaconda3/envs/pangolin/bin/../include/c++/v1/cmath:308:\n",
      "/opt/anaconda3/envs/pangolin/bin/../include/c++/v1/math.h:300:15: fatal error: 'math.h' file not found\n",
      "#include_next <math.h>\n",
      "              ^~~~~~~~\n",
      "1 error generated.\n",
      "CRITICAL:httpstan:Exception while building model extension module: `CompileError(DistutilsExecError(\"command '/opt/anaconda3/envs/pangolin/bin/clang' failed with exit code 1\"))`, traceback: `['  File \"/opt/anaconda3/envs/pangolin/lib/python3.10/site-packages/httpstan/views.py\", line 114, in handle_create_model\\n    compiler_output = await httpstan.models.build_services_extension_module(program_code)\\n', '  File \"/opt/anaconda3/envs/pangolin/lib/python3.10/site-packages/httpstan/models.py\", line 172, in build_services_extension_module\\n    compiler_output = await asyncio.get_running_loop().run_in_executor(\\n', '  File \"/opt/anaconda3/envs/pangolin/lib/python3.10/asyncio/futures.py\", line 285, in __await__\\n    yield self  # This tells Task to wait for completion.\\n', '  File \"/opt/anaconda3/envs/pangolin/lib/python3.10/asyncio/tasks.py\", line 304, in __wakeup\\n    future.result()\\n', '  File \"/opt/anaconda3/envs/pangolin/lib/python3.10/asyncio/futures.py\", line 201, in result\\n    raise self._exception.with_traceback(self._exception_tb)\\n', '  File \"/opt/anaconda3/envs/pangolin/lib/python3.10/concurrent/futures/thread.py\", line 58, in run\\n    result = self.fn(*self.args, **self.kwargs)\\n', '  File \"/opt/anaconda3/envs/pangolin/lib/python3.10/site-packages/httpstan/build_ext.py\", line 86, in run_build_ext\\n    build_extension.run()\\n', '  File \"/opt/anaconda3/envs/pangolin/lib/python3.10/site-packages/setuptools/command/build_ext.py\", line 84, in run\\n    _build_ext.run(self)\\n', '  File \"/opt/anaconda3/envs/pangolin/lib/python3.10/site-packages/setuptools/_distutils/command/build_ext.py\", line 345, in run\\n    self.build_extensions()\\n', '  File \"/opt/anaconda3/envs/pangolin/lib/python3.10/site-packages/setuptools/_distutils/command/build_ext.py\", line 467, in build_extensions\\n    self._build_extensions_serial()\\n', '  File \"/opt/anaconda3/envs/pangolin/lib/python3.10/site-packages/setuptools/_distutils/command/build_ext.py\", line 493, in _build_extensions_serial\\n    self.build_extension(ext)\\n', '  File \"/opt/anaconda3/envs/pangolin/lib/python3.10/site-packages/setuptools/command/build_ext.py\", line 246, in build_extension\\n    _build_ext.build_extension(self, ext)\\n', '  File \"/opt/anaconda3/envs/pangolin/lib/python3.10/site-packages/setuptools/_distutils/command/build_ext.py\", line 548, in build_extension\\n    objects = self.compiler.compile(\\n', '  File \"/opt/anaconda3/envs/pangolin/lib/python3.10/site-packages/setuptools/_distutils/ccompiler.py\", line 600, in compile\\n    self._compile(obj, src, ext, cc_args, extra_postargs, pp_opts)\\n', '  File \"/opt/anaconda3/envs/pangolin/lib/python3.10/site-packages/setuptools/_distutils/unixccompiler.py\", line 187, in _compile\\n    raise CompileError(msg)\\n']`\n",
      "INFO:aiohttp.access:127.0.0.1 [06/Nov/2023:21:26:39 +0000] \"POST /v1/models HTTP/1.1\" 400 3020 \"-\" \"Python/3.10 aiohttp/3.8.5\"\n"
     ]
    },
    {
     "name": "stdout",
     "output_type": "stream",
     "text": [
      "\n"
     ]
    },
    {
     "ename": "RuntimeError",
     "evalue": "Exception while building model extension module: `CompileError(DistutilsExecError(\"command '/opt/anaconda3/envs/pangolin/bin/clang' failed with exit code 1\"))`, traceback: `['  File \"/opt/anaconda3/envs/pangolin/lib/python3.10/site-packages/httpstan/views.py\", line 114, in handle_create_model\\n    compiler_output = await httpstan.models.build_services_extension_module(program_code)\\n', '  File \"/opt/anaconda3/envs/pangolin/lib/python3.10/site-packages/httpstan/models.py\", line 172, in build_services_extension_module\\n    compiler_output = await asyncio.get_running_loop().run_in_executor(\\n', '  File \"/opt/anaconda3/envs/pangolin/lib/python3.10/asyncio/futures.py\", line 285, in __await__\\n    yield self  # This tells Task to wait for completion.\\n', '  File \"/opt/anaconda3/envs/pangolin/lib/python3.10/asyncio/tasks.py\", line 304, in __wakeup\\n    future.result()\\n', '  File \"/opt/anaconda3/envs/pangolin/lib/python3.10/asyncio/futures.py\", line 201, in result\\n    raise self._exception.with_traceback(self._exception_tb)\\n', '  File \"/opt/anaconda3/envs/pangolin/lib/python3.10/concurrent/futures/thread.py\", line 58, in run\\n    result = self.fn(*self.args, **self.kwargs)\\n', '  File \"/opt/anaconda3/envs/pangolin/lib/python3.10/site-packages/httpstan/build_ext.py\", line 86, in run_build_ext\\n    build_extension.run()\\n', '  File \"/opt/anaconda3/envs/pangolin/lib/python3.10/site-packages/setuptools/command/build_ext.py\", line 84, in run\\n    _build_ext.run(self)\\n', '  File \"/opt/anaconda3/envs/pangolin/lib/python3.10/site-packages/setuptools/_distutils/command/build_ext.py\", line 345, in run\\n    self.build_extensions()\\n', '  File \"/opt/anaconda3/envs/pangolin/lib/python3.10/site-packages/setuptools/_distutils/command/build_ext.py\", line 467, in build_extensions\\n    self._build_extensions_serial()\\n', '  File \"/opt/anaconda3/envs/pangolin/lib/python3.10/site-packages/setuptools/_distutils/command/build_ext.py\", line 493, in _build_extensions_serial\\n    self.build_extension(ext)\\n', '  File \"/opt/anaconda3/envs/pangolin/lib/python3.10/site-packages/setuptools/command/build_ext.py\", line 246, in build_extension\\n    _build_ext.build_extension(self, ext)\\n', '  File \"/opt/anaconda3/envs/pangolin/lib/python3.10/site-packages/setuptools/_distutils/command/build_ext.py\", line 548, in build_extension\\n    objects = self.compiler.compile(\\n', '  File \"/opt/anaconda3/envs/pangolin/lib/python3.10/site-packages/setuptools/_distutils/ccompiler.py\", line 600, in compile\\n    self._compile(obj, src, ext, cc_args, extra_postargs, pp_opts)\\n', '  File \"/opt/anaconda3/envs/pangolin/lib/python3.10/site-packages/setuptools/_distutils/unixccompiler.py\", line 187, in _compile\\n    raise CompileError(msg)\\n']`",
     "output_type": "error",
     "traceback": [
      "\u001B[0;31m---------------------------------------------------------------------------\u001B[0m",
      "\u001B[0;31mRuntimeError\u001B[0m                              Traceback (most recent call last)",
      "Cell \u001B[0;32mIn[9], line 30\u001B[0m\n\u001B[1;32m      6\u001B[0m schools_code \u001B[38;5;241m=\u001B[39m \u001B[38;5;124m\"\"\"\u001B[39m\n\u001B[1;32m      7\u001B[0m \u001B[38;5;124mdata \u001B[39m\u001B[38;5;124m{\u001B[39m\n\u001B[1;32m      8\u001B[0m \u001B[38;5;124m  int<lower=0> J;         // number of schools\u001B[39m\n\u001B[0;32m   (...)\u001B[0m\n\u001B[1;32m     23\u001B[0m \u001B[38;5;124m}\u001B[39m\n\u001B[1;32m     24\u001B[0m \u001B[38;5;124m\"\"\"\u001B[39m\n\u001B[1;32m     26\u001B[0m schools_data \u001B[38;5;241m=\u001B[39m {\u001B[38;5;124m\"\u001B[39m\u001B[38;5;124mJ\u001B[39m\u001B[38;5;124m\"\u001B[39m: \u001B[38;5;241m8\u001B[39m,\n\u001B[1;32m     27\u001B[0m                 \u001B[38;5;124m\"\u001B[39m\u001B[38;5;124my\u001B[39m\u001B[38;5;124m\"\u001B[39m: [\u001B[38;5;241m28\u001B[39m,  \u001B[38;5;241m8\u001B[39m, \u001B[38;5;241m-\u001B[39m\u001B[38;5;241m3\u001B[39m,  \u001B[38;5;241m7\u001B[39m, \u001B[38;5;241m-\u001B[39m\u001B[38;5;241m1\u001B[39m,  \u001B[38;5;241m1\u001B[39m, \u001B[38;5;241m18\u001B[39m, \u001B[38;5;241m12\u001B[39m],\n\u001B[1;32m     28\u001B[0m                 \u001B[38;5;124m\"\u001B[39m\u001B[38;5;124msigma\u001B[39m\u001B[38;5;124m\"\u001B[39m: [\u001B[38;5;241m15\u001B[39m, \u001B[38;5;241m10\u001B[39m, \u001B[38;5;241m16\u001B[39m, \u001B[38;5;241m11\u001B[39m,  \u001B[38;5;241m9\u001B[39m, \u001B[38;5;241m11\u001B[39m, \u001B[38;5;241m10\u001B[39m, \u001B[38;5;241m18\u001B[39m]}\n\u001B[0;32m---> 30\u001B[0m posterior \u001B[38;5;241m=\u001B[39m \u001B[43mstan\u001B[49m\u001B[38;5;241;43m.\u001B[39;49m\u001B[43mbuild\u001B[49m\u001B[43m(\u001B[49m\u001B[43mschools_code\u001B[49m\u001B[43m,\u001B[49m\u001B[43m \u001B[49m\u001B[43mdata\u001B[49m\u001B[38;5;241;43m=\u001B[39;49m\u001B[43mschools_data\u001B[49m\u001B[43m)\u001B[49m\n\u001B[1;32m     31\u001B[0m fit \u001B[38;5;241m=\u001B[39m posterior\u001B[38;5;241m.\u001B[39msample(num_chains\u001B[38;5;241m=\u001B[39m\u001B[38;5;241m4\u001B[39m, num_samples\u001B[38;5;241m=\u001B[39m\u001B[38;5;241m1000\u001B[39m)\n\u001B[1;32m     32\u001B[0m eta \u001B[38;5;241m=\u001B[39m fit[\u001B[38;5;124m\"\u001B[39m\u001B[38;5;124meta\u001B[39m\u001B[38;5;124m\"\u001B[39m]  \u001B[38;5;66;03m# array with shape (8, 4000)\u001B[39;00m\n",
      "File \u001B[0;32m/opt/anaconda3/envs/pangolin/lib/python3.10/site-packages/stan/model.py:519\u001B[0m, in \u001B[0;36mbuild\u001B[0;34m(program_code, data, random_seed)\u001B[0m\n\u001B[1;32m    516\u001B[0m         \u001B[38;5;28;01mreturn\u001B[39;00m Model(model_name, program_code, data, param_names, constrained_param_names, dims, random_seed)\n\u001B[1;32m    518\u001B[0m \u001B[38;5;28;01mtry\u001B[39;00m:\n\u001B[0;32m--> 519\u001B[0m     \u001B[38;5;28;01mreturn\u001B[39;00m \u001B[43masyncio\u001B[49m\u001B[38;5;241;43m.\u001B[39;49m\u001B[43mrun\u001B[49m\u001B[43m(\u001B[49m\u001B[43mgo\u001B[49m\u001B[43m(\u001B[49m\u001B[43m)\u001B[49m\u001B[43m)\u001B[49m\n\u001B[1;32m    520\u001B[0m \u001B[38;5;28;01mexcept\u001B[39;00m \u001B[38;5;167;01mKeyboardInterrupt\u001B[39;00m:\n\u001B[1;32m    521\u001B[0m     \u001B[38;5;28;01mreturn\u001B[39;00m\n",
      "File \u001B[0;32m/opt/anaconda3/envs/pangolin/lib/python3.10/site-packages/nest_asyncio.py:35\u001B[0m, in \u001B[0;36m_patch_asyncio.<locals>.run\u001B[0;34m(main, debug)\u001B[0m\n\u001B[1;32m     33\u001B[0m task \u001B[38;5;241m=\u001B[39m asyncio\u001B[38;5;241m.\u001B[39mensure_future(main)\n\u001B[1;32m     34\u001B[0m \u001B[38;5;28;01mtry\u001B[39;00m:\n\u001B[0;32m---> 35\u001B[0m     \u001B[38;5;28;01mreturn\u001B[39;00m \u001B[43mloop\u001B[49m\u001B[38;5;241;43m.\u001B[39;49m\u001B[43mrun_until_complete\u001B[49m\u001B[43m(\u001B[49m\u001B[43mtask\u001B[49m\u001B[43m)\u001B[49m\n\u001B[1;32m     36\u001B[0m \u001B[38;5;28;01mfinally\u001B[39;00m:\n\u001B[1;32m     37\u001B[0m     \u001B[38;5;28;01mif\u001B[39;00m \u001B[38;5;129;01mnot\u001B[39;00m task\u001B[38;5;241m.\u001B[39mdone():\n",
      "File \u001B[0;32m/opt/anaconda3/envs/pangolin/lib/python3.10/site-packages/nest_asyncio.py:90\u001B[0m, in \u001B[0;36m_patch_loop.<locals>.run_until_complete\u001B[0;34m(self, future)\u001B[0m\n\u001B[1;32m     87\u001B[0m \u001B[38;5;28;01mif\u001B[39;00m \u001B[38;5;129;01mnot\u001B[39;00m f\u001B[38;5;241m.\u001B[39mdone():\n\u001B[1;32m     88\u001B[0m     \u001B[38;5;28;01mraise\u001B[39;00m \u001B[38;5;167;01mRuntimeError\u001B[39;00m(\n\u001B[1;32m     89\u001B[0m         \u001B[38;5;124m'\u001B[39m\u001B[38;5;124mEvent loop stopped before Future completed.\u001B[39m\u001B[38;5;124m'\u001B[39m)\n\u001B[0;32m---> 90\u001B[0m \u001B[38;5;28;01mreturn\u001B[39;00m \u001B[43mf\u001B[49m\u001B[38;5;241;43m.\u001B[39;49m\u001B[43mresult\u001B[49m\u001B[43m(\u001B[49m\u001B[43m)\u001B[49m\n",
      "File \u001B[0;32m/opt/anaconda3/envs/pangolin/lib/python3.10/asyncio/futures.py:201\u001B[0m, in \u001B[0;36mFuture.result\u001B[0;34m(self)\u001B[0m\n\u001B[1;32m    199\u001B[0m \u001B[38;5;28mself\u001B[39m\u001B[38;5;241m.\u001B[39m__log_traceback \u001B[38;5;241m=\u001B[39m \u001B[38;5;28;01mFalse\u001B[39;00m\n\u001B[1;32m    200\u001B[0m \u001B[38;5;28;01mif\u001B[39;00m \u001B[38;5;28mself\u001B[39m\u001B[38;5;241m.\u001B[39m_exception \u001B[38;5;129;01mis\u001B[39;00m \u001B[38;5;129;01mnot\u001B[39;00m \u001B[38;5;28;01mNone\u001B[39;00m:\n\u001B[0;32m--> 201\u001B[0m     \u001B[38;5;28;01mraise\u001B[39;00m \u001B[38;5;28mself\u001B[39m\u001B[38;5;241m.\u001B[39m_exception\u001B[38;5;241m.\u001B[39mwith_traceback(\u001B[38;5;28mself\u001B[39m\u001B[38;5;241m.\u001B[39m_exception_tb)\n\u001B[1;32m    202\u001B[0m \u001B[38;5;28;01mreturn\u001B[39;00m \u001B[38;5;28mself\u001B[39m\u001B[38;5;241m.\u001B[39m_result\n",
      "File \u001B[0;32m/opt/anaconda3/envs/pangolin/lib/python3.10/asyncio/tasks.py:232\u001B[0m, in \u001B[0;36mTask.__step\u001B[0;34m(***failed resolving arguments***)\u001B[0m\n\u001B[1;32m    228\u001B[0m \u001B[38;5;28;01mtry\u001B[39;00m:\n\u001B[1;32m    229\u001B[0m     \u001B[38;5;28;01mif\u001B[39;00m exc \u001B[38;5;129;01mis\u001B[39;00m \u001B[38;5;28;01mNone\u001B[39;00m:\n\u001B[1;32m    230\u001B[0m         \u001B[38;5;66;03m# We use the `send` method directly, because coroutines\u001B[39;00m\n\u001B[1;32m    231\u001B[0m         \u001B[38;5;66;03m# don't have `__iter__` and `__next__` methods.\u001B[39;00m\n\u001B[0;32m--> 232\u001B[0m         result \u001B[38;5;241m=\u001B[39m \u001B[43mcoro\u001B[49m\u001B[38;5;241;43m.\u001B[39;49m\u001B[43msend\u001B[49m\u001B[43m(\u001B[49m\u001B[38;5;28;43;01mNone\u001B[39;49;00m\u001B[43m)\u001B[49m\n\u001B[1;32m    233\u001B[0m     \u001B[38;5;28;01melse\u001B[39;00m:\n\u001B[1;32m    234\u001B[0m         result \u001B[38;5;241m=\u001B[39m coro\u001B[38;5;241m.\u001B[39mthrow(exc)\n",
      "File \u001B[0;32m/opt/anaconda3/envs/pangolin/lib/python3.10/site-packages/stan/model.py:488\u001B[0m, in \u001B[0;36mbuild.<locals>.go\u001B[0;34m()\u001B[0m\n\u001B[1;32m    486\u001B[0m match \u001B[38;5;241m=\u001B[39m re\u001B[38;5;241m.\u001B[39msearch(\u001B[38;5;124mr\u001B[39m\u001B[38;5;124m\"\"\"\u001B[39m\u001B[38;5;124mValueError\u001B[39m\u001B[38;5;124m\\\u001B[39m\u001B[38;5;124m([\u001B[39m\u001B[38;5;124m'\u001B[39m\u001B[38;5;124m\"\u001B[39m\u001B[38;5;124m](.*)[\u001B[39m\u001B[38;5;124m'\u001B[39m\u001B[38;5;124m\"\u001B[39m\u001B[38;5;124m]\u001B[39m\u001B[38;5;124m\\\u001B[39m\u001B[38;5;124m)\u001B[39m\u001B[38;5;124m\"\"\"\u001B[39m, resp\u001B[38;5;241m.\u001B[39mjson()[\u001B[38;5;124m\"\u001B[39m\u001B[38;5;124mmessage\u001B[39m\u001B[38;5;124m\"\u001B[39m])\n\u001B[1;32m    487\u001B[0m \u001B[38;5;28;01mif\u001B[39;00m \u001B[38;5;129;01mnot\u001B[39;00m match:  \u001B[38;5;66;03m# unknown error, should not happen\u001B[39;00m\n\u001B[0;32m--> 488\u001B[0m     \u001B[38;5;28;01mraise\u001B[39;00m \u001B[38;5;167;01mRuntimeError\u001B[39;00m(resp\u001B[38;5;241m.\u001B[39mjson()[\u001B[38;5;124m\"\u001B[39m\u001B[38;5;124mmessage\u001B[39m\u001B[38;5;124m\"\u001B[39m])\n\u001B[1;32m    489\u001B[0m exception_body \u001B[38;5;241m=\u001B[39m match\u001B[38;5;241m.\u001B[39mgroup(\u001B[38;5;241m1\u001B[39m)\u001B[38;5;241m.\u001B[39mencode()\u001B[38;5;241m.\u001B[39mdecode(\u001B[38;5;124m\"\u001B[39m\u001B[38;5;124municode_escape\u001B[39m\u001B[38;5;124m\"\u001B[39m)\n\u001B[1;32m    490\u001B[0m error_type_match \u001B[38;5;241m=\u001B[39m re\u001B[38;5;241m.\u001B[39mmatch(\u001B[38;5;124mr\u001B[39m\u001B[38;5;124m\"\u001B[39m\u001B[38;5;124m(Semantic|Syntax) error\u001B[39m\u001B[38;5;124m\"\u001B[39m, exception_body)\n",
      "\u001B[0;31mRuntimeError\u001B[0m: Exception while building model extension module: `CompileError(DistutilsExecError(\"command '/opt/anaconda3/envs/pangolin/bin/clang' failed with exit code 1\"))`, traceback: `['  File \"/opt/anaconda3/envs/pangolin/lib/python3.10/site-packages/httpstan/views.py\", line 114, in handle_create_model\\n    compiler_output = await httpstan.models.build_services_extension_module(program_code)\\n', '  File \"/opt/anaconda3/envs/pangolin/lib/python3.10/site-packages/httpstan/models.py\", line 172, in build_services_extension_module\\n    compiler_output = await asyncio.get_running_loop().run_in_executor(\\n', '  File \"/opt/anaconda3/envs/pangolin/lib/python3.10/asyncio/futures.py\", line 285, in __await__\\n    yield self  # This tells Task to wait for completion.\\n', '  File \"/opt/anaconda3/envs/pangolin/lib/python3.10/asyncio/tasks.py\", line 304, in __wakeup\\n    future.result()\\n', '  File \"/opt/anaconda3/envs/pangolin/lib/python3.10/asyncio/futures.py\", line 201, in result\\n    raise self._exception.with_traceback(self._exception_tb)\\n', '  File \"/opt/anaconda3/envs/pangolin/lib/python3.10/concurrent/futures/thread.py\", line 58, in run\\n    result = self.fn(*self.args, **self.kwargs)\\n', '  File \"/opt/anaconda3/envs/pangolin/lib/python3.10/site-packages/httpstan/build_ext.py\", line 86, in run_build_ext\\n    build_extension.run()\\n', '  File \"/opt/anaconda3/envs/pangolin/lib/python3.10/site-packages/setuptools/command/build_ext.py\", line 84, in run\\n    _build_ext.run(self)\\n', '  File \"/opt/anaconda3/envs/pangolin/lib/python3.10/site-packages/setuptools/_distutils/command/build_ext.py\", line 345, in run\\n    self.build_extensions()\\n', '  File \"/opt/anaconda3/envs/pangolin/lib/python3.10/site-packages/setuptools/_distutils/command/build_ext.py\", line 467, in build_extensions\\n    self._build_extensions_serial()\\n', '  File \"/opt/anaconda3/envs/pangolin/lib/python3.10/site-packages/setuptools/_distutils/command/build_ext.py\", line 493, in _build_extensions_serial\\n    self.build_extension(ext)\\n', '  File \"/opt/anaconda3/envs/pangolin/lib/python3.10/site-packages/setuptools/command/build_ext.py\", line 246, in build_extension\\n    _build_ext.build_extension(self, ext)\\n', '  File \"/opt/anaconda3/envs/pangolin/lib/python3.10/site-packages/setuptools/_distutils/command/build_ext.py\", line 548, in build_extension\\n    objects = self.compiler.compile(\\n', '  File \"/opt/anaconda3/envs/pangolin/lib/python3.10/site-packages/setuptools/_distutils/ccompiler.py\", line 600, in compile\\n    self._compile(obj, src, ext, cc_args, extra_postargs, pp_opts)\\n', '  File \"/opt/anaconda3/envs/pangolin/lib/python3.10/site-packages/setuptools/_distutils/unixccompiler.py\", line 187, in _compile\\n    raise CompileError(msg)\\n']`"
     ]
    }
   ],
   "source": [
    "import nest_asyncio\n",
    "nest_asyncio.apply()\n",
    "\n",
    "import stan\n",
    "\n",
    "schools_code = \"\"\"\n",
    "data {\n",
    "  int<lower=0> J;         // number of schools\n",
    "  array[J] real y;              // estimated treatment effects\n",
    "  array[J] real<lower=0> sigma; // standard error of effect estimates\n",
    "}\n",
    "parameters {\n",
    "  real mu;                // population treatment effect\n",
    "  real<lower=0> tau;      // standard deviation in treatment effects\n",
    "  vector[J] eta;          // unscaled deviation from mu by school\n",
    "}\n",
    "transformed parameters {\n",
    "  vector[J] theta = mu + tau * eta;        // school treatment effects\n",
    "}\n",
    "model {\n",
    "  target += normal_lpdf(eta | 0, 1);       // prior log-density\n",
    "  target += normal_lpdf(y | theta, sigma); // log-likelihood\n",
    "}\n",
    "\"\"\"\n",
    "\n",
    "schools_data = {\"J\": 8,\n",
    "                \"y\": [28,  8, -3,  7, -1,  1, 18, 12],\n",
    "                \"sigma\": [15, 10, 16, 11,  9, 11, 10, 18]}\n",
    "\n",
    "posterior = stan.build(schools_code, data=schools_data)\n",
    "fit = posterior.sample(num_chains=4, num_samples=1000)\n",
    "eta = fit[\"eta\"]  # array with shape (8, 4000)\n",
    "df = fit.to_frame()  # pandas `DataFrame, requires pandas\n",
    "\n"
   ],
   "metadata": {
    "collapsed": false
   }
  },
  {
   "cell_type": "code",
   "execution_count": 10,
   "outputs": [],
   "source": [
    "asyncio.run(asyncio.sleep(1))"
   ],
   "metadata": {
    "collapsed": false
   }
  },
  {
   "cell_type": "code",
   "execution_count": null,
   "outputs": [],
   "source": [],
   "metadata": {
    "collapsed": false
   }
  }
 ],
 "metadata": {
  "kernelspec": {
   "display_name": "Python 3",
   "language": "python",
   "name": "python3"
  },
  "language_info": {
   "codemirror_mode": {
    "name": "ipython",
    "version": 2
   },
   "file_extension": ".py",
   "mimetype": "text/x-python",
   "name": "python",
   "nbconvert_exporter": "python",
   "pygments_lexer": "ipython2",
   "version": "2.7.6"
  }
 },
 "nbformat": 4,
 "nbformat_minor": 0
}
