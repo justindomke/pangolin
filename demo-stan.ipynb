{
 "cells": [
  {
   "cell_type": "code",
   "execution_count": 1,
   "outputs": [
    {
     "name": "stderr",
     "output_type": "stream",
     "text": [
      "INFO:pycmdstan.model:starting /Users/j/.cache/pycmdstan/model-2777e6e1 id=68269 sample num_warmup=200 num_samples=200 data file=/var/folders/5z/ngs4vf717m12n9fd_sfbyyyw0000gn/T/tmp77ccgxzz/data.R output file=/var/folders/5z/ngs4vf717m12n9fd_sfbyyyw0000gn/T/tmp77ccgxzz/output.csv refresh=1\n"
     ]
    },
    {
     "name": "stdout",
     "output_type": "stream",
     "text": [
      "--- Translating Stan model to C++ code ---\n",
      "bin/stanc  --o=/Users/j/.cache/pycmdstan/model-2777e6e1.hpp /Users/j/.cache/pycmdstan/model-2777e6e1.stan\n",
      "\n",
      "--- Compiling the main object file. This might take up to a minute. ---\n",
      "clang++ -std=c++1y -Wno-unknown-warning-option -Wno-tautological-compare -Wno-sign-compare -D_REENTRANT -Wno-ignored-attributes      -I /opt/anaconda3/envs/pangolin/include/    -O3 -I src -I stan/src -I stan/lib/rapidjson_1.1.0/ -I lib/CLI11-1.9.1/ -I stan/lib/stan_math/ -I stan/lib/stan_math/lib/eigen_3.3.9 -I stan/lib/stan_math/lib/boost_1.78.0 -I stan/lib/stan_math/lib/sundials_6.1.1/include -I stan/lib/stan_math/lib/sundials_6.1.1/src/sundials    -DBOOST_DISABLE_ASSERTS   -DTBB_INTERFACE_NEW  -DTBB_INTERFACE_NEW     -c -o src/cmdstan/main.o src/cmdstan/main.cpp\n",
      "In file included from src/cmdstan/main.cpp:1:\n",
      "In file included from src/cmdstan/command.hpp:4:\n",
      "In file included from src/cmdstan/arguments/arg_data.hpp:4:\n",
      "In file included from src/cmdstan/arguments/categorical_argument.hpp:4:\n",
      "In file included from src/cmdstan/arguments/argument.hpp:4:\n",
      "In file included from stan/src/stan/callbacks/writer.hpp:4:\n",
      "In file included from stan/lib/stan_math/lib/boost_1.78.0/boost/lexical_cast.hpp:21:\n",
      "In file included from stan/lib/stan_math/lib/boost_1.78.0/boost/config.hpp:57:\n",
      "In file included from stan/lib/stan_math/lib/boost_1.78.0/boost/config/platform/macos.hpp:28:\n",
      "stan/lib/stan_math/lib/boost_1.78.0/boost/config/detail/posix_features.hpp:18:15: fatal error: 'unistd.h' file not found\n",
      "#     include <unistd.h>\n",
      "              ^~~~~~~~~~\n",
      "1 error generated.\n",
      "make: *** [make/program:14: src/cmdstan/main.o] Error 1\n"
     ]
    },
    {
     "ename": "FileNotFoundError",
     "evalue": "[Errno 2] No such file or directory: '/Users/j/.cache/pycmdstan/model-2777e6e1'",
     "output_type": "error",
     "traceback": [
      "\u001B[0;31m---------------------------------------------------------------------------\u001B[0m",
      "\u001B[0;31mFileNotFoundError\u001B[0m                         Traceback (most recent call last)",
      "Cell \u001B[0;32mIn[1], line 32\u001B[0m\n\u001B[1;32m     30\u001B[0m mus \u001B[38;5;241m=\u001B[39m np\u001B[38;5;241m.\u001B[39mr_[\u001B[38;5;241m1.0\u001B[39m, \u001B[38;5;241m3.0\u001B[39m, \u001B[38;5;241m5.0\u001B[39m, \u001B[38;5;241m7.0\u001B[39m, \u001B[38;5;241m9.0\u001B[39m]\n\u001B[1;32m     31\u001B[0m \u001B[38;5;28;01mfor\u001B[39;00m mu \u001B[38;5;129;01min\u001B[39;00m mus:\n\u001B[0;32m---> 32\u001B[0m     run \u001B[38;5;241m=\u001B[39m \u001B[43mmodel\u001B[49m\u001B[38;5;241;43m.\u001B[39;49m\u001B[43msample\u001B[49m\u001B[43m(\u001B[49m\n\u001B[1;32m     33\u001B[0m \u001B[43m        \u001B[49m\u001B[43mdata\u001B[49m\u001B[38;5;241;43m=\u001B[39;49m\u001B[38;5;28;43mdict\u001B[39;49m\u001B[43m(\u001B[49m\u001B[43mmu\u001B[49m\u001B[38;5;241;43m=\u001B[39;49m\u001B[43mmu\u001B[49m\u001B[43m,\u001B[49m\u001B[43m \u001B[49m\u001B[38;5;241;43m*\u001B[39;49m\u001B[38;5;241;43m*\u001B[39;49m\u001B[43mdata\u001B[49m\u001B[43m)\u001B[49m\u001B[43m,\u001B[49m\u001B[43m \u001B[49m\u001B[43mnum_warmup\u001B[49m\u001B[38;5;241;43m=\u001B[39;49m\u001B[38;5;241;43m200\u001B[39;49m\u001B[43m,\u001B[49m\u001B[43m \u001B[49m\u001B[43mnum_samples\u001B[49m\u001B[38;5;241;43m=\u001B[39;49m\u001B[38;5;241;43m200\u001B[39;49m\u001B[43m)\u001B[49m\n\u001B[1;32m     34\u001B[0m     loo\u001B[38;5;241m.\u001B[39mappend(run[\u001B[38;5;124m'\u001B[39m\u001B[38;5;124mloo\u001B[39m\u001B[38;5;124m'\u001B[39m])\n\u001B[1;32m     35\u001B[0m \u001B[38;5;28;01massert\u001B[39;00m mus[np\u001B[38;5;241m.\u001B[39margmin(loo)] \u001B[38;5;241m==\u001B[39m \u001B[38;5;241m5.0\u001B[39m\n",
      "File \u001B[0;32m/opt/anaconda3/envs/pangolin/lib/python3.10/site-packages/pycmdstan/model.py:144\u001B[0m, in \u001B[0;36mModel.sample\u001B[0;34m(self, **kwargs)\u001B[0m\n\u001B[1;32m    141\u001B[0m \u001B[38;5;28;01mdef\u001B[39;00m \u001B[38;5;21msample\u001B[39m(\u001B[38;5;28mself\u001B[39m, \u001B[38;5;241m*\u001B[39m\u001B[38;5;241m*\u001B[39mkwargs):\n\u001B[1;32m    142\u001B[0m \u001B[38;5;250m    \u001B[39m\u001B[38;5;124;03m\"\"\"Run the model with the sample (NUTS/HMC) method.\u001B[39;00m\n\u001B[1;32m    143\u001B[0m \u001B[38;5;124;03m    \"\"\"\u001B[39;00m\n\u001B[0;32m--> 144\u001B[0m     \u001B[38;5;28;01mreturn\u001B[39;00m \u001B[38;5;28;43mself\u001B[39;49m\u001B[38;5;241;43m.\u001B[39;49m\u001B[43mrun\u001B[49m\u001B[43m(\u001B[49m\u001B[43mmethod\u001B[49m\u001B[38;5;241;43m=\u001B[39;49m\u001B[38;5;124;43m'\u001B[39;49m\u001B[38;5;124;43msample\u001B[39;49m\u001B[38;5;124;43m'\u001B[39;49m\u001B[43m,\u001B[49m\u001B[43m \u001B[49m\u001B[38;5;241;43m*\u001B[39;49m\u001B[38;5;241;43m*\u001B[39;49m\u001B[43mkwargs\u001B[49m\u001B[43m)\u001B[49m\n",
      "File \u001B[0;32m/opt/anaconda3/envs/pangolin/lib/python3.10/site-packages/pycmdstan/model.py:162\u001B[0m, in \u001B[0;36mModel.run\u001B[0;34m(self, method, chains, wait, seed, **kwargs)\u001B[0m\n\u001B[1;32m    160\u001B[0m rng \u001B[38;5;241m=\u001B[39m np\u001B[38;5;241m.\u001B[39mrandom\u001B[38;5;241m.\u001B[39mRandomState()\n\u001B[1;32m    161\u001B[0m rng\u001B[38;5;241m.\u001B[39mseed(seed)\n\u001B[0;32m--> 162\u001B[0m runs \u001B[38;5;241m=\u001B[39m [\n\u001B[1;32m    163\u001B[0m     Run(model\u001B[38;5;241m=\u001B[39m\u001B[38;5;28mself\u001B[39m,\n\u001B[1;32m    164\u001B[0m         method\u001B[38;5;241m=\u001B[39mmethod,\n\u001B[1;32m    165\u001B[0m         \u001B[38;5;28mid\u001B[39m\u001B[38;5;241m=\u001B[39mrng\u001B[38;5;241m.\u001B[39mrandom_integers(\u001B[38;5;241m99999\u001B[39m),\n\u001B[1;32m    166\u001B[0m         \u001B[38;5;241m*\u001B[39m\u001B[38;5;241m*\u001B[39mkwargs) \u001B[38;5;28;01mfor\u001B[39;00m _ \u001B[38;5;129;01min\u001B[39;00m \u001B[38;5;28mrange\u001B[39m(chains)\n\u001B[1;32m    167\u001B[0m ]\n\u001B[1;32m    168\u001B[0m \u001B[38;5;28;01mif\u001B[39;00m \u001B[38;5;28mlen\u001B[39m(runs) \u001B[38;5;241m==\u001B[39m \u001B[38;5;241m1\u001B[39m:\n\u001B[1;32m    169\u001B[0m     \u001B[38;5;28;01mreturn\u001B[39;00m runs[\u001B[38;5;241m0\u001B[39m]\n",
      "File \u001B[0;32m/opt/anaconda3/envs/pangolin/lib/python3.10/site-packages/pycmdstan/model.py:163\u001B[0m, in \u001B[0;36m<listcomp>\u001B[0;34m(.0)\u001B[0m\n\u001B[1;32m    160\u001B[0m rng \u001B[38;5;241m=\u001B[39m np\u001B[38;5;241m.\u001B[39mrandom\u001B[38;5;241m.\u001B[39mRandomState()\n\u001B[1;32m    161\u001B[0m rng\u001B[38;5;241m.\u001B[39mseed(seed)\n\u001B[1;32m    162\u001B[0m runs \u001B[38;5;241m=\u001B[39m [\n\u001B[0;32m--> 163\u001B[0m     \u001B[43mRun\u001B[49m\u001B[43m(\u001B[49m\u001B[43mmodel\u001B[49m\u001B[38;5;241;43m=\u001B[39;49m\u001B[38;5;28;43mself\u001B[39;49m\u001B[43m,\u001B[49m\n\u001B[1;32m    164\u001B[0m \u001B[43m        \u001B[49m\u001B[43mmethod\u001B[49m\u001B[38;5;241;43m=\u001B[39;49m\u001B[43mmethod\u001B[49m\u001B[43m,\u001B[49m\n\u001B[1;32m    165\u001B[0m \u001B[43m        \u001B[49m\u001B[38;5;28;43mid\u001B[39;49m\u001B[38;5;241;43m=\u001B[39;49m\u001B[43mrng\u001B[49m\u001B[38;5;241;43m.\u001B[39;49m\u001B[43mrandom_integers\u001B[49m\u001B[43m(\u001B[49m\u001B[38;5;241;43m99999\u001B[39;49m\u001B[43m)\u001B[49m\u001B[43m,\u001B[49m\n\u001B[1;32m    166\u001B[0m \u001B[43m        \u001B[49m\u001B[38;5;241;43m*\u001B[39;49m\u001B[38;5;241;43m*\u001B[39;49m\u001B[43mkwargs\u001B[49m\u001B[43m)\u001B[49m \u001B[38;5;28;01mfor\u001B[39;00m _ \u001B[38;5;129;01min\u001B[39;00m \u001B[38;5;28mrange\u001B[39m(chains)\n\u001B[1;32m    167\u001B[0m ]\n\u001B[1;32m    168\u001B[0m \u001B[38;5;28;01mif\u001B[39;00m \u001B[38;5;28mlen\u001B[39m(runs) \u001B[38;5;241m==\u001B[39m \u001B[38;5;241m1\u001B[39m:\n\u001B[1;32m    169\u001B[0m     \u001B[38;5;28;01mreturn\u001B[39;00m runs[\u001B[38;5;241m0\u001B[39m]\n",
      "File \u001B[0;32m/opt/anaconda3/envs/pangolin/lib/python3.10/site-packages/pycmdstan/model.py:200\u001B[0m, in \u001B[0;36mRun.__init__\u001B[0;34m(self, model, method, data, id, log_lik, start, wait, tmp_dir, **method_args)\u001B[0m\n\u001B[1;32m    198\u001B[0m     io\u001B[38;5;241m.\u001B[39mrdump(\u001B[38;5;28mself\u001B[39m\u001B[38;5;241m.\u001B[39mdata_R_fname, data)\n\u001B[1;32m    199\u001B[0m \u001B[38;5;28;01mif\u001B[39;00m start:\n\u001B[0;32m--> 200\u001B[0m     \u001B[38;5;28;43mself\u001B[39;49m\u001B[38;5;241;43m.\u001B[39;49m\u001B[43mstart\u001B[49m\u001B[43m(\u001B[49m\u001B[43mwait\u001B[49m\u001B[38;5;241;43m=\u001B[39;49m\u001B[43mwait\u001B[49m\u001B[43m)\u001B[49m\n",
      "File \u001B[0;32m/opt/anaconda3/envs/pangolin/lib/python3.10/site-packages/pycmdstan/model.py:246\u001B[0m, in \u001B[0;36mRun.start\u001B[0;34m(self, wait)\u001B[0m\n\u001B[1;32m    244\u001B[0m logger\u001B[38;5;241m.\u001B[39mdebug(\u001B[38;5;124m'\u001B[39m\u001B[38;5;124mstarting \u001B[39m\u001B[38;5;132;01m%r\u001B[39;00m\u001B[38;5;124m'\u001B[39m, \u001B[38;5;28mself\u001B[39m\u001B[38;5;241m.\u001B[39mcmd)\n\u001B[1;32m    245\u001B[0m \u001B[38;5;28mself\u001B[39m\u001B[38;5;241m.\u001B[39m_output_fd \u001B[38;5;241m=\u001B[39m \u001B[38;5;28mopen\u001B[39m(\u001B[38;5;28mself\u001B[39m\u001B[38;5;241m.\u001B[39moutput_fname, \u001B[38;5;124m'\u001B[39m\u001B[38;5;124mw\u001B[39m\u001B[38;5;124m'\u001B[39m)\n\u001B[0;32m--> 246\u001B[0m \u001B[38;5;28mself\u001B[39m\u001B[38;5;241m.\u001B[39mproc \u001B[38;5;241m=\u001B[39m \u001B[43msubprocess\u001B[49m\u001B[38;5;241;43m.\u001B[39;49m\u001B[43mPopen\u001B[49m\u001B[43m(\u001B[49m\n\u001B[1;32m    247\u001B[0m \u001B[43m    \u001B[49m\u001B[38;5;28;43mself\u001B[39;49m\u001B[38;5;241;43m.\u001B[39;49m\u001B[43mcmd\u001B[49m\u001B[43m,\u001B[49m\u001B[43m \u001B[49m\u001B[43mstdout\u001B[49m\u001B[38;5;241;43m=\u001B[39;49m\u001B[38;5;28;43mself\u001B[39;49m\u001B[38;5;241;43m.\u001B[39;49m\u001B[43m_output_fd\u001B[49m\u001B[43m,\u001B[49m\u001B[43m \u001B[49m\u001B[43mstderr\u001B[49m\u001B[38;5;241;43m=\u001B[39;49m\u001B[43msubprocess\u001B[49m\u001B[38;5;241;43m.\u001B[39;49m\u001B[43mSTDOUT\u001B[49m\u001B[43m)\u001B[49m\n\u001B[1;32m    248\u001B[0m \u001B[38;5;28;01mif\u001B[39;00m wait:\n\u001B[1;32m    249\u001B[0m     \u001B[38;5;28mself\u001B[39m\u001B[38;5;241m.\u001B[39mwait()\n",
      "File \u001B[0;32m/opt/anaconda3/envs/pangolin/lib/python3.10/subprocess.py:971\u001B[0m, in \u001B[0;36mPopen.__init__\u001B[0;34m(self, args, bufsize, executable, stdin, stdout, stderr, preexec_fn, close_fds, shell, cwd, env, universal_newlines, startupinfo, creationflags, restore_signals, start_new_session, pass_fds, user, group, extra_groups, encoding, errors, text, umask, pipesize)\u001B[0m\n\u001B[1;32m    967\u001B[0m         \u001B[38;5;28;01mif\u001B[39;00m \u001B[38;5;28mself\u001B[39m\u001B[38;5;241m.\u001B[39mtext_mode:\n\u001B[1;32m    968\u001B[0m             \u001B[38;5;28mself\u001B[39m\u001B[38;5;241m.\u001B[39mstderr \u001B[38;5;241m=\u001B[39m io\u001B[38;5;241m.\u001B[39mTextIOWrapper(\u001B[38;5;28mself\u001B[39m\u001B[38;5;241m.\u001B[39mstderr,\n\u001B[1;32m    969\u001B[0m                     encoding\u001B[38;5;241m=\u001B[39mencoding, errors\u001B[38;5;241m=\u001B[39merrors)\n\u001B[0;32m--> 971\u001B[0m     \u001B[38;5;28;43mself\u001B[39;49m\u001B[38;5;241;43m.\u001B[39;49m\u001B[43m_execute_child\u001B[49m\u001B[43m(\u001B[49m\u001B[43margs\u001B[49m\u001B[43m,\u001B[49m\u001B[43m \u001B[49m\u001B[43mexecutable\u001B[49m\u001B[43m,\u001B[49m\u001B[43m \u001B[49m\u001B[43mpreexec_fn\u001B[49m\u001B[43m,\u001B[49m\u001B[43m \u001B[49m\u001B[43mclose_fds\u001B[49m\u001B[43m,\u001B[49m\n\u001B[1;32m    972\u001B[0m \u001B[43m                        \u001B[49m\u001B[43mpass_fds\u001B[49m\u001B[43m,\u001B[49m\u001B[43m \u001B[49m\u001B[43mcwd\u001B[49m\u001B[43m,\u001B[49m\u001B[43m \u001B[49m\u001B[43menv\u001B[49m\u001B[43m,\u001B[49m\n\u001B[1;32m    973\u001B[0m \u001B[43m                        \u001B[49m\u001B[43mstartupinfo\u001B[49m\u001B[43m,\u001B[49m\u001B[43m \u001B[49m\u001B[43mcreationflags\u001B[49m\u001B[43m,\u001B[49m\u001B[43m \u001B[49m\u001B[43mshell\u001B[49m\u001B[43m,\u001B[49m\n\u001B[1;32m    974\u001B[0m \u001B[43m                        \u001B[49m\u001B[43mp2cread\u001B[49m\u001B[43m,\u001B[49m\u001B[43m \u001B[49m\u001B[43mp2cwrite\u001B[49m\u001B[43m,\u001B[49m\n\u001B[1;32m    975\u001B[0m \u001B[43m                        \u001B[49m\u001B[43mc2pread\u001B[49m\u001B[43m,\u001B[49m\u001B[43m \u001B[49m\u001B[43mc2pwrite\u001B[49m\u001B[43m,\u001B[49m\n\u001B[1;32m    976\u001B[0m \u001B[43m                        \u001B[49m\u001B[43merrread\u001B[49m\u001B[43m,\u001B[49m\u001B[43m \u001B[49m\u001B[43merrwrite\u001B[49m\u001B[43m,\u001B[49m\n\u001B[1;32m    977\u001B[0m \u001B[43m                        \u001B[49m\u001B[43mrestore_signals\u001B[49m\u001B[43m,\u001B[49m\n\u001B[1;32m    978\u001B[0m \u001B[43m                        \u001B[49m\u001B[43mgid\u001B[49m\u001B[43m,\u001B[49m\u001B[43m \u001B[49m\u001B[43mgids\u001B[49m\u001B[43m,\u001B[49m\u001B[43m \u001B[49m\u001B[43muid\u001B[49m\u001B[43m,\u001B[49m\u001B[43m \u001B[49m\u001B[43mumask\u001B[49m\u001B[43m,\u001B[49m\n\u001B[1;32m    979\u001B[0m \u001B[43m                        \u001B[49m\u001B[43mstart_new_session\u001B[49m\u001B[43m)\u001B[49m\n\u001B[1;32m    980\u001B[0m \u001B[38;5;28;01mexcept\u001B[39;00m:\n\u001B[1;32m    981\u001B[0m     \u001B[38;5;66;03m# Cleanup if the child failed starting.\u001B[39;00m\n\u001B[1;32m    982\u001B[0m     \u001B[38;5;28;01mfor\u001B[39;00m f \u001B[38;5;129;01min\u001B[39;00m \u001B[38;5;28mfilter\u001B[39m(\u001B[38;5;28;01mNone\u001B[39;00m, (\u001B[38;5;28mself\u001B[39m\u001B[38;5;241m.\u001B[39mstdin, \u001B[38;5;28mself\u001B[39m\u001B[38;5;241m.\u001B[39mstdout, \u001B[38;5;28mself\u001B[39m\u001B[38;5;241m.\u001B[39mstderr)):\n",
      "File \u001B[0;32m/opt/anaconda3/envs/pangolin/lib/python3.10/subprocess.py:1863\u001B[0m, in \u001B[0;36mPopen._execute_child\u001B[0;34m(self, args, executable, preexec_fn, close_fds, pass_fds, cwd, env, startupinfo, creationflags, shell, p2cread, p2cwrite, c2pread, c2pwrite, errread, errwrite, restore_signals, gid, gids, uid, umask, start_new_session)\u001B[0m\n\u001B[1;32m   1861\u001B[0m     \u001B[38;5;28;01mif\u001B[39;00m errno_num \u001B[38;5;241m!=\u001B[39m \u001B[38;5;241m0\u001B[39m:\n\u001B[1;32m   1862\u001B[0m         err_msg \u001B[38;5;241m=\u001B[39m os\u001B[38;5;241m.\u001B[39mstrerror(errno_num)\n\u001B[0;32m-> 1863\u001B[0m     \u001B[38;5;28;01mraise\u001B[39;00m child_exception_type(errno_num, err_msg, err_filename)\n\u001B[1;32m   1864\u001B[0m \u001B[38;5;28;01mraise\u001B[39;00m child_exception_type(err_msg)\n",
      "\u001B[0;31mFileNotFoundError\u001B[0m: [Errno 2] No such file or directory: '/Users/j/.cache/pycmdstan/model-2777e6e1'"
     ]
    }
   ],
   "source": [
    "import os\n",
    "os.environ['CMDSTAN'] = '/opt/anaconda3/envs/pangolin/bin/cmdstan'\n",
    "from pycmdstan import Model, Run\n",
    "import numpy as np\n",
    "\n",
    "model = Model('''\n",
    "data { vector[20] x; real mu; }\n",
    "parameters { real sig; }\n",
    "model {\n",
    "    x ~ normal(mu, sig);\n",
    "}\n",
    "generated quantities {\n",
    "    vector[20] log_lik;\n",
    "    for (i in 1:20) log_lik[i] = normal_lpdf(x[i] | mu, sig);\n",
    "}\n",
    "''')\n",
    "\n",
    "# mu = np.array([0.5])\n",
    "# data = {}\n",
    "#\n",
    "# runs = model.sample(\n",
    "#         data=dict(mu, **data),\n",
    "#         chains=4\n",
    "# )\n",
    "# assert runs.N_eff_per_iter.min() > 0.2\n",
    "# assert runs.R_hat.max() < 1.2\n",
    "\n",
    "data = {'x': np.random.randn(20) + 5.0}\n",
    "loo = []\n",
    "mus = np.r_[1.0, 3.0, 5.0, 7.0, 9.0]\n",
    "for mu in mus:\n",
    "    run = model.sample(\n",
    "        data=dict(mu=mu, **data), num_warmup=200, num_samples=200)\n",
    "    loo.append(run['loo'])\n",
    "assert mus[np.argmin(loo)] == 5.0"
   ],
   "metadata": {
    "collapsed": false
   }
  },
  {
   "cell_type": "code",
   "execution_count": null,
   "outputs": [],
   "source": [
    "import multiprocessing\n",
    "multiprocessing.set_start_method(\"fork\")\n",
    "\n",
    "import stan\n",
    "\n",
    "schools_code = \"\"\"\n",
    "data {\n",
    "  int<lower=0> J;         // number of schools\n",
    "  real y[J];              // estimated treatment effects\n",
    "  real<lower=0> sigma[J]; // standard error of effect estimates\n",
    "}\n",
    "parameters {\n",
    "  real mu;                // population treatment effect\n",
    "  real<lower=0> tau;      // standard deviation in treatment effects\n",
    "  vector[J] eta;          // unscaled deviation from mu by school\n",
    "}\n",
    "transformed parameters {\n",
    "  vector[J] theta = mu + tau * eta;        // school treatment effects\n",
    "}\n",
    "model {\n",
    "  target += normal_lpdf(eta | 0, 1);       // prior log-density\n",
    "  target += normal_lpdf(y | theta, sigma); // log-likelihood\n",
    "}\n",
    "\"\"\"\n",
    "\n",
    "schools_data = {\"J\": 8,\n",
    "                \"y\": [28,  8, -3,  7, -1,  1, 18, 12],\n",
    "                \"sigma\": [15, 10, 16, 11,  9, 11, 10, 18]}\n",
    "\n",
    "sm = stan.StanModel(model_code=schools_code)\n",
    "fit = sm.sampling(data=schools_data, iter=1000, chains=4, seed=1)\n",
    "fit.extract()[\"eta\"]\n"
   ],
   "metadata": {
    "collapsed": false
   }
  },
  {
   "cell_type": "code",
   "execution_count": null,
   "outputs": [],
   "source": [],
   "metadata": {
    "collapsed": false
   }
  }
 ],
 "metadata": {
  "kernelspec": {
   "display_name": "Python 3",
   "language": "python",
   "name": "python3"
  },
  "language_info": {
   "codemirror_mode": {
    "name": "ipython",
    "version": 2
   },
   "file_extension": ".py",
   "mimetype": "text/x-python",
   "name": "python",
   "nbconvert_exporter": "python",
   "pygments_lexer": "ipython2",
   "version": "2.7.6"
  }
 },
 "nbformat": 4,
 "nbformat_minor": 0
}
