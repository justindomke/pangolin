{
 "cells": [
  {
   "cell_type": "code",
   "execution_count": 1,
   "metadata": {
    "collapsed": true
   },
   "outputs": [],
   "source": [
    "%load_ext autoreload\n",
    "%autoreload 2\n",
    "\n",
    "from pangolin.interface import *\n",
    "from pangolin import new_infer as infer\n",
    "import numpy as np"
   ]
  },
  {
   "cell_type": "code",
   "execution_count": 2,
   "outputs": [
    {
     "name": "stdout",
     "output_type": "stream",
     "text": [
      "skipping MCMC...\n"
     ]
    },
    {
     "data": {
      "text/plain": "(Array([-44.818176], dtype=float32),\n Array([435.5859], dtype=float32),\n Array([[-906.0872,  303.1265,  657.3798]], dtype=float32))"
     },
     "execution_count": 2,
     "metadata": {},
     "output_type": "execute_result"
    }
   ],
   "source": [
    "# some simple data\n",
    "num_groups = 3\n",
    "num_data = 100\n",
    "\n",
    "# fixed data\n",
    "x = np.random.randn(num_data)\n",
    "\n",
    "# define model\n",
    "mu = normal_scale(0,100) # shared mean\n",
    "sigma = normal_scale(0,10)**2 # shared scale\n",
    "beta = plate(N=num_groups)(lambda: normal_scale(mu,sigma))\n",
    "\n",
    "infer.sample((mu,sigma,beta),niter=1)\n"
   ],
   "metadata": {
    "collapsed": false
   }
  },
  {
   "cell_type": "code",
   "execution_count": 3,
   "outputs": [],
   "source": [
    "x = makerv([.1,.2,.7])"
   ],
   "metadata": {
    "collapsed": false
   }
  },
  {
   "cell_type": "code",
   "execution_count": 4,
   "outputs": [
    {
     "data": {
      "text/plain": "RV(Index(slices=(None,)), parents=[RV(Constant([0.1,0.2,0.7])),RV(Constant(0))])"
     },
     "execution_count": 4,
     "metadata": {},
     "output_type": "execute_result"
    }
   ],
   "source": [
    "x[0]"
   ],
   "metadata": {
    "collapsed": false
   }
  },
  {
   "cell_type": "code",
   "execution_count": 5,
   "outputs": [
    {
     "data": {
      "text/plain": "array([0. , 0. , 3.3, 2.2])"
     },
     "execution_count": 5,
     "metadata": {},
     "output_type": "execute_result"
    }
   ],
   "source": [
    "x = np.array([0.0,1.1,2.2,3.3,4.4,5.5])\n",
    "x[[0,0,3,2]]"
   ],
   "metadata": {
    "collapsed": false
   }
  },
  {
   "cell_type": "code",
   "execution_count": 6,
   "outputs": [
    {
     "data": {
      "text/plain": "array([[0. , 0.1, 0.2, 0.3, 0.4, 0.5, 0.6, 0.7, 0.8, 0.9],\n       [1. , 1.1, 1.2, 1.3, 1.4, 1.5, 1.6, 1.7, 1.8, 1.9],\n       [2. , 2.1, 2.2, 2.3, 2.4, 2.5, 2.6, 2.7, 2.8, 2.9],\n       [3. , 3.1, 3.2, 3.3, 3.4, 3.5, 3.6, 3.7, 3.8, 3.9],\n       [4. , 4.1, 4.2, 4.3, 4.4, 4.5, 4.6, 4.7, 4.8, 4.9],\n       [5. , 5.1, 5.2, 5.3, 5.4, 5.5, 5.6, 5.7, 5.8, 5.9],\n       [6. , 6.1, 6.2, 6.3, 6.4, 6.5, 6.6, 6.7, 6.8, 6.9],\n       [7. , 7.1, 7.2, 7.3, 7.4, 7.5, 7.6, 7.7, 7.8, 7.9],\n       [8. , 8.1, 8.2, 8.3, 8.4, 8.5, 8.6, 8.7, 8.8, 8.9],\n       [9. , 9.1, 9.2, 9.3, 9.4, 9.5, 9.6, 9.7, 9.8, 9.9]])"
     },
     "execution_count": 6,
     "metadata": {},
     "output_type": "execute_result"
    }
   ],
   "source": [
    "x = np.reshape(np.arange(0,10,.1),[10,10])\n",
    "x"
   ],
   "metadata": {
    "collapsed": false
   }
  },
  {
   "cell_type": "code",
   "execution_count": 7,
   "outputs": [
    {
     "data": {
      "text/plain": "array([0. , 0.1, 2.2])"
     },
     "execution_count": 7,
     "metadata": {},
     "output_type": "execute_result"
    }
   ],
   "source": [
    "x[[0,0,2],[0,1,2]]"
   ],
   "metadata": {
    "collapsed": false
   }
  },
  {
   "cell_type": "code",
   "execution_count": 7,
   "outputs": [],
   "source": [],
   "metadata": {
    "collapsed": false
   }
  },
  {
   "cell_type": "code",
   "execution_count": 8,
   "outputs": [
    {
     "name": "stdout",
     "output_type": "stream",
     "text": [
      "x=array([[0. , 0.1, 0.2, 0.3],\n",
      "       [1. , 1.1, 1.2, 1.3],\n",
      "       [2. , 2.1, 2.2, 2.3],\n",
      "       [3. , 3.1, 3.2, 3.3]])\n",
      "y=array([[0. , 0.1],\n",
      "       [1. , 1.1]])\n",
      "z=array([[0. , 0.1],\n",
      "       [1. , 1.1]])\n"
     ]
    }
   ],
   "source": [
    "x = np.reshape(np.arange(0,10,.1),[10,10])[:4,:4]\n",
    "idx0 = np.array([[0,0],[1,1]])\n",
    "idx1 = np.array([[0,1],[0,1]])\n",
    "y = x[idx0,idx1]\n",
    "z = np.array([[x[idx0[i,j],idx1[i,j]] for j in range(2)] for i in range(2)])\n",
    "\n",
    "print(f\"{x=}\")\n",
    "print(f\"{y=}\")\n",
    "print(f\"{z=}\")"
   ],
   "metadata": {
    "collapsed": false
   }
  },
  {
   "cell_type": "code",
   "execution_count": 9,
   "outputs": [
    {
     "data": {
      "text/plain": "(2, 2)"
     },
     "execution_count": 9,
     "metadata": {},
     "output_type": "execute_result"
    }
   ],
   "source": [
    "z.shape"
   ],
   "metadata": {
    "collapsed": false
   }
  },
  {
   "cell_type": "code",
   "execution_count": 21,
   "outputs": [
    {
     "data": {
      "image/svg+xml": "<?xml version=\"1.0\" encoding=\"UTF-8\" standalone=\"no\"?>\n<!DOCTYPE svg PUBLIC \"-//W3C//DTD SVG 1.1//EN\"\n \"http://www.w3.org/Graphics/SVG/1.1/DTD/svg11.dtd\">\n<!-- Generated by graphviz version 8.1.0 (20230707.0739)\n -->\n<!-- Pages: 1 -->\n<svg width=\"840pt\" height=\"260pt\"\n viewBox=\"0.00 0.00 839.51 260.00\" xmlns=\"http://www.w3.org/2000/svg\" xmlns:xlink=\"http://www.w3.org/1999/xlink\">\n<g id=\"graph0\" class=\"graph\" transform=\"scale(1 1) rotate(0) translate(4 256)\">\n<polygon fill=\"white\" stroke=\"none\" points=\"-4,4 -4,-256 835.51,-256 835.51,4 -4,4\"/>\n<!-- 0 -->\n<g id=\"node1\" class=\"node\">\n<title>0</title>\n<text text-anchor=\"middle\" x=\"167.25\" y=\"-228.95\" font-family=\"Times,serif\" font-size=\"14.00\">0</text>\n</g>\n<!-- 2 -->\n<g id=\"node3\" class=\"node\">\n<title>2</title>\n<ellipse fill=\"none\" stroke=\"black\" cx=\"203.25\" cy=\"-162\" rx=\"203.25\" ry=\"18\"/>\n<text text-anchor=\"middle\" x=\"203.25\" y=\"-157.32\" font-family=\"Times,serif\" font-size=\"14.00\">vmap(4, (∅, ∅), vmap(5, (∅, ∅), normal_scale))</text>\n</g>\n<!-- 0&#45;&gt;2 -->\n<g id=\"edge1\" class=\"edge\">\n<title>0&#45;&gt;2</title>\n<path fill=\"none\" stroke=\"black\" d=\"M175.97,-216.05C180.02,-208.18 184.94,-198.62 189.47,-189.79\"/>\n<polygon fill=\"black\" stroke=\"black\" points=\"192.91,-191.77 194.37,-181.28 186.68,-188.57 192.91,-191.77\"/>\n</g>\n<!-- 1 -->\n<g id=\"node2\" class=\"node\">\n<title>1</title>\n<text text-anchor=\"middle\" x=\"239.25\" y=\"-228.95\" font-family=\"Times,serif\" font-size=\"14.00\">1</text>\n</g>\n<!-- 1&#45;&gt;2 -->\n<g id=\"edge2\" class=\"edge\">\n<title>1&#45;&gt;2</title>\n<path fill=\"none\" stroke=\"black\" d=\"M230.54,-216.05C226.49,-208.18 221.57,-198.62 217.03,-189.79\"/>\n<polygon fill=\"black\" stroke=\"black\" points=\"219.82,-188.57 212.14,-181.28 213.6,-191.77 219.82,-188.57\"/>\n</g>\n<!-- 6 -->\n<g id=\"node7\" class=\"node\">\n<title>6</title>\n<text text-anchor=\"middle\" x=\"415.25\" y=\"-84.95\" font-family=\"Times,serif\" font-size=\"14.00\">matmul</text>\n</g>\n<!-- 2&#45;&gt;6 -->\n<g id=\"edge5\" class=\"edge\">\n<title>2&#45;&gt;6</title>\n<path fill=\"none\" stroke=\"black\" d=\"M254.3,-144.14C291.72,-131.79 341.77,-115.26 376.06,-103.94\"/>\n<polygon fill=\"black\" stroke=\"black\" points=\"376.77,-107.06 385.17,-100.6 374.58,-100.42 376.77,-107.06\"/>\n</g>\n<!-- 3 -->\n<g id=\"node4\" class=\"node\">\n<title>3</title>\n<text text-anchor=\"middle\" x=\"592.25\" y=\"-228.95\" font-family=\"Times,serif\" font-size=\"14.00\">0</text>\n</g>\n<!-- 5 -->\n<g id=\"node6\" class=\"node\">\n<title>5</title>\n<ellipse fill=\"none\" stroke=\"black\" cx=\"628.25\" cy=\"-162\" rx=\"203.25\" ry=\"18\"/>\n<text text-anchor=\"middle\" x=\"628.25\" y=\"-157.32\" font-family=\"Times,serif\" font-size=\"14.00\">vmap(5, (∅, ∅), vmap(6, (∅, ∅), normal_scale))</text>\n</g>\n<!-- 3&#45;&gt;5 -->\n<g id=\"edge3\" class=\"edge\">\n<title>3&#45;&gt;5</title>\n<path fill=\"none\" stroke=\"black\" d=\"M600.97,-216.05C605.02,-208.18 609.94,-198.62 614.47,-189.79\"/>\n<polygon fill=\"black\" stroke=\"black\" points=\"617.91,-191.77 619.37,-181.28 611.68,-188.57 617.91,-191.77\"/>\n</g>\n<!-- 4 -->\n<g id=\"node5\" class=\"node\">\n<title>4</title>\n<text text-anchor=\"middle\" x=\"664.25\" y=\"-228.95\" font-family=\"Times,serif\" font-size=\"14.00\">1</text>\n</g>\n<!-- 4&#45;&gt;5 -->\n<g id=\"edge4\" class=\"edge\">\n<title>4&#45;&gt;5</title>\n<path fill=\"none\" stroke=\"black\" d=\"M655.54,-216.05C651.49,-208.18 646.57,-198.62 642.03,-189.79\"/>\n<polygon fill=\"black\" stroke=\"black\" points=\"644.82,-188.57 637.14,-181.28 638.6,-191.77 644.82,-188.57\"/>\n</g>\n<!-- 5&#45;&gt;6 -->\n<g id=\"edge6\" class=\"edge\">\n<title>5&#45;&gt;6</title>\n<path fill=\"none\" stroke=\"black\" d=\"M566.88,-144.47C535.54,-135.56 496.7,-123.79 454.72,-108.34\"/>\n<polygon fill=\"black\" stroke=\"black\" points=\"456.15,-104.77 445.56,-104.55 453.71,-111.32 456.15,-104.77\"/>\n</g>\n<!-- 8 -->\n<g id=\"node9\" class=\"node\">\n<title>8</title>\n<text text-anchor=\"middle\" x=\"452.25\" y=\"-13.32\" font-family=\"Times,serif\" font-size=\"14.00\">index(::2,∅)</text>\n</g>\n<!-- 6&#45;&gt;8 -->\n<g id=\"edge7\" class=\"edge\">\n<title>6&#45;&gt;8</title>\n<path fill=\"none\" stroke=\"black\" d=\"M424.21,-72.05C428.44,-64.06 433.58,-54.33 438.3,-45.4\"/>\n<polygon fill=\"black\" stroke=\"black\" points=\"441.8,-47.27 443.38,-36.79 435.61,-43.99 441.8,-47.27\"/>\n</g>\n<!-- 7 -->\n<g id=\"node8\" class=\"node\">\n<title>7</title>\n<text text-anchor=\"middle\" x=\"489.25\" y=\"-84.95\" font-family=\"Times,serif\" font-size=\"14.00\">2</text>\n</g>\n<!-- 7&#45;&gt;8 -->\n<g id=\"edge8\" class=\"edge\">\n<title>7&#45;&gt;8</title>\n<path fill=\"none\" stroke=\"black\" d=\"M480.3,-72.05C476.07,-64.06 470.93,-54.33 466.21,-45.4\"/>\n<polygon fill=\"black\" stroke=\"black\" points=\"468.9,-43.99 461.13,-36.79 462.71,-47.27 468.9,-43.99\"/>\n</g>\n</g>\n</svg>\n",
      "text/plain": "<graphviz.graphs.Digraph at 0x7fc03144a650>"
     },
     "metadata": {},
     "output_type": "display_data"
    },
    {
     "name": "stdout",
     "output_type": "stream",
     "text": [
      "skipping MCMC...\n"
     ]
    },
    {
     "data": {
      "text/plain": "(100, 2)"
     },
     "execution_count": 21,
     "metadata": {},
     "output_type": "execute_result"
    }
   ],
   "source": [
    "x = plate(N=4)(lambda:\n",
    "               plate(N=5)(lambda:\n",
    "                          normal_scale(0,1)))\n",
    "y = plate(N=5)(lambda:\n",
    "               plate(N=6)(lambda:\n",
    "                          normal_scale(0,1)))\n",
    "\n",
    "z = x @ y\n",
    "\n",
    "u = z[::2,2]\n",
    "\n",
    "display(viz_upstream(u))\n",
    "\n",
    "us = infer.sample(u, niter=100)\n",
    "us.shape"
   ],
   "metadata": {
    "collapsed": false
   }
  }
 ],
 "metadata": {
  "kernelspec": {
   "display_name": "Python 3",
   "language": "python",
   "name": "python3"
  },
  "language_info": {
   "codemirror_mode": {
    "name": "ipython",
    "version": 2
   },
   "file_extension": ".py",
   "mimetype": "text/x-python",
   "name": "python",
   "nbconvert_exporter": "python",
   "pygments_lexer": "ipython2",
   "version": "2.7.6"
  }
 },
 "nbformat": 4,
 "nbformat_minor": 0
}
