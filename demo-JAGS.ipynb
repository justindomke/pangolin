{
 "cells": [
  {
   "cell_type": "code",
   "execution_count": 29,
   "metadata": {
    "collapsed": true
   },
   "outputs": [
    {
     "name": "stdout",
     "output_type": "stream",
     "text": [
      "The autoreload extension is already loaded. To reload it, use:\n",
      "  %reload_ext autoreload\n"
     ]
    }
   ],
   "source": [
    "%load_ext autoreload\n",
    "%autoreload 2\n",
    "from pangolin import *\n",
    "from pangolin import inference_jags\n",
    "import numpy as np"
   ]
  },
  {
   "cell_type": "code",
   "execution_count": 30,
   "outputs": [
    {
     "name": "stdout",
     "output_type": "stream",
     "text": [
      "np.mean(xs)=0.4799976664754\n"
     ]
    }
   ],
   "source": [
    "# very basic inference\n",
    "x = normal(0,1)\n",
    "y = normal(x,1)\n",
    "inf = inference_jags.JAGSInference(niter=10000)\n",
    "[xs] = inf.sample_flat([x],[y],[np.array(1)])\n",
    "print(f\"{np.mean(xs)=}\")"
   ],
   "metadata": {
    "collapsed": false
   }
  },
  {
   "cell_type": "code",
   "execution_count": 31,
   "outputs": [
    {
     "name": "stdout",
     "output_type": "stream",
     "text": [
      "var v4;\n",
      "model{\n",
      "v4 ~ dnorm(v2,1/(v3)^2)\n",
      "}\n",
      "\n"
     ]
    }
   ],
   "source": [
    "print(inference_jags.jags_code(y))"
   ],
   "metadata": {
    "collapsed": false
   }
  },
  {
   "cell_type": "code",
   "execution_count": 33,
   "outputs": [
    {
     "name": "stdout",
     "output_type": "stream",
     "text": [
      "xs.shape=(10000, 3)\n",
      "np.mean(xs,axis=0)=array([0.95359813, 1.94478386, 2.95696678])\n"
     ]
    }
   ],
   "source": [
    "locs = np.array([1,2,3])\n",
    "x = vmap(normal,(0,None))(locs, 0.5)\n",
    "y = vmap(normal,(0,None))(x,1.5)\n",
    "y_obs = np.array([0.5,1.5,2.5])\n",
    "inf = inference_jags.JAGSInference(niter=10000)\n",
    "[xs] = inf.sample_flat([x],[y],[y_obs])\n",
    "print(f\"{xs.shape=}\")\n",
    "print(f\"{np.mean(xs,axis=0)=}\")"
   ],
   "metadata": {
    "collapsed": false
   }
  },
  {
   "cell_type": "code",
   "execution_count": 4,
   "outputs": [
    {
     "name": "stdout",
     "output_type": "stream",
     "text": [
      "var v0[3], v1, v2[3], v3, v4[3];\n",
      "model{\n",
      "for (i0 in 1:3){\n",
      "    v2[i0] ~ dnorm(v0[i0],1/(v1)^2)\n",
      "}\n",
      "for (i0 in 1:3){\n",
      "    v4[i0] ~ dnorm(v2[i0],1/(v3)^2)\n",
      "}\n",
      "}\n",
      "\n",
      "xs.shape=(10000, 3)\n",
      "np.mean(xs,axis=0)=array([0.95409005, 1.95429682, 2.95165032])\n"
     ]
    }
   ],
   "source": [
    "locs = np.array([1,2,3])\n",
    "x = plate(locs)(lambda loc:\n",
    "                normal(loc,0.5))\n",
    "y = plate(x)(lambda xi:\n",
    "             normal(xi, 1.5))\n",
    "y_obs = np.array([0.5,1.5,2.5])\n",
    "inf = inference_jags.JagsInference(niter=10000)\n",
    "[xs] = inf.sample_flat([x],[y],[y_obs])\n",
    "print(f\"{xs.shape=}\")\n",
    "print(f\"{np.mean(xs,axis=0)=}\")"
   ],
   "metadata": {
    "collapsed": false
   }
  },
  {
   "cell_type": "code",
   "execution_count": 5,
   "outputs": [
    {
     "name": "stdout",
     "output_type": "stream",
     "text": [
      "var v0[3], v1, v2[3], v3, v4[5,3];\n",
      "model{\n",
      "for (i0 in 1:3){\n",
      "    v2[i0] ~ dnorm(v0[i0],1/(v1)^2)\n",
      "}\n",
      "for (i0 in 1:5){\n",
      "    for (i1 in 1:3){\n",
      "        v4[i0,i1] ~ dnorm(v2[i1],1/(v3)^2)\n",
      "    }\n",
      "}\n",
      "}\n",
      "\n",
      "xs.shape=(10000, 3)\n",
      "np.mean(xs,axis=0)=array([0.867326  , 1.11823025, 1.92306224])\n"
     ]
    }
   ],
   "source": [
    "locs = np.array([1,2,3])\n",
    "x = plate(locs)(lambda loc:\n",
    "                normal(loc,0.5))\n",
    "y = plate(N=5)(lambda:\n",
    "               plate(x)(lambda xi:\n",
    "                        normal(xi, 1.5)))\n",
    "y_obs = np.random.randn(5,3)\n",
    "inf = inference_jags.JagsInference(niter=10000)\n",
    "[xs] = inf.sample_flat([x],[y],[y_obs])\n",
    "print(f\"{xs.shape=}\")\n",
    "print(f\"{np.mean(xs,axis=0)=}\")"
   ],
   "metadata": {
    "collapsed": false
   }
  },
  {
   "cell_type": "code",
   "execution_count": 6,
   "outputs": [
    {
     "name": "stdout",
     "output_type": "stream",
     "text": [
      "var v0, v1, v2[3], v3, v4[3,5], v5, v6[3,5,7];\n",
      "model{\n",
      "for (i0 in 1:3){\n",
      "    v2[i0] ~ dnorm(v0,1/(v1)^2)\n",
      "}\n",
      "for (i0 in 1:3){\n",
      "    for (i1 in 1:5){\n",
      "        v4[i0,i1] ~ dnorm(v2[i0],1/(v3)^2)\n",
      "    }\n",
      "}\n",
      "for (i0 in 1:3){\n",
      "    for (i1 in 1:5){\n",
      "        for (i2 in 1:7){\n",
      "            v6[i0,i1,i2] ~ dnorm(v4[i0,i1],1/(v5)^2)\n",
      "        }\n",
      "    }\n",
      "}\n",
      "}\n",
      "\n",
      "xs.shape=(10000, 3)\n",
      "np.mean(xs,axis=0)=array([-0.02328517, -0.21966823, -0.14661516])\n"
     ]
    }
   ],
   "source": [
    "x,(y,z) = plate(N=3)\\\n",
    "    (lambda: [x_i := normal(0,1),\n",
    "              y_i_z_i := plate(N=5)(\n",
    "                  lambda: [y_ij := normal(x_i,1),\n",
    "                           z_ij := plate(N=7)(\n",
    "                               lambda: normal(y_ij,1))\n",
    "                           ])\n",
    "              ])\n",
    "z_obs = np.random.randn(3,5,7)\n",
    "inf = inference_jags.JagsInference(niter=10000)\n",
    "[xs] = inf.sample_flat([x],[z],[z_obs])\n",
    "print(f\"{xs.shape=}\")\n",
    "print(f\"{np.mean(xs,axis=0)=}\")"
   ],
   "metadata": {
    "collapsed": false
   }
  },
  {
   "cell_type": "code",
   "execution_count": 7,
   "outputs": [
    {
     "name": "stdout",
     "output_type": "stream",
     "text": [
      "var v0[7], v1[5,7], v2[5], v3[4,5], v4[4,10], v5[4,10,7], v6[4,10];\n",
      "model{\n",
      "for (i0 in 1:5){\n",
      "    v1[i0,] ~ ddirch(v0)\n",
      "}\n",
      "for (i0 in 1:4){\n",
      "    v3[i0,] ~ ddirch(v2)\n",
      "}\n",
      "for (i0 in 1:4){\n",
      "    for (i1 in 1:10){\n",
      "        tmp_v4[i0,i1] ~ dcat(v3[i0,])\n",
      "        v4[i0,i1] <- tmp_v4[i0,i1]-1\n",
      "    }\n",
      "}\n",
      "for (l0 in 1:4){\n",
      "for (l1 in 1:10){\n",
      "v5[l0,l1,1:7] <- v1[1+v4[l0,l1],1:7]\n",
      "}\n",
      "}\n",
      "for (i0 in 1:4){\n",
      "    for (i1 in 1:10){\n",
      "        tmp_v6[i0,i1] ~ dcat(v5[i0,i1,])\n",
      "        v6[i0,i1] <- tmp_v6[i0,i1]-1\n",
      "    }\n",
      "}\n",
      "}\n",
      "\n",
      "ws.shape=(10000, 4, 10)\n"
     ]
    }
   ],
   "source": [
    "# explicitly construct topics\n",
    "\n",
    "N = 10 # number of words in each document\n",
    "M = 4 # number of documents\n",
    "K = 5 # number of topics\n",
    "V = 7 # number of words\n",
    "\n",
    "α = makerv(0.5*np.ones(K))\n",
    "β = makerv(1*np.ones(V))\n",
    "θ = plate(N=M)(lambda: dirichlet(α))\n",
    "φ = plate(N=K)(lambda: dirichlet(β))\n",
    "z = plate(θ)(lambda θ_m:\n",
    "             plate(N=N)(lambda:\n",
    "                        categorical(θ_m)))\n",
    "assert z.shape == (M,N) # each entry of z is between 0 and K\n",
    "φz = φ[z]\n",
    "assert φz.shape == (M,N,V)\n",
    "\n",
    "w = plate(φz)(lambda φz_m:\n",
    "              plate(φz_m)(lambda φz_mn:\n",
    "                          categorical(φz_mn)))\n",
    "\n",
    "assert w.shape == (M,N)\n",
    "\n",
    "inf = inference_jags.JagsInference(niter=10000)\n",
    "[ws] = inf.sample_flat([w],[],[])\n",
    "print(f\"{ws.shape=}\")\n",
    "#print(f\"{np.mean(ws,axis=0)=}\")\n",
    "\n",
    "#αs, θs, zs, ws = infer.sample((α,θ,z,w),niter=1)\n",
    "\n",
    "#viz_upstream(w,[],{θ:'θ',φ:'φ',z:'z',w:'w'})"
   ],
   "metadata": {
    "collapsed": false
   }
  },
  {
   "cell_type": "code",
   "execution_count": 20,
   "outputs": [
    {
     "name": "stdout",
     "output_type": "stream",
     "text": [
      "var v0[3], v1[3];\n",
      "model{\n",
      "for (i0 in 1:3){\n",
      "    tmp_v1[i0] ~ dcat(v0)\n",
      "    v1[i0] <- tmp_v1[i0]-1\n",
      "}\n",
      "}\n",
      "\n"
     ]
    },
    {
     "data": {
      "text/plain": "array([1.5943, 1.5996, 1.6023])"
     },
     "execution_count": 20,
     "metadata": {},
     "output_type": "execute_result"
    }
   ],
   "source": [
    "x = plate(N=3)(lambda:\n",
    "               categorical([.1,.2,.7]))\n",
    "#inf_jags = inference_jags.JagsInference(niter=10000)\n",
    "#[xs] = inf.sample_flat([x],[],[])\n",
    "calc_jags = calculate.Calculate(\"jags\",niter=10000)\n",
    "calc_jags.E(x)\n"
   ],
   "metadata": {
    "collapsed": false
   }
  },
  {
   "cell_type": "code",
   "execution_count": 19,
   "outputs": [
    {
     "name": "stdout",
     "output_type": "stream",
     "text": [
      "cond_dist=VMapDist(base_cond_dist=categorical)\n",
      "rng_key=Traced<ShapedArray(uint32[2])>with<BatchTrace(level=1/0)> with\n",
      "  val = Array([[2838123479,    8981697],\n",
      "       [2739061182, 3154801843],\n",
      "       [2770673021, 1196559342],\n",
      "       ...,\n",
      "       [1219400865, 3104058255],\n",
      "       [2045175387, 1968507671],\n",
      "       [4249254903,  576000914]], dtype=uint32)\n",
      "  batch_dim = 0\n",
      "parent_vals=(array([0.1, 0.2, 0.7]),)\n"
     ]
    },
    {
     "data": {
      "text/plain": "Array([1.5974   , 1.5986999, 1.5886999], dtype=float32)"
     },
     "execution_count": 19,
     "metadata": {},
     "output_type": "execute_result"
    }
   ],
   "source": [
    "#inf_numpyro = inference_numpyro.NumpyroInference(niter=10000)\n",
    "#[xs] = inf.sample_flat([x],[],[])\n",
    "calc_numpyro = calculate.Calculate(\"numpyro\",niter=10000)\n",
    "calc_numpyro.E(x)"
   ],
   "metadata": {
    "collapsed": false
   }
  },
  {
   "cell_type": "code",
   "execution_count": 16,
   "outputs": [
    {
     "data": {
      "text/plain": "1.5999999999999999"
     },
     "execution_count": 16,
     "metadata": {},
     "output_type": "execute_result"
    }
   ],
   "source": [
    ".2 + .7*2"
   ],
   "metadata": {
    "collapsed": false
   }
  },
  {
   "cell_type": "code",
   "execution_count": null,
   "outputs": [],
   "source": [],
   "metadata": {
    "collapsed": false
   }
  }
 ],
 "metadata": {
  "kernelspec": {
   "display_name": "Python 3",
   "language": "python",
   "name": "python3"
  },
  "language_info": {
   "codemirror_mode": {
    "name": "ipython",
    "version": 2
   },
   "file_extension": ".py",
   "mimetype": "text/x-python",
   "name": "python",
   "nbconvert_exporter": "python",
   "pygments_lexer": "ipython2",
   "version": "2.7.6"
  }
 },
 "nbformat": 4,
 "nbformat_minor": 0
}
