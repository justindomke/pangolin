{
 "cells": [
  {
   "cell_type": "code",
   "id": "initial_id",
   "metadata": {
    "collapsed": true,
    "ExecuteTime": {
     "end_time": "2024-10-14T13:44:45.973197Z",
     "start_time": "2024-10-14T13:44:43.158391Z"
    }
   },
   "source": [
    "import numpyro\n",
    "def model():\n",
    "    with numpyro.plate(\"i\",5) as i:\n",
    "        x = numpyro.deterministic(\"x\",0)\n",
    "        y = numpyro.deterministic(\"y\",i)\n",
    "        z = numpyro.sample(\"z\",numpyro.distributions.Normal(0,1))\n",
    "    return x, y, z\n",
    "\n",
    "with numpyro.handlers.seed(rng_seed=0):\n",
    "    out = model()\n",
    "\n",
    "print(out)"
   ],
   "outputs": [
    {
     "name": "stdout",
     "output_type": "stream",
     "text": [
      "(0, Array([0, 1, 2, 3, 4], dtype=int32), Array([-1.4581939, -2.047044 ,  2.0473392,  1.1684095, -0.9758364],      dtype=float32))\n"
     ]
    }
   ],
   "execution_count": 1
  },
  {
   "metadata": {
    "ExecuteTime": {
     "end_time": "2024-10-14T13:57:15.390696Z",
     "start_time": "2024-10-14T13:57:15.382660Z"
    }
   },
   "cell_type": "code",
   "source": [
    "import numpyro\n",
    "from jax import numpy as jnp\n",
    "\n",
    "means = jnp.array([1,2,3])\n",
    "\n",
    "def model():\n",
    "    with numpyro.plate(\"i\",3) as i:\n",
    "        z = numpyro.sample(\"x\",numpyro.distributions.Normal(means[i],1e-10))\n",
    "    return z\n",
    "\n",
    "with numpyro.handlers.seed(rng_seed=0):\n",
    "    out = model()\n",
    "\n",
    "print(out)\n"
   ],
   "id": "f2fcf487ece9b4b1",
   "outputs": [
    {
     "name": "stdout",
     "output_type": "stream",
     "text": [
      "[1. 2. 3.]\n"
     ]
    }
   ],
   "execution_count": 8
  },
  {
   "metadata": {
    "ExecuteTime": {
     "end_time": "2024-10-14T18:30:52.569729Z",
     "start_time": "2024-10-14T18:30:52.559868Z"
    }
   },
   "cell_type": "code",
   "source": [
    "import numpyro\n",
    "from jax import numpy as jnp\n",
    "\n",
    "means = jnp.array([1,2,3])\n",
    "\n",
    "def model():\n",
    "    with numpyro.plate(\"i\",3) as i:\n",
    "        with numpyro.plate(\"j\",4) as j:\n",
    "            tmp = numpyro.distributions.Normal(means[i],1e-10)\n",
    "            z = numpyro.sample(\"x\",tmp)\n",
    "    return z\n",
    "\n",
    "with numpyro.handlers.seed(rng_seed=0):\n",
    "    out = model()\n",
    "\n",
    "print(out)\n",
    " "
   ],
   "id": "a1bfdf59d21efa45",
   "outputs": [
    {
     "name": "stdout",
     "output_type": "stream",
     "text": [
      "[[1. 2. 3.]\n",
      " [1. 2. 3.]\n",
      " [1. 2. 3.]\n",
      " [1. 2. 3.]]\n"
     ]
    }
   ],
   "execution_count": 15
  },
  {
   "metadata": {
    "ExecuteTime": {
     "end_time": "2024-10-14T19:50:10.363413Z",
     "start_time": "2024-10-14T19:50:10.351308Z"
    }
   },
   "cell_type": "code",
   "source": [
    "import numpyro\n",
    "from jax import numpy as jnp\n",
    "import numpy as np\n",
    "\n",
    "means = jnp.array([1,2,3])\n",
    "\n",
    "x_obs = jnp.array(np.random.randn(4,3))\n",
    "\n",
    "def model():\n",
    "    with numpyro.plate(\"i\",3) as i:\n",
    "        my_x_obs = x_obs[:,i]\n",
    "        with numpyro.plate(\"j\",4) as j:\n",
    "            tmp = numpyro.distributions.Normal(means[i],1e-10)\n",
    "            z = numpyro.sample(\"z\",tmp)\n",
    "            tmp = numpyro.distributions.Normal(z,0.1)\n",
    "            my_my_x_obs = my_x_obs[j]\n",
    "            x = numpyro.sample(\"x\",tmp,obs=my_my_x_obs)\n",
    "    return z, x\n",
    "\n",
    "with numpyro.handlers.seed(rng_seed=0):\n",
    "    out = model()\n",
    "\n",
    "print(out)\n",
    " "
   ],
   "id": "84b3b8df0ade7110",
   "outputs": [
    {
     "name": "stdout",
     "output_type": "stream",
     "text": [
      "(Array([[1., 2., 3.],\n",
      "       [1., 2., 3.],\n",
      "       [1., 2., 3.],\n",
      "       [1., 2., 3.]], dtype=float32), Array([[-0.05056199,  0.5899013 ,  0.07918721],\n",
      "       [ 0.24101706,  1.2480859 , -0.31339505],\n",
      "       [-1.1583914 , -2.0697548 , -1.9650959 ],\n",
      "       [ 3.796438  , -0.5678566 ,  0.8969241 ]], dtype=float32))\n"
     ]
    }
   ],
   "execution_count": 20
  },
  {
   "metadata": {
    "ExecuteTime": {
     "end_time": "2024-10-14T20:24:49.118734Z",
     "start_time": "2024-10-14T20:24:46.257855Z"
    }
   },
   "cell_type": "code",
   "source": [
    "import numpyro\n",
    "from jax import numpy as jnp\n",
    "import numpy as np\n",
    "import jax\n",
    "\n",
    "#means = jnp.array([0.25,0.9,0.2])\n",
    "#other_means = jnp.array([0,1,1,0])\n",
    "means = 0.5 * jnp.ones(3)\n",
    "\n",
    "x_obs = jnp.array(np.random.randint(2,size=(4,3)))\n",
    "\n",
    "def model():\n",
    "    with numpyro.plate(\"i\",3) as i:\n",
    "        #my_x_obs = x_obs[i,:]\n",
    "        #my_mean = means[i]\n",
    "        with numpyro.plate(\"j\",4) as j:\n",
    "            tmp = numpyro.distributions.Bernoulli(means[i])\n",
    "            z = numpyro.sample(\"z\",tmp)\n",
    "            tmp = numpyro.distributions.Bernoulli(.05 + .9*z)\n",
    "            x = numpyro.sample(\"x\",tmp,obs=x_obs)\n",
    "    return z, x\n",
    "\n",
    "# big = np.repeat(means[:,None],4,axis=1).T\n",
    "# print(big.shape)\n",
    "# def model():\n",
    "#     tmp = numpyro.distributions.Bernoulli(big)\n",
    "#     z = numpyro.sample(\"z\",tmp)\n",
    "#     tmp = numpyro.distributions.Bernoulli(.05 + .9*z)\n",
    "#     x = numpyro.sample(\"x\",tmp,obs=x_obs)\n",
    "# \n",
    "#     return z,x\n",
    "\n",
    "\n",
    "#kernel = numpyro.infer.NUTS(model)\n",
    "kernel = numpyro.infer.DiscreteHMCGibbs(\n",
    "        numpyro.infer.NUTS(model), modified=True\n",
    "    )\n",
    "\n",
    "mcmc = numpyro.infer.MCMC(\n",
    "    kernel,\n",
    "    num_warmup=1000,\n",
    "    num_samples=1000,\n",
    "    progress_bar=False,\n",
    ")\n",
    "key = jax.random.PRNGKey(0)\n",
    "\n",
    "# numpyro gives some annoying future warnings\n",
    "import warnings\n",
    "\n",
    "with warnings.catch_warnings(action=\"ignore\", category=FutureWarning):  # type: ignore\n",
    "    mcmc.run(key)\n",
    "\n",
    "#mcmc.print_summary()\n",
    "print(mcmc.get_samples())\n",
    "\n",
    "posterior_samples = mcmc.get_samples()\n",
    "\n",
    "#predictive = numpyro.infer.Predictive(model, posterior_samples, infer_discrete=True)\n",
    "predictive = numpyro.infer.Predictive(model, num_samples=1000, infer_discrete=True)\n",
    "key = jax.random.PRNGKey(0)\n",
    "conditional_samples = predictive(rng_key=key)\n",
    "\n",
    "print(f\"{conditional_samples['z'].shape=}\")\n",
    "print(f\"{conditional_samples['x'].shape=}\")\n",
    " "
   ],
   "id": "b4013b7cb72a8b6f",
   "outputs": [
    {
     "name": "stdout",
     "output_type": "stream",
     "text": [
      "{'z': Array([[[0, 1, 0],\n",
      "        [0, 0, 0],\n",
      "        [0, 1, 0],\n",
      "        [0, 1, 0]],\n",
      "\n",
      "       [[1, 1, 0],\n",
      "        [0, 0, 0],\n",
      "        [1, 1, 0],\n",
      "        [0, 1, 0]],\n",
      "\n",
      "       [[0, 1, 0],\n",
      "        [0, 0, 0],\n",
      "        [0, 0, 0],\n",
      "        [0, 1, 0]],\n",
      "\n",
      "       ...,\n",
      "\n",
      "       [[0, 1, 0],\n",
      "        [0, 0, 0],\n",
      "        [1, 1, 0],\n",
      "        [0, 1, 0]],\n",
      "\n",
      "       [[0, 0, 0],\n",
      "        [0, 0, 0],\n",
      "        [0, 1, 0],\n",
      "        [0, 1, 0]],\n",
      "\n",
      "       [[0, 1, 0],\n",
      "        [0, 0, 0],\n",
      "        [0, 1, 0],\n",
      "        [0, 1, 0]]], dtype=int32)}\n"
     ]
    },
    {
     "name": "stderr",
     "output_type": "stream",
     "text": [
      "/opt/anaconda3/envs/pangolin-new/lib/python3.12/site-packages/jax/_src/core.py:691: FutureWarning: unhashable type: <class 'jax._src.interpreters.partial_eval.DynamicJaxprTracer'>. Attempting to hash a tracer will lead to an error in a future JAX release.\n",
      "  warnings.warn(\n",
      "/opt/anaconda3/envs/pangolin-new/lib/python3.12/site-packages/jax/_src/core.py:691: FutureWarning: unhashable type: <class 'jax._src.interpreters.partial_eval.DynamicJaxprTracer'>. Attempting to hash a tracer will lead to an error in a future JAX release.\n",
      "  warnings.warn(\n",
      "/opt/anaconda3/envs/pangolin-new/lib/python3.12/site-packages/jax/_src/core.py:691: FutureWarning: unhashable type: <class 'jax._src.interpreters.partial_eval.DynamicJaxprTracer'>. Attempting to hash a tracer will lead to an error in a future JAX release.\n",
      "  warnings.warn(\n",
      "/opt/anaconda3/envs/pangolin-new/lib/python3.12/site-packages/jax/_src/core.py:691: FutureWarning: unhashable type: <class 'jax._src.interpreters.partial_eval.DynamicJaxprTracer'>. Attempting to hash a tracer will lead to an error in a future JAX release.\n",
      "  warnings.warn(\n"
     ]
    },
    {
     "name": "stdout",
     "output_type": "stream",
     "text": [
      "conditional_samples['z'].shape=(1000, 4, 3)\n",
      "conditional_samples['x'].shape=(1000, 4, 3)\n"
     ]
    }
   ],
   "execution_count": 111
  },
  {
   "metadata": {
    "ExecuteTime": {
     "end_time": "2024-10-14T20:19:18.980913Z",
     "start_time": "2024-10-14T20:19:18.976774Z"
    }
   },
   "cell_type": "code",
   "source": "print(np.mean(conditional_samples['z'],axis=0))",
   "id": "8b9e306fab255e06",
   "outputs": [
    {
     "name": "stdout",
     "output_type": "stream",
     "text": [
      "[[0.95000005 0.059      0.95600003]\n",
      " [0.051      0.053      0.93600005]\n",
      " [0.947      0.95100003 0.049     ]\n",
      " [0.059      0.95100003 0.95100003]]\n"
     ]
    }
   ],
   "execution_count": 96
  },
  {
   "metadata": {
    "ExecuteTime": {
     "end_time": "2024-10-14T20:19:20.015912Z",
     "start_time": "2024-10-14T20:19:20.011889Z"
    }
   },
   "cell_type": "code",
   "source": "print(x_obs)",
   "id": "aea3877e4f0f924",
   "outputs": [
    {
     "name": "stdout",
     "output_type": "stream",
     "text": [
      "[[1 0 1]\n",
      " [0 0 1]\n",
      " [1 1 0]\n",
      " [0 1 1]]\n"
     ]
    }
   ],
   "execution_count": 97
  },
  {
   "metadata": {
    "ExecuteTime": {
     "end_time": "2024-10-14T20:19:20.498449Z",
     "start_time": "2024-10-14T20:19:20.494167Z"
    }
   },
   "cell_type": "code",
   "source": "print(np.mean(conditional_samples['x'],axis=0))",
   "id": "e2881eb21cfc72ef",
   "outputs": [
    {
     "name": "stdout",
     "output_type": "stream",
     "text": [
      "[[1. 0. 1.]\n",
      " [0. 0. 1.]\n",
      " [1. 1. 0.]\n",
      " [0. 1. 1.]]\n"
     ]
    }
   ],
   "execution_count": 98
  },
  {
   "metadata": {
    "ExecuteTime": {
     "end_time": "2024-10-14T20:55:03.786668Z",
     "start_time": "2024-10-14T20:55:03.778375Z"
    }
   },
   "cell_type": "code",
   "source": [
    "import numpyro\n",
    "from jax import numpy as jnp\n",
    "import numpy as np\n",
    "import jax\n",
    "\n",
    "means = 0.5 * jnp.ones(3)\n",
    "\n",
    "x_obs = jnp.array(np.random.randint(2,size=(4,3)))\n",
    "\n",
    "def model():\n",
    "    with numpyro.plate(\"i\",3,dim=-2) as i:\n",
    "        with numpyro.plate(\"j\",4,dim=-1) as j:\n",
    "            #tmp = numpyro.distributions.Bernoulli(means[:,None])\n",
    "            #z = numpyro.sample(\"z\",tmp)\n",
    "            tmp = means[:,None]+1.0\n",
    "            z = numpyro.deterministic(\"z\",tmp)\n",
    "    return z\n",
    "\n",
    "with numpyro.handlers.seed(rng_seed=0):\n",
    "    out = model()\n",
    "\n",
    "print(out)\n",
    " \n"
   ],
   "id": "bf2e6f99eec58ce2",
   "outputs": [
    {
     "name": "stdout",
     "output_type": "stream",
     "text": [
      "[[1.5]\n",
      " [1.5]\n",
      " [1.5]]\n"
     ]
    }
   ],
   "execution_count": 131
  },
  {
   "metadata": {
    "ExecuteTime": {
     "end_time": "2024-10-14T20:54:12.460412Z",
     "start_time": "2024-10-14T20:54:12.452485Z"
    }
   },
   "cell_type": "code",
   "source": "out.shape",
   "id": "1f15403b97314bab",
   "outputs": [
    {
     "data": {
      "text/plain": [
       "(3, 4)"
      ]
     },
     "execution_count": 127,
     "metadata": {},
     "output_type": "execute_result"
    }
   ],
   "execution_count": 127
  },
  {
   "metadata": {},
   "cell_type": "code",
   "outputs": [],
   "execution_count": null,
   "source": "",
   "id": "361ed80987c883a0"
  }
 ],
 "metadata": {
  "kernelspec": {
   "display_name": "Python 3",
   "language": "python",
   "name": "python3"
  },
  "language_info": {
   "codemirror_mode": {
    "name": "ipython",
    "version": 2
   },
   "file_extension": ".py",
   "mimetype": "text/x-python",
   "name": "python",
   "nbconvert_exporter": "python",
   "pygments_lexer": "ipython2",
   "version": "2.7.6"
  }
 },
 "nbformat": 4,
 "nbformat_minor": 5
}
