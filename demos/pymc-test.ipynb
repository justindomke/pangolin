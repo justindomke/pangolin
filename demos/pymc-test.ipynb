{
 "cells": [
  {
   "cell_type": "code",
   "id": "initial_id",
   "metadata": {
    "collapsed": true,
    "ExecuteTime": {
     "end_time": "2024-10-11T22:13:38.368581Z",
     "start_time": "2024-10-11T22:13:29.806158Z"
    }
   },
   "source": [
    "import pymc as pm\n",
    "import numpy as np\n",
    "\n",
    "x_obs = 1.5\n",
    "\n",
    "with pm.Model() as model:\n",
    "    z = pm.Normal('z', 0, 1)\n",
    "    x = pm.Normal('x', z, 1, observed=x_obs)\n",
    "    idata = pm.sample(100, progressbar=False, return_inferencedata=False)\n",
    "    \n",
    "z_samples = idata['z']"
   ],
   "outputs": [
    {
     "name": "stderr",
     "output_type": "stream",
     "text": [
      "Auto-assigning NUTS sampler...\n",
      "Initializing NUTS using jitter+adapt_diag...\n",
      "Multiprocess sampling (4 chains in 4 jobs)\n",
      "NUTS: [z]\n",
      "WARNING (pytensor.tensor.blas): Using NumPy C-API based implementation for BLAS functions.\n",
      "WARNING (pytensor.tensor.blas): Using NumPy C-API based implementation for BLAS functions.\n",
      "WARNING (pytensor.tensor.blas): Using NumPy C-API based implementation for BLAS functions.\n",
      "WARNING (pytensor.tensor.blas): Using NumPy C-API based implementation for BLAS functions.\n",
      "Sampling 4 chains for 1_000 tune and 100 draw iterations (4_000 + 400 draws total) took 7 seconds.\n",
      "The effective sample size per chain is smaller than 100 for some parameters.  A higher number is needed for reliable rhat and ess computation. See https://arxiv.org/abs/1903.08008 for details\n"
     ]
    }
   ],
   "execution_count": 22
  },
  {
   "metadata": {
    "ExecuteTime": {
     "end_time": "2024-10-11T22:16:17.872409Z",
     "start_time": "2024-10-11T22:16:17.390517Z"
    }
   },
   "cell_type": "code",
   "source": [
    "import pymc as pm\n",
    "\n",
    "x_obs = 0.25\n",
    "\n",
    "with pm.Model() as model:\n",
    "    z = pm.Bernoulli('z', 0.5)\n",
    "    x = pm.Uniform('x', lower=0.5*z, upper=1+0.5*z, observed=x_obs)\n",
    "    \n",
    "    #step1 = pm.NUTS(vars=[p, q])\n",
    "    step = pm.Metropolis(vars=[z])\n",
    "    \n",
    "    idata = pm.sample(100, chains=1, progressbar=False, return_inferencedata=False, init='random')\n",
    "\n",
    "z_samples = idata['z']"
   ],
   "id": "f3e718f8a9c8586e",
   "outputs": [
    {
     "ename": "SamplingError",
     "evalue": "Initial evaluation of model at starting point failed!\nStarting values:\n{'z': array(1)}\n\nLogp initial evaluation results:\n{'z': -0.69, 'x': -inf}\nYou can call `model.debug()` for more details.",
     "output_type": "error",
     "traceback": [
      "\u001B[0;31m---------------------------------------------------------------------------\u001B[0m",
      "\u001B[0;31mSamplingError\u001B[0m                             Traceback (most recent call last)",
      "Cell \u001B[0;32mIn[42], line 12\u001B[0m\n\u001B[1;32m      9\u001B[0m     \u001B[38;5;66;03m#step1 = pm.NUTS(vars=[p, q])\u001B[39;00m\n\u001B[1;32m     10\u001B[0m     step \u001B[38;5;241m=\u001B[39m pm\u001B[38;5;241m.\u001B[39mMetropolis(\u001B[38;5;28mvars\u001B[39m\u001B[38;5;241m=\u001B[39m[z])\n\u001B[0;32m---> 12\u001B[0m     idata \u001B[38;5;241m=\u001B[39m pm\u001B[38;5;241m.\u001B[39msample(\u001B[38;5;241m100\u001B[39m, chains\u001B[38;5;241m=\u001B[39m\u001B[38;5;241m1\u001B[39m, progressbar\u001B[38;5;241m=\u001B[39m\u001B[38;5;28;01mFalse\u001B[39;00m, return_inferencedata\u001B[38;5;241m=\u001B[39m\u001B[38;5;28;01mFalse\u001B[39;00m, init\u001B[38;5;241m=\u001B[39m\u001B[38;5;124m'\u001B[39m\u001B[38;5;124mrandom\u001B[39m\u001B[38;5;124m'\u001B[39m)\n\u001B[1;32m     14\u001B[0m z_samples \u001B[38;5;241m=\u001B[39m idata[\u001B[38;5;124m'\u001B[39m\u001B[38;5;124mz\u001B[39m\u001B[38;5;124m'\u001B[39m]\n",
      "File \u001B[0;32m/opt/anaconda3/envs/pangolin-new/lib/python3.12/site-packages/pymc/sampling/mcmc.py:778\u001B[0m, in \u001B[0;36msample\u001B[0;34m(draws, tune, chains, cores, random_seed, progressbar, progressbar_theme, step, var_names, nuts_sampler, initvals, init, jitter_max_retries, n_init, trace, discard_tuned_samples, compute_convergence_checks, keep_warning_stat, return_inferencedata, idata_kwargs, nuts_sampler_kwargs, callback, mp_ctx, blas_cores, model, **kwargs)\u001B[0m\n\u001B[1;32m    776\u001B[0m ip: \u001B[38;5;28mdict\u001B[39m[\u001B[38;5;28mstr\u001B[39m, np\u001B[38;5;241m.\u001B[39mndarray]\n\u001B[1;32m    777\u001B[0m \u001B[38;5;28;01mfor\u001B[39;00m ip \u001B[38;5;129;01min\u001B[39;00m initial_points:\n\u001B[0;32m--> 778\u001B[0m     model\u001B[38;5;241m.\u001B[39mcheck_start_vals(ip)\n\u001B[1;32m    779\u001B[0m     _check_start_shape(model, ip)\n\u001B[1;32m    781\u001B[0m \u001B[38;5;28;01mif\u001B[39;00m var_names \u001B[38;5;129;01mis\u001B[39;00m \u001B[38;5;129;01mnot\u001B[39;00m \u001B[38;5;28;01mNone\u001B[39;00m:\n",
      "File \u001B[0;32m/opt/anaconda3/envs/pangolin-new/lib/python3.12/site-packages/pymc/model/core.py:1790\u001B[0m, in \u001B[0;36mModel.check_start_vals\u001B[0;34m(self, start, **kwargs)\u001B[0m\n\u001B[1;32m   1787\u001B[0m initial_eval \u001B[38;5;241m=\u001B[39m \u001B[38;5;28mself\u001B[39m\u001B[38;5;241m.\u001B[39mpoint_logps(point\u001B[38;5;241m=\u001B[39melem, \u001B[38;5;241m*\u001B[39m\u001B[38;5;241m*\u001B[39mkwargs)\n\u001B[1;32m   1789\u001B[0m \u001B[38;5;28;01mif\u001B[39;00m \u001B[38;5;129;01mnot\u001B[39;00m \u001B[38;5;28mall\u001B[39m(np\u001B[38;5;241m.\u001B[39misfinite(v) \u001B[38;5;28;01mfor\u001B[39;00m v \u001B[38;5;129;01min\u001B[39;00m initial_eval\u001B[38;5;241m.\u001B[39mvalues()):\n\u001B[0;32m-> 1790\u001B[0m     \u001B[38;5;28;01mraise\u001B[39;00m SamplingError(\n\u001B[1;32m   1791\u001B[0m         \u001B[38;5;124m\"\u001B[39m\u001B[38;5;124mInitial evaluation of model at starting point failed!\u001B[39m\u001B[38;5;130;01m\\n\u001B[39;00m\u001B[38;5;124m\"\u001B[39m\n\u001B[1;32m   1792\u001B[0m         \u001B[38;5;124mf\u001B[39m\u001B[38;5;124m\"\u001B[39m\u001B[38;5;124mStarting values:\u001B[39m\u001B[38;5;130;01m\\n\u001B[39;00m\u001B[38;5;132;01m{\u001B[39;00melem\u001B[38;5;132;01m}\u001B[39;00m\u001B[38;5;130;01m\\n\u001B[39;00m\u001B[38;5;130;01m\\n\u001B[39;00m\u001B[38;5;124m\"\u001B[39m\n\u001B[1;32m   1793\u001B[0m         \u001B[38;5;124mf\u001B[39m\u001B[38;5;124m\"\u001B[39m\u001B[38;5;124mLogp initial evaluation results:\u001B[39m\u001B[38;5;130;01m\\n\u001B[39;00m\u001B[38;5;132;01m{\u001B[39;00minitial_eval\u001B[38;5;132;01m}\u001B[39;00m\u001B[38;5;130;01m\\n\u001B[39;00m\u001B[38;5;124m\"\u001B[39m\n\u001B[1;32m   1794\u001B[0m         \u001B[38;5;124m\"\u001B[39m\u001B[38;5;124mYou can call `model.debug()` for more details.\u001B[39m\u001B[38;5;124m\"\u001B[39m\n\u001B[1;32m   1795\u001B[0m     )\n",
      "\u001B[0;31mSamplingError\u001B[0m: Initial evaluation of model at starting point failed!\nStarting values:\n{'z': array(1)}\n\nLogp initial evaluation results:\n{'z': -0.69, 'x': -inf}\nYou can call `model.debug()` for more details."
     ]
    }
   ],
   "execution_count": 42
  },
  {
   "metadata": {
    "ExecuteTime": {
     "end_time": "2024-10-11T22:15:13.172887Z",
     "start_time": "2024-10-11T22:15:13.167917Z"
    }
   },
   "cell_type": "code",
   "source": "np.mean(idata['z'])",
   "id": "a1ffce100c97aa4b",
   "outputs": [
    {
     "data": {
      "text/plain": [
       "0.49"
      ]
     },
     "execution_count": 39,
     "metadata": {},
     "output_type": "execute_result"
    }
   ],
   "execution_count": 39
  },
  {
   "metadata": {},
   "cell_type": "code",
   "outputs": [],
   "execution_count": null,
   "source": "",
   "id": "b9ae118c10d0f7bd"
  }
 ],
 "metadata": {
  "kernelspec": {
   "display_name": "Python 3",
   "language": "python",
   "name": "python3"
  },
  "language_info": {
   "codemirror_mode": {
    "name": "ipython",
    "version": 2
   },
   "file_extension": ".py",
   "mimetype": "text/x-python",
   "name": "python",
   "nbconvert_exporter": "python",
   "pygments_lexer": "ipython2",
   "version": "2.7.6"
  }
 },
 "nbformat": 4,
 "nbformat_minor": 5
}
