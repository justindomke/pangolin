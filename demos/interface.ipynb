{
 "cells": [
  {
   "attachments": {},
   "cell_type": "markdown",
   "id": "38de23d744eee6c4",
   "metadata": {},
   "source": [
    "This notebook demonstrates how models could be constructed using pangolin's more friendly interface, rather than directly using the IR (as demonstrated in `IR.ipynb`)."
   ]
  },
  {
   "cell_type": "code",
   "execution_count": 1,
   "id": "74f00291f6eb6800",
   "metadata": {
    "jupyter": {
     "is_executing": true
    }
   },
   "outputs": [],
   "source": [
    "%load_ext autoreload\n",
    "%autoreload 2\n",
    "from pangolin import ir\n",
    "from pangolin import interface as pi"
   ]
  },
  {
   "cell_type": "code",
   "execution_count": 2,
   "id": "00f046a3",
   "metadata": {},
   "outputs": [
    {
     "name": "stdout",
     "output_type": "stream",
     "text": [
      "RV(Constant(0))\n"
     ]
    }
   ],
   "source": [
    "# In pangolin, an RV is basically just a list of a Distribution and a list of parents\n",
    "# For example, here's how you could create an RV that is a constant of 0 \"with your bare hands\"\n",
    "\n",
    "constant_dist = ir.Constant(0)\n",
    "constant_rv = ir.RV(constant_dist)\n",
    "\n",
    "print(repr(constant_rv))"
   ]
  },
  {
   "cell_type": "code",
   "execution_count": 3,
   "id": "f9bd9587",
   "metadata": {},
   "outputs": [
    {
     "name": "stdout",
     "output_type": "stream",
     "text": [
      "InfixRV(Constant(0))\n"
     ]
    }
   ],
   "source": [
    "# That's tedious! So pangolin provides a friendlier interface\n",
    "# For example, you can create constants using makerv.\n",
    "# (An InfixRV is just an RV but it also supports operator overloading, as we'll discuss below.)\n",
    "\n",
    "constant_rv = pi.constant(0)\n",
    "\n",
    "print(repr(constant_rv))"
   ]
  },
  {
   "cell_type": "code",
   "execution_count": 4,
   "id": "8042dff730703a27",
   "metadata": {
    "jupyter": {
     "is_executing": true
    }
   },
   "outputs": [
    {
     "name": "stdout",
     "output_type": "stream",
     "text": [
      "RV(Normal(), RV(Constant(0)), RV(Constant(1)))\n"
     ]
    }
   ],
   "source": [
    "# Here's a more complex example of creating a standard-normal RV. Here's how you'd do it with the IR, using your bare hands\n",
    "\n",
    "constant_0_dist = ir.Constant(0)\n",
    "constant_0_rv = ir.RV(constant_0_dist)\n",
    "constant_1_dist = ir.Constant(1)\n",
    "constant_1_rv = ir.RV(constant_1_dist)\n",
    "normal_dist = ir.Normal()\n",
    "normal_rv = ir.RV(normal_dist, constant_0_rv, constant_1_rv)\n",
    "\n",
    "print(repr(normal_rv))"
   ]
  },
  {
   "cell_type": "code",
   "execution_count": 5,
   "id": "f4b168c0",
   "metadata": {},
   "outputs": [
    {
     "name": "stdout",
     "output_type": "stream",
     "text": [
      "InfixRV(Normal(), InfixRV(Constant(0)), InfixRV(Constant(1)))\n"
     ]
    }
   ],
   "source": [
    "# That's unbelievably tedious.\n",
    "# Fortunately, pangolin's friendly interface allows you to do the same thing in a much easier way\n",
    "\n",
    "normal_rv = pi.normal(0, 1)\n",
    "\n",
    "print(repr(normal_rv))"
   ]
  },
  {
   "cell_type": "code",
   "execution_count": 6,
   "id": "ffbb0781",
   "metadata": {},
   "outputs": [
    {
     "name": "stdout",
     "output_type": "stream",
     "text": [
      "InfixRV(Normal(), InfixRV(Constant(0)), InfixRV(Constant(1)))\n",
      "normal(0, 1)\n"
     ]
    }
   ],
   "source": [
    "# If you use repr(rv) then you get the full explicit representation as shown above\n",
    "# If you do str(rv), you get a friendlier-looking math-like notation\n",
    "\n",
    "print(repr(normal_rv))\n",
    "print(str(normal_rv))"
   ]
  },
  {
   "cell_type": "code",
   "execution_count": 7,
   "id": "62a7d2bb",
   "metadata": {},
   "outputs": [
    {
     "name": "stdout",
     "output_type": "stream",
     "text": [
      "RV(Add(), RV(Constant(0)), RV(Constant(2)))\n",
      "add(0, 2)\n"
     ]
    }
   ],
   "source": [
    "# Here's how you could create a RV that represents the sum of two other RVs using the low-level notation\n",
    "\n",
    "x = ir.RV(ir.Constant(0))\n",
    "y = ir.RV(ir.Constant(2))\n",
    "z = ir.RV(ir.Add(), x, y)\n",
    "\n",
    "print(repr(z))\n",
    "print(z)"
   ]
  },
  {
   "cell_type": "code",
   "execution_count": 8,
   "id": "34ac4589",
   "metadata": {},
   "outputs": [
    {
     "name": "stdout",
     "output_type": "stream",
     "text": [
      "InfixRV(Add(), InfixRV(Constant(0)), InfixRV(Constant(2)))\n",
      "add(0, 2)\n"
     ]
    }
   ],
   "source": [
    "# And here's how you can do the same thing using the friendly interface\n",
    "\n",
    "x = pi.constant(0)\n",
    "y = pi.constant(2)\n",
    "z = pi.add(x,y)\n",
    "\n",
    "print(repr(z))\n",
    "print(z)"
   ]
  },
  {
   "cell_type": "code",
   "execution_count": 9,
   "id": "104b6fbf",
   "metadata": {},
   "outputs": [
    {
     "name": "stdout",
     "output_type": "stream",
     "text": [
      "InfixRV(Add(), InfixRV(Constant(0)), InfixRV(Constant(2)))\n",
      "add(0, 2)\n"
     ]
    }
   ],
   "source": [
    "# But it's still annoying to write pg.add.\n",
    "# Fortunately, OperatorRV's have operator overloading. So you can instead just do this:\n",
    "\n",
    "x = pi.constant(0)\n",
    "y = pi.constant(2)\n",
    "z = x + y\n",
    "\n",
    "print(repr(z))\n",
    "print(z)"
   ]
  },
  {
   "cell_type": "code",
   "execution_count": 10,
   "id": "bfd575a4",
   "metadata": {},
   "outputs": [
    {
     "name": "stdout",
     "output_type": "stream",
     "text": [
      "InfixRV(Constant([1,2,3]))\n",
      "[1 2 3]\n"
     ]
    }
   ],
   "source": [
    "# In pangolin, you can create constants that are vectors or matrices, etc.\n",
    "\n",
    "z = pi.constant([1,2,3])\n",
    "\n",
    "print(repr(z))\n",
    "print(z)"
   ]
  },
  {
   "cell_type": "code",
   "execution_count": 11,
   "id": "82ce10be",
   "metadata": {},
   "outputs": [
    {
     "name": "stdout",
     "output_type": "stream",
     "text": [
      "InfixRV(Matmul(), InfixRV(Constant([[2,1],[0,3]])), InfixRV(Constant([3,-3])))\n",
      "matmul([[2 1] [0 3]], [ 3 -3])\n"
     ]
    }
   ],
   "source": [
    "# Pangolin also allows you to work with vectors or matrices, and supports matrix multiplication and all that kind of stuff\n",
    "\n",
    "x = pi.constant([[2,1],[0,3]])\n",
    "y = pi.constant([3,-3])\n",
    "z = x @ y\n",
    "\n",
    "print(repr(z))\n",
    "print(z)"
   ]
  },
  {
   "cell_type": "code",
   "execution_count": 12,
   "id": "2665796e",
   "metadata": {},
   "outputs": [
    {
     "name": "stdout",
     "output_type": "stream",
     "text": [
      "RV(VMap(Normal(), (0, 0)), RV(Constant([0,1,2])), RV(Constant([3,4,5])))\n",
      "vmap(normal, (0, 0))([0 1 2], [3 4 5])\n",
      "shape | statement\n",
      "----- | ---------\n",
      "(3,)  | a = [0 1 2]\n",
      "(3,)  | b = [3 4 5]\n",
      "(3,)  | c ~ vmap(normal, (0, 0))(a,b)\n"
     ]
    }
   ],
   "source": [
    "# How would you create a diagonal normal distribution?\n",
    "# in pangolin, pg.ir.Normal represents a scalar distribution ONLY\n",
    "# if you want a vectorized distribution, you need to \"vmap\" it\n",
    "# here's how you'd do that in the raw IR\n",
    "\n",
    "vectorized_normal = ir.VMap(ir.Normal(), (0, 0)) # (0,0) means vectorize loc and scale\n",
    "loc = ir.RV(ir.Constant([0,1,2]))\n",
    "scale = ir.RV(ir.Constant([3,4,5]))\n",
    "z = ir.RV(vectorized_normal, loc, scale)\n",
    "\n",
    "print(repr(z))\n",
    "print(z)\n",
    "ir.print_upstream(z)"
   ]
  },
  {
   "cell_type": "code",
   "execution_count": 13,
   "id": "fb89d4b4",
   "metadata": {},
   "outputs": [
    {
     "name": "stdout",
     "output_type": "stream",
     "text": [
      "InfixRV(VMap(Normal(), (0, 0), 3), InfixRV(Constant([0,1,2])), InfixRV(Constant([3,4,5])))\n",
      "vmap(normal, (0, 0), 3)([0 1 2], [3 4 5])\n",
      "shape | statement\n",
      "----- | ---------\n",
      "(3,)  | a = [0 1 2]\n",
      "(3,)  | b = [3 4 5]\n",
      "(3,)  | c ~ vmap(normal, (0, 0), 3)(a,b)\n"
     ]
    }
   ],
   "source": [
    "# And here's how you'd do that in a convenient way\n",
    "\n",
    "loc = pi.constant([0,1,2])\n",
    "scale = pi.constant([3,4,5])\n",
    "\n",
    "z = pi.vmap(pi.normal)(loc, scale)\n",
    "\n",
    "print(repr(z))\n",
    "print(z)\n",
    "ir.print_upstream(z)"
   ]
  },
  {
   "cell_type": "code",
   "execution_count": 14,
   "id": "32f5f760",
   "metadata": {},
   "outputs": [
    {
     "name": "stdout",
     "output_type": "stream",
     "text": [
      "RV(VMap(Add(), (0, 0)), RV(Constant([0,1,2])), RV(Constant([3,4,5])))\n",
      "vmap(add, (0, 0))([0 1 2], [3 4 5])\n",
      "shape | statement\n",
      "----- | ---------\n",
      "(3,)  | a = [0 1 2]\n",
      "(3,)  | b = [3 4 5]\n",
      "(3,)  | c = vmap(add, (0, 0))(a,b)\n"
     ]
    }
   ],
   "source": [
    "# The same thing is true for addition. pg.ir.Add() only adds scalars.\n",
    "# But you can vmap it to add vectors.\n",
    "# Here's how you'd do that in a very explicit way\n",
    "\n",
    "vectorized_add = ir.VMap(ir.Add(), (0, 0))\n",
    "x = ir.RV(ir.Constant([0,1,2]))\n",
    "y = ir.RV(ir.Constant([3,4,5]))\n",
    "z = ir.RV(vectorized_add, x, y)\n",
    "\n",
    "print(repr(z))\n",
    "print(z)\n",
    "ir.print_upstream(z)"
   ]
  },
  {
   "cell_type": "code",
   "execution_count": 27,
   "id": "9625a482",
   "metadata": {},
   "outputs": [
    {
     "name": "stdout",
     "output_type": "stream",
     "text": [
      "shape | statement\n",
      "----- | ---------\n",
      "(3,)  | a = [0 1 2]\n",
      "(3,)  | b = [3 4 5]\n",
      "(3,)  | c = vmap(add, (0, 0), 3)(a,b)\n"
     ]
    }
   ],
   "source": [
    "# As always, directly writing in the IR is very tedious\n",
    "# Here's how you could do that using the friendly interface\n",
    "\n",
    "vectorized_add = pi.vmap(pi.add, (0, 0))\n",
    "x = pi.makerv([0,1,2])\n",
    "y = pi.makerv([3,4,5])\n",
    "z = vectorized_add(x, y)\n",
    "\n",
    "ir.print_upstream(z)"
   ]
  },
  {
   "cell_type": "code",
   "execution_count": 28,
   "id": "c3e09b46",
   "metadata": {},
   "outputs": [
    {
     "name": "stdout",
     "output_type": "stream",
     "text": [
      "shape | statement\n",
      "----- | ---------\n",
      "(3,)  | a = [0 1 2]\n",
      "(3,)  | b = [3 4 5]\n",
      "(3,)  | c = vmap(add, (0, 0), 3)(a,b)\n"
     ]
    }
   ],
   "source": [
    "# Alternatively (and much simpler), if you simply do x+y when x and y are vectors\n",
    "# pangolin will do the broadcasting / vmapping for you\n",
    "\n",
    "x = pi.constant([0,1,2])\n",
    "y = pi.constant([3,4,5])\n",
    "z = x + y\n",
    "\n",
    "ir.print_upstream(z)"
   ]
  },
  {
   "cell_type": "code",
   "execution_count": 29,
   "id": "5ed3de1c",
   "metadata": {},
   "outputs": [
    {
     "name": "stdout",
     "output_type": "stream",
     "text": [
      "Got ValueError (as expected) Can't broadcast non-matching shapes (2,) and (2, 2)\n"
     ]
    }
   ],
   "source": [
    "# By default, Pangolin only supports \"simple\" broadcasting as in Stan or JAGS:\n",
    "# 1. only for \"all-scalar ops\" (all inputs and output)\n",
    "# 2. all inputs must either be scalar or exactly the same shape\n",
    "#\n",
    "# So, for example, you can't add a 2x2 matrix to a length-2 vector.\n",
    "\n",
    "try:\n",
    "    x = pi.constant([[2,1],[0,3]])\n",
    "    y = pi.constant([3,-3])\n",
    "    z = x + y\n",
    "except ValueError as e:\n",
    "    print(\"Got ValueError (as expected)\", e)"
   ]
  },
  {
   "cell_type": "code",
   "execution_count": 30,
   "id": "58a24052",
   "metadata": {},
   "outputs": [
    {
     "name": "stdout",
     "output_type": "stream",
     "text": [
      "Got (expected) ValueError: Add op got parent shapes ((3,), (3,)) not all scalar.\n"
     ]
    }
   ],
   "source": [
    "# If you want, you can turn broadcasting off by:\n",
    "# 1. setting the environmental variable SCALAR_BROADCASTING to \"off\" before importing\n",
    "# 2. setting pi.SCALAR_BROADCASTING[0] to \"off\" (after importing)\n",
    "# 3. temporarily with a context manager\n",
    "\n",
    "with pi.ScalarBroadcasting(\"off\"):\n",
    "    assert pi.SCALAR_BROADCASTING == [\"off\"]\n",
    "    try:\n",
    "        x = pi.constant([0,1,2])\n",
    "        y = pi.constant([3,4,5])\n",
    "        z = x+y\n",
    "    except ValueError as e:\n",
    "        print(\"Got (expected) ValueError:\", e)"
   ]
  },
  {
   "cell_type": "code",
   "execution_count": 31,
   "id": "732270ee",
   "metadata": {},
   "outputs": [
    {
     "name": "stdout",
     "output_type": "stream",
     "text": [
      "shape  | statement\n",
      "------ | ---------\n",
      "(2, 2) | a = [[2 1] [0 3]]\n",
      "(2,)   | b = [ 3 -3]\n",
      "(2, 2) | c = vmap(vmap(add, (0, 0), 2), (0, None), 2)(a,b)\n"
     ]
    }
   ],
   "source": [
    "# Alternatively you can enable numpy-style broadcasting\n",
    "\n",
    "with pi.ScalarBroadcasting(\"numpy\"):\n",
    "    x = pi.constant([[2,1],[0,3]])\n",
    "    y = pi.constant([3,-3])\n",
    "    z = x + y\n",
    "\n",
    "pi.print_upstream(z)"
   ]
  },
  {
   "cell_type": "code",
   "execution_count": 33,
   "id": "c498c9f8",
   "metadata": {},
   "outputs": [],
   "source": [
    "# crucially, no matter what style of broadcasting you use, it is ENTIRELY\n",
    "# the job of the interface. The IR does not know about broadcasting at all.\n",
    "# It only sees vmapped Ops."
   ]
  },
  {
   "cell_type": "code",
   "execution_count": null,
   "id": "93fd18dc-48dd-45a6-9695-6d1ec57bce8d",
   "metadata": {},
   "outputs": [],
   "source": [
    "import numpy as np"
   ]
  },
  {
   "cell_type": "code",
   "execution_count": null,
   "id": "7dad2b61-ec03-4ecb-984f-611ba7faad71",
   "metadata": {},
   "outputs": [
    {
     "data": {
      "text/plain": [
       "(10, 5, 8, 9)"
      ]
     },
     "execution_count": 49,
     "metadata": {},
     "output_type": "execute_result"
    }
   ],
   "source": [
    "A = np.random.randn(10,1,8,7)\n",
    "B = np.random.randn(5,7,9)\n",
    "C = np.matmul(A,B)\n",
    "C.shape"
   ]
  },
  {
   "cell_type": "code",
   "execution_count": null,
   "id": "33763db8-b5b9-42a6-9594-7e3060238fde",
   "metadata": {},
   "outputs": [
    {
     "ename": "KeyError",
     "evalue": "'PANGOLIN_SCALAR_BROADCASTING'",
     "output_type": "error",
     "traceback": [
      "\u001b[31m---------------------------------------------------------------------------\u001b[39m",
      "\u001b[31mKeyError\u001b[39m                                  Traceback (most recent call last)",
      "\u001b[36mCell\u001b[39m\u001b[36m \u001b[39m\u001b[32mIn[52]\u001b[39m\u001b[32m, line 2\u001b[39m\n\u001b[32m      1\u001b[39m \u001b[38;5;28;01mimport\u001b[39;00m\u001b[38;5;250m \u001b[39m\u001b[34;01mos\u001b[39;00m\n\u001b[32m----> \u001b[39m\u001b[32m2\u001b[39m \u001b[43mos\u001b[49m\u001b[43m.\u001b[49m\u001b[43menviron\u001b[49m\u001b[43m[\u001b[49m\u001b[33;43m'\u001b[39;49m\u001b[33;43mPANGOLIN_SCALAR_BROADCASTING\u001b[39;49m\u001b[33;43m'\u001b[39;49m\u001b[43m]\u001b[49m\n",
      "\u001b[36mFile \u001b[39m\u001b[32m<frozen os>:685\u001b[39m, in \u001b[36m__getitem__\u001b[39m\u001b[34m(self, key)\u001b[39m\n",
      "\u001b[31mKeyError\u001b[39m: 'PANGOLIN_SCALAR_BROADCASTING'"
     ]
    }
   ],
   "source": [
    "import os\n",
    "os.environ['PANGOLIN_SCALAR_BROADCASTING']"
   ]
  }
 ],
 "metadata": {
  "kernelspec": {
   "display_name": ".venv",
   "language": "python",
   "name": "python3"
  },
  "language_info": {
   "codemirror_mode": {
    "name": "ipython",
    "version": 3
   },
   "file_extension": ".py",
   "mimetype": "text/x-python",
   "name": "python",
   "nbconvert_exporter": "python",
   "pygments_lexer": "ipython3",
   "version": "3.12.11"
  }
 },
 "nbformat": 4,
 "nbformat_minor": 5
}
