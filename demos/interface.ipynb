{
 "cells": [
  {
   "attachments": {},
   "cell_type": "markdown",
   "id": "38de23d744eee6c4",
   "metadata": {},
   "source": [
    "This notebook demonstrates how models could be constructed using pangolin's more friendly interface, rather than directly using the IR (as demonstrated in `IR.ipynb`)."
   ]
  },
  {
   "cell_type": "code",
   "execution_count": 1,
   "id": "74f00291f6eb6800",
   "metadata": {
    "jupyter": {
     "is_executing": true
    }
   },
   "outputs": [],
   "source": [
    "%load_ext autoreload\n",
    "%autoreload 2\n",
    "import pangolin as pg"
   ]
  },
  {
   "cell_type": "code",
   "execution_count": 2,
   "id": "00f046a3",
   "metadata": {},
   "outputs": [
    {
     "name": "stdout",
     "output_type": "stream",
     "text": [
      "RV(Constant(0))\n"
     ]
    }
   ],
   "source": [
    "# In pangolin, an RV is basically just a list of a Distribution and a list of parents\n",
    "# For example, here's how you could create an RV that is a constant of 0 \"with your bare hands\"\n",
    "\n",
    "constant_dist = pg.ir.Constant(0)\n",
    "constant_rv = pg.ir.RV(constant_dist)\n",
    "\n",
    "print(repr(constant_rv))"
   ]
  },
  {
   "cell_type": "code",
   "execution_count": 7,
   "id": "f9bd9587",
   "metadata": {},
   "outputs": [
    {
     "name": "stdout",
     "output_type": "stream",
     "text": [
      "OperatorRV(Constant(0))\n"
     ]
    }
   ],
   "source": [
    "# That's tedious! So pangolin provides a friendlier interface\n",
    "# For example, you can create constants using makerv.\n",
    "# (An OperatorRV is just an RV but it also supports operator overloading, as we'll discuss below.)\n",
    "\n",
    "constant_rv = pg.makerv(0)\n",
    "\n",
    "print(repr(constant_rv))"
   ]
  },
  {
   "cell_type": "code",
   "execution_count": 24,
   "id": "8042dff730703a27",
   "metadata": {
    "jupyter": {
     "is_executing": true
    }
   },
   "outputs": [
    {
     "name": "stdout",
     "output_type": "stream",
     "text": [
      "RV(Normal(), RV(Constant(0)), RV(Constant(1)))\n"
     ]
    }
   ],
   "source": [
    "# Here's a more complex example of creating a standard-normal RV. Here's how you'd do it with the IR, using your bare hands\n",
    "\n",
    "constant_0_dist = pg.ir.Constant(0)\n",
    "constant_0_rv = pg.ir.RV(constant_0_dist)\n",
    "constant_1_dist = pg.ir.Constant(1)\n",
    "constant_1_rv = pg.ir.RV(constant_1_dist)\n",
    "normal_dist = pg.ir.Normal()\n",
    "normal_rv = pg.ir.RV(normal_dist, constant_0_rv, constant_1_rv)\n",
    "\n",
    "print(repr(normal_rv))"
   ]
  },
  {
   "cell_type": "code",
   "execution_count": 43,
   "id": "f4b168c0",
   "metadata": {},
   "outputs": [
    {
     "name": "stdout",
     "output_type": "stream",
     "text": [
      "OperatorRV(Normal(), OperatorRV(Constant(0)), OperatorRV(Constant(1)))\n"
     ]
    }
   ],
   "source": [
    "# That's unbelievably tedious.\n",
    "# Fortunately, pangolin's friendly interface allows you to do the same thing in a much easier way\n",
    "\n",
    "normal_rv = pg.normal(0, 1)\n",
    "\n",
    "print(repr(normal_rv))"
   ]
  },
  {
   "cell_type": "code",
   "execution_count": 15,
   "id": "ffbb0781",
   "metadata": {},
   "outputs": [
    {
     "name": "stdout",
     "output_type": "stream",
     "text": [
      "OperatorRV(Normal(), OperatorRV(Constant(0)), OperatorRV(Constant(1)))\n",
      "normal(0, 1)\n"
     ]
    }
   ],
   "source": [
    "# If you use repr(rv) then you get the full explicit representation as shown above\n",
    "# If you do str(rv), you get a friendlier-looking math-like notation\n",
    "\n",
    "print(repr(normal_rv))\n",
    "print(str(normal_rv))"
   ]
  },
  {
   "cell_type": "code",
   "execution_count": 26,
   "id": "62a7d2bb",
   "metadata": {},
   "outputs": [
    {
     "name": "stdout",
     "output_type": "stream",
     "text": [
      "RV(Add(), RV(Constant(0)), RV(Constant(2)))\n",
      "add(0, 2)\n"
     ]
    }
   ],
   "source": [
    "# Here's how you could create a RV that represents the sum of two other RVs using the low-level notation\n",
    "\n",
    "x = pg.ir.RV(pg.ir.Constant(0))\n",
    "y = pg.ir.RV(pg.ir.Constant(2))\n",
    "z = pg.ir.RV(pg.ir.Add(), x, y)\n",
    "\n",
    "print(repr(z))\n",
    "print(z)"
   ]
  },
  {
   "cell_type": "code",
   "execution_count": 27,
   "id": "34ac4589",
   "metadata": {},
   "outputs": [
    {
     "name": "stdout",
     "output_type": "stream",
     "text": [
      "OperatorRV(Add(), OperatorRV(Constant(0)), OperatorRV(Constant(2)))\n",
      "add(0, 2)\n"
     ]
    }
   ],
   "source": [
    "# And here's how you can do the same thing using the friendly interface\n",
    "\n",
    "x = pg.makerv(0)\n",
    "y = pg.makerv(2)\n",
    "z = pg.add(x,y)\n",
    "\n",
    "print(repr(z))\n",
    "print(z)"
   ]
  },
  {
   "cell_type": "code",
   "execution_count": 28,
   "id": "104b6fbf",
   "metadata": {},
   "outputs": [
    {
     "name": "stdout",
     "output_type": "stream",
     "text": [
      "OperatorRV(Add(), OperatorRV(Constant(0)), OperatorRV(Constant(2)))\n",
      "add(0, 2)\n"
     ]
    }
   ],
   "source": [
    "# But it's still annoying to write pg.add.\n",
    "# Fortunately, OperatorRV's have operator overloading. So you can instead just do this:\n",
    "\n",
    "x = pg.makerv(0)\n",
    "y = pg.makerv(2)\n",
    "z = x + y\n",
    "\n",
    "print(repr(z))\n",
    "print(z)"
   ]
  },
  {
   "cell_type": "code",
   "execution_count": 49,
   "id": "bfd575a4",
   "metadata": {},
   "outputs": [
    {
     "name": "stdout",
     "output_type": "stream",
     "text": [
      "OperatorRV(Constant([1,2,3]))\n",
      "[1 2 3]\n"
     ]
    }
   ],
   "source": [
    "# In pangolin, you can create constants that are vectors or matrices, etc.\n",
    "\n",
    "z = pg.makerv([1,2,3])\n",
    "\n",
    "print(repr(z))\n",
    "print(z)"
   ]
  },
  {
   "cell_type": "code",
   "execution_count": 50,
   "id": "82ce10be",
   "metadata": {},
   "outputs": [
    {
     "name": "stdout",
     "output_type": "stream",
     "text": [
      "OperatorRV(MatMul(), OperatorRV(Constant([[2,1],[0,3]])), OperatorRV(Constant([3,-3])))\n",
      "MatMul()([[2 1] [0 3]], [ 3 -3])\n"
     ]
    }
   ],
   "source": [
    "# Pangolin also allows you to work with vectors or matrices, and supports matrix multiplication and all that kind of stuff\n",
    "\n",
    "x = pg.makerv([[2,1],[0,3]])\n",
    "y = pg.makerv([3,-3])\n",
    "z = x @ y\n",
    "\n",
    "print(repr(z))\n",
    "print(z)"
   ]
  },
  {
   "cell_type": "code",
   "execution_count": 64,
   "id": "2665796e",
   "metadata": {},
   "outputs": [
    {
     "name": "stdout",
     "output_type": "stream",
     "text": [
      "RV(VMap(Normal(), (0, 0)), RV(Constant([0,1,2])), RV(Constant([3,4,5])))\n",
      "vmap(normal, (0, 0))([0 1 2], [3 4 5])\n",
      "shape | statement\n",
      "----- | ---------\n",
      "(3,)  | a = [0 1 2]\n",
      "(3,)  | b = [3 4 5]\n",
      "(3,)  | c ~ vmap(normal, (0, 0))(a,b)\n"
     ]
    }
   ],
   "source": [
    "# How would you create a diagonal normal distribution?\n",
    "# in pangolin, pg.ir.Normal represents a scalar distribution ONLY\n",
    "# if you want a vectorized distribution, you need to \"vmap\" it\n",
    "# here's how you'd do that in the raw IR\n",
    "\n",
    "vectorized_normal = pg.ir.VMap(pg.ir.Normal(), (0, 0)) # (0,0) means vectorize loc and scale\n",
    "loc = pg.ir.RV(pg.ir.Constant([0,1,2]))\n",
    "scale = pg.ir.RV(pg.ir.Constant([3,4,5]))\n",
    "z = pg.ir.RV(vectorized_normal, loc, scale)\n",
    "\n",
    "print(repr(z))\n",
    "print(z)\n",
    "pg.print_upstream(z)"
   ]
  },
  {
   "cell_type": "code",
   "execution_count": 66,
   "id": "fb89d4b4",
   "metadata": {},
   "outputs": [
    {
     "name": "stdout",
     "output_type": "stream",
     "text": [
      "OperatorRV(VMap(Normal(), (0, 0), 3), OperatorRV(Constant([0,1,2])), OperatorRV(Constant([3,4,5])))\n",
      "vmap(normal, (0, 0), 3)([0 1 2], [3 4 5])\n",
      "shape | statement\n",
      "----- | ---------\n",
      "(3,)  | a = [0 1 2]\n",
      "(3,)  | b = [3 4 5]\n",
      "(3,)  | c ~ vmap(normal, (0, 0), 3)(a,b)\n"
     ]
    }
   ],
   "source": [
    "# And here's how you'd do that in a convenient way\n",
    "\n",
    "loc = pg.makerv([0,1,2])\n",
    "scale = pg.makerv([3,4,5])\n",
    "\n",
    "z = pg.vmap(pg.normal)(loc, scale)\n",
    "\n",
    "print(repr(z))\n",
    "print(z)\n",
    "pg.print_upstream(z)"
   ]
  },
  {
   "cell_type": "code",
   "execution_count": 68,
   "id": "32f5f760",
   "metadata": {},
   "outputs": [
    {
     "name": "stdout",
     "output_type": "stream",
     "text": [
      "RV(VMap(Add(), (0, 0)), RV(Constant([0,1,2])), RV(Constant([3,4,5])))\n",
      "vmap(add, (0, 0))([0 1 2], [3 4 5])\n",
      "shape | statement\n",
      "----- | ---------\n",
      "(3,)  | a = [0 1 2]\n",
      "(3,)  | b = [3 4 5]\n",
      "(3,)  | c = vmap(add, (0, 0))(a,b)\n"
     ]
    }
   ],
   "source": [
    "# The same thing is true for addition. pg.ir.Add() only adds scalars.\n",
    "# But you can vmap it to add vectors.\n",
    "# Here's how you'd do that in a very explicit way\n",
    "\n",
    "vectorized_add = pg.ir.VMap(pg.ir.Add(), (0, 0))\n",
    "x = pg.ir.RV(pg.ir.Constant([0,1,2]))\n",
    "y = pg.ir.RV(pg.ir.Constant([3,4,5]))\n",
    "z = pg.ir.RV(vectorized_add, x, y)\n",
    "\n",
    "print(repr(z))\n",
    "print(z)\n",
    "pg.print_upstream(z)"
   ]
  },
  {
   "cell_type": "code",
   "execution_count": 71,
   "id": "9625a482",
   "metadata": {},
   "outputs": [
    {
     "name": "stdout",
     "output_type": "stream",
     "text": [
      "OperatorRV(VMap(Add(), (0, 0), 3), OperatorRV(Constant([0,1,2])), OperatorRV(Constant([3,4,5])))\n",
      "vmap(add, (0, 0), 3)([0 1 2], [3 4 5])\n",
      "shape | statement\n",
      "----- | ---------\n",
      "(3,)  | a = [0 1 2]\n",
      "(3,)  | b = [3 4 5]\n",
      "(3,)  | c = vmap(add, (0, 0), 3)(a,b)\n"
     ]
    }
   ],
   "source": [
    "# As always, directly writing in the IR is very tedious\n",
    "# Here's how you could do that using the friendly interface\n",
    "\n",
    "vectorized_add = pg.vmap(pg.add, (0, 0))\n",
    "x = pg.makerv([0,1,2])\n",
    "y = pg.makerv([3,4,5])\n",
    "z = vectorized_add(x, y)\n",
    "\n",
    "print(repr(z))\n",
    "print(z)\n",
    "pg.print_upstream(z)"
   ]
  },
  {
   "cell_type": "code",
   "execution_count": 73,
   "id": "c3e09b46",
   "metadata": {},
   "outputs": [
    {
     "name": "stdout",
     "output_type": "stream",
     "text": [
      "OperatorRV(VMap(Add(), (0, 0), 3), OperatorRV(Constant([0,1,2])), OperatorRV(Constant([3,4,5])))\n",
      "vmap(add, (0, 0), 3)([0 1 2], [3 4 5])\n",
      "shape | statement\n",
      "----- | ---------\n",
      "(3,)  | a = [0 1 2]\n",
      "(3,)  | b = [3 4 5]\n",
      "(3,)  | c = vmap(add, (0, 0), 3)(a,b)\n"
     ]
    }
   ],
   "source": [
    "# Alternatively (and much simpler), if you simply do x+y when x and y are vectors, pangolin will do the vmapping for you\n",
    "\n",
    "x = pg.makerv([0,1,2])\n",
    "y = pg.makerv([3,4,5])\n",
    "z = x + y\n",
    "\n",
    "print(repr(z))\n",
    "print(z)\n",
    "pg.print_upstream(z)"
   ]
  },
  {
   "cell_type": "code",
   "execution_count": 74,
   "id": "be37bd60",
   "metadata": {},
   "outputs": [
    {
     "name": "stdout",
     "output_type": "stream",
     "text": [
      "Got exception!\n",
      "AssertionError('can only vectorize scalars + arrays of same shape')\n"
     ]
    }
   ],
   "source": [
    "# Unlike in NumPy, pangolin does not support arbitrary broadcasting, as it is considered too error-prone.\n",
    "# So, for example, you can't add a 2x2 matrix to a length-2 vector.\n",
    "\n",
    "x = pg.makerv([[2,1],[0,3]])\n",
    "y = pg.makerv([[3,-3]])\n",
    "try:\n",
    "    z = x + y\n",
    "except Exception as e:\n",
    "    print(\"Got exception!\")\n",
    "    print(repr(e))"
   ]
  }
 ],
 "metadata": {
  "kernelspec": {
   "display_name": "Python 3",
   "language": "python",
   "name": "python3"
  },
  "language_info": {
   "codemirror_mode": {
    "name": "ipython",
    "version": 3
   },
   "file_extension": ".py",
   "mimetype": "text/x-python",
   "name": "python",
   "nbconvert_exporter": "python",
   "pygments_lexer": "ipython3",
   "version": "3.11.5"
  }
 },
 "nbformat": 4,
 "nbformat_minor": 5
}
