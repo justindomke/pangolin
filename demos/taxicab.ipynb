{
 "cells": [
  {
   "cell_type": "markdown",
   "source": [
    "Let's solve the famous [taxicab problem](https://en.wikipedia.org/wiki/Representativeness_heuristic#The_taxicab_problem).\n",
    "\n",
    "As originally stated by Tversky and Kahneman it goes like this:\n",
    "\n",
    "* A cab was involved in a hit and run accident at night. Two cab companies, the Green and the\n",
    "Blue operate in the city. 85% of the cabs in the city are Green and 15% are Blue.\n",
    "* A witness identified the cab as Blue. The court tested the reliability of the witness under the\n",
    " same circumstances that existed on the night of the accident and  concluded that the witness\n",
    " correctly identified each one of the two colours 80% of the time and failed 20% of the time.\n",
    "* What is the probability that the cab involved in the accident was Blue rather than Green knowing that this witness identified it as Blue?\n",
    "\n",
    "The true answer is around 41% — roughly speaking because the base rate of 85% is more informative\n",
    " than the likelihood of 80%.\n",
    "\n",
    "More formally:\n",
    "\n",
    "$P(\\text{TrueCompany}=\\mathrm{blue} \\vert \\text{WitnessCompany}=\\mathrm{blue}) = \\frac{.15 \\times\n",
    ".8}{.85 \\times .2 + .15 \\times\n",
    ".8)}\n",
    "\\approx .4138$\n",
    "\n",
    "The code for this in Pangolin is barely more complicated than the math."
   ],
   "metadata": {
    "collapsed": false
   }
  },
  {
   "cell_type": "code",
   "execution_count": 4,
   "outputs": [
    {
     "name": "stdout",
     "output_type": "stream",
     "text": [
      "prob_blue=Array(0.4161, dtype=float32)\n"
     ]
    }
   ],
   "source": [
    "import pangolin as pg\n",
    "# 0 means green, 1 means blue\n",
    "true_company = pg.bernoulli(0.15)\n",
    "witness_company = pg.bernoulli(0.8 * true_company + 0.2 * (1-true_company))\n",
    "prob_blue = pg.E(true_company, witness_company, 1)\n",
    "print(f\"{prob_blue=}\")"
   ],
   "metadata": {
    "collapsed": false
   }
  },
  {
   "cell_type": "markdown",
   "source": [
    "For the sake of comparison, what's the easiest way of doing this in Numpyro, Tensorflow\n",
    "Probability, PyMC, or JAGS?"
   ],
   "metadata": {
    "collapsed": false
   }
  },
  {
   "cell_type": "code",
   "execution_count": 2,
   "outputs": [
    {
     "name": "stderr",
     "output_type": "stream",
     "text": [
      "sample: 100%|██████████| 2000/2000 [00:02<00:00, 695.76it/s, 20 steps of size 3.40e+38. acc. prob=1.00] \n"
     ]
    },
    {
     "data": {
      "text/plain": "Array(0.411, dtype=float32)"
     },
     "execution_count": 2,
     "metadata": {},
     "output_type": "execute_result"
    }
   ],
   "source": [
    "# NumPyro\n",
    "import numpyro, jax\n",
    "import numpy as np\n",
    "\n",
    "def model():\n",
    "    true_company = numpyro.sample(\"true company\",numpyro.distributions.Bernoulli(0.15))\n",
    "    witness_company = numpyro.sample(\"witness company\",numpyro.distributions.Bernoulli(0.8 *\n",
    "                                                                                       true_company + 0.2 * (1-true_company)), obs=1)\n",
    "kernel = numpyro.infer.MixedHMC(numpyro.infer.HMC(model, trajectory_length=1.2), num_discrete_updates=20)\n",
    "mcmc = numpyro.infer.MCMC(kernel, num_warmup=1000, num_samples=1000)\n",
    "mcmc.run(jax.random.PRNGKey(0))\n",
    "samps = mcmc.get_samples()['true company']\n",
    "np.mean(samps)"
   ],
   "metadata": {
    "collapsed": false
   }
  },
  {
   "cell_type": "code",
   "execution_count": null,
   "outputs": [
    {
     "data": {
      "text/plain": "Sampling 4 chains, 0 divergences \u001B[38;2;23;100;244m━━━━━━━━━━━━━━━━━━━━━━━━━━━━━━━━━━━━━\u001B[0m\u001B[38;5;237m╺\u001B[0m\u001B[38;5;237m━━\u001B[0m \u001B[35m 93%\u001B[0m \u001B[36m0:00:03\u001B[0m / \u001B[33m0:00:29\u001B[0m\n",
      "text/html": "<pre style=\"white-space:pre;overflow-x:auto;line-height:normal;font-family:Menlo,'DejaVu Sans Mono',consolas,'Courier New',monospace\">Sampling 4 chains, 0 divergences <span style=\"color: #1764f4; text-decoration-color: #1764f4\">━━━━━━━━━━━━━━━━━━━━━━━━━━━━━━━━━━━━━</span><span style=\"color: #3a3a3a; text-decoration-color: #3a3a3a\">╺━━</span> <span style=\"color: #800080; text-decoration-color: #800080\"> 93%</span> <span style=\"color: #008080; text-decoration-color: #008080\">0:00:03</span> / <span style=\"color: #808000; text-decoration-color: #808000\">0:00:29</span>\n</pre>\n"
     },
     "metadata": {},
     "output_type": "display_data"
    },
    {
     "data": {
      "text/plain": "",
      "text/html": "<pre style=\"white-space:pre;overflow-x:auto;line-height:normal;font-family:Menlo,'DejaVu Sans Mono',consolas,'Courier New',monospace\"></pre>\n"
     },
     "metadata": {},
     "output_type": "display_data"
    },
    {
     "data": {
      "text/plain": "\n",
      "text/html": "<pre style=\"white-space:pre;overflow-x:auto;line-height:normal;font-family:Menlo,'DejaVu Sans Mono',consolas,'Courier New',monospace\">\n</pre>\n"
     },
     "metadata": {},
     "output_type": "display_data"
    },
    {
     "name": "stderr",
     "output_type": "stream",
     "text": [
      "Sampling 4 chains for 1_000 tune and 1_000 draw iterations (4_000 + 4_000 draws total) took 36 seconds.\n"
     ]
    },
    {
     "data": {
      "text/plain": "0.415"
     },
     "execution_count": 3,
     "metadata": {},
     "output_type": "execute_result"
    }
   ],
   "source": [
    "# PyMC\n",
    "import pymc as pm\n",
    "with pm.Model() as model:\n",
    "    true_company = pm.Bernoulli(\"true company\",0.15)\n",
    "    witness_company = pm.Bernoulli(\"witness company\", 0.8 * true_company + 0.2 * (1-true_company), observed=1)\n",
    "with model:\n",
    "    trace = pm.sample()\n",
    "trace.posterior[\"true company\"].mean()\n",
    "\n",
    "np.mean(np.array(trace.posterior[\"true company\"]))"
   ],
   "metadata": {
    "collapsed": false,
    "pycharm": {
     "is_executing": true
    }
   }
  },
  {
   "cell_type": "code",
   "execution_count": 4,
   "outputs": [],
   "source": [
    "# Tensorflow probability... just trying to install this is typical Google hell.\n",
    "# from tensorflow_probability.substrates import jax as tfp\n",
    "# tfd = tfp.distributions\n",
    "#\n",
    "# Root = tfd.JointDistributionCoroutine.Root\n",
    "# def model():\n",
    "#     true_company = yield Root(tfd.Sample(tfd.Bernoulli(0.15)))\n",
    "#     witness_company = yield Root(tfd.Sample(tfd.Bernoulli(0.8 * true_company + 0.2 *\n",
    "#                                                          (1-true_company))))\n",
    "#"
   ],
   "metadata": {
    "collapsed": false
   }
  },
  {
   "cell_type": "code",
   "execution_count": null,
   "outputs": [],
   "source": [],
   "metadata": {
    "collapsed": false
   }
  }
 ],
 "metadata": {
  "kernelspec": {
   "display_name": "Python 3",
   "language": "python",
   "name": "python3"
  },
  "language_info": {
   "codemirror_mode": {
    "name": "ipython",
    "version": 2
   },
   "file_extension": ".py",
   "mimetype": "text/x-python",
   "name": "python",
   "nbconvert_exporter": "python",
   "pygments_lexer": "ipython2",
   "version": "2.7.6"
  }
 },
 "nbformat": 4,
 "nbformat_minor": 0
}
