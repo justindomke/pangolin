{
 "cells": [
  {
   "cell_type": "code",
   "execution_count": 1,
   "outputs": [],
   "source": [
    "from pangolin import normal_scale, bernoulli, binomial, add, exp, matmul, multi_normal_cov, VMapDist, Constant, RV, makerv, vmap, plate, Index, print_upstream, viz_upstream, loops, LogProb\n",
    "import numpy as np"
   ],
   "metadata": {
    "collapsed": false
   }
  },
  {
   "cell_type": "markdown",
   "source": [
    "# How pangolin works\n",
    "\n",
    "The purpose of this document is to explain how pangolin works \"under the hood\". This is more intended for people interested in extending pangolin or than for end users who just want to do some probabilistic inference and get some answers. (Though it might be useful for them, too.)"
   ],
   "metadata": {
    "collapsed": false
   }
  },
  {
   "cell_type": "markdown",
   "source": [
    "## CondDists\n",
    "\n",
    "There are two main types in pangolin. The first is the conditional distribution or `CondDist`. Some `CondDist` objects are built in:"
   ],
   "metadata": {
    "collapsed": false
   }
  },
  {
   "cell_type": "code",
   "execution_count": 2,
   "outputs": [
    {
     "data": {
      "text/plain": "normal_scale"
     },
     "execution_count": 2,
     "metadata": {},
     "output_type": "execute_result"
    }
   ],
   "source": [
    "normal_scale"
   ],
   "metadata": {
    "collapsed": false
   }
  },
  {
   "cell_type": "code",
   "execution_count": 3,
   "outputs": [
    {
     "data": {
      "text/plain": "binomial"
     },
     "execution_count": 3,
     "metadata": {},
     "output_type": "execute_result"
    }
   ],
   "source": [
    "binomial"
   ],
   "metadata": {
    "collapsed": false
   }
  },
  {
   "cell_type": "code",
   "execution_count": 4,
   "outputs": [
    {
     "data": {
      "text/plain": "add"
     },
     "execution_count": 4,
     "metadata": {},
     "output_type": "execute_result"
    }
   ],
   "source": [
    "add"
   ],
   "metadata": {
    "collapsed": false
   }
  },
  {
   "cell_type": "code",
   "execution_count": 5,
   "outputs": [
    {
     "data": {
      "text/plain": "matmul"
     },
     "execution_count": 5,
     "metadata": {},
     "output_type": "execute_result"
    }
   ],
   "source": [
    "matmul"
   ],
   "metadata": {
    "collapsed": false
   }
  },
  {
   "cell_type": "markdown",
   "source": [
    "While all of these are formally considered \"conditional distributions\", only some of them are \"random\"."
   ],
   "metadata": {
    "collapsed": false
   }
  },
  {
   "cell_type": "code",
   "execution_count": 6,
   "outputs": [
    {
     "name": "stdout",
     "output_type": "stream",
     "text": [
      "normal_scale.random=True\n",
      "binomial.random=True\n",
      "add.random=False\n",
      "matmul.random=False\n"
     ]
    }
   ],
   "source": [
    "print(f\"{normal_scale.random=}\")\n",
    "print(f\"{binomial.random=}\")\n",
    "print(f\"{add.random=}\")\n",
    "print(f\"{matmul.random=}\")"
   ],
   "metadata": {
    "collapsed": false
   }
  },
  {
   "cell_type": "markdown",
   "source": [
    "There are two points to emphasize about these. First, they are *conditional* distributions. `binomial` doesn't have, for example, a mean or variance because those depend on the parameters, which are not part of the `CondDist` object.\n",
    "\n",
    "Second, for the most part `CondDist`s don't \"do\" anything. Their job is to *represent* stuff, no do stuff. So, for example, there is no method in pangolin like `normal_scale.log_prob` or `normal_scale.sample`.\n",
    "\n",
    "The main exception to this is that a conditional distribution need to be able to compute the shape of the output from the shapes for the parents. (This is done so that shape checks can be done when connecting `CondDist`s together via `RV`s; more on that later.)"
   ],
   "metadata": {
    "collapsed": false
   }
  },
  {
   "cell_type": "code",
   "execution_count": 7,
   "outputs": [
    {
     "data": {
      "text/plain": "()"
     },
     "execution_count": 7,
     "metadata": {},
     "output_type": "execute_result"
    }
   ],
   "source": [
    "binomial.get_shape((),())"
   ],
   "metadata": {
    "collapsed": false
   }
  },
  {
   "cell_type": "markdown",
   "source": [
    "This result means that if both of the parameters of a binomial distribution are scalars (with shape `()`) then the output of the distribution will also be a scalar.\n",
    "\n",
    "If you try to call this function with vector shapes, it will complain:"
   ],
   "metadata": {
    "collapsed": false
   }
  },
  {
   "cell_type": "code",
   "execution_count": 8,
   "outputs": [
    {
     "name": "stdout",
     "output_type": "stream",
     "text": [
      "Got exception: all parents must have shape ()\n"
     ]
    }
   ],
   "source": [
    "try:\n",
    "    binomial.get_shape((3,),(3,)) # bad call, error expected\n",
    "except Exception as e:\n",
    "        print(\"Got exception:\", e)"
   ],
   "metadata": {
    "collapsed": false
   }
  },
  {
   "cell_type": "markdown",
   "source": [
    "This doesn't work because Pangolin does not believe in \"broadcasting\" over dimensions when calling distributions. While broadcasting is very convenient in simple situations, it quickly becomes very confusing, and is a common source of bugs. In Pangolin, a binomial distribution has two scalar parameters, end of story. (If you want vectorized distributions, use `vmap`; more on that later.)\n",
    "\n",
    "The reason that there's a *function* `get_shape` as opposed to a field `shape` is that for some distributions, the shape of the outputs depends on the shapes of the inputs."
   ],
   "metadata": {
    "collapsed": false
   }
  },
  {
   "cell_type": "code",
   "execution_count": 9,
   "outputs": [
    {
     "name": "stdout",
     "output_type": "stream",
     "text": [
      "multi_normal_cov.get_shape((2,),(2,2))=(2,)\n",
      "multi_normal_cov.get_shape((3,),(3,3))=(3,)\n"
     ]
    }
   ],
   "source": [
    "print(f\"{multi_normal_cov.get_shape((2,),(2,2))=}\")\n",
    "print(f\"{multi_normal_cov.get_shape((3,),(3,3))=}\")"
   ],
   "metadata": {
    "collapsed": false
   }
  },
  {
   "cell_type": "markdown",
   "source": [
    "Again, these distributions check that the input dimensions make sense, and will complain if they don't."
   ],
   "metadata": {
    "collapsed": false
   }
  },
  {
   "cell_type": "code",
   "execution_count": 10,
   "outputs": [
    {
     "name": "stdout",
     "output_type": "stream",
     "text": [
      "Got exception: second parameter must be matrix with size matching first parameter\n"
     ]
    }
   ],
   "source": [
    "try:\n",
    "    multi_normal_cov.get_shape((3,),(2,2)) # bad call, error expected\n",
    "except Exception as e:\n",
    "    print(\"Got exception:\", e)"
   ],
   "metadata": {
    "collapsed": false
   }
  },
  {
   "cell_type": "markdown",
   "source": [
    "There are also `CondDist` *classes*, where the user will create particular `CondDist` instances themselves. The simplest of these is the `Constant` class."
   ],
   "metadata": {
    "collapsed": false
   }
  },
  {
   "cell_type": "code",
   "execution_count": 11,
   "outputs": [
    {
     "name": "stdout",
     "output_type": "stream",
     "text": [
      "dist=Constant(1)\n",
      "dist.get_shape()=()\n"
     ]
    }
   ],
   "source": [
    "dist = Constant(1)\n",
    "print(f\"{dist=}\")\n",
    "print(f\"{dist.get_shape()=}\")"
   ],
   "metadata": {
    "collapsed": false
   }
  },
  {
   "cell_type": "code",
   "execution_count": 12,
   "outputs": [
    {
     "name": "stdout",
     "output_type": "stream",
     "text": [
      "dist=Constant([1.1,2.2,3.3])\n",
      "dist.get_shape()=(3,)\n"
     ]
    }
   ],
   "source": [
    "dist = Constant([1.1,2.2,3.3])\n",
    "print(f\"{dist=}\")\n",
    "print(f\"{dist.get_shape()=}\")"
   ],
   "metadata": {
    "collapsed": false
   }
  },
  {
   "cell_type": "code",
   "execution_count": 13,
   "outputs": [
    {
     "name": "stdout",
     "output_type": "stream",
     "text": [
      "dist=Constant([[0.17804166,0.14070548,-0.75724182],[0.63171971,0.04447245,0.11479228]])\n",
      "dist.get_shape()=(2, 3)\n"
     ]
    }
   ],
   "source": [
    "dist = Constant(np.random.randn(2,3))\n",
    "print(f\"{dist=}\")\n",
    "print(f\"{dist.get_shape()=}\")"
   ],
   "metadata": {
    "collapsed": false
   }
  },
  {
   "cell_type": "markdown",
   "source": [
    "Another of these is the `Index` class, used to select components from some higher-dimensional distribution."
   ],
   "metadata": {
    "collapsed": false
   }
  },
  {
   "cell_type": "markdown",
   "source": [
    "# RVs\n",
    "\n",
    "The second main type in pangolin is the random variable or `RV`. A random variable just has two fields:\n",
    "\n",
    "1. A `CondDist`—the conditional distribution defining that random variable.\n",
    "2. A tuple of parents, each of which are also `RV`s.\n",
    "\n",
    "Here's a simple example"
   ],
   "metadata": {
    "collapsed": false
   }
  },
  {
   "cell_type": "code",
   "execution_count": 14,
   "outputs": [
    {
     "name": "stdout",
     "output_type": "stream",
     "text": [
      "x=RV(Constant(1))\n"
     ]
    }
   ],
   "source": [
    "x = RV(Constant(1))\n",
    "print(f\"{x=}\")"
   ],
   "metadata": {
    "collapsed": false
   }
  },
  {
   "cell_type": "markdown",
   "source": [
    "Here's another example:"
   ],
   "metadata": {
    "collapsed": false
   }
  },
  {
   "cell_type": "code",
   "execution_count": 15,
   "outputs": [
    {
     "name": "stdout",
     "output_type": "stream",
     "text": [
      "x=RV(normal_scale, parents=[RV(Constant(0.)),RV(Constant(1.))])\n"
     ]
    }
   ],
   "source": [
    "loc = RV(Constant(0.0))\n",
    "scale = RV(Constant(1.0))\n",
    "x = RV(normal_scale,loc,scale)\n",
    "print(f\"{x=}\")"
   ],
   "metadata": {
    "collapsed": false
   }
  },
  {
   "cell_type": "markdown",
   "source": [
    "**Always be careful to distinguish `RV`s from `CondDist`s.** It's easy to confuse `RV(Constant(1))` with `Constant(1)`, but these are not the same thing.\n",
    "\n",
    "In Pangolin, there is no special \"model\" class. You just create collections of RVs that represent probability distributions and then you work with them directly."
   ],
   "metadata": {
    "collapsed": false
   }
  },
  {
   "cell_type": "markdown",
   "source": [
    "# How users are actually expected to create RVs\n",
    "\n",
    "Pangolin has a bunch of convenience features that make it easier to create `RV`s. One of these is that if `dist` is some `CondDist`, then `dist(a,b,c)` is equivalent to `RV(dist,a,b,c)`. This makes creating distributions easier."
   ],
   "metadata": {
    "collapsed": false
   }
  },
  {
   "cell_type": "code",
   "execution_count": 16,
   "outputs": [
    {
     "name": "stdout",
     "output_type": "stream",
     "text": [
      "x=RV(normal_scale, parents=[RV(Constant(0.)),RV(Constant(1.))])\n",
      "y=RV(normal_scale, parents=[RV(Constant(0.)),RV(Constant(1.))])\n"
     ]
    }
   ],
   "source": [
    "x = RV(normal_scale, RV(Constant(0.0)), RV(Constant(1.0)))\n",
    "print(f\"{x=}\")\n",
    "y = normal_scale(RV(Constant(0.0)), RV(Constant(1.0)))\n",
    "print(f\"{y=}\")"
   ],
   "metadata": {
    "collapsed": false
   }
  },
  {
   "cell_type": "markdown",
   "source": [
    "Another is the function `makerv`. All this does is check if the input is a `RV`. If it is, then it returns the input unchanged. If it is not, then it tries to cast the input into a RV with a Constant CondDist."
   ],
   "metadata": {
    "collapsed": false
   }
  },
  {
   "cell_type": "code",
   "execution_count": 17,
   "outputs": [
    {
     "name": "stdout",
     "output_type": "stream",
     "text": [
      "x=RV(bernoulli, parents=[RV(Constant(0.5))])\n",
      "makerv(x)=RV(bernoulli, parents=[RV(Constant(0.5))])\n",
      "makerv(1)=RV(Constant(1))\n"
     ]
    }
   ],
   "source": [
    "x = RV(bernoulli, RV(Constant(0.5)))\n",
    "print(f\"{x=}\")\n",
    "print(f\"{makerv(x)=}\")\n",
    "print(f\"{makerv(1)=}\")"
   ],
   "metadata": {
    "collapsed": false
   }
  },
  {
   "cell_type": "markdown",
   "source": [
    "The second major convenience feature is that when a `CondDist` is called on some inputs, `makerv` is called on each of those inputs first. So, actually, `dist(a,b,c)` is equivalent to `dist(makerv(a),makerv(b),makerv(c))`. This allows you to create `RV`s with a much more natural syntax:"
   ],
   "metadata": {
    "collapsed": false
   }
  },
  {
   "cell_type": "code",
   "execution_count": 18,
   "outputs": [
    {
     "name": "stdout",
     "output_type": "stream",
     "text": [
      "x=RV(normal_scale, parents=[RV(Constant(0)),RV(Constant(1))])\n",
      "y=RV(normal_scale, parents=[RV(Constant(0)),RV(Constant(1))])\n"
     ]
    }
   ],
   "source": [
    "# doing things the hard way\n",
    "loc = RV(Constant(0))\n",
    "scale = RV(Constant(1))\n",
    "x = RV(normal_scale,loc,scale)\n",
    "\n",
    "# doing things the easy way, 100% equivalent\n",
    "y = normal_scale(0, 1)\n",
    "\n",
    "print(f\"{x=}\")\n",
    "print(f\"{y=}\")"
   ],
   "metadata": {
    "collapsed": false
   }
  },
  {
   "cell_type": "markdown",
   "source": [
    "A user of Pangolin is expected to basically *always* create `RV`s by calling `CondDist`s (or sometimes other functions) on other `RV`s. But it's important to remember what's happening under the hood: Really, all these operations do is build a graph that represents some joint probability distribution."
   ],
   "metadata": {
    "collapsed": false
   }
  },
  {
   "cell_type": "markdown",
   "source": [
    "# Printing\n",
    "\n",
    "For examining models, pangolin provides `print_upstream` which prints the model in a sequential way."
   ],
   "metadata": {
    "collapsed": false
   }
  },
  {
   "cell_type": "code",
   "execution_count": 19,
   "outputs": [
    {
     "name": "stdout",
     "output_type": "stream",
     "text": [
      "shape | statement\n",
      "----- | ---------\n",
      "()    | a = 0\n",
      "()    | b = 1\n",
      "()    | c ~ normal_scale(a,b)\n",
      "()    | d = 1\n",
      "()    | e ~ normal_scale(c,d)\n",
      "()    | f = 1\n",
      "()    | g ~ normal_scale(c,f)\n",
      "()    | h = 1\n",
      "()    | i ~ normal_scale(c,h)\n"
     ]
    }
   ],
   "source": [
    "z = normal_scale(0,1)\n",
    "x = [normal_scale(z,1) for i in range(3)]\n",
    "print_upstream(x)"
   ],
   "metadata": {
    "collapsed": false
   }
  },
  {
   "cell_type": "markdown",
   "source": [
    "Note that this printing process doesn't use the python variable names for the different `RV`s. This is a deliberate choice—in Pangolin's internal representation, `RV`s do not *have* names. This doesn't pose much of a problem. Sometimes variables don't have names in Python, and sometimes they do. Either way, you can easily reference the RV by reference. So, in the above example, you can use `z` to refer to `z`. And you can use `x[2]` to refer to the last sampled variable."
   ],
   "metadata": {
    "collapsed": false
   }
  },
  {
   "cell_type": "markdown",
   "source": [
    "Pangolin also provides `viz_upstream` which uses graphviz to lay out the model as a graph."
   ],
   "metadata": {
    "collapsed": false
   }
  },
  {
   "cell_type": "code",
   "execution_count": 20,
   "outputs": [
    {
     "data": {
      "image/png": "[encoded data removed]",
      "text/plain": "<graphviz.graphs.Digraph at 0x14fe06810>"
     },
     "execution_count": 20,
     "metadata": {},
     "output_type": "execute_result"
    }
   ],
   "source": [
    "viz_upstream(x)"
   ],
   "metadata": {
    "collapsed": false
   }
  },
  {
   "cell_type": "markdown",
   "source": [
    "If you like, you can provide a list of observed variables to `viz_upstream` and these will be colored."
   ],
   "metadata": {
    "collapsed": false
   }
  },
  {
   "cell_type": "code",
   "execution_count": 21,
   "outputs": [
    {
     "data": {
      "image/png": "[encoded data removed]",
      "text/plain": "<graphviz.graphs.Digraph at 0x14fe3ef00>"
     },
     "execution_count": 21,
     "metadata": {},
     "output_type": "execute_result"
    }
   ],
   "source": [
    "viz_upstream(x,x)"
   ],
   "metadata": {
    "collapsed": false
   }
  },
  {
   "cell_type": "markdown",
   "source": [
    "A user of Pangolin is expected to basically *always* create `RV`s by calling `CondDist`s (or sometimes other functions) on other `RV`s. But it's important to remember what's happening under the hood: Really, all these operations do is build a graph that represents some joint probability distribution."
   ],
   "metadata": {
    "collapsed": false
   }
  },
  {
   "cell_type": "markdown",
   "source": [
    "# vmap\n",
    "\n",
    "One special type of `CondDist` is the `VMapDist`. This takes one `CondDist` and makes a higher dimensional version of it. It takes three arguments:\n",
    "* The base `CondDist`\n",
    "* A tuple of which dimension of the input parameters to vectorize over (None if None)\n",
    "* An axis_size (default of None)\n",
    "\n",
    "The axis size is optional and will be inferred from the shapes of the input parameters unless no dimensions are vectorized. In that case it is required."
   ],
   "metadata": {
    "collapsed": false
   }
  },
  {
   "cell_type": "code",
   "execution_count": 22,
   "outputs": [
    {
     "name": "stdout",
     "output_type": "stream",
     "text": [
      "diag_normal.get_shape((3,),(3,))=(3,)\n"
     ]
    }
   ],
   "source": [
    "diag_normal = VMapDist(normal_scale, (0, 0))\n",
    "print(f\"{diag_normal.get_shape((3,),(3,))=}\")"
   ],
   "metadata": {
    "collapsed": false
   }
  },
  {
   "cell_type": "code",
   "execution_count": 23,
   "outputs": [
    {
     "name": "stdout",
     "output_type": "stream",
     "text": [
      "isotropic_normal.get_shape((3,),())=(3,)\n"
     ]
    }
   ],
   "source": [
    "isotropic_normal = VMapDist(normal_scale, (0,None))\n",
    "print(f\"{isotropic_normal.get_shape((3,),())=}\")"
   ],
   "metadata": {
    "collapsed": false
   }
  },
  {
   "cell_type": "code",
   "execution_count": 24,
   "outputs": [
    {
     "name": "stdout",
     "output_type": "stream",
     "text": [
      "iid_normal.get_shape((),())=(3,)\n"
     ]
    }
   ],
   "source": [
    "iid_normal = VMapDist(normal_scale, (None,None), 3)\n",
    "print(f\"{iid_normal.get_shape((),())=}\")"
   ],
   "metadata": {
    "collapsed": false
   }
  },
  {
   "cell_type": "markdown",
   "source": [
    "In principle, you could just manually create `VMapDist`s like this and build arbitrary distributions this way. However, it would quickly becomes very tedious:"
   ],
   "metadata": {
    "collapsed": false
   }
  },
  {
   "cell_type": "code",
   "execution_count": 25,
   "outputs": [
    {
     "name": "stdout",
     "output_type": "stream",
     "text": [
      "shape | statement\n",
      "----- | ---------\n",
      "(2,)  | a = [0 1]\n",
      "(2,)  | b = [2 3]\n",
      "(2,)  | c ~ vmap(None, [0, 0], normal_scale)(a,b)\n",
      "(2,)  | d = [4 5]\n",
      "(2,)  | e = [6 7]\n",
      "(2,)  | f ~ vmap(None, [0, 0], normal_scale)(d,e)\n",
      "(2,)  | g = vmap(None, [0], exp)(f  )\n",
      "(2,)  | h ~ vmap(None, [0, 0], normal_scale)(c,g)\n"
     ]
    }
   ],
   "source": [
    "diag_normal = VMapDist(normal_scale,[0,0])\n",
    "x = diag_normal([0,1],[2,3])\n",
    "y = diag_normal([4,5],[6,7])\n",
    "vec_exp = VMapDist(exp,(0,))\n",
    "z = vec_exp(y)\n",
    "u = diag_normal(x,z)\n",
    "\n",
    "print_upstream(u)"
   ],
   "metadata": {
    "collapsed": false
   }
  },
  {
   "cell_type": "markdown",
   "source": [
    "Instead, the `vmap` function is provided that will do almost all of this work for you."
   ],
   "metadata": {
    "collapsed": false
   }
  },
  {
   "cell_type": "code",
   "execution_count": 26,
   "outputs": [
    {
     "name": "stdout",
     "output_type": "stream",
     "text": [
      "shape | statement\n",
      "----- | ---------\n",
      "(2,)  | a = [0 1]\n",
      "(2,)  | b = [2 2]\n",
      "(2,)  | c ~ vmap(2, [0, 0], normal_scale)(a,b)\n",
      "(2,)  | d = [3 4]\n",
      "(2,)  | e = [5 5]\n",
      "(2,)  | f ~ vmap(2, [0, 0], normal_scale)(d,e)\n",
      "(2,)  | g = vmap(2, [0], exp)(f  )\n",
      "(2,)  | h ~ vmap(2, [0, 0], normal_scale)(c,g)\n"
     ]
    }
   ],
   "source": [
    "def scalar_dist(xi_mean,xi_scale,yi_mean,yi_scale):\n",
    "    xi = normal_scale(xi_mean,xi_scale)\n",
    "    yi = normal_scale(yi_mean,yi_scale)\n",
    "    return normal_scale(xi,exp(yi))\n",
    "\n",
    "x_mean = makerv([0,1])\n",
    "x_scale = makerv([2,2])\n",
    "y_mean = makerv([3,4])\n",
    "y_scale = makerv([5,5])\n",
    "u = vmap(scalar_dist)(x_mean,x_scale,y_mean,y_scale)\n",
    "\n",
    "print_upstream(u)"
   ],
   "metadata": {
    "collapsed": false
   }
  },
  {
   "cell_type": "markdown",
   "source": [
    "`vmap` follows the syntax of [`jax.vmap`](https://jax.readthedocs.io/en/latest/_autosummary/jax.vmap.html) exactly, except it does not (currently) support the `out_axes`, `axis_name`, or `spmd_axis_name` arguments."
   ],
   "metadata": {
    "collapsed": false
   }
  },
  {
   "cell_type": "markdown",
   "source": [
    "We can use a second `in_axes` argument to only vectorize over some of the inputs."
   ],
   "metadata": {
    "collapsed": false
   }
  },
  {
   "cell_type": "code",
   "execution_count": 27,
   "outputs": [
    {
     "name": "stdout",
     "output_type": "stream",
     "text": [
      "shape | statement\n",
      "----- | ---------\n",
      "(2,)  | a = [0 1]\n",
      "()    | b = 2\n",
      "(2,)  | c ~ vmap(2, [0, ∅], normal_scale)(a,b)\n",
      "(2,)  | d = [3 4]\n",
      "()    | e = 5\n",
      "(2,)  | f ~ vmap(2, [0, ∅], normal_scale)(d,e)\n",
      "(2,)  | g = vmap(2, [0], exp)(f  )\n",
      "(2,)  | h ~ vmap(2, [0, 0], normal_scale)(c,g)\n"
     ]
    }
   ],
   "source": [
    "def scalar_dist(xi_mean,xi_scale,yi_mean,yi_scale):\n",
    "    xi = normal_scale(xi_mean,xi_scale)\n",
    "    yi = normal_scale(yi_mean,yi_scale)\n",
    "    return normal_scale(xi,exp(yi))\n",
    "\n",
    "x_mean = makerv([0,1])\n",
    "x_scale = makerv(2)\n",
    "y_mean = makerv([3,4])\n",
    "y_scale = makerv(5)\n",
    "u = vmap(scalar_dist, (0,None,0,None))(x_mean,x_scale,y_mean,y_scale)\n",
    "\n",
    "print_upstream(u)"
   ],
   "metadata": {
    "collapsed": false
   }
  },
  {
   "cell_type": "markdown",
   "source": [
    "Like `jax.vmap`, the arguments can be arbitrary pytrees, in which case the `in_axes` only needs to be a pytree which is a \"tree prefix\" to the arguments.\n",
    "\n",
    "That sentence probably makes no sense if you aren't an experienced jax programmer, so here's a couple examples: If you like, you can put parameters inside of a dictionary."
   ],
   "metadata": {
    "collapsed": false
   }
  },
  {
   "cell_type": "code",
   "execution_count": 28,
   "outputs": [
    {
     "name": "stdout",
     "output_type": "stream",
     "text": [
      "shape | statement\n",
      "----- | ---------\n",
      "(2,)  | a = [0 1]\n",
      "(2,)  | b = [2 2]\n",
      "(2,)  | c ~ vmap(2, [0, 0], normal_scale)(a,b)\n",
      "(2,)  | d = [3 4]\n",
      "(2,)  | e = [5 5]\n",
      "(2,)  | f ~ vmap(2, [0, 0], normal_scale)(d,e)\n",
      "(2,)  | g = vmap(2, [0], exp)(f  )\n",
      "(2,)  | h ~ vmap(2, [0, 0], normal_scale)(c,g)\n"
     ]
    }
   ],
   "source": [
    "def scalar_dist(xi_params, yi_mean, yi_scale):\n",
    "    xi = normal_scale(xi_params['mean'],xi_params['scale'])\n",
    "    yi = normal_scale(yi_mean,yi_scale)\n",
    "    return normal_scale(xi,exp(yi))\n",
    "\n",
    "x_params = {'mean': makerv([0,1]), 'scale': makerv([2,2])}\n",
    "y_mean = makerv([3,4])\n",
    "y_scale = makerv([5,5])\n",
    "u = vmap(scalar_dist)(x_params,y_mean,y_scale)\n",
    "\n",
    "print_upstream(u)"
   ],
   "metadata": {
    "collapsed": false
   }
  },
  {
   "cell_type": "markdown",
   "source": [
    "And you can control vectorization *inside the dictionary*."
   ],
   "metadata": {
    "collapsed": false
   }
  },
  {
   "cell_type": "code",
   "execution_count": 29,
   "outputs": [
    {
     "name": "stdout",
     "output_type": "stream",
     "text": [
      "shape | statement\n",
      "----- | ---------\n",
      "(2,)  | a = [0 1]\n",
      "()    | b = 2\n",
      "(2,)  | c ~ vmap(2, [0, ∅], normal_scale)(a,b)\n",
      "(2,)  | d = [3 4]\n",
      "()    | e = 5\n",
      "(2,)  | f ~ vmap(2, [0, ∅], normal_scale)(d,e)\n",
      "(2,)  | g = vmap(2, [0], exp)(f  )\n",
      "(2,)  | h ~ vmap(2, [0, 0], normal_scale)(c,g)\n"
     ]
    }
   ],
   "source": [
    "def scalar_dist(xi_params, yi_mean, yi_scale):\n",
    "    xi = normal_scale(xi_params['mean'],xi_params['scale'])\n",
    "    yi = normal_scale(yi_mean,yi_scale)\n",
    "    return normal_scale(xi,exp(yi))\n",
    "\n",
    "x_params = {'mean': makerv([0,1]), 'scale': makerv(2)}\n",
    "y_mean = makerv([3,4])\n",
    "y_scale = makerv(5)\n",
    "in_axes = ({'mean':0,'scale':None}, 0, None)\n",
    "u = vmap(scalar_dist,in_axes)(x_params,y_mean,y_scale)\n",
    "\n",
    "print_upstream(u)"
   ],
   "metadata": {
    "collapsed": false
   }
  },
  {
   "cell_type": "markdown",
   "source": [
    "**VERY IMPORTANT GOTCHA**. In most cases in Pangolin you can send constants like `2` or lists like `[1,2,3]` into `CondDist`s and they will automatically get converted into Constant RVs. This does not work with vmap. The reason is that for vmap allows arguments that are arbitrary pytrees of RVs. So it has no way of knowing if `[1,2,3]` should be converted to `RV(Constant([1,2,3]))` or `[RV(Constant(1)), RV(Constant(2)), RV(Constant(3))]`.\n",
    "\n",
    "To be safe, *always explicitly convert any constants into RVs (via `makerv`) before calling vmap*. You'll often get away with not doing this, but it can cause hard-to diagnose or understand bugs."
   ],
   "metadata": {
    "collapsed": false
   }
  },
  {
   "cell_type": "markdown",
   "source": [
    "Pangolin also provides `plate`. This is just another syntax that accomplishes the same thing as `vmap`. It can be more natural in some cases, especially when you make clever use of the walrus operator like you see here."
   ],
   "metadata": {
    "collapsed": false
   }
  },
  {
   "cell_type": "code",
   "execution_count": 30,
   "outputs": [
    {
     "name": "stdout",
     "output_type": "stream",
     "text": [
      "shape | statement\n",
      "----- | ---------\n",
      "()    | a = 0\n",
      "()    | b = 1\n",
      "(3,)  | c ~ vmap(3, [∅, ∅], normal_scale)(a,b)\n",
      "()    | d = 1\n",
      "(3,)  | e ~ vmap(3, [0, ∅], normal_scale)(c,d)\n"
     ]
    }
   ],
   "source": [
    "z, x = plate(N=3)(lambda:\n",
    "    (zi:=normal_scale(0,1),\n",
    "     xi:=normal_scale(zi,1)))\n",
    "\n",
    "print_upstream(x)"
   ],
   "metadata": {
    "collapsed": false
   }
  },
  {
   "cell_type": "code",
   "execution_count": 31,
   "outputs": [
    {
     "name": "stdout",
     "output_type": "stream",
     "text": [
      "shape  | statement\n",
      "------ | ---------\n",
      "()     | a = 0\n",
      "()     | b = 1\n",
      "(3,)   | c ~ vmap(3, [∅, ∅], normal_scale)(a,b)\n",
      "()     | d = 1\n",
      "(3, 4) | e ~ vmap(3, [0, ∅], vmap(4, [∅, ∅], normal_scale))(c,d)\n",
      "()     | f = 1\n",
      "(3, 4) | g ~ vmap(3, [0, ∅], vmap(4, [0, ∅], normal_scale))(e,f)\n"
     ]
    }
   ],
   "source": [
    "z, (x,y) = plate(N=3)(lambda:\n",
    "    (zi := normal_scale(0,1),\n",
    "     plate(N=4)(lambda:\n",
    "            (xij := normal_scale(zi,1),\n",
    "             yij := normal_scale(xij,1)))))\n",
    "\n",
    "print_upstream(y)"
   ],
   "metadata": {
    "collapsed": false
   }
  },
  {
   "cell_type": "markdown",
   "source": [
    "Pangolin also provides an **EXTREMELY EXPERIMENTAL** (even more than for Pangolin itself) interface for \"pseudo-loops\". As you can probably guess from the output below, no actual loop is executed at all. This is just a special syntax that allows you to create VMapDists."
   ],
   "metadata": {
    "collapsed": false
   }
  },
  {
   "cell_type": "code",
   "execution_count": 32,
   "outputs": [
    {
     "name": "stdout",
     "output_type": "stream",
     "text": [
      "shape  | statement\n",
      "------ | ---------\n",
      "()     | a = 0\n",
      "()     | b = 1\n",
      "(3,)   | c ~ vmap(3, [∅, ∅], normal_scale)(a,b)\n",
      "()     | d = 1\n",
      "(3, 5) | e ~ vmap(3, [0, ∅], vmap(5, [∅, ∅], normal_scale))(c,d)\n"
     ]
    }
   ],
   "source": [
    "z = loops.VMapRV()\n",
    "x = loops.VMapRV()\n",
    "with loops.Loop(3) as i:\n",
    "    z[i] = normal_scale(0,1)\n",
    "    with loops.Loop(5) as j:\n",
    "        x[i,j] = normal_scale(z[i],1)\n",
    "print_upstream(x)"
   ],
   "metadata": {
    "collapsed": false
   }
  },
  {
   "cell_type": "markdown",
   "source": [
    "# Indexing"
   ],
   "metadata": {
    "collapsed": false
   }
  },
  {
   "cell_type": "markdown",
   "source": [
    "In Pangolin, an `Index` is a special type of non-random `CondDist`."
   ],
   "metadata": {
    "collapsed": false
   }
  },
  {
   "cell_type": "code",
   "execution_count": 33,
   "outputs": [
    {
     "name": "stdout",
     "output_type": "stream",
     "text": [
      "shape  | statement\n",
      "------ | ---------\n",
      "(3, 2) | a = [[1 2] [3 4] [5 6]]\n",
      "(2,)   | b = [0 2]\n",
      "(3, 2) | c = index(:,∅)(a,b)\n"
     ]
    }
   ],
   "source": [
    "z = makerv([[1,2],[3,4],[5,6]])\n",
    "x = z[:,[0,2]]\n",
    "\n",
    "print_upstream(x)"
   ],
   "metadata": {
    "collapsed": false
   }
  },
  {
   "cell_type": "markdown",
   "source": [
    "What's happening here? Well, we could write the same thing more explicitly like this:"
   ],
   "metadata": {
    "collapsed": false
   }
  },
  {
   "cell_type": "code",
   "execution_count": 34,
   "outputs": [
    {
     "name": "stdout",
     "output_type": "stream",
     "text": [
      "shape  | statement\n",
      "------ | ---------\n",
      "(3, 2) | a = [[1 2] [3 4] [5 6]]\n",
      "(2,)   | b = [0 2]\n",
      "(3, 2) | c = index(:,∅)(a,b)\n"
     ]
    }
   ],
   "source": [
    "z = makerv([[1,2],[3,4],[5,6]])\n",
    "index_cond_dist = Index(slice(None),None)\n",
    "idx = makerv([0,2])\n",
    "x = RV(index_cond_dist,z,idx)\n",
    "\n",
    "print_upstream(x)"
   ],
   "metadata": {
    "collapsed": false
   }
  },
  {
   "cell_type": "markdown",
   "source": [
    "An `Index` object is initialized with a set of arguments, each of which should be either `None` or a `slice` with fixed integer arguments. (No RVs inside of the slices are allowed). Then, when you create an `RV` using an `Index`, the first parent is the `RV` being indexed, and the other parent are the indices for all the *non*-sliced dimensions.\n",
    "\n",
    "In Pangolin you *are* allowed to use RVs for the non-sliced dimensions. But different inference backends may not be able to do inference on them, simply because many inference backends can't handle (non-observed) integer RVs at all. Currently, the JAGS backend can handle integer-valued RVs, Stan and Numpyro cannot."
   ],
   "metadata": {
    "collapsed": false
   }
  },
  {
   "cell_type": "markdown",
   "source": [
    "# LogProb\n",
    "\n",
    "LogProb is also **HIGHLY EXPERIMENTAL**. It converts a random CondDist into a non-random one that computes conditional log-probabilities."
   ],
   "metadata": {
    "collapsed": false
   }
  },
  {
   "cell_type": "code",
   "execution_count": 35,
   "outputs": [
    {
     "data": {
      "text/plain": "LogProb(normal_scale)"
     },
     "execution_count": 35,
     "metadata": {},
     "output_type": "execute_result"
    }
   ],
   "source": [
    "normal_log_prob = LogProb(normal_scale)\n",
    "normal_log_prob"
   ],
   "metadata": {
    "collapsed": false
   }
  },
  {
   "cell_type": "markdown",
   "source": [
    "Note: This is still a CondDist, not a RV. So to actually create a model you could do something like this:"
   ],
   "metadata": {
    "collapsed": false
   }
  },
  {
   "cell_type": "code",
   "execution_count": 36,
   "outputs": [
    {
     "name": "stdout",
     "output_type": "stream",
     "text": [
      "shape | statement\n",
      "----- | ---------\n",
      "()    | a = 0\n",
      "()    | b = 1\n",
      "()    | c ~ normal_scale(a,b  )\n",
      "()    | d = 0\n",
      "()    | e = 1\n",
      "()    | f = LogProb(normal_scale)(c,d,e)\n"
     ]
    }
   ],
   "source": [
    "x = normal_scale(0,1)\n",
    "l = LogProb(normal_scale)(x,0,1)\n",
    "print_upstream(l)"
   ],
   "metadata": {
    "collapsed": false
   }
  },
  {
   "cell_type": "markdown",
   "source": [],
   "metadata": {
    "collapsed": false
   }
  },
  {
   "cell_type": "markdown",
   "source": [
    "In this model, `l` has the distribution of the log-probability density of the standard Normal distribution."
   ],
   "metadata": {
    "collapsed": false
   }
  }
 ],
 "metadata": {
  "kernelspec": {
   "display_name": "Python 3",
   "language": "python",
   "name": "python3"
  },
  "language_info": {
   "codemirror_mode": {
    "name": "ipython",
    "version": 2
   },
   "file_extension": ".py",
   "mimetype": "text/x-python",
   "name": "python",
   "nbconvert_exporter": "python",
   "pygments_lexer": "ipython2",
   "version": "2.7.6"
  }
 },
 "nbformat": 4,
 "nbformat_minor": 0
}
