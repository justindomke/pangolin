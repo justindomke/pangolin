{
 "cells": [
  {
   "cell_type": "code",
   "id": "initial_id",
   "metadata": {
    "collapsed": true,
    "ExecuteTime": {
     "end_time": "2024-09-25T23:13:12.314149Z",
     "start_time": "2024-09-25T23:13:08.500960Z"
    }
   },
   "source": [
    "import numpyro\n",
    "import numpyro.distributions as dist\n",
    "import jax\n",
    "from jax import numpy as jnp\n",
    "from jax import vmap\n",
    "\n",
    "def model():\n",
    "    with numpyro.plate(\"N\", 3):\n",
    "        x = numpyro.sample(\"x\", dist.Normal(0, 1))\n",
    "\n",
    "nuts_kernel = numpyro.infer.NUTS(model)\n",
    "mcmc = numpyro.infer.MCMC(nuts_kernel, num_warmup=1000, num_samples=1000)\n",
    "rng_key = jax.random.PRNGKey(0)\n",
    "mcmc.run(rng_key)\n",
    "samps = mcmc.get_samples()\n",
    "print(jnp.mean(samps['x'],0))\n",
    "print(jnp.std(samps['x'],0))"
   ],
   "outputs": [
    {
     "name": "stderr",
     "output_type": "stream",
     "text": [
      "sample: 100%|██████████| 2000/2000 [00:02<00:00, 688.69it/s, 3 steps of size 8.43e-01. acc. prob=0.92] \n"
     ]
    },
    {
     "name": "stdout",
     "output_type": "stream",
     "text": [
      "[0.02599583 0.03129866 0.01175993]\n",
      "[0.9868098 1.0511807 0.9563092]\n"
     ]
    }
   ],
   "execution_count": 56
  },
  {
   "metadata": {
    "ExecuteTime": {
     "end_time": "2024-09-24T18:54:09.819384Z",
     "start_time": "2024-09-24T18:54:07.234550Z"
    }
   },
   "cell_type": "code",
   "source": [
    "means = jnp.array([0,1,2])\n",
    "stds = jnp.array([3,4,5])\n",
    "\n",
    "def model():\n",
    "    with numpyro.plate(\"N\", 3) as n:\n",
    "        x = numpyro.sample(\"x\", dist.Normal(means[n], stds[n]))\n",
    "\n",
    "nuts_kernel = numpyro.infer.NUTS(model)\n",
    "mcmc = numpyro.infer.MCMC(nuts_kernel, num_warmup=1000, num_samples=1000)\n",
    "rng_key = jax.random.PRNGKey(0)\n",
    "mcmc.run(rng_key)\n",
    "samps = mcmc.get_samples()\n",
    "print(jnp.mean(samps['x'],0))\n",
    "print(jnp.std(samps['x'],0))"
   ],
   "id": "762e9e89bb5929b8",
   "outputs": [
    {
     "name": "stderr",
     "output_type": "stream",
     "text": [
      "sample: 100%|██████████| 2000/2000 [00:02<00:00, 804.30it/s, 7 steps of size 7.49e-01. acc. prob=0.93] \n"
     ]
    },
    {
     "name": "stdout",
     "output_type": "stream",
     "text": [
      "[0.06982622 1.0776219  1.9651314 ]\n",
      "[3.0057814 4.166635  5.061793 ]\n"
     ]
    }
   ],
   "execution_count": 12
  },
  {
   "metadata": {
    "ExecuteTime": {
     "end_time": "2024-09-24T19:04:47.476518Z",
     "start_time": "2024-09-24T19:04:47.470213Z"
    }
   },
   "cell_type": "code",
   "source": [
    "import numpy as np\n",
    "A = jnp.array(np.random.randn(2,3,4,5))\n",
    "A[*([slice(None)]*2),0].shape"
   ],
   "id": "28ee253b54be873",
   "outputs": [
    {
     "data": {
      "text/plain": [
       "(2, 3, 5)"
      ]
     },
     "execution_count": 17,
     "metadata": {},
     "output_type": "execute_result"
    }
   ],
   "execution_count": 17
  },
  {
   "metadata": {
    "ExecuteTime": {
     "end_time": "2024-09-24T22:12:29.647266Z",
     "start_time": "2024-09-24T22:12:26.993005Z"
    }
   },
   "cell_type": "code",
   "source": [
    "means = jnp.array([[0,1,2],[3,4,5]])\n",
    "\n",
    "def model():\n",
    "    with numpyro.plate('N',means.shape[0],dim=-2) as n:\n",
    "        with numpyro.plate('M',means.shape[1],dim=-1) as m:\n",
    "            x = numpyro.sample(\"x\", dist.Normal(means[n][:,m],1))\n",
    "nuts_kernel = numpyro.infer.NUTS(model)\n",
    "mcmc = numpyro.infer.MCMC(nuts_kernel, num_warmup=1000, num_samples=1000)\n",
    "rng_key = jax.random.PRNGKey(0)\n",
    "mcmc.run(rng_key)\n",
    "samps = mcmc.get_samples()\n",
    "print(samps['x'].shape)"
   ],
   "id": "d1f2dc08dc9740ca",
   "outputs": [
    {
     "name": "stderr",
     "output_type": "stream",
     "text": [
      "sample: 100%|██████████| 2000/2000 [00:02<00:00, 784.88it/s, 7 steps of size 7.09e-01. acc. prob=0.91] \n"
     ]
    },
    {
     "name": "stdout",
     "output_type": "stream",
     "text": [
      "(1000, 2, 3)\n"
     ]
    }
   ],
   "execution_count": 49
  },
  {
   "metadata": {
    "ExecuteTime": {
     "end_time": "2024-09-24T19:40:39.355752Z",
     "start_time": "2024-09-24T19:40:39.350320Z"
    }
   },
   "cell_type": "code",
   "source": "np.mean(samps['x'],axis=0)",
   "id": "4e3704c651dfdfef",
   "outputs": [
    {
     "data": {
      "text/plain": [
       "Array([[3.5948488e-03, 9.7644651e-01, 1.9760137e+00],\n",
       "       [2.9817114e+00, 3.9892282e+00, 4.9842019e+00],\n",
       "       [2.9926810e+00, 4.0023050e+00, 4.9814672e+00],\n",
       "       [3.0003114e+00, 4.0327892e+00, 4.9667888e+00]], dtype=float32)"
      ]
     },
     "execution_count": 27,
     "metadata": {},
     "output_type": "execute_result"
    }
   ],
   "execution_count": 27
  },
  {
   "metadata": {
    "ExecuteTime": {
     "end_time": "2024-09-24T19:56:43.209459Z",
     "start_time": "2024-09-24T19:56:43.057771Z"
    }
   },
   "cell_type": "code",
   "source": [
    "means = jnp.array([0,1,2])\n",
    "\n",
    "def model():\n",
    "    with numpyro.plate(\"N\") as n:\n",
    "        x = numpyro.sample(\"x\", dist.Normal(means[n],1))\n",
    "nuts_kernel = numpyro.infer.NUTS(model)\n",
    "mcmc = numpyro.infer.MCMC(nuts_kernel, num_warmup=1000, num_samples=1000)\n",
    "rng_key = jax.random.PRNGKey(0)\n",
    "mcmc.run(rng_key)\n",
    "samps = mcmc.get_samples()"
   ],
   "id": "c5ebec96ebf7bacf",
   "outputs": [
    {
     "ename": "TypeError",
     "evalue": "plate.__init__() missing 1 required positional argument: 'size'",
     "output_type": "error",
     "traceback": [
      "\u001B[0;31m---------------------------------------------------------------------------\u001B[0m",
      "\u001B[0;31mTypeError\u001B[0m                                 Traceback (most recent call last)",
      "Cell \u001B[0;32mIn[30], line 10\u001B[0m\n\u001B[1;32m      8\u001B[0m mcmc \u001B[38;5;241m=\u001B[39m numpyro\u001B[38;5;241m.\u001B[39minfer\u001B[38;5;241m.\u001B[39mMCMC(nuts_kernel, num_warmup\u001B[38;5;241m=\u001B[39m\u001B[38;5;241m1000\u001B[39m, num_samples\u001B[38;5;241m=\u001B[39m\u001B[38;5;241m1000\u001B[39m)\n\u001B[1;32m      9\u001B[0m rng_key \u001B[38;5;241m=\u001B[39m jax\u001B[38;5;241m.\u001B[39mrandom\u001B[38;5;241m.\u001B[39mPRNGKey(\u001B[38;5;241m0\u001B[39m)\n\u001B[0;32m---> 10\u001B[0m mcmc\u001B[38;5;241m.\u001B[39mrun(rng_key)\n\u001B[1;32m     11\u001B[0m samps \u001B[38;5;241m=\u001B[39m mcmc\u001B[38;5;241m.\u001B[39mget_samples()\n",
      "File \u001B[0;32m/opt/anaconda3/envs/pangolin-new/lib/python3.12/site-packages/numpyro/infer/mcmc.py:644\u001B[0m, in \u001B[0;36mMCMC.run\u001B[0;34m(self, rng_key, extra_fields, init_params, *args, **kwargs)\u001B[0m\n\u001B[1;32m    642\u001B[0m map_args \u001B[38;5;241m=\u001B[39m (rng_key, init_state, init_params)\n\u001B[1;32m    643\u001B[0m \u001B[38;5;28;01mif\u001B[39;00m \u001B[38;5;28mself\u001B[39m\u001B[38;5;241m.\u001B[39mnum_chains \u001B[38;5;241m==\u001B[39m \u001B[38;5;241m1\u001B[39m:\n\u001B[0;32m--> 644\u001B[0m     states_flat, last_state \u001B[38;5;241m=\u001B[39m partial_map_fn(map_args)\n\u001B[1;32m    645\u001B[0m     states \u001B[38;5;241m=\u001B[39m tree_map(\u001B[38;5;28;01mlambda\u001B[39;00m x: x[jnp\u001B[38;5;241m.\u001B[39mnewaxis, \u001B[38;5;241m.\u001B[39m\u001B[38;5;241m.\u001B[39m\u001B[38;5;241m.\u001B[39m], states_flat)\n\u001B[1;32m    646\u001B[0m \u001B[38;5;28;01melse\u001B[39;00m:\n",
      "File \u001B[0;32m/opt/anaconda3/envs/pangolin-new/lib/python3.12/site-packages/numpyro/infer/mcmc.py:426\u001B[0m, in \u001B[0;36mMCMC._single_chain_mcmc\u001B[0;34m(self, init, args, kwargs, collect_fields)\u001B[0m\n\u001B[1;32m    424\u001B[0m \u001B[38;5;66;03m# Check if _sample_fn is None, then we need to initialize the sampler.\u001B[39;00m\n\u001B[1;32m    425\u001B[0m \u001B[38;5;28;01mif\u001B[39;00m init_state \u001B[38;5;129;01mis\u001B[39;00m \u001B[38;5;28;01mNone\u001B[39;00m \u001B[38;5;129;01mor\u001B[39;00m (\u001B[38;5;28mgetattr\u001B[39m(\u001B[38;5;28mself\u001B[39m\u001B[38;5;241m.\u001B[39msampler, \u001B[38;5;124m\"\u001B[39m\u001B[38;5;124m_sample_fn\u001B[39m\u001B[38;5;124m\"\u001B[39m, \u001B[38;5;28;01mNone\u001B[39;00m) \u001B[38;5;129;01mis\u001B[39;00m \u001B[38;5;28;01mNone\u001B[39;00m):\n\u001B[0;32m--> 426\u001B[0m     new_init_state \u001B[38;5;241m=\u001B[39m \u001B[38;5;28mself\u001B[39m\u001B[38;5;241m.\u001B[39msampler\u001B[38;5;241m.\u001B[39minit(\n\u001B[1;32m    427\u001B[0m         rng_key,\n\u001B[1;32m    428\u001B[0m         \u001B[38;5;28mself\u001B[39m\u001B[38;5;241m.\u001B[39mnum_warmup,\n\u001B[1;32m    429\u001B[0m         init_params,\n\u001B[1;32m    430\u001B[0m         model_args\u001B[38;5;241m=\u001B[39margs,\n\u001B[1;32m    431\u001B[0m         model_kwargs\u001B[38;5;241m=\u001B[39mkwargs,\n\u001B[1;32m    432\u001B[0m     )\n\u001B[1;32m    433\u001B[0m     init_state \u001B[38;5;241m=\u001B[39m new_init_state \u001B[38;5;28;01mif\u001B[39;00m init_state \u001B[38;5;129;01mis\u001B[39;00m \u001B[38;5;28;01mNone\u001B[39;00m \u001B[38;5;28;01melse\u001B[39;00m init_state\n\u001B[1;32m    434\u001B[0m sample_fn, postprocess_fn \u001B[38;5;241m=\u001B[39m \u001B[38;5;28mself\u001B[39m\u001B[38;5;241m.\u001B[39m_get_cached_fns()\n",
      "File \u001B[0;32m/opt/anaconda3/envs/pangolin-new/lib/python3.12/site-packages/numpyro/infer/hmc.py:743\u001B[0m, in \u001B[0;36mHMC.init\u001B[0;34m(self, rng_key, num_warmup, init_params, model_args, model_kwargs)\u001B[0m\n\u001B[1;32m    738\u001B[0m \u001B[38;5;66;03m# vectorized\u001B[39;00m\n\u001B[1;32m    739\u001B[0m \u001B[38;5;28;01melse\u001B[39;00m:\n\u001B[1;32m    740\u001B[0m     rng_key, rng_key_init_model \u001B[38;5;241m=\u001B[39m jnp\u001B[38;5;241m.\u001B[39mswapaxes(\n\u001B[1;32m    741\u001B[0m         vmap(random\u001B[38;5;241m.\u001B[39msplit)(rng_key), \u001B[38;5;241m0\u001B[39m, \u001B[38;5;241m1\u001B[39m\n\u001B[1;32m    742\u001B[0m     )\n\u001B[0;32m--> 743\u001B[0m init_params \u001B[38;5;241m=\u001B[39m \u001B[38;5;28mself\u001B[39m\u001B[38;5;241m.\u001B[39m_init_state(\n\u001B[1;32m    744\u001B[0m     rng_key_init_model, model_args, model_kwargs, init_params\n\u001B[1;32m    745\u001B[0m )\n\u001B[1;32m    746\u001B[0m \u001B[38;5;28;01mif\u001B[39;00m \u001B[38;5;28mself\u001B[39m\u001B[38;5;241m.\u001B[39m_potential_fn \u001B[38;5;129;01mand\u001B[39;00m init_params \u001B[38;5;129;01mis\u001B[39;00m \u001B[38;5;28;01mNone\u001B[39;00m:\n\u001B[1;32m    747\u001B[0m     \u001B[38;5;28;01mraise\u001B[39;00m \u001B[38;5;167;01mValueError\u001B[39;00m(\n\u001B[1;32m    748\u001B[0m         \u001B[38;5;124m\"\u001B[39m\u001B[38;5;124mValid value of `init_params` must be provided with\u001B[39m\u001B[38;5;124m\"\u001B[39m \u001B[38;5;124m\"\u001B[39m\u001B[38;5;124m `potential_fn`.\u001B[39m\u001B[38;5;124m\"\u001B[39m\n\u001B[1;32m    749\u001B[0m     )\n",
      "File \u001B[0;32m/opt/anaconda3/envs/pangolin-new/lib/python3.12/site-packages/numpyro/infer/hmc.py:687\u001B[0m, in \u001B[0;36mHMC._init_state\u001B[0;34m(self, rng_key, model_args, model_kwargs, init_params)\u001B[0m\n\u001B[1;32m    680\u001B[0m \u001B[38;5;28;01mdef\u001B[39;00m \u001B[38;5;21m_init_state\u001B[39m(\u001B[38;5;28mself\u001B[39m, rng_key, model_args, model_kwargs, init_params):\n\u001B[1;32m    681\u001B[0m     \u001B[38;5;28;01mif\u001B[39;00m \u001B[38;5;28mself\u001B[39m\u001B[38;5;241m.\u001B[39m_model \u001B[38;5;129;01mis\u001B[39;00m \u001B[38;5;129;01mnot\u001B[39;00m \u001B[38;5;28;01mNone\u001B[39;00m:\n\u001B[1;32m    682\u001B[0m         (\n\u001B[1;32m    683\u001B[0m             new_init_params,\n\u001B[1;32m    684\u001B[0m             potential_fn,\n\u001B[1;32m    685\u001B[0m             postprocess_fn,\n\u001B[1;32m    686\u001B[0m             model_trace,\n\u001B[0;32m--> 687\u001B[0m         ) \u001B[38;5;241m=\u001B[39m initialize_model(\n\u001B[1;32m    688\u001B[0m             rng_key,\n\u001B[1;32m    689\u001B[0m             \u001B[38;5;28mself\u001B[39m\u001B[38;5;241m.\u001B[39m_model,\n\u001B[1;32m    690\u001B[0m             dynamic_args\u001B[38;5;241m=\u001B[39m\u001B[38;5;28;01mTrue\u001B[39;00m,\n\u001B[1;32m    691\u001B[0m             init_strategy\u001B[38;5;241m=\u001B[39m\u001B[38;5;28mself\u001B[39m\u001B[38;5;241m.\u001B[39m_init_strategy,\n\u001B[1;32m    692\u001B[0m             model_args\u001B[38;5;241m=\u001B[39mmodel_args,\n\u001B[1;32m    693\u001B[0m             model_kwargs\u001B[38;5;241m=\u001B[39mmodel_kwargs,\n\u001B[1;32m    694\u001B[0m             forward_mode_differentiation\u001B[38;5;241m=\u001B[39m\u001B[38;5;28mself\u001B[39m\u001B[38;5;241m.\u001B[39m_forward_mode_differentiation,\n\u001B[1;32m    695\u001B[0m         )\n\u001B[1;32m    696\u001B[0m         \u001B[38;5;28;01mif\u001B[39;00m init_params \u001B[38;5;129;01mis\u001B[39;00m \u001B[38;5;28;01mNone\u001B[39;00m:\n\u001B[1;32m    697\u001B[0m             init_params \u001B[38;5;241m=\u001B[39m new_init_params\n",
      "File \u001B[0;32m/opt/anaconda3/envs/pangolin-new/lib/python3.12/site-packages/numpyro/infer/util.py:656\u001B[0m, in \u001B[0;36minitialize_model\u001B[0;34m(rng_key, model, init_strategy, dynamic_args, model_args, model_kwargs, forward_mode_differentiation, validate_grad)\u001B[0m\n\u001B[1;32m    646\u001B[0m model_kwargs \u001B[38;5;241m=\u001B[39m {} \u001B[38;5;28;01mif\u001B[39;00m model_kwargs \u001B[38;5;129;01mis\u001B[39;00m \u001B[38;5;28;01mNone\u001B[39;00m \u001B[38;5;28;01melse\u001B[39;00m model_kwargs\n\u001B[1;32m    647\u001B[0m substituted_model \u001B[38;5;241m=\u001B[39m substitute(\n\u001B[1;32m    648\u001B[0m     seed(model, rng_key \u001B[38;5;28;01mif\u001B[39;00m is_prng_key(rng_key) \u001B[38;5;28;01melse\u001B[39;00m rng_key[\u001B[38;5;241m0\u001B[39m]),\n\u001B[1;32m    649\u001B[0m     substitute_fn\u001B[38;5;241m=\u001B[39minit_strategy,\n\u001B[1;32m    650\u001B[0m )\n\u001B[1;32m    651\u001B[0m (\n\u001B[1;32m    652\u001B[0m     inv_transforms,\n\u001B[1;32m    653\u001B[0m     replay_model,\n\u001B[1;32m    654\u001B[0m     has_enumerate_support,\n\u001B[1;32m    655\u001B[0m     model_trace,\n\u001B[0;32m--> 656\u001B[0m ) \u001B[38;5;241m=\u001B[39m _get_model_transforms(substituted_model, model_args, model_kwargs)\n\u001B[1;32m    657\u001B[0m \u001B[38;5;66;03m# substitute param sites from model_trace to model so\u001B[39;00m\n\u001B[1;32m    658\u001B[0m \u001B[38;5;66;03m# we don't need to generate again parameters of `numpyro.module`\u001B[39;00m\n\u001B[1;32m    659\u001B[0m model \u001B[38;5;241m=\u001B[39m substitute(\n\u001B[1;32m    660\u001B[0m     model,\n\u001B[1;32m    661\u001B[0m     data\u001B[38;5;241m=\u001B[39m{\n\u001B[0;32m   (...)\u001B[0m\n\u001B[1;32m    665\u001B[0m     },\n\u001B[1;32m    666\u001B[0m )\n",
      "File \u001B[0;32m/opt/anaconda3/envs/pangolin-new/lib/python3.12/site-packages/numpyro/infer/util.py:450\u001B[0m, in \u001B[0;36m_get_model_transforms\u001B[0;34m(model, model_args, model_kwargs)\u001B[0m\n\u001B[1;32m    448\u001B[0m \u001B[38;5;28;01mdef\u001B[39;00m \u001B[38;5;21m_get_model_transforms\u001B[39m(model, model_args\u001B[38;5;241m=\u001B[39m(), model_kwargs\u001B[38;5;241m=\u001B[39m\u001B[38;5;28;01mNone\u001B[39;00m):\n\u001B[1;32m    449\u001B[0m     model_kwargs \u001B[38;5;241m=\u001B[39m {} \u001B[38;5;28;01mif\u001B[39;00m model_kwargs \u001B[38;5;129;01mis\u001B[39;00m \u001B[38;5;28;01mNone\u001B[39;00m \u001B[38;5;28;01melse\u001B[39;00m model_kwargs\n\u001B[0;32m--> 450\u001B[0m     model_trace \u001B[38;5;241m=\u001B[39m trace(model)\u001B[38;5;241m.\u001B[39mget_trace(\u001B[38;5;241m*\u001B[39mmodel_args, \u001B[38;5;241m*\u001B[39m\u001B[38;5;241m*\u001B[39mmodel_kwargs)\n\u001B[1;32m    451\u001B[0m     inv_transforms \u001B[38;5;241m=\u001B[39m {}\n\u001B[1;32m    452\u001B[0m     \u001B[38;5;66;03m# model code may need to be replayed in the presence of deterministic sites\u001B[39;00m\n",
      "File \u001B[0;32m/opt/anaconda3/envs/pangolin-new/lib/python3.12/site-packages/numpyro/handlers.py:171\u001B[0m, in \u001B[0;36mtrace.get_trace\u001B[0;34m(self, *args, **kwargs)\u001B[0m\n\u001B[1;32m    163\u001B[0m \u001B[38;5;28;01mdef\u001B[39;00m \u001B[38;5;21mget_trace\u001B[39m(\u001B[38;5;28mself\u001B[39m, \u001B[38;5;241m*\u001B[39margs, \u001B[38;5;241m*\u001B[39m\u001B[38;5;241m*\u001B[39mkwargs):\n\u001B[1;32m    164\u001B[0m \u001B[38;5;250m    \u001B[39m\u001B[38;5;124;03m\"\"\"\u001B[39;00m\n\u001B[1;32m    165\u001B[0m \u001B[38;5;124;03m    Run the wrapped callable and return the recorded trace.\u001B[39;00m\n\u001B[1;32m    166\u001B[0m \n\u001B[0;32m   (...)\u001B[0m\n\u001B[1;32m    169\u001B[0m \u001B[38;5;124;03m    :return: `OrderedDict` containing the execution trace.\u001B[39;00m\n\u001B[1;32m    170\u001B[0m \u001B[38;5;124;03m    \"\"\"\u001B[39;00m\n\u001B[0;32m--> 171\u001B[0m     \u001B[38;5;28mself\u001B[39m(\u001B[38;5;241m*\u001B[39margs, \u001B[38;5;241m*\u001B[39m\u001B[38;5;241m*\u001B[39mkwargs)\n\u001B[1;32m    172\u001B[0m     \u001B[38;5;28;01mreturn\u001B[39;00m \u001B[38;5;28mself\u001B[39m\u001B[38;5;241m.\u001B[39mtrace\n",
      "File \u001B[0;32m/opt/anaconda3/envs/pangolin-new/lib/python3.12/site-packages/numpyro/primitives.py:105\u001B[0m, in \u001B[0;36mMessenger.__call__\u001B[0;34m(self, *args, **kwargs)\u001B[0m\n\u001B[1;32m    103\u001B[0m     \u001B[38;5;28;01mreturn\u001B[39;00m \u001B[38;5;28mself\u001B[39m\n\u001B[1;32m    104\u001B[0m \u001B[38;5;28;01mwith\u001B[39;00m \u001B[38;5;28mself\u001B[39m:\n\u001B[0;32m--> 105\u001B[0m     \u001B[38;5;28;01mreturn\u001B[39;00m \u001B[38;5;28mself\u001B[39m\u001B[38;5;241m.\u001B[39mfn(\u001B[38;5;241m*\u001B[39margs, \u001B[38;5;241m*\u001B[39m\u001B[38;5;241m*\u001B[39mkwargs)\n",
      "File \u001B[0;32m/opt/anaconda3/envs/pangolin-new/lib/python3.12/site-packages/numpyro/primitives.py:105\u001B[0m, in \u001B[0;36mMessenger.__call__\u001B[0;34m(self, *args, **kwargs)\u001B[0m\n\u001B[1;32m    103\u001B[0m     \u001B[38;5;28;01mreturn\u001B[39;00m \u001B[38;5;28mself\u001B[39m\n\u001B[1;32m    104\u001B[0m \u001B[38;5;28;01mwith\u001B[39;00m \u001B[38;5;28mself\u001B[39m:\n\u001B[0;32m--> 105\u001B[0m     \u001B[38;5;28;01mreturn\u001B[39;00m \u001B[38;5;28mself\u001B[39m\u001B[38;5;241m.\u001B[39mfn(\u001B[38;5;241m*\u001B[39margs, \u001B[38;5;241m*\u001B[39m\u001B[38;5;241m*\u001B[39mkwargs)\n",
      "File \u001B[0;32m/opt/anaconda3/envs/pangolin-new/lib/python3.12/site-packages/numpyro/primitives.py:105\u001B[0m, in \u001B[0;36mMessenger.__call__\u001B[0;34m(self, *args, **kwargs)\u001B[0m\n\u001B[1;32m    103\u001B[0m     \u001B[38;5;28;01mreturn\u001B[39;00m \u001B[38;5;28mself\u001B[39m\n\u001B[1;32m    104\u001B[0m \u001B[38;5;28;01mwith\u001B[39;00m \u001B[38;5;28mself\u001B[39m:\n\u001B[0;32m--> 105\u001B[0m     \u001B[38;5;28;01mreturn\u001B[39;00m \u001B[38;5;28mself\u001B[39m\u001B[38;5;241m.\u001B[39mfn(\u001B[38;5;241m*\u001B[39margs, \u001B[38;5;241m*\u001B[39m\u001B[38;5;241m*\u001B[39mkwargs)\n",
      "Cell \u001B[0;32mIn[30], line 4\u001B[0m, in \u001B[0;36mmodel\u001B[0;34m()\u001B[0m\n\u001B[1;32m      3\u001B[0m \u001B[38;5;28;01mdef\u001B[39;00m \u001B[38;5;21mmodel\u001B[39m():\n\u001B[0;32m----> 4\u001B[0m     \u001B[38;5;28;01mwith\u001B[39;00m numpyro\u001B[38;5;241m.\u001B[39mplate(\u001B[38;5;124m\"\u001B[39m\u001B[38;5;124mN\u001B[39m\u001B[38;5;124m\"\u001B[39m) \u001B[38;5;28;01mas\u001B[39;00m n:\n\u001B[1;32m      5\u001B[0m         my_means \u001B[38;5;241m=\u001B[39m means[n]\n\u001B[1;32m      6\u001B[0m         x \u001B[38;5;241m=\u001B[39m numpyro\u001B[38;5;241m.\u001B[39msample(\u001B[38;5;124m\"\u001B[39m\u001B[38;5;124mx\u001B[39m\u001B[38;5;124m\"\u001B[39m, dist\u001B[38;5;241m.\u001B[39mNormal(means[n],\u001B[38;5;241m1\u001B[39m))\n",
      "\u001B[0;31mTypeError\u001B[0m: plate.__init__() missing 1 required positional argument: 'size'"
     ]
    }
   ],
   "execution_count": 30
  },
  {
   "metadata": {
    "ExecuteTime": {
     "end_time": "2024-09-25T23:03:41.897369Z",
     "start_time": "2024-09-25T23:03:41.770999Z"
    }
   },
   "cell_type": "code",
   "source": [
    "with numpyro.plate(\"N\",5) as i:\n",
    "    print(\"hi\")\n",
    "    print(i)"
   ],
   "id": "2d6a9a6a4fbc0332",
   "outputs": [
    {
     "name": "stdout",
     "output_type": "stream",
     "text": [
      "hi\n",
      "[0 1 2 3 4]\n"
     ]
    }
   ],
   "execution_count": 55
  },
  {
   "metadata": {
    "ExecuteTime": {
     "end_time": "2024-09-25T23:22:28.079734Z",
     "start_time": "2024-09-25T23:22:27.922975Z"
    }
   },
   "cell_type": "code",
   "source": [
    "means = jnp.array([0.1,0.5,0.9])\n",
    "def model():\n",
    "    with numpyro.numpyro_config(validate_args=False):\n",
    "        x = numpyro.sample(\"x\", vmap(dist.Exponential)(means))\n",
    "    \n",
    "nuts_kernel = numpyro.infer.NUTS(model)\n",
    "mcmc = numpyro.infer.MCMC(nuts_kernel, num_warmup=1000, num_samples=1000)\n",
    "rng_key = jax.random.PRNGKey(0)\n",
    "mcmc.run(rng_key)\n",
    "samps = mcmc.get_samples()['x']\n",
    "print(jnp.mean(samps,axis=0))"
   ],
   "id": "a77046235ac4c366",
   "outputs": [
    {
     "ename": "AttributeError",
     "evalue": "module 'numpyro' has no attribute 'numpyro_config'",
     "output_type": "error",
     "traceback": [
      "\u001B[0;31m---------------------------------------------------------------------------\u001B[0m",
      "\u001B[0;31mAttributeError\u001B[0m                            Traceback (most recent call last)",
      "Cell \u001B[0;32mIn[72], line 9\u001B[0m\n\u001B[1;32m      7\u001B[0m mcmc \u001B[38;5;241m=\u001B[39m numpyro\u001B[38;5;241m.\u001B[39minfer\u001B[38;5;241m.\u001B[39mMCMC(nuts_kernel, num_warmup\u001B[38;5;241m=\u001B[39m\u001B[38;5;241m1000\u001B[39m, num_samples\u001B[38;5;241m=\u001B[39m\u001B[38;5;241m1000\u001B[39m)\n\u001B[1;32m      8\u001B[0m rng_key \u001B[38;5;241m=\u001B[39m jax\u001B[38;5;241m.\u001B[39mrandom\u001B[38;5;241m.\u001B[39mPRNGKey(\u001B[38;5;241m0\u001B[39m)\n\u001B[0;32m----> 9\u001B[0m mcmc\u001B[38;5;241m.\u001B[39mrun(rng_key)\n\u001B[1;32m     10\u001B[0m samps \u001B[38;5;241m=\u001B[39m mcmc\u001B[38;5;241m.\u001B[39mget_samples()[\u001B[38;5;124m'\u001B[39m\u001B[38;5;124mx\u001B[39m\u001B[38;5;124m'\u001B[39m]\n\u001B[1;32m     11\u001B[0m \u001B[38;5;28mprint\u001B[39m(jnp\u001B[38;5;241m.\u001B[39mmean(samps,axis\u001B[38;5;241m=\u001B[39m\u001B[38;5;241m0\u001B[39m))\n",
      "File \u001B[0;32m/opt/anaconda3/envs/pangolin-new/lib/python3.12/site-packages/numpyro/infer/mcmc.py:644\u001B[0m, in \u001B[0;36mMCMC.run\u001B[0;34m(self, rng_key, extra_fields, init_params, *args, **kwargs)\u001B[0m\n\u001B[1;32m    642\u001B[0m map_args \u001B[38;5;241m=\u001B[39m (rng_key, init_state, init_params)\n\u001B[1;32m    643\u001B[0m \u001B[38;5;28;01mif\u001B[39;00m \u001B[38;5;28mself\u001B[39m\u001B[38;5;241m.\u001B[39mnum_chains \u001B[38;5;241m==\u001B[39m \u001B[38;5;241m1\u001B[39m:\n\u001B[0;32m--> 644\u001B[0m     states_flat, last_state \u001B[38;5;241m=\u001B[39m partial_map_fn(map_args)\n\u001B[1;32m    645\u001B[0m     states \u001B[38;5;241m=\u001B[39m tree_map(\u001B[38;5;28;01mlambda\u001B[39;00m x: x[jnp\u001B[38;5;241m.\u001B[39mnewaxis, \u001B[38;5;241m.\u001B[39m\u001B[38;5;241m.\u001B[39m\u001B[38;5;241m.\u001B[39m], states_flat)\n\u001B[1;32m    646\u001B[0m \u001B[38;5;28;01melse\u001B[39;00m:\n",
      "File \u001B[0;32m/opt/anaconda3/envs/pangolin-new/lib/python3.12/site-packages/numpyro/infer/mcmc.py:426\u001B[0m, in \u001B[0;36mMCMC._single_chain_mcmc\u001B[0;34m(self, init, args, kwargs, collect_fields)\u001B[0m\n\u001B[1;32m    424\u001B[0m \u001B[38;5;66;03m# Check if _sample_fn is None, then we need to initialize the sampler.\u001B[39;00m\n\u001B[1;32m    425\u001B[0m \u001B[38;5;28;01mif\u001B[39;00m init_state \u001B[38;5;129;01mis\u001B[39;00m \u001B[38;5;28;01mNone\u001B[39;00m \u001B[38;5;129;01mor\u001B[39;00m (\u001B[38;5;28mgetattr\u001B[39m(\u001B[38;5;28mself\u001B[39m\u001B[38;5;241m.\u001B[39msampler, \u001B[38;5;124m\"\u001B[39m\u001B[38;5;124m_sample_fn\u001B[39m\u001B[38;5;124m\"\u001B[39m, \u001B[38;5;28;01mNone\u001B[39;00m) \u001B[38;5;129;01mis\u001B[39;00m \u001B[38;5;28;01mNone\u001B[39;00m):\n\u001B[0;32m--> 426\u001B[0m     new_init_state \u001B[38;5;241m=\u001B[39m \u001B[38;5;28mself\u001B[39m\u001B[38;5;241m.\u001B[39msampler\u001B[38;5;241m.\u001B[39minit(\n\u001B[1;32m    427\u001B[0m         rng_key,\n\u001B[1;32m    428\u001B[0m         \u001B[38;5;28mself\u001B[39m\u001B[38;5;241m.\u001B[39mnum_warmup,\n\u001B[1;32m    429\u001B[0m         init_params,\n\u001B[1;32m    430\u001B[0m         model_args\u001B[38;5;241m=\u001B[39margs,\n\u001B[1;32m    431\u001B[0m         model_kwargs\u001B[38;5;241m=\u001B[39mkwargs,\n\u001B[1;32m    432\u001B[0m     )\n\u001B[1;32m    433\u001B[0m     init_state \u001B[38;5;241m=\u001B[39m new_init_state \u001B[38;5;28;01mif\u001B[39;00m init_state \u001B[38;5;129;01mis\u001B[39;00m \u001B[38;5;28;01mNone\u001B[39;00m \u001B[38;5;28;01melse\u001B[39;00m init_state\n\u001B[1;32m    434\u001B[0m sample_fn, postprocess_fn \u001B[38;5;241m=\u001B[39m \u001B[38;5;28mself\u001B[39m\u001B[38;5;241m.\u001B[39m_get_cached_fns()\n",
      "File \u001B[0;32m/opt/anaconda3/envs/pangolin-new/lib/python3.12/site-packages/numpyro/infer/hmc.py:743\u001B[0m, in \u001B[0;36mHMC.init\u001B[0;34m(self, rng_key, num_warmup, init_params, model_args, model_kwargs)\u001B[0m\n\u001B[1;32m    738\u001B[0m \u001B[38;5;66;03m# vectorized\u001B[39;00m\n\u001B[1;32m    739\u001B[0m \u001B[38;5;28;01melse\u001B[39;00m:\n\u001B[1;32m    740\u001B[0m     rng_key, rng_key_init_model \u001B[38;5;241m=\u001B[39m jnp\u001B[38;5;241m.\u001B[39mswapaxes(\n\u001B[1;32m    741\u001B[0m         vmap(random\u001B[38;5;241m.\u001B[39msplit)(rng_key), \u001B[38;5;241m0\u001B[39m, \u001B[38;5;241m1\u001B[39m\n\u001B[1;32m    742\u001B[0m     )\n\u001B[0;32m--> 743\u001B[0m init_params \u001B[38;5;241m=\u001B[39m \u001B[38;5;28mself\u001B[39m\u001B[38;5;241m.\u001B[39m_init_state(\n\u001B[1;32m    744\u001B[0m     rng_key_init_model, model_args, model_kwargs, init_params\n\u001B[1;32m    745\u001B[0m )\n\u001B[1;32m    746\u001B[0m \u001B[38;5;28;01mif\u001B[39;00m \u001B[38;5;28mself\u001B[39m\u001B[38;5;241m.\u001B[39m_potential_fn \u001B[38;5;129;01mand\u001B[39;00m init_params \u001B[38;5;129;01mis\u001B[39;00m \u001B[38;5;28;01mNone\u001B[39;00m:\n\u001B[1;32m    747\u001B[0m     \u001B[38;5;28;01mraise\u001B[39;00m \u001B[38;5;167;01mValueError\u001B[39;00m(\n\u001B[1;32m    748\u001B[0m         \u001B[38;5;124m\"\u001B[39m\u001B[38;5;124mValid value of `init_params` must be provided with\u001B[39m\u001B[38;5;124m\"\u001B[39m \u001B[38;5;124m\"\u001B[39m\u001B[38;5;124m `potential_fn`.\u001B[39m\u001B[38;5;124m\"\u001B[39m\n\u001B[1;32m    749\u001B[0m     )\n",
      "File \u001B[0;32m/opt/anaconda3/envs/pangolin-new/lib/python3.12/site-packages/numpyro/infer/hmc.py:687\u001B[0m, in \u001B[0;36mHMC._init_state\u001B[0;34m(self, rng_key, model_args, model_kwargs, init_params)\u001B[0m\n\u001B[1;32m    680\u001B[0m \u001B[38;5;28;01mdef\u001B[39;00m \u001B[38;5;21m_init_state\u001B[39m(\u001B[38;5;28mself\u001B[39m, rng_key, model_args, model_kwargs, init_params):\n\u001B[1;32m    681\u001B[0m     \u001B[38;5;28;01mif\u001B[39;00m \u001B[38;5;28mself\u001B[39m\u001B[38;5;241m.\u001B[39m_model \u001B[38;5;129;01mis\u001B[39;00m \u001B[38;5;129;01mnot\u001B[39;00m \u001B[38;5;28;01mNone\u001B[39;00m:\n\u001B[1;32m    682\u001B[0m         (\n\u001B[1;32m    683\u001B[0m             new_init_params,\n\u001B[1;32m    684\u001B[0m             potential_fn,\n\u001B[1;32m    685\u001B[0m             postprocess_fn,\n\u001B[1;32m    686\u001B[0m             model_trace,\n\u001B[0;32m--> 687\u001B[0m         ) \u001B[38;5;241m=\u001B[39m initialize_model(\n\u001B[1;32m    688\u001B[0m             rng_key,\n\u001B[1;32m    689\u001B[0m             \u001B[38;5;28mself\u001B[39m\u001B[38;5;241m.\u001B[39m_model,\n\u001B[1;32m    690\u001B[0m             dynamic_args\u001B[38;5;241m=\u001B[39m\u001B[38;5;28;01mTrue\u001B[39;00m,\n\u001B[1;32m    691\u001B[0m             init_strategy\u001B[38;5;241m=\u001B[39m\u001B[38;5;28mself\u001B[39m\u001B[38;5;241m.\u001B[39m_init_strategy,\n\u001B[1;32m    692\u001B[0m             model_args\u001B[38;5;241m=\u001B[39mmodel_args,\n\u001B[1;32m    693\u001B[0m             model_kwargs\u001B[38;5;241m=\u001B[39mmodel_kwargs,\n\u001B[1;32m    694\u001B[0m             forward_mode_differentiation\u001B[38;5;241m=\u001B[39m\u001B[38;5;28mself\u001B[39m\u001B[38;5;241m.\u001B[39m_forward_mode_differentiation,\n\u001B[1;32m    695\u001B[0m         )\n\u001B[1;32m    696\u001B[0m         \u001B[38;5;28;01mif\u001B[39;00m init_params \u001B[38;5;129;01mis\u001B[39;00m \u001B[38;5;28;01mNone\u001B[39;00m:\n\u001B[1;32m    697\u001B[0m             init_params \u001B[38;5;241m=\u001B[39m new_init_params\n",
      "File \u001B[0;32m/opt/anaconda3/envs/pangolin-new/lib/python3.12/site-packages/numpyro/infer/util.py:656\u001B[0m, in \u001B[0;36minitialize_model\u001B[0;34m(rng_key, model, init_strategy, dynamic_args, model_args, model_kwargs, forward_mode_differentiation, validate_grad)\u001B[0m\n\u001B[1;32m    646\u001B[0m model_kwargs \u001B[38;5;241m=\u001B[39m {} \u001B[38;5;28;01mif\u001B[39;00m model_kwargs \u001B[38;5;129;01mis\u001B[39;00m \u001B[38;5;28;01mNone\u001B[39;00m \u001B[38;5;28;01melse\u001B[39;00m model_kwargs\n\u001B[1;32m    647\u001B[0m substituted_model \u001B[38;5;241m=\u001B[39m substitute(\n\u001B[1;32m    648\u001B[0m     seed(model, rng_key \u001B[38;5;28;01mif\u001B[39;00m is_prng_key(rng_key) \u001B[38;5;28;01melse\u001B[39;00m rng_key[\u001B[38;5;241m0\u001B[39m]),\n\u001B[1;32m    649\u001B[0m     substitute_fn\u001B[38;5;241m=\u001B[39minit_strategy,\n\u001B[1;32m    650\u001B[0m )\n\u001B[1;32m    651\u001B[0m (\n\u001B[1;32m    652\u001B[0m     inv_transforms,\n\u001B[1;32m    653\u001B[0m     replay_model,\n\u001B[1;32m    654\u001B[0m     has_enumerate_support,\n\u001B[1;32m    655\u001B[0m     model_trace,\n\u001B[0;32m--> 656\u001B[0m ) \u001B[38;5;241m=\u001B[39m _get_model_transforms(substituted_model, model_args, model_kwargs)\n\u001B[1;32m    657\u001B[0m \u001B[38;5;66;03m# substitute param sites from model_trace to model so\u001B[39;00m\n\u001B[1;32m    658\u001B[0m \u001B[38;5;66;03m# we don't need to generate again parameters of `numpyro.module`\u001B[39;00m\n\u001B[1;32m    659\u001B[0m model \u001B[38;5;241m=\u001B[39m substitute(\n\u001B[1;32m    660\u001B[0m     model,\n\u001B[1;32m    661\u001B[0m     data\u001B[38;5;241m=\u001B[39m{\n\u001B[0;32m   (...)\u001B[0m\n\u001B[1;32m    665\u001B[0m     },\n\u001B[1;32m    666\u001B[0m )\n",
      "File \u001B[0;32m/opt/anaconda3/envs/pangolin-new/lib/python3.12/site-packages/numpyro/infer/util.py:450\u001B[0m, in \u001B[0;36m_get_model_transforms\u001B[0;34m(model, model_args, model_kwargs)\u001B[0m\n\u001B[1;32m    448\u001B[0m \u001B[38;5;28;01mdef\u001B[39;00m \u001B[38;5;21m_get_model_transforms\u001B[39m(model, model_args\u001B[38;5;241m=\u001B[39m(), model_kwargs\u001B[38;5;241m=\u001B[39m\u001B[38;5;28;01mNone\u001B[39;00m):\n\u001B[1;32m    449\u001B[0m     model_kwargs \u001B[38;5;241m=\u001B[39m {} \u001B[38;5;28;01mif\u001B[39;00m model_kwargs \u001B[38;5;129;01mis\u001B[39;00m \u001B[38;5;28;01mNone\u001B[39;00m \u001B[38;5;28;01melse\u001B[39;00m model_kwargs\n\u001B[0;32m--> 450\u001B[0m     model_trace \u001B[38;5;241m=\u001B[39m trace(model)\u001B[38;5;241m.\u001B[39mget_trace(\u001B[38;5;241m*\u001B[39mmodel_args, \u001B[38;5;241m*\u001B[39m\u001B[38;5;241m*\u001B[39mmodel_kwargs)\n\u001B[1;32m    451\u001B[0m     inv_transforms \u001B[38;5;241m=\u001B[39m {}\n\u001B[1;32m    452\u001B[0m     \u001B[38;5;66;03m# model code may need to be replayed in the presence of deterministic sites\u001B[39;00m\n",
      "File \u001B[0;32m/opt/anaconda3/envs/pangolin-new/lib/python3.12/site-packages/numpyro/handlers.py:171\u001B[0m, in \u001B[0;36mtrace.get_trace\u001B[0;34m(self, *args, **kwargs)\u001B[0m\n\u001B[1;32m    163\u001B[0m \u001B[38;5;28;01mdef\u001B[39;00m \u001B[38;5;21mget_trace\u001B[39m(\u001B[38;5;28mself\u001B[39m, \u001B[38;5;241m*\u001B[39margs, \u001B[38;5;241m*\u001B[39m\u001B[38;5;241m*\u001B[39mkwargs):\n\u001B[1;32m    164\u001B[0m \u001B[38;5;250m    \u001B[39m\u001B[38;5;124;03m\"\"\"\u001B[39;00m\n\u001B[1;32m    165\u001B[0m \u001B[38;5;124;03m    Run the wrapped callable and return the recorded trace.\u001B[39;00m\n\u001B[1;32m    166\u001B[0m \n\u001B[0;32m   (...)\u001B[0m\n\u001B[1;32m    169\u001B[0m \u001B[38;5;124;03m    :return: `OrderedDict` containing the execution trace.\u001B[39;00m\n\u001B[1;32m    170\u001B[0m \u001B[38;5;124;03m    \"\"\"\u001B[39;00m\n\u001B[0;32m--> 171\u001B[0m     \u001B[38;5;28mself\u001B[39m(\u001B[38;5;241m*\u001B[39margs, \u001B[38;5;241m*\u001B[39m\u001B[38;5;241m*\u001B[39mkwargs)\n\u001B[1;32m    172\u001B[0m     \u001B[38;5;28;01mreturn\u001B[39;00m \u001B[38;5;28mself\u001B[39m\u001B[38;5;241m.\u001B[39mtrace\n",
      "File \u001B[0;32m/opt/anaconda3/envs/pangolin-new/lib/python3.12/site-packages/numpyro/primitives.py:105\u001B[0m, in \u001B[0;36mMessenger.__call__\u001B[0;34m(self, *args, **kwargs)\u001B[0m\n\u001B[1;32m    103\u001B[0m     \u001B[38;5;28;01mreturn\u001B[39;00m \u001B[38;5;28mself\u001B[39m\n\u001B[1;32m    104\u001B[0m \u001B[38;5;28;01mwith\u001B[39;00m \u001B[38;5;28mself\u001B[39m:\n\u001B[0;32m--> 105\u001B[0m     \u001B[38;5;28;01mreturn\u001B[39;00m \u001B[38;5;28mself\u001B[39m\u001B[38;5;241m.\u001B[39mfn(\u001B[38;5;241m*\u001B[39margs, \u001B[38;5;241m*\u001B[39m\u001B[38;5;241m*\u001B[39mkwargs)\n",
      "File \u001B[0;32m/opt/anaconda3/envs/pangolin-new/lib/python3.12/site-packages/numpyro/primitives.py:105\u001B[0m, in \u001B[0;36mMessenger.__call__\u001B[0;34m(self, *args, **kwargs)\u001B[0m\n\u001B[1;32m    103\u001B[0m     \u001B[38;5;28;01mreturn\u001B[39;00m \u001B[38;5;28mself\u001B[39m\n\u001B[1;32m    104\u001B[0m \u001B[38;5;28;01mwith\u001B[39;00m \u001B[38;5;28mself\u001B[39m:\n\u001B[0;32m--> 105\u001B[0m     \u001B[38;5;28;01mreturn\u001B[39;00m \u001B[38;5;28mself\u001B[39m\u001B[38;5;241m.\u001B[39mfn(\u001B[38;5;241m*\u001B[39margs, \u001B[38;5;241m*\u001B[39m\u001B[38;5;241m*\u001B[39mkwargs)\n",
      "File \u001B[0;32m/opt/anaconda3/envs/pangolin-new/lib/python3.12/site-packages/numpyro/primitives.py:105\u001B[0m, in \u001B[0;36mMessenger.__call__\u001B[0;34m(self, *args, **kwargs)\u001B[0m\n\u001B[1;32m    103\u001B[0m     \u001B[38;5;28;01mreturn\u001B[39;00m \u001B[38;5;28mself\u001B[39m\n\u001B[1;32m    104\u001B[0m \u001B[38;5;28;01mwith\u001B[39;00m \u001B[38;5;28mself\u001B[39m:\n\u001B[0;32m--> 105\u001B[0m     \u001B[38;5;28;01mreturn\u001B[39;00m \u001B[38;5;28mself\u001B[39m\u001B[38;5;241m.\u001B[39mfn(\u001B[38;5;241m*\u001B[39margs, \u001B[38;5;241m*\u001B[39m\u001B[38;5;241m*\u001B[39mkwargs)\n",
      "Cell \u001B[0;32mIn[72], line 3\u001B[0m, in \u001B[0;36mmodel\u001B[0;34m()\u001B[0m\n\u001B[1;32m      2\u001B[0m \u001B[38;5;28;01mdef\u001B[39;00m \u001B[38;5;21mmodel\u001B[39m():\n\u001B[0;32m----> 3\u001B[0m     \u001B[38;5;28;01mwith\u001B[39;00m numpyro\u001B[38;5;241m.\u001B[39mnumpyro_config(validate_args\u001B[38;5;241m=\u001B[39m\u001B[38;5;28;01mFalse\u001B[39;00m):\n\u001B[1;32m      4\u001B[0m         x \u001B[38;5;241m=\u001B[39m numpyro\u001B[38;5;241m.\u001B[39msample(\u001B[38;5;124m\"\u001B[39m\u001B[38;5;124mx\u001B[39m\u001B[38;5;124m\"\u001B[39m, vmap(dist\u001B[38;5;241m.\u001B[39mExponential)(means))\n",
      "\u001B[0;31mAttributeError\u001B[0m: module 'numpyro' has no attribute 'numpyro_config'"
     ]
    }
   ],
   "execution_count": 72
  },
  {
   "metadata": {
    "ExecuteTime": {
     "end_time": "2024-09-25T23:21:50.253018Z",
     "start_time": "2024-09-25T23:21:50.247743Z"
    }
   },
   "cell_type": "code",
   "source": "samps.shape",
   "id": "af5c995fc3ad772f",
   "outputs": [
    {
     "data": {
      "text/plain": [
       "(1000,)"
      ]
     },
     "execution_count": 70,
     "metadata": {},
     "output_type": "execute_result"
    }
   ],
   "execution_count": 70
  },
  {
   "metadata": {
    "ExecuteTime": {
     "end_time": "2024-09-25T23:29:26.969684Z",
     "start_time": "2024-09-25T23:29:26.963728Z"
    }
   },
   "cell_type": "code",
   "source": [
    "x = np.ones((2,3,4))\n",
    "x[np.newaxis].shape"
   ],
   "id": "125722523d6a91d1",
   "outputs": [
    {
     "data": {
      "text/plain": [
       "(1, 2, 3, 4)"
      ]
     },
     "execution_count": 73,
     "metadata": {},
     "output_type": "execute_result"
    }
   ],
   "execution_count": 73
  },
  {
   "metadata": {
    "ExecuteTime": {
     "end_time": "2024-09-25T23:29:32.647088Z",
     "start_time": "2024-09-25T23:29:32.642186Z"
    }
   },
   "cell_type": "code",
   "source": "x[np.newaxis]",
   "id": "96fc78cfb991ba1",
   "outputs": [
    {
     "data": {
      "text/plain": [
       "array([[[[1., 1., 1., 1.],\n",
       "         [1., 1., 1., 1.],\n",
       "         [1., 1., 1., 1.]],\n",
       "\n",
       "        [[1., 1., 1., 1.],\n",
       "         [1., 1., 1., 1.],\n",
       "         [1., 1., 1., 1.]]]])"
      ]
     },
     "execution_count": 74,
     "metadata": {},
     "output_type": "execute_result"
    }
   ],
   "execution_count": 74
  },
  {
   "metadata": {},
   "cell_type": "code",
   "outputs": [],
   "execution_count": null,
   "source": "# verify that numpyro is fine with vectorized discrete variables",
   "id": "a93b091f30971d9f"
  }
 ],
 "metadata": {
  "kernelspec": {
   "display_name": "Python 3",
   "language": "python",
   "name": "python3"
  },
  "language_info": {
   "codemirror_mode": {
    "name": "ipython",
    "version": 2
   },
   "file_extension": ".py",
   "mimetype": "text/x-python",
   "name": "python",
   "nbconvert_exporter": "python",
   "pygments_lexer": "ipython2",
   "version": "2.7.6"
  }
 },
 "nbformat": 4,
 "nbformat_minor": 5
}
