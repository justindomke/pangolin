{
 "cells": [
  {
   "attachments": {},
   "cell_type": "markdown",
   "metadata": {},
   "source": [
    "Messing around with the idea of creating a formal parser for the IR.\n",
    "\n",
    "But perhaps it would be better to just output code that's a subset of Python, so you can use the native Python parser?"
   ]
  },
  {
   "cell_type": "code",
   "execution_count": 2,
   "metadata": {},
   "outputs": [],
   "source": [
    "import lark"
   ]
  },
  {
   "cell_type": "code",
   "execution_count": 16,
   "metadata": {},
   "outputs": [
    {
     "name": "stdout",
     "output_type": "stream",
     "text": [
      "program\n",
      "  assignment\n",
      "    a\n",
      "    function_call\n",
      "      f\n",
      "      None\n",
      "    \n",
      "\n",
      "  assignment\n",
      "    b\n",
      "    function_call\n",
      "      g\n",
      "      a\n",
      "    \n",
      "\n",
      "  assignment\n",
      "    c\n",
      "    function_call\n",
      "      f\n",
      "      None\n",
      "    \n",
      "\n",
      "  assignment\n",
      "    d\n",
      "    function_call\n",
      "      h\n",
      "      arg_list\n",
      "        b\n",
      "        c\n",
      "    \n",
      "\n",
      "  assignment\n",
      "    e\n",
      "    function_call\n",
      "      another_func\n",
      "      arg_list\n",
      "        a\n",
      "        b\n",
      "        c\n",
      "        d\n",
      "    \n",
      "\n",
      "\n"
     ]
    }
   ],
   "source": [
    "formal_grammar = r\"\"\"\n",
    "program       ::= assignment+\n",
    "assignment    ::= VAR \"=\" function_call NEWLINE\n",
    "function_call ::= VAR \"(\" [ arg_list ] \")\"\n",
    "arg_list      ::= VAR (\",\" VAR)*\n",
    "\n",
    "(* Terminal Definitions *)\n",
    "VAR           ::= [a-zA-Z_][a-zA-Z0-9_]*\n",
    "NEWLINE       ::= \"\\n\"\n",
    "\"\"\"\n",
    "\n",
    "lark_grammar = r\"\"\"\n",
    "    ?program: assignment+\n",
    "\n",
    "    ?assignment: VAR \"=\" function_call NEWLINE\n",
    "\n",
    "    ?function_call: VAR \"(\" [arg_list] \")\"\n",
    "\n",
    "    ?arg_list: VAR (\",\" VAR)*\n",
    "\n",
    "    %import common.CNAME -> VAR\n",
    "    %import common.WS\n",
    "    %import common.NEWLINE\n",
    "    %ignore WS\n",
    "\"\"\"\n",
    "\n",
    "parser = lark.Lark(lark_grammar, start='program')\n",
    "\n",
    "source = \"\"\"\n",
    "a = f()\n",
    "b = g(a)\n",
    "c = f()\n",
    "d = h(b, c)\n",
    "e = another_func(a, b, c, d)\n",
    "\"\"\"\n",
    "\n",
    "tree = parser.parse(source)\n",
    "\n",
    "print(tree.pretty())"
   ]
  },
  {
   "cell_type": "code",
   "execution_count": 18,
   "metadata": {},
   "outputs": [
    {
     "name": "stdout",
     "output_type": "stream",
     "text": [
      "program\n",
      "  statement\n",
      "    package_assignment\n",
      "      a\n",
      "      package_creation\tpackage_fun1\n",
      "    \n",
      "\n",
      "  statement\n",
      "    node_assignment\n",
      "      x\n",
      "      node_creation\n",
      "        package_expression\ta\n",
      "    \n",
      "\n",
      "\n"
     ]
    }
   ],
   "source": [
    "# let's create a grammar that has \"nodes\" and \"packages\"\n",
    "\n",
    "lark_grammar = r\"\"\"\n",
    "    ?program: statement+\n",
    "    ?statement: (node_assignment | package_assignment) NEWLINE\n",
    "\n",
    "    node_assignment: VAR \"=\" node_creation\n",
    "    node_creation: \"node\" \"(\" package_expression (\",\" VAR)* \")\"\n",
    "\n",
    "    package_assignment: VAR \"=\" package_creation\n",
    "    package_expression: package_creation | VAR\n",
    "    package_creation: VAR \"(\" \")\"\n",
    "\n",
    "    %import common.CNAME -> VAR\n",
    "    %import common.NEWLINE\n",
    "    %import common.WS\n",
    "    %ignore WS\n",
    "\"\"\"\n",
    "\n",
    "source = r\"\"\"\n",
    "a = package_fun1()\n",
    "x = node(a)\n",
    "\"\"\"\n",
    "\n",
    "parser = lark.Lark(lark_grammar, start='program')\n",
    "\n",
    "tree = parser.parse(source)\n",
    "\n",
    "print(tree.pretty())"
   ]
  },
  {
   "cell_type": "code",
   "execution_count": 19,
   "metadata": {},
   "outputs": [
    {
     "name": "stdout",
     "output_type": "stream",
     "text": [
      "statement\n",
      "  node_assignment\n",
      "    x\n",
      "    node_creation\n",
      "      package_expression\n",
      "        package_creation\tpackage_fun1\n",
      "  \n",
      "\n",
      "\n"
     ]
    }
   ],
   "source": [
    "source = r\"\"\"\n",
    "x = node(package_fun1())\n",
    "\"\"\"\n",
    "\n",
    "parser = lark.Lark(lark_grammar, start='program')\n",
    "\n",
    "tree = parser.parse(source)\n",
    "\n",
    "print(tree.pretty())"
   ]
  },
  {
   "cell_type": "code",
   "execution_count": null,
   "metadata": {},
   "outputs": [],
   "source": []
  }
 ],
 "metadata": {
  "kernelspec": {
   "display_name": ".venv",
   "language": "python",
   "name": "python3"
  },
  "language_info": {
   "codemirror_mode": {
    "name": "ipython",
    "version": 3
   },
   "file_extension": ".py",
   "mimetype": "text/x-python",
   "name": "python",
   "nbconvert_exporter": "python",
   "pygments_lexer": "ipython3",
   "version": "3.11.5"
  },
  "orig_nbformat": 4
 },
 "nbformat": 4,
 "nbformat_minor": 2
}
