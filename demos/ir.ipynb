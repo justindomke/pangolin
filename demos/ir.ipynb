{
 "cells": [
  {
   "attachments": {},
   "cell_type": "markdown",
   "id": "38de23d744eee6c4",
   "metadata": {},
   "source": [
    "This notebook demonstrates how models could be constructed directly in pangolin's IR. **Note that\n",
    "as a user you almost certainly don't want to create models this way,** as it's a low-level notation. But it\n",
    "is useful for understanding how models are represented under the hood. You would definitely want to understand this if you want to write a new algorithm that manipulates these models, or you want to implement a new backend."
   ]
  },
  {
   "cell_type": "code",
   "execution_count": 1,
   "id": "74f00291f6eb6800",
   "metadata": {
    "jupyter": {
     "is_executing": true
    }
   },
   "outputs": [],
   "source": [
    "from pangolin import ir"
   ]
  },
  {
   "cell_type": "code",
   "execution_count": 17,
   "id": "8042dff730703a27",
   "metadata": {
    "jupyter": {
     "is_executing": true
    }
   },
   "outputs": [
    {
     "name": "stdout",
     "output_type": "stream",
     "text": [
      "Constant(0)\n",
      "0\n"
     ]
    }
   ],
   "source": [
    "# Create an \"Op\" that is the constant of zero.\n",
    "# repr() gives a very explicit representation\n",
    "# str() or print() gives a compact math-like representation\n",
    "\n",
    "d = ir.Constant(0)\n",
    "\n",
    "print(repr(d))\n",
    "print(d)"
   ]
  },
  {
   "cell_type": "code",
   "execution_count": 18,
   "id": "b37d034308a66aa5",
   "metadata": {
    "jupyter": {
     "is_executing": true
    }
   },
   "outputs": [
    {
     "name": "stdout",
     "output_type": "stream",
     "text": [
      "RV(Constant(0))\n",
      "0\n"
     ]
    }
   ],
   "source": [
    "# Create a RV that represents that constant\n",
    "\n",
    "z = ir.RV(ir.Constant(0))\n",
    "\n",
    "print(repr(z))\n",
    "print(z)"
   ]
  },
  {
   "cell_type": "code",
   "execution_count": 19,
   "id": "62a7d2bb",
   "metadata": {},
   "outputs": [
    {
     "name": "stdout",
     "output_type": "stream",
     "text": [
      "RV(Add(), RV(Constant(0)), RV(Constant(2)))\n",
      "add(0, 2)\n"
     ]
    }
   ],
   "source": [
    "# create a random variable that adds two other random variables\n",
    "\n",
    "x = ir.RV(ir.Constant(0))\n",
    "y = ir.RV(ir.Constant(2))\n",
    "z = ir.RV(ir.Add(), x, y)\n",
    "\n",
    "print(repr(z))\n",
    "print(z)"
   ]
  },
  {
   "cell_type": "code",
   "execution_count": 43,
   "id": "9a7bc0f0",
   "metadata": {},
   "outputs": [
    {
     "name": "stdout",
     "output_type": "stream",
     "text": [
      "z.parents         = (RV(Constant(-1)), RV(Constant(3)))\n",
      "z.parents[0] == x = False\n",
      "z.parents[1] == y = False\n"
     ]
    }
   ],
   "source": [
    "# z has parents. you can access them.\n",
    "\n",
    "print(f\"{z.parents         = }\")\n",
    "print(f\"{z.parents[0] == x = }\")\n",
    "print(f\"{z.parents[1] == y = }\")\n"
   ]
  },
  {
   "cell_type": "code",
   "execution_count": 21,
   "id": "a4b840db",
   "metadata": {},
   "outputs": [
    {
     "name": "stdout",
     "output_type": "stream",
     "text": [
      "shape | statement\n",
      "----- | ---------\n",
      "()    | a = 0\n",
      "()    | b = 2\n",
      "()    | c = add(a,b)\n"
     ]
    }
   ],
   "source": [
    "# visualize all upstream nodes\n",
    "# (note this doesn't know about variable names)\n",
    "\n",
    "ir.print_upstream(z)"
   ]
  },
  {
   "cell_type": "code",
   "execution_count": 7,
   "id": "514a209db5d0f2db",
   "metadata": {
    "ExecuteTime": {
     "end_time": "2025-07-24T17:25:51.205698Z",
     "start_time": "2025-07-24T17:25:51.200670Z"
    }
   },
   "outputs": [
    {
     "name": "stdout",
     "output_type": "stream",
     "text": [
      "Normal()\n",
      "normal\n"
     ]
    }
   ],
   "source": [
    "# Create a normal distribution Op.\n",
    "# Note this takes no arguments!\n",
    "# Again, repr() is explicit and str() and print() use a more compact math-like representation.\n",
    "\n",
    "d = ir.Normal()\n",
    "print(repr(d))\n",
    "print(d)"
   ]
  },
  {
   "cell_type": "code",
   "execution_count": 8,
   "id": "e66d1f760e9cfcc8",
   "metadata": {
    "jupyter": {
     "is_executing": true
    }
   },
   "outputs": [
    {
     "name": "stdout",
     "output_type": "stream",
     "text": [
      "RV(Normal(), RV(Constant(0.5)), RV(Constant(2.5)))\n",
      "normal(0.5, 2.5)\n"
     ]
    }
   ],
   "source": [
    "# Create a standard-normal RV\n",
    "loc = ir.RV(ir.Constant(0.5))\n",
    "scale = ir.RV(ir.Constant(2.5))\n",
    "z = ir.RV(ir.Normal(), loc, scale)\n",
    "print(repr(z))\n",
    "print(z)"
   ]
  },
  {
   "cell_type": "code",
   "execution_count": 9,
   "id": "5c4e6f02",
   "metadata": {},
   "outputs": [
    {
     "name": "stdout",
     "output_type": "stream",
     "text": [
      "shape | statement\n",
      "----- | ---------\n",
      "()    | a = 0.5\n",
      "()    | b = 2.5\n",
      "()    | c ~ normal(a,b)\n"
     ]
    }
   ],
   "source": [
    "# Again, you can print the upstream nodes\n",
    "\n",
    "ir.print_upstream(z)"
   ]
  },
  {
   "cell_type": "code",
   "execution_count": 10,
   "id": "aaaab50123371488",
   "metadata": {
    "jupyter": {
     "is_executing": true
    }
   },
   "outputs": [
    {
     "name": "stdout",
     "output_type": "stream",
     "text": [
      "VMap(Normal(), (0, 0))\n",
      "vmap(normal, (0, 0))\n"
     ]
    }
   ],
   "source": [
    "# Create vmapped normal distribution\n",
    "\n",
    "d = ir.VMap(ir.Normal(), (0,0))\n",
    "print(repr(d))\n",
    "print(d)"
   ]
  },
  {
   "cell_type": "code",
   "execution_count": 30,
   "id": "1e0785e7",
   "metadata": {},
   "outputs": [
    {
     "name": "stdout",
     "output_type": "stream",
     "text": [
      "RV(VMap(Normal(), (0, 0)), RV(Constant([-1,1,2])), RV(Constant([3,4,5])))\n",
      "vmap(normal, (0, 0))([-1 1 2], [3 4 5])\n"
     ]
    }
   ],
   "source": [
    "# Create a diagonal normal RV\n",
    "\n",
    "locs = ir.RV(ir.Constant([-1,1,2]))\n",
    "scales = ir.RV(ir.Constant([3,4,5]))\n",
    "z = ir.RV(ir.VMap(ir.Normal(), in_axes=(0,0)), locs, scales)\n",
    "\n",
    "print(repr(z))\n",
    "print(z)"
   ]
  },
  {
   "cell_type": "code",
   "execution_count": 31,
   "id": "79f1a408",
   "metadata": {},
   "outputs": [
    {
     "name": "stdout",
     "output_type": "stream",
     "text": [
      "shape | statement\n",
      "----- | ---------\n",
      "(3,)  | a = [-1 1 2]\n",
      "(3,)  | b = [3 4 5]\n",
      "(3,)  | c ~ vmap(normal, (0, 0))(a,b)\n"
     ]
    }
   ],
   "source": [
    "# now, printing upstream gives useful shape information\n",
    "\n",
    "ir.print_upstream(z)"
   ]
  },
  {
   "cell_type": "code",
   "execution_count": 32,
   "id": "ba537cc9",
   "metadata": {},
   "outputs": [
    {
     "name": "stdout",
     "output_type": "stream",
     "text": [
      "RV(VMap(Normal(), (0, None)), RV(Constant([-1,1,2])), RV(Constant(3)))\n",
      "vmap(normal, (0, None))([-1 1 2], 3)\n"
     ]
    }
   ],
   "source": [
    "# Create a diagonal normal RV with shared scale\n",
    "\n",
    "locs = ir.RV(ir.Constant([-1,1,2]))\n",
    "scale = ir.RV(ir.Constant(3))\n",
    "z = ir.RV(ir.VMap(ir.Normal(), in_axes=(0,None)), locs, scale)\n",
    "\n",
    "print(repr(z))\n",
    "print(z)"
   ]
  },
  {
   "cell_type": "code",
   "execution_count": 33,
   "id": "e434b7db",
   "metadata": {},
   "outputs": [
    {
     "name": "stdout",
     "output_type": "stream",
     "text": [
      "shape | statement\n",
      "----- | ---------\n",
      "(3,)  | a = [-1 1 2]\n",
      "()    | b = 3\n",
      "(3,)  | c ~ vmap(normal, (0, None))(a,b)\n"
     ]
    }
   ],
   "source": [
    "ir.print_upstream(z)"
   ]
  },
  {
   "cell_type": "code",
   "execution_count": 36,
   "id": "c29aa6da",
   "metadata": {},
   "outputs": [
    {
     "name": "stdout",
     "output_type": "stream",
     "text": [
      "RV(VMap(Normal(), (None, None), 3), RV(Constant(-1)), RV(Constant(3)))\n",
      "vmap(normal, (None, None), 3)(-1, 3)\n"
     ]
    }
   ],
   "source": [
    "# Create a diagonal normal RV with shared loc and scale\n",
    "# need axis_size argument (borrowed from jax)\n",
    "\n",
    "loc = ir.RV(ir.Constant(-1))\n",
    "scale = ir.RV(ir.Constant(3))\n",
    "z = ir.RV(ir.VMap(ir.Normal(), in_axes=(None,None), axis_size=3), loc, scale)\n",
    "\n",
    "print(repr(z))\n",
    "print(z)"
   ]
  },
  {
   "cell_type": "code",
   "execution_count": 35,
   "id": "2f11ed20",
   "metadata": {},
   "outputs": [
    {
     "name": "stdout",
     "output_type": "stream",
     "text": [
      "shape | statement\n",
      "----- | ---------\n",
      "()    | a = -1\n",
      "()    | b = 3\n",
      "(3,)  | c ~ vmap(normal, (None, None), 3)(a,b)\n"
     ]
    }
   ],
   "source": [
    "ir.print_upstream(z)"
   ]
  },
  {
   "cell_type": "code",
   "execution_count": 41,
   "id": "154437fb",
   "metadata": {},
   "outputs": [
    {
     "name": "stdout",
     "output_type": "stream",
     "text": [
      "RV(VMap(Normal(), (0, 0)), RV(Constant([2.2,3.3,4.4])), RV(VMap(Mul(), (None, 0)), RV(Constant(2)), RV(Constant([2.2,3.3,4.4]))))\n",
      "vmap(normal, (0, 0))([2.2 3.3 4.4], vmap(mul, (None, 0))(2, [2.2 3.3 4.4]))\n"
     ]
    }
   ],
   "source": [
    "# do something complicated\n",
    "# the text format is very complicated\n",
    "\n",
    "a = ir.RV(ir.Constant(2))\n",
    "b = ir.RV(ir.Constant([2.2,3.3,4.4]))\n",
    "c = ir.RV(ir.VMap(ir.Mul(),(None,0)), a, b)\n",
    "d = ir.RV(ir.VMap(ir.Normal(), (0, 0)), b, c)\n",
    "\n",
    "print(repr(d))\n",
    "print(d)"
   ]
  },
  {
   "cell_type": "code",
   "execution_count": 42,
   "id": "d5292354",
   "metadata": {},
   "outputs": [
    {
     "name": "stdout",
     "output_type": "stream",
     "text": [
      "shape | statement\n",
      "----- | ---------\n",
      "(3,)  | a = [2.2 3.3 4.4]\n",
      "()    | b = 2\n",
      "(3,)  | c = vmap(mul, (None, 0))(b,a)\n",
      "(3,)  | d ~ vmap(normal, (0, 0))(a,c)\n"
     ]
    }
   ],
   "source": [
    "# but printing upstream gives a reasonable view\n",
    "\n",
    "ir.print_upstream(d)"
   ]
  }
 ],
 "metadata": {
  "kernelspec": {
   "display_name": "Python 3",
   "language": "python",
   "name": "python3"
  },
  "language_info": {
   "codemirror_mode": {
    "name": "ipython",
    "version": 3
   },
   "file_extension": ".py",
   "mimetype": "text/x-python",
   "name": "python",
   "nbconvert_exporter": "python",
   "pygments_lexer": "ipython3",
   "version": "3.11.5"
  }
 },
 "nbformat": 4,
 "nbformat_minor": 5
}
