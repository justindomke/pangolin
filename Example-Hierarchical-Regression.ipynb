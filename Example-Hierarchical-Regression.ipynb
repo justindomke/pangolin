{
 "cells": [
  {
   "cell_type": "markdown",
   "id": "577c0b4c",
   "metadata": {},
   "source": [
    "Here's a simple hierarchial model\n",
    "\n",
    "Assume there are $N$ users and each has $M$ observations.\n",
    "\n",
    "\\begin{aligned}\n",
    "u \\sim & \\mathrm{Normal}(0,10) \\\\\n",
    "w_i \\sim & \\mathrm{Norma}(u,.10), & 1 \\leq i \\leq N \\\\\n",
    "σ^2 \\sim & \\mathrm{Gamma}(1,1) \\\\\n",
    "y_{ij} \\sim & \\mathrm{Normal}(x_{ij}w_i, σ^2), & 1 \\leq i \\leq N, 1 \\leq j \\leq M\\\\\n",
    "\\end{aligned}\n"
   ]
  },
  {
   "cell_type": "code",
   "execution_count": 5,
   "id": "53ad02d3",
   "metadata": {},
   "outputs": [
    {
     "data": {
      "image/png": "[encoded data removed]",
      "text/plain": [
       "<Figure size 432x288 with 1 Axes>"
      ]
     },
     "metadata": {
      "needs_background": "light"
     },
     "output_type": "display_data"
    }
   ],
   "source": [
    "from pangolin import Given, d, t, I, IID, vmap, sample, E, P, var, std, cov, corr, makerv, jags_code\n",
    "from matplotlib import pyplot as plt\n",
    "import numpy as np\n",
    "np.set_printoptions(formatter={'float': '{:6.2f}'.format}) # print nicely\n",
    "\n",
    "\n",
    "# simple heirarchical model\n",
    "\n",
    "# we want to fit linear equations for three different users\n",
    "\n",
    "X_train = [[1,2,3],[1.3,2.3,3.3],[1.6,2.6,3.6]]\n",
    "y_train = [[2.2,4.3,6.4],[1.2,2.1,3.0],[2.5,4.1,5.3]]\n",
    "\n",
    "for xi_train,yi_train,i in zip(X_train,y_train,range(3)):\n",
    "    plt.plot(xi_train,yi_train,'o',label='user '+str(i))\n",
    "plt.legend()\n",
    "plt.xlim([0,4])\n",
    "plt.ylim([0,7])\n",
    "\n",
    "# define proabbilistic model\n",
    "u = d.norm(0,.1)        # global mean\n",
    "w = IID(d.norm(u,10),3) # weights for each user\n",
    "s = d.gamma(1,1)        # global noise\n",
    "\n",
    "# generates output for a single user (i) and observation (j)\n",
    "def get_y_ij(x_ij,w_i,s):\n",
    "    return d.norm(x_ij*w_i,1/s)\n",
    "\n",
    "# all observations for one user\n",
    "get_y_i  = vmap(get_y_ij,[True,False,False])\n",
    "# all observations for all users\n",
    "get_y    = vmap(get_y_i,[True,True,False])\n",
    "# actuall run the function\n",
    "y = get_y(X_train,w,s)\n",
    "\n",
    "w_mean = E(w,Given(y==y_train))\n",
    "\n",
    "plt.gca().set_prop_cycle(None)\n",
    "\n",
    "for wi_mean in w_mean:\n",
    "    xrange = np.arange(5)\n",
    "    plt.plot(xrange,xrange*wi_mean)\n",
    "plt.show()\n"
   ]
  },
  {
   "cell_type": "markdown",
   "id": "f04b4e5b",
   "metadata": {},
   "source": [
    "Notice the curves are \"pulled in\" towards each other a bit. That's due to the shared global latent variable."
   ]
  },
  {
   "cell_type": "code",
   "execution_count": 6,
   "id": "2fe748c7",
   "metadata": {},
   "outputs": [
    {
     "name": "stdout",
     "output_type": "stream",
     "text": [
      "model{\n",
      "v66v~dnorm(v64v,v65v);\n",
      "for (i0 in 1:3){\n",
      "  v69v[i0]~dnorm(v66v,v67v);\n",
      "}\n",
      "for (i1 in 1:3){\n",
      "  for (i0 in 1:3){\n",
      "    v85v[i1,i0]<-(v73v[i1,i0])*(v69v[i1]);\n",
      "  }\n",
      "}\n",
      "v72v~dgamma(v70v,v71v);\n",
      "for (i1 in 1:3){\n",
      "  for (i0 in 1:3){\n",
      "    v86v[i1,i0]<-(v79v)/(v72v);\n",
      "  }\n",
      "}\n",
      "for (i1 in 1:3){\n",
      "  for (i0 in 1:3){\n",
      "    v87v[i1,i0]~dnorm(v85v[i1,i0],v86v[i1,i0]);\n",
      "  }\n",
      "}\n",
      "}\n",
      "\n"
     ]
    }
   ],
   "source": [
    "print(jags_code(y))"
   ]
  },
  {
   "cell_type": "code",
   "execution_count": null,
   "id": "3c26b971",
   "metadata": {},
   "outputs": [],
   "source": []
  }
 ],
 "metadata": {
  "kernelspec": {
   "display_name": "Python 3 (ipykernel)",
   "language": "python",
   "name": "python3"
  },
  "language_info": {
   "codemirror_mode": {
    "name": "ipython",
    "version": 3
   },
   "file_extension": ".py",
   "mimetype": "text/x-python",
   "name": "python",
   "nbconvert_exporter": "python",
   "pygments_lexer": "ipython3",
   "version": "3.9.7"
  }
 },
 "nbformat": 4,
 "nbformat_minor": 5
}
