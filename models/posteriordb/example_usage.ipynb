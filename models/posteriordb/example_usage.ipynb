{
 "cells": [
  {
   "cell_type": "code",
   "id": "initial_id",
   "metadata": {
    "collapsed": true
   },
   "source": [
    "import glob\n",
    "import importlib\n",
    "from posteriordb import PosteriorDatabase\n",
    "import os\n",
    "from time import time\n",
    "import pangolin as pg\n",
    "import jax\n",
    "import numpy as np\n",
    "from jax import numpy as jnp\n",
    "import numpyro\n",
    "import warnings\n",
    "\n",
    "niter = 1000\n",
    "\n",
    "def aggregate_arrays(original_dict):\n",
    "    new_dict = {}\n",
    "    scalars = {}\n",
    "\n",
    "    for key, value in original_dict.items():\n",
    "        if '[' in key:\n",
    "            prefix = key.split('[')[0]\n",
    "            if prefix not in new_dict:\n",
    "                new_dict[prefix] = []\n",
    "            new_dict[prefix].append(value)\n",
    "        else:\n",
    "            scalars[key] = np.array(value)\n",
    "\n",
    "    for key in new_dict:\n",
    "        new_dict[key] = np.array(new_dict[key]).T\n",
    "\n",
    "    new_dict.update(scalars)\n",
    "    return new_dict\n",
    "\n",
    "def flatten_samps(samps,nsamps):\n",
    "    flat = jax.flatten_util.ravel_pytree(samps)[0]\n",
    "    return np.reshape(flat,[nsamps,len(flat)//nsamps])\n",
    "\n",
    "def wass1(samps,true_samps,nsampsA,nsampsB):\n",
    "    assert samps.keys() == true_samps.keys()\n",
    "    for key in samps.keys():\n",
    "        assert samps[key].shape[1:] == true_samps[key].shape[1:]\n",
    "\n",
    "    A = flatten_samps(samps,nsampsA)\n",
    "    B = flatten_samps(true_samps,nsampsB)\n",
    "    assert A.ndim==2\n",
    "    assert B.ndim==2\n",
    "\n",
    "    A1 = np.sort(A,axis=0)\n",
    "    B1 = np.sort(B,axis=0)\n",
    "\n",
    "    # subsample AFTER sorting\n",
    "    if A1.shape[0] > B1.shape[0]:\n",
    "        extra = A1.shape[0]//B1.shape[0]\n",
    "        A1 = A1[::extra,:]\n",
    "    elif B1.shape[0] > A1.shape[0]:\n",
    "        extra = B1.shape[0]//A1.shape[0]\n",
    "        B1 = B1[::extra,:]\n",
    "\n",
    "    return np.mean(np.sum(np.abs(A1-B1),axis=1))\n",
    "\n",
    "# edit to where wherever you put posteriordb\n",
    "#pdb_path = os.path.join(os.getcwd(), \"posteriordb-master/posterior_database\") \n",
    "pdb_path = os.path.join(os.getcwd(), \"posteriordb-old/posterior_database\") \n",
    "my_pdb = PosteriorDatabase(pdb_path)\n",
    "\n",
    "skip = ['dogs.py']\n",
    "\n",
    "for file in glob.glob('models/*.py'):\n",
    "    print(file)\n",
    "    if any(file.endswith(s) for s in skip):\n",
    "        continue\n",
    "    \n",
    "    module = importlib.import_module(file.replace('/','.')[:-3])\n",
    "    posterior = my_pdb.posterior(module.posterior_name)\n",
    "    values = posterior.data.values()\n",
    "    \n",
    "    ### get reference samples\n",
    "    true_samps = posterior.reference_draws()\n",
    "    # collect string array names (\"beta[1]\", \"beta[2]\", etc.) into single arrays\n",
    "    true_samps = [aggregate_arrays(t) for t in true_samps]\n",
    "    \n",
    "    print(f\"Tesing posterior {module.posterior_name}\")\n",
    "    #print(f\"{module=}\")\n",
    "    #print(f\"{values.keys()=}\")\n",
    "    \n",
    "    vardict, given, vals = module.getmodel(values)\n",
    "\n",
    "    ### OPTION A: do inference using pangolin\n",
    "    samps_pangolin = pg.sample(vardict, given, vals, niter=niter)\n",
    "    \n",
    "    errors = [wass1(samps_pangolin, t, niter, 1000) for t in true_samps]\n",
    "    print(f\"pangolin errors by fold {errors}\")\n",
    "\n",
    "    ### OPTION B: alternatively, compile to a \"plain\" nupyro model ###\n",
    "    # first, flatten everything\n",
    "    flat_vars, vars_pytree = jax.tree_util.tree_flatten(vardict)\n",
    "    flat_given, _ = jax.tree_util.tree_flatten(given)\n",
    "    flat_vals, _ = jax.tree_util.tree_flatten(vals)\n",
    "    # now get the numpyro model\n",
    "    model, var_to_name = pg.inference.numpyro.model.get_model_flat(flat_vars, flat_given, flat_vals)\n",
    "    # model is now a normal numpyro model, you can do normal numpyro stuff with it\n",
    "    kernel = numpyro.infer.NUTS(model)\n",
    "    mcmc = numpyro.infer.MCMC(\n",
    "        kernel,\n",
    "        num_warmup=niter,\n",
    "        num_samples=niter,\n",
    "        progress_bar=False,\n",
    "    )\n",
    "    key = jax.random.PRNGKey(0)\n",
    "    with warnings.catch_warnings(action=\"ignore\", category=FutureWarning):  # type: ignore\n",
    "        mcmc.run(key)\n",
    "    latent_samples = mcmc.get_samples()\n",
    "    latent_samples_flat = [latent_samples[var_to_name[v]] for v in flat_vars]\n",
    "    samps_numpyro = jax.tree_util.tree_unflatten(vars_pytree, latent_samples_flat)\n",
    "    \n",
    "    errors = [wass1(samps_numpyro, t, niter, 1000) for t in true_samps]\n",
    "    print(f\"numpyro errors by fold {errors}\")\n"
   ],
   "outputs": [],
   "execution_count": null
  },
  {
   "metadata": {
    "ExecuteTime": {
     "end_time": "2024-10-23T22:42:28.133910Z",
     "start_time": "2024-10-23T22:42:24.270301Z"
    }
   },
   "cell_type": "code",
   "source": [
    "import glob\n",
    "import importlib\n",
    "from posteriordb import PosteriorDatabase\n",
    "import os\n",
    "from time import time\n",
    "import pangolin as pg\n",
    "import jax\n",
    "import numpy as np\n",
    "from jax import numpy as jnp\n",
    "import numpyro\n",
    "import warnings\n",
    "\n",
    "\n",
    "a = pg.makerv(np.random.randn(10))\n",
    "\n",
    "with pg.Loop(5) as i:\n",
    "   x[i] = a[i:(i+5)]\n",
    "\n",
    "#pg.print_upstream(x)"
   ],
   "id": "2b5daaaffe412731",
   "outputs": [
    {
     "ename": "ValueError",
     "evalue": "Slices with loop start/stop/step not currently supported",
     "output_type": "error",
     "traceback": [
      "\u001B[0;31m---------------------------------------------------------------------------\u001B[0m",
      "\u001B[0;31mValueError\u001B[0m                                Traceback (most recent call last)",
      "Cell \u001B[0;32mIn[1], line 17\u001B[0m\n\u001B[1;32m     14\u001B[0m a \u001B[38;5;241m=\u001B[39m pg\u001B[38;5;241m.\u001B[39mmakerv(np\u001B[38;5;241m.\u001B[39mrandom\u001B[38;5;241m.\u001B[39mrandn(\u001B[38;5;241m10\u001B[39m))\n\u001B[1;32m     16\u001B[0m \u001B[38;5;28;01mwith\u001B[39;00m pg\u001B[38;5;241m.\u001B[39mLoop(\u001B[38;5;241m5\u001B[39m) \u001B[38;5;28;01mas\u001B[39;00m i:\n\u001B[0;32m---> 17\u001B[0m    x[i] \u001B[38;5;241m=\u001B[39m a[i:(i\u001B[38;5;241m+\u001B[39m\u001B[38;5;241m5\u001B[39m)]\n",
      "File \u001B[0;32m~/PycharmProjects/pangolin/pangolin/interface/interface.py:90\u001B[0m, in \u001B[0;36mOperatorRV.__getitem__\u001B[0;34m(self, idx)\u001B[0m\n\u001B[1;32m     87\u001B[0m \u001B[38;5;28;01mif\u001B[39;00m \u001B[38;5;129;01mnot\u001B[39;00m \u001B[38;5;28misinstance\u001B[39m(idx, \u001B[38;5;28mtuple\u001B[39m):\n\u001B[1;32m     88\u001B[0m     idx \u001B[38;5;241m=\u001B[39m (idx,)\n\u001B[0;32m---> 90\u001B[0m \u001B[38;5;28;01mreturn\u001B[39;00m index(\u001B[38;5;28mself\u001B[39m, \u001B[38;5;241m*\u001B[39midx)\n",
      "File \u001B[0;32m~/PycharmProjects/pangolin/pangolin/interface/index.py:95\u001B[0m, in \u001B[0;36mindex\u001B[0;34m(var, *indices)\u001B[0m\n\u001B[1;32m     94\u001B[0m \u001B[38;5;28;01mdef\u001B[39;00m \u001B[38;5;21mindex\u001B[39m(var: RV, \u001B[38;5;241m*\u001B[39mindices: RV \u001B[38;5;241m|\u001B[39m \u001B[38;5;28mslice\u001B[39m):\n\u001B[0;32m---> 95\u001B[0m     \u001B[38;5;28;01mreturn\u001B[39;00m index_funs[\u001B[38;5;241m-\u001B[39m\u001B[38;5;241m1\u001B[39m](var, \u001B[38;5;241m*\u001B[39mindices)\n",
      "File \u001B[0;32m~/PycharmProjects/pangolin/pangolin/interface/loops.py:22\u001B[0m, in \u001B[0;36mlooped_index\u001B[0;34m(var, *idx)\u001B[0m\n\u001B[1;32m     20\u001B[0m     p \u001B[38;5;241m=\u001B[39m \u001B[38;5;28mnext\u001B[39m(p \u001B[38;5;28;01mfor\u001B[39;00m p \u001B[38;5;129;01min\u001B[39;00m idx \u001B[38;5;28;01mif\u001B[39;00m \u001B[38;5;28misinstance\u001B[39m(p,\u001B[38;5;28mslice\u001B[39m))\n\u001B[1;32m     21\u001B[0m     \u001B[38;5;28;01mif\u001B[39;00m \u001B[38;5;28misinstance\u001B[39m(p\u001B[38;5;241m.\u001B[39mstart, Loop) \u001B[38;5;129;01mor\u001B[39;00m \u001B[38;5;28misinstance\u001B[39m(p\u001B[38;5;241m.\u001B[39mstop, Loop) \u001B[38;5;129;01mor\u001B[39;00m \u001B[38;5;28misinstance\u001B[39m(p\u001B[38;5;241m.\u001B[39mstep, Loop):\n\u001B[0;32m---> 22\u001B[0m         \u001B[38;5;28;01mraise\u001B[39;00m \u001B[38;5;167;01mValueError\u001B[39;00m(\u001B[38;5;124m\"\u001B[39m\u001B[38;5;124mSlices with loop start/stop/step not currently supported\u001B[39m\u001B[38;5;124m\"\u001B[39m)\n\u001B[1;32m     25\u001B[0m \u001B[38;5;28;01mif\u001B[39;00m \u001B[38;5;28many\u001B[39m(\u001B[38;5;28misinstance\u001B[39m(p, Loop) \u001B[38;5;28;01mfor\u001B[39;00m p \u001B[38;5;129;01min\u001B[39;00m idx):\n\u001B[1;32m     26\u001B[0m     \u001B[38;5;28;01mfor\u001B[39;00m p \u001B[38;5;129;01min\u001B[39;00m idx:\n",
      "\u001B[0;31mValueError\u001B[0m: Slices with loop start/stop/step not currently supported"
     ]
    }
   ],
   "execution_count": 1
  },
  {
   "metadata": {
    "ExecuteTime": {
     "end_time": "2024-10-23T22:35:40.049320Z",
     "start_time": "2024-10-23T22:35:40.040551Z"
    }
   },
   "cell_type": "code",
   "source": "a",
   "id": "880da690c11f9287",
   "outputs": [
    {
     "data": {
      "text/plain": [
       "OperatorRV(Constant([ 0.70375101  0.53388627 ... -0.19841396\n",
       "  0.62321776]))"
      ]
     },
     "execution_count": 3,
     "metadata": {},
     "output_type": "execute_result"
    }
   ],
   "execution_count": 3
  },
  {
   "metadata": {
    "ExecuteTime": {
     "end_time": "2024-10-24T20:40:59.404625Z",
     "start_time": "2024-10-24T20:40:59.400697Z"
    }
   },
   "cell_type": "code",
   "source": [
    "tmp = np.add.outer(np.arange(5), np.arange(3))\n",
    "print(tmp)"
   ],
   "id": "f3395da7999a98c8",
   "outputs": [
    {
     "name": "stdout",
     "output_type": "stream",
     "text": [
      "[[0 1 2]\n",
      " [1 2 3]\n",
      " [2 3 4]\n",
      " [3 4 5]\n",
      " [4 5 6]]\n"
     ]
    }
   ],
   "execution_count": 7
  },
  {
   "metadata": {
    "ExecuteTime": {
     "end_time": "2024-10-24T20:48:23.747696Z",
     "start_time": "2024-10-24T20:48:23.743679Z"
    }
   },
   "cell_type": "code",
   "source": [
    "x = pg.slot()\n",
    "with pg.Loop(3) as i:\n",
    "    x[i] = i+3"
   ],
   "id": "2b53288e295f7a5d",
   "outputs": [],
   "execution_count": 15
  },
  {
   "metadata": {
    "ExecuteTime": {
     "end_time": "2024-10-24T20:48:28.317611Z",
     "start_time": "2024-10-24T20:48:28.173347Z"
    }
   },
   "cell_type": "code",
   "source": "pg.E(x)",
   "id": "1520d867d0a19b81",
   "outputs": [
    {
     "data": {
      "text/plain": [
       "Array([3., 4., 5.], dtype=float32)"
      ]
     },
     "execution_count": 17,
     "metadata": {},
     "output_type": "execute_result"
    }
   ],
   "execution_count": 17
  },
  {
   "metadata": {
    "ExecuteTime": {
     "end_time": "2024-10-24T20:48:40.736229Z",
     "start_time": "2024-10-24T20:48:40.731094Z"
    }
   },
   "cell_type": "code",
   "source": "pg.print_upstream(x)",
   "id": "6b5bd7c69266f2f5",
   "outputs": [
    {
     "name": "stdout",
     "output_type": "stream",
     "text": [
      "shape | statement\n",
      "----- | ---------\n",
      "(3,)  | a = [0 1 2]\n",
      "()    | b = 3\n",
      "(3,)  | c = VMap(add,(0, '∅'),3)(a,b)\n"
     ]
    }
   ],
   "execution_count": 18
  },
  {
   "metadata": {},
   "cell_type": "code",
   "outputs": [],
   "execution_count": null,
   "source": "",
   "id": "6236e91bef14b303"
  }
 ],
 "metadata": {
  "kernelspec": {
   "display_name": "Python 3",
   "language": "python",
   "name": "python3"
  },
  "language_info": {
   "codemirror_mode": {
    "name": "ipython",
    "version": 2
   },
   "file_extension": ".py",
   "mimetype": "text/x-python",
   "name": "python",
   "nbconvert_exporter": "python",
   "pygments_lexer": "ipython2",
   "version": "2.7.6"
  }
 },
 "nbformat": 4,
 "nbformat_minor": 5
}
