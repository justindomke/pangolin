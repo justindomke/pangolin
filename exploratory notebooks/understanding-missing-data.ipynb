{
 "cells": [
  {
   "cell_type": "code",
   "execution_count": 11,
   "metadata": {
    "collapsed": true
   },
   "outputs": [
    {
     "name": "stderr",
     "output_type": "stream",
     "text": [
      "sample: 100%|██████████| 2000/2000 [00:01<00:00, 1015.90it/s, 7 steps of size 3.67e-01. acc. prob=0.92]"
     ]
    },
    {
     "name": "stdout",
     "output_type": "stream",
     "text": [
      "[0.1608343  0.1762394  0.15983294 0.16351682 0.17033295]\n"
     ]
    },
    {
     "name": "stderr",
     "output_type": "stream",
     "text": [
      "\n"
     ]
    }
   ],
   "source": [
    "# base model in numpyro\n",
    "\n",
    "import jax\n",
    "import numpyro\n",
    "from jax import numpy as jnp\n",
    "from numpyro.infer import MCMC, NUTS\n",
    "dist = numpyro.distributions\n",
    "\n",
    "scale = jnp.ones(5)\n",
    "\n",
    "def model():\n",
    "    z = numpyro.sample(\"z\",dist.Normal(0,1))\n",
    "    x = numpyro.sample(\"x\",dist.Normal(z,scale))\n",
    "\n",
    "kernel = NUTS(model)\n",
    "mcmc = MCMC(kernel, num_warmup=1000, num_samples=1000)\n",
    "key = jax.random.PRNGKey(0)\n",
    "mcmc.run(key)\n",
    "xs = mcmc.get_samples()['x']\n",
    "print(jnp.mean(xs,axis=0))"
   ]
  },
  {
   "cell_type": "code",
   "execution_count": 21,
   "outputs": [
    {
     "name": "stderr",
     "output_type": "stream",
     "text": [
      "sample: 100%|██████████| 11000/11000 [00:04<00:00, 2524.93it/s, 7 steps of size 5.66e-01. acc. prob=0.92] "
     ]
    },
    {
     "name": "stdout",
     "output_type": "stream",
     "text": [
      "[0.6402163  0.63642496 0.6509023 ]\n",
      "expected_mean=0.6666666666666666\n"
     ]
    },
    {
     "name": "stderr",
     "output_type": "stream",
     "text": [
      "\n"
     ]
    }
   ],
   "source": [
    "# numpyro seems to have no built-in support for missing data\n",
    "# instead you just need to kind of deal with it yourself\n",
    "\n",
    "x_obs = jnp.array([-1,3,jnp.nan,jnp.nan,jnp.nan])\n",
    "\n",
    "def model():\n",
    "    z = numpyro.sample(\"z\",dist.Normal(0,1))\n",
    "    x1 = numpyro.sample(\"x1\",dist.Normal(z,scale[:2]),obs=x_obs[:2])\n",
    "    x2 = numpyro.sample(\"x2\",dist.Normal(z,scale[2:]))\n",
    "\n",
    "kernel = NUTS(model)\n",
    "mcmc = MCMC(kernel, num_warmup=1000, num_samples=10000)\n",
    "key = jax.random.PRNGKey(1)\n",
    "mcmc.run(key)\n",
    "xs = mcmc.get_samples()['x2']\n",
    "print(jnp.mean(xs,axis=0))\n",
    "\n",
    "expected_mean = (0 -1+3)/3\n",
    "\n",
    "print(f\"{expected_mean=}\")"
   ],
   "metadata": {
    "collapsed": false
   }
  },
  {
   "cell_type": "code",
   "execution_count": null,
   "outputs": [],
   "source": [],
   "metadata": {
    "collapsed": false
   }
  }
 ],
 "metadata": {
  "kernelspec": {
   "display_name": "Python 3",
   "language": "python",
   "name": "python3"
  },
  "language_info": {
   "codemirror_mode": {
    "name": "ipython",
    "version": 2
   },
   "file_extension": ".py",
   "mimetype": "text/x-python",
   "name": "python",
   "nbconvert_exporter": "python",
   "pygments_lexer": "ipython2",
   "version": "2.7.6"
  }
 },
 "nbformat": 4,
 "nbformat_minor": 0
}
