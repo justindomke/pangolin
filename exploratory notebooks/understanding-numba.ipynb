{
 "cells": [
  {
   "cell_type": "code",
   "execution_count": 66,
   "metadata": {
    "collapsed": true
   },
   "outputs": [],
   "source": [
    "import numba\n",
    "import numpy as np"
   ]
  },
  {
   "cell_type": "code",
   "execution_count": 62,
   "outputs": [
    {
     "name": "stdout",
     "output_type": "stream",
     "text": [
      "f(x,N)=1.2649109059538203e+17 fast_f(x,N)=1.2649109059538203e+17\n",
      "\n",
      "time for naive python code\n",
      "CPU times: user 961 ms, sys: 3.37 ms, total: 965 ms\n",
      "Wall time: 967 ms\n",
      "\n",
      "time for JIT-ed code code\n",
      "CPU times: user 308 ms, sys: 1.41 ms, total: 309 ms\n",
      "Wall time: 309 ms\n"
     ]
    },
    {
     "data": {
      "text/plain": "1.2649109059538203e+17"
     },
     "execution_count": 62,
     "metadata": {},
     "output_type": "execute_result"
    }
   ],
   "source": [
    "# simple example of using numba\n",
    "# in this case, the native python code is surprisingly OK!\n",
    "# the C code below is only slightly faster than the numba version\n",
    "\n",
    "def f(x,N):\n",
    "    tmp = 0\n",
    "    for i in range(N):\n",
    "        tmp += i**x\n",
    "    return tmp\n",
    "\n",
    "x = 1.5\n",
    "N = 10000000\n",
    "\n",
    "fast_f = numba.jit(nopython=True)(f)\n",
    "\n",
    "print(f\"{f(x,N)=} {fast_f(x,N)=}\")\n",
    "\n",
    "print(\"\")\n",
    "print(\"time for naive python code\")\n",
    "%time f(x,N)\n",
    "\n",
    "print(\"\")\n",
    "print(\"time for JIT-ed code code\")\n",
    "%time fast_f(x,N)"
   ],
   "metadata": {
    "collapsed": false
   }
  },
  {
   "cell_type": "code",
   "execution_count": 65,
   "outputs": [
    {
     "name": "stdout",
     "output_type": "stream",
     "text": [
      "126491090595382032.000000"
     ]
    },
    {
     "name": "stderr",
     "output_type": "stream",
     "text": [
      "\n",
      "real\t0m0.273s\n",
      "user\t0m0.203s\n",
      "sys\t0m0.004s\n"
     ]
    },
    {
     "data": {
      "text/plain": "0"
     },
     "execution_count": 65,
     "metadata": {},
     "output_type": "execute_result"
    }
   ],
   "source": [
    "# c code equivalent\n",
    "\n",
    "code = \"\"\"\n",
    "#import <math.h>\n",
    "#import <stdlib.h>\n",
    "#include <stdio.h>\n",
    "double f(double x, int N){\n",
    "    double tmp = 0;\n",
    "    for(int i=0; i<N; i++){\n",
    "        tmp += pow(i,x);\n",
    "    }\n",
    "    return(tmp);\n",
    "}\n",
    "int main(int argc, char *argv[]){\n",
    "    char* pEnd;\n",
    "    double x = strtof(argv[1], &pEnd);\n",
    "    double N = strtof(argv[2], &pEnd);\n",
    "    printf(\"%f\",f(x,N));\n",
    "}\n",
    "\"\"\"\n",
    "f = open(\"tmp.c\",\"w\")\n",
    "f.write(code)\n",
    "f.close()\n",
    "import os\n",
    "os.system(\"gcc -O2 tmp.c\")\n",
    "os.system(f\"time ./a.out {x} {N};\")"
   ],
   "metadata": {
    "collapsed": false
   }
  },
  {
   "cell_type": "code",
   "execution_count": 93,
   "outputs": [
    {
     "name": "stdout",
     "output_type": "stream",
     "text": [
      "\n",
      "time for naive python code\n",
      "CPU times: user 3.21 s, sys: 33.5 ms, total: 3.25 s\n",
      "Wall time: 1.94 s\n",
      "\n",
      "time for JIT-ed code code\n",
      "CPU times: user 3.22 ms, sys: 1 µs, total: 3.22 ms\n",
      "Wall time: 3.24 ms\n"
     ]
    }
   ],
   "source": [
    "# better example—matrix multiplication\n",
    "\n",
    "def f(X,Y):\n",
    "    out = np.zeros((X.shape[0],Y.shape[1]))\n",
    "    for i in range(X.shape[0]):\n",
    "        for j in range(Y.shape[1]):\n",
    "            for k in range(X.shape[1]):\n",
    "                out[i,j] += X[i,k] * Y[k,j]\n",
    "    return out\n",
    "\n",
    "X = np.random.randn(100,150)\n",
    "Y = np.random.randn(150,200)\n",
    "\n",
    "fast_f = numba.jit(nopython=True)(f)\n",
    "\n",
    "assert np.allclose(f(X,Y),fast_f(X,Y))\n",
    "assert np.allclose(fast_f(X,Y), X @ Y)\n",
    "\n",
    "print(\"\")\n",
    "print(\"time for naive python code\")\n",
    "%time f(X,Y)\n",
    "\n",
    "print(\"\")\n",
    "print(\"time for JIT-ed code code\")\n",
    "%time fast_f(X,Y);"
   ],
   "metadata": {
    "collapsed": false
   }
  },
  {
   "cell_type": "code",
   "execution_count": 113,
   "outputs": [
    {
     "ename": "TypingError",
     "evalue": "Failed in nopython mode pipeline (step: nopython frontend)\nUnknown attribute 'shape' of type Array\n\nFile \"../../../../../var/folders/5z/ngs4vf717m12n9fd_sfbyyyw0000gn/T/ipykernel_5045/498799954.py\", line 45:\n<source missing, REPL/exec in use?>\n\nDuring: typing of get attribute at /var/folders/5z/ngs4vf717m12n9fd_sfbyyyw0000gn/T/ipykernel_5045/498799954.py (45)\n\nFile \"../../../../../var/folders/5z/ngs4vf717m12n9fd_sfbyyyw0000gn/T/ipykernel_5045/498799954.py\", line 45:\n<source missing, REPL/exec in use?>\n",
     "output_type": "error",
     "traceback": [
      "\u001B[0;31m---------------------------------------------------------------------------\u001B[0m",
      "\u001B[0;31mTypingError\u001B[0m                               Traceback (most recent call last)",
      "Cell \u001B[0;32mIn[113], line 55\u001B[0m\n\u001B[1;32m     52\u001B[0m fast_f \u001B[38;5;241m=\u001B[39m numba\u001B[38;5;241m.\u001B[39mjit(nopython\u001B[38;5;241m=\u001B[39m\u001B[38;5;28;01mTrue\u001B[39;00m)(f)\n\u001B[1;32m     54\u001B[0m Z \u001B[38;5;241m=\u001B[39m f(X,Y)\n\u001B[0;32m---> 55\u001B[0m Z2 \u001B[38;5;241m=\u001B[39m fast_f(X,Y)\n\u001B[1;32m     56\u001B[0m \u001B[38;5;28;01massert\u001B[39;00m np\u001B[38;5;241m.\u001B[39mallclose(Z\u001B[38;5;241m.\u001B[39mdata,Z2\u001B[38;5;241m.\u001B[39mdata)\n",
      "File \u001B[0;32m/opt/anaconda3/envs/pangolin-new/lib/python3.12/site-packages/numba/core/dispatcher.py:468\u001B[0m, in \u001B[0;36m_DispatcherBase._compile_for_args\u001B[0;34m(self, *args, **kws)\u001B[0m\n\u001B[1;32m    464\u001B[0m         msg \u001B[38;5;241m=\u001B[39m (\u001B[38;5;124mf\u001B[39m\u001B[38;5;124m\"\u001B[39m\u001B[38;5;132;01m{\u001B[39;00m\u001B[38;5;28mstr\u001B[39m(e)\u001B[38;5;241m.\u001B[39mrstrip()\u001B[38;5;132;01m}\u001B[39;00m\u001B[38;5;124m \u001B[39m\u001B[38;5;130;01m\\n\u001B[39;00m\u001B[38;5;130;01m\\n\u001B[39;00m\u001B[38;5;124mThis error may have been caused \u001B[39m\u001B[38;5;124m\"\u001B[39m\n\u001B[1;32m    465\u001B[0m                \u001B[38;5;124mf\u001B[39m\u001B[38;5;124m\"\u001B[39m\u001B[38;5;124mby the following argument(s):\u001B[39m\u001B[38;5;130;01m\\n\u001B[39;00m\u001B[38;5;132;01m{\u001B[39;00margs_str\u001B[38;5;132;01m}\u001B[39;00m\u001B[38;5;130;01m\\n\u001B[39;00m\u001B[38;5;124m\"\u001B[39m)\n\u001B[1;32m    466\u001B[0m         e\u001B[38;5;241m.\u001B[39mpatch_message(msg)\n\u001B[0;32m--> 468\u001B[0m     error_rewrite(e, \u001B[38;5;124m'\u001B[39m\u001B[38;5;124mtyping\u001B[39m\u001B[38;5;124m'\u001B[39m)\n\u001B[1;32m    469\u001B[0m \u001B[38;5;28;01mexcept\u001B[39;00m errors\u001B[38;5;241m.\u001B[39mUnsupportedError \u001B[38;5;28;01mas\u001B[39;00m e:\n\u001B[1;32m    470\u001B[0m     \u001B[38;5;66;03m# Something unsupported is present in the user code, add help info\u001B[39;00m\n\u001B[1;32m    471\u001B[0m     error_rewrite(e, \u001B[38;5;124m'\u001B[39m\u001B[38;5;124munsupported_error\u001B[39m\u001B[38;5;124m'\u001B[39m)\n",
      "File \u001B[0;32m/opt/anaconda3/envs/pangolin-new/lib/python3.12/site-packages/numba/core/dispatcher.py:409\u001B[0m, in \u001B[0;36m_DispatcherBase._compile_for_args.<locals>.error_rewrite\u001B[0;34m(e, issue_type)\u001B[0m\n\u001B[1;32m    407\u001B[0m     \u001B[38;5;28;01mraise\u001B[39;00m e\n\u001B[1;32m    408\u001B[0m \u001B[38;5;28;01melse\u001B[39;00m:\n\u001B[0;32m--> 409\u001B[0m     \u001B[38;5;28;01mraise\u001B[39;00m e\u001B[38;5;241m.\u001B[39mwith_traceback(\u001B[38;5;28;01mNone\u001B[39;00m)\n",
      "\u001B[0;31mTypingError\u001B[0m: Failed in nopython mode pipeline (step: nopython frontend)\nUnknown attribute 'shape' of type Array\n\nFile \"../../../../../var/folders/5z/ngs4vf717m12n9fd_sfbyyyw0000gn/T/ipykernel_5045/498799954.py\", line 45:\n<source missing, REPL/exec in use?>\n\nDuring: typing of get attribute at /var/folders/5z/ngs4vf717m12n9fd_sfbyyyw0000gn/T/ipykernel_5045/498799954.py (45)\n\nFile \"../../../../../var/folders/5z/ngs4vf717m12n9fd_sfbyyyw0000gn/T/ipykernel_5045/498799954.py\", line 45:\n<source missing, REPL/exec in use?>\n"
     ]
    }
   ],
   "source": [
    "# now—could we do something interesting using a custom class?\n",
    "\n",
    "class Array:\n",
    "    def __init__(self, shape):\n",
    "        self.data = np.zeros(shape)\n",
    "    def __getitem__(self,idx):\n",
    "        return self.data.__getitem__(idx)\n",
    "    def __setitem__(self,idx,value):\n",
    "        self.data.__setitem__(idx,value)\n",
    "    @property\n",
    "    def shape(self):\n",
    "        return self.data.shape\n",
    "\n",
    "class ArrayType(numba.types.Type):\n",
    "    def __init__(self):\n",
    "        super(ArrayType, self).__init__(name='Array')\n",
    "\n",
    "array_type = ArrayType()\n",
    "\n",
    "\n",
    "@numba.extending.typeof_impl.register(Array)\n",
    "def typeof_index(val, c):\n",
    "    return array_type\n",
    "\n",
    "numba.extending.as_numba_type.register(Array, array_type)\n",
    "\n",
    "@numba.extending.type_callable(Array)\n",
    "def type_interval(context):\n",
    "    def typer(shape):\n",
    "        if all(isinstance(i,int) for i in shape):\n",
    "            return array_type\n",
    "    return typer\n",
    "\n",
    "def randn(*sizes):\n",
    "    X = Array(sizes)\n",
    "    X.data = np.random.randn(*sizes)\n",
    "    return X\n",
    "\n",
    "X = randn(10,15)\n",
    "Y = randn(15,20)\n",
    "\n",
    "# better example—matrix multiplication\n",
    "\n",
    "def f(X,Y):\n",
    "    out = Array((X.shape[0],Y.shape[1]))\n",
    "    for i in range(X.shape[0]):\n",
    "        for j in range(Y.shape[1]):\n",
    "            for k in range(X.shape[1]):\n",
    "                out[i,j] += X[i,k] * Y[k,j]\n",
    "    return out\n",
    "\n",
    "fast_f = numba.jit(nopython=True)(f)\n",
    "\n",
    "Z = f(X,Y)\n",
    "Z2 = fast_f(X,Y)\n",
    "assert np.allclose(Z.data,Z2.data)"
   ],
   "metadata": {
    "collapsed": false
   }
  },
  {
   "cell_type": "code",
   "execution_count": null,
   "outputs": [],
   "source": [],
   "metadata": {
    "collapsed": false
   }
  }
 ],
 "metadata": {
  "kernelspec": {
   "display_name": "Python 3",
   "language": "python",
   "name": "python3"
  },
  "language_info": {
   "codemirror_mode": {
    "name": "ipython",
    "version": 2
   },
   "file_extension": ".py",
   "mimetype": "text/x-python",
   "name": "python",
   "nbconvert_exporter": "python",
   "pygments_lexer": "ipython2",
   "version": "2.7.6"
  }
 },
 "nbformat": 4,
 "nbformat_minor": 0
}
