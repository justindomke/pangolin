{
 "cells": [
  {
   "cell_type": "code",
   "execution_count": 45,
   "metadata": {
    "collapsed": true
   },
   "outputs": [
    {
     "name": "stdout",
     "output_type": "stream",
     "text": [
      "scores.shape=(4,)\n",
      "s_obs.shape=()\n"
     ]
    },
    {
     "ename": "ValueError",
     "evalue": "Failed to get source info for Stan model '/Users/j/PycharmProjects/pangolin/exploratory notebooks/.stan/model61eb7667.stan'. Console:\nSemantic error in '/Users/j/PycharmProjects/pangolin/exploratory notebooks/.stan/model61eb7667.stan', line 35, column 13 to column 17:\n   -------------------------------------------------\n    33:  v19[l0]=v17[1+v18[l0]];\n    34:  }\n    35:  for (i0 in 1:None){\n                      ^\n    36:      v20[i0] = (v9[i0]) + (v19[i0]);\n    37:  }\n   -------------------------------------------------\n\nIdentifier 'None' not in scope. Did you mean 'conj'?\n",
     "output_type": "error",
     "traceback": [
      "\u001B[0;31m---------------------------------------------------------------------------\u001B[0m",
      "\u001B[0;31mValueError\u001B[0m                                Traceback (most recent call last)",
      "Cell \u001B[0;32mIn[45], line 24\u001B[0m\n\u001B[1;32m     22\u001B[0m x_obs \u001B[38;5;241m=\u001B[39m np\u001B[38;5;241m.\u001B[39marray([\u001B[38;5;241m1.1\u001B[39m,\u001B[38;5;241m2.2\u001B[39m,\u001B[38;5;241m3.3\u001B[39m,\u001B[38;5;241m4.4\u001B[39m])\n\u001B[1;32m     23\u001B[0m calc \u001B[38;5;241m=\u001B[39m Calculate(inference_stan,niter\u001B[38;5;241m=\u001B[39m\u001B[38;5;241m1000\u001B[39m)\n\u001B[0;32m---> 24\u001B[0m calc\u001B[38;5;241m.\u001B[39mE(scores)\n",
      "File \u001B[0;32m~/PycharmProjects/pangolin/pangolin/calculate.py:159\u001B[0m, in \u001B[0;36mCalculate.E\u001B[0;34m(self, vars, given_vars, given_vals)\u001B[0m\n\u001B[1;32m    158\u001B[0m \u001B[38;5;28;01mdef\u001B[39;00m \u001B[38;5;21mE\u001B[39m(\u001B[38;5;28mself\u001B[39m, \u001B[38;5;28mvars\u001B[39m, given_vars\u001B[38;5;241m=\u001B[39m\u001B[38;5;28;01mNone\u001B[39;00m, given_vals\u001B[38;5;241m=\u001B[39m\u001B[38;5;28;01mNone\u001B[39;00m):\n\u001B[0;32m--> 159\u001B[0m     \u001B[38;5;28;01mreturn\u001B[39;00m \u001B[38;5;28mself\u001B[39m\u001B[38;5;241m.\u001B[39msample(\u001B[38;5;28mvars\u001B[39m, given_vars, given_vals, \u001B[38;5;28;01mlambda\u001B[39;00m x: np\u001B[38;5;241m.\u001B[39mmean(x, axis\u001B[38;5;241m=\u001B[39m\u001B[38;5;241m0\u001B[39m))\n",
      "File \u001B[0;32m~/PycharmProjects/pangolin/pangolin/calculate.py:93\u001B[0m, in \u001B[0;36mCalculate.sample\u001B[0;34m(self, vars, given_vars, given_vals, reduce_fn, mode, **vargs)\u001B[0m\n\u001B[1;32m     89\u001B[0m         flat_samps \u001B[38;5;241m=\u001B[39m \u001B[38;5;28mself\u001B[39m\u001B[38;5;241m.\u001B[39minference\u001B[38;5;241m.\u001B[39msample_flat(\n\u001B[1;32m     90\u001B[0m             flat_vars, flat_given_vars, flat_given_vals, \u001B[38;5;241m*\u001B[39m\u001B[38;5;241m*\u001B[39mvargs, \u001B[38;5;241m*\u001B[39m\u001B[38;5;241m*\u001B[39m\u001B[38;5;28mself\u001B[39m\u001B[38;5;241m.\u001B[39moptions\n\u001B[1;32m     91\u001B[0m         )\n\u001B[1;32m     92\u001B[0m \u001B[38;5;28;01melif\u001B[39;00m mode \u001B[38;5;241m==\u001B[39m \u001B[38;5;124m\"\u001B[39m\u001B[38;5;124mmcmc\u001B[39m\u001B[38;5;124m\"\u001B[39m:\n\u001B[0;32m---> 93\u001B[0m     flat_samps \u001B[38;5;241m=\u001B[39m \u001B[38;5;28mself\u001B[39m\u001B[38;5;241m.\u001B[39minference\u001B[38;5;241m.\u001B[39msample_flat(\n\u001B[1;32m     94\u001B[0m         flat_vars, flat_given_vars, flat_given_vals, \u001B[38;5;241m*\u001B[39m\u001B[38;5;241m*\u001B[39mvargs, \u001B[38;5;241m*\u001B[39m\u001B[38;5;241m*\u001B[39m\u001B[38;5;28mself\u001B[39m\u001B[38;5;241m.\u001B[39moptions\n\u001B[1;32m     95\u001B[0m     )\n\u001B[1;32m     96\u001B[0m \u001B[38;5;28;01melif\u001B[39;00m mode \u001B[38;5;241m==\u001B[39m \u001B[38;5;124m\"\u001B[39m\u001B[38;5;124mancestor\u001B[39m\u001B[38;5;124m\"\u001B[39m:\n\u001B[1;32m     97\u001B[0m     flat_samps \u001B[38;5;241m=\u001B[39m \u001B[38;5;28mself\u001B[39m\u001B[38;5;241m.\u001B[39minference\u001B[38;5;241m.\u001B[39mancestor_sample_flat(\n\u001B[1;32m     98\u001B[0m         flat_vars, flat_given_vars, flat_given_vals, \u001B[38;5;241m*\u001B[39m\u001B[38;5;241m*\u001B[39mvargs, \u001B[38;5;241m*\u001B[39m\u001B[38;5;241m*\u001B[39m\u001B[38;5;28mself\u001B[39m\u001B[38;5;241m.\u001B[39moptions\n\u001B[1;32m     99\u001B[0m     )\n",
      "File \u001B[0;32m~/PycharmProjects/pangolin/pangolin/inference_stan.py:432\u001B[0m, in \u001B[0;36msample_flat\u001B[0;34m(requested_vars, given_vars, given_vals, niter)\u001B[0m\n\u001B[1;32m    424\u001B[0m code, monitor_vars, evidence \u001B[38;5;241m=\u001B[39m stan_code_flat(requested_vars, given_vars, given_vals)\n\u001B[1;32m    426\u001B[0m \u001B[38;5;66;03m# print(\"CODE\")\u001B[39;00m\n\u001B[1;32m    427\u001B[0m \u001B[38;5;66;03m# print(code)\u001B[39;00m\n\u001B[1;32m    428\u001B[0m \n\u001B[1;32m    429\u001B[0m \u001B[38;5;66;03m# print(\"EVIDENCE\")\u001B[39;00m\n\u001B[1;32m    430\u001B[0m \u001B[38;5;66;03m# print(evidence)\u001B[39;00m\n\u001B[0;32m--> 432\u001B[0m results \u001B[38;5;241m=\u001B[39m ezstan\u001B[38;5;241m.\u001B[39mstan(code, monitor_vars, niter\u001B[38;5;241m=\u001B[39mniter, nchains\u001B[38;5;241m=\u001B[39m\u001B[38;5;241m1\u001B[39m, \u001B[38;5;241m*\u001B[39m\u001B[38;5;241m*\u001B[39mevidence)\n\u001B[1;32m    434\u001B[0m \u001B[38;5;28;01mreturn\u001B[39;00m results\n",
      "File \u001B[0;32m~/PycharmProjects/pangolin/pangolin/ezstan.py:60\u001B[0m, in \u001B[0;36mstan\u001B[0;34m(code, monitor_vars, alg, inits, niter, nchains, **evidence)\u001B[0m\n\u001B[1;32m     56\u001B[0m \u001B[38;5;66;03m# unclear if this option actually does anything\u001B[39;00m\n\u001B[1;32m     57\u001B[0m \u001B[38;5;66;03m# logger = logging.getLogger(\"simple_example\")\u001B[39;00m\n\u001B[1;32m     58\u001B[0m \u001B[38;5;66;03m# logger.setLevel(logging.WARNING)\u001B[39;00m\n\u001B[1;32m     59\u001B[0m t0 \u001B[38;5;241m=\u001B[39m time\u001B[38;5;241m.\u001B[39mtime()\n\u001B[0;32m---> 60\u001B[0m model \u001B[38;5;241m=\u001B[39m CmdStanModel(stan_file\u001B[38;5;241m=\u001B[39mstan_file, cpp_options\u001B[38;5;241m=\u001B[39mcpp_options)\n\u001B[1;32m     61\u001B[0m t1 \u001B[38;5;241m=\u001B[39m time\u001B[38;5;241m.\u001B[39mtime()\n\u001B[1;32m     62\u001B[0m \u001B[38;5;28mprint\u001B[39m(\u001B[38;5;124mf\u001B[39m\u001B[38;5;124m\"\u001B[39m\u001B[38;5;132;01m{\u001B[39;00mt1\u001B[38;5;241m-\u001B[39mt0\u001B[38;5;132;01m=}\u001B[39;00m\u001B[38;5;124m\"\u001B[39m)\n",
      "File \u001B[0;32m/opt/anaconda3/envs/pangolin-new/lib/python3.12/site-packages/cmdstanpy/model.py:215\u001B[0m, in \u001B[0;36mCmdStanModel.__init__\u001B[0;34m(self, model_name, stan_file, exe_file, force_compile, stanc_options, cpp_options, user_header, compile)\u001B[0m\n\u001B[1;32m    211\u001B[0m \u001B[38;5;28;01mif\u001B[39;00m \u001B[38;5;129;01mnot\u001B[39;00m cmdstan_version_before(\n\u001B[1;32m    212\u001B[0m     \u001B[38;5;241m2\u001B[39m, \u001B[38;5;241m27\u001B[39m\n\u001B[1;32m    213\u001B[0m ):  \u001B[38;5;66;03m# unknown end of version range\u001B[39;00m\n\u001B[1;32m    214\u001B[0m     \u001B[38;5;28;01mtry\u001B[39;00m:\n\u001B[0;32m--> 215\u001B[0m         model_info \u001B[38;5;241m=\u001B[39m \u001B[38;5;28mself\u001B[39m\u001B[38;5;241m.\u001B[39msrc_info()\n\u001B[1;32m    216\u001B[0m         \u001B[38;5;28;01mif\u001B[39;00m \u001B[38;5;124m'\u001B[39m\u001B[38;5;124mparameters\u001B[39m\u001B[38;5;124m'\u001B[39m \u001B[38;5;129;01min\u001B[39;00m model_info:\n\u001B[1;32m    217\u001B[0m             \u001B[38;5;28mself\u001B[39m\u001B[38;5;241m.\u001B[39m_fixed_param \u001B[38;5;241m|\u001B[39m\u001B[38;5;241m=\u001B[39m \u001B[38;5;28mlen\u001B[39m(model_info[\u001B[38;5;124m'\u001B[39m\u001B[38;5;124mparameters\u001B[39m\u001B[38;5;124m'\u001B[39m]) \u001B[38;5;241m==\u001B[39m \u001B[38;5;241m0\u001B[39m\n",
      "File \u001B[0;32m/opt/anaconda3/envs/pangolin-new/lib/python3.12/site-packages/cmdstanpy/model.py:321\u001B[0m, in \u001B[0;36mCmdStanModel.src_info\u001B[0;34m(self)\u001B[0m\n\u001B[1;32m    319\u001B[0m \u001B[38;5;28;01mif\u001B[39;00m \u001B[38;5;28mself\u001B[39m\u001B[38;5;241m.\u001B[39mstan_file \u001B[38;5;129;01mis\u001B[39;00m \u001B[38;5;28;01mNone\u001B[39;00m \u001B[38;5;129;01mor\u001B[39;00m cmdstan_version_before(\u001B[38;5;241m2\u001B[39m, \u001B[38;5;241m27\u001B[39m):\n\u001B[1;32m    320\u001B[0m     \u001B[38;5;28;01mreturn\u001B[39;00m {}\n\u001B[0;32m--> 321\u001B[0m \u001B[38;5;28;01mreturn\u001B[39;00m compilation\u001B[38;5;241m.\u001B[39msrc_info(\u001B[38;5;28mstr\u001B[39m(\u001B[38;5;28mself\u001B[39m\u001B[38;5;241m.\u001B[39mstan_file), \u001B[38;5;28mself\u001B[39m\u001B[38;5;241m.\u001B[39m_compiler_options)\n",
      "File \u001B[0;32m/opt/anaconda3/envs/pangolin-new/lib/python3.12/site-packages/cmdstanpy/compilation.py:355\u001B[0m, in \u001B[0;36msrc_info\u001B[0;34m(stan_file, compiler_options)\u001B[0m\n\u001B[1;32m    353\u001B[0m proc \u001B[38;5;241m=\u001B[39m subprocess\u001B[38;5;241m.\u001B[39mrun(cmd, capture_output\u001B[38;5;241m=\u001B[39m\u001B[38;5;28;01mTrue\u001B[39;00m, text\u001B[38;5;241m=\u001B[39m\u001B[38;5;28;01mTrue\u001B[39;00m, check\u001B[38;5;241m=\u001B[39m\u001B[38;5;28;01mFalse\u001B[39;00m)\n\u001B[1;32m    354\u001B[0m \u001B[38;5;28;01mif\u001B[39;00m proc\u001B[38;5;241m.\u001B[39mreturncode:\n\u001B[0;32m--> 355\u001B[0m     \u001B[38;5;28;01mraise\u001B[39;00m \u001B[38;5;167;01mValueError\u001B[39;00m(\n\u001B[1;32m    356\u001B[0m         \u001B[38;5;124mf\u001B[39m\u001B[38;5;124m\"\u001B[39m\u001B[38;5;124mFailed to get source info for Stan model \u001B[39m\u001B[38;5;124m\"\u001B[39m\n\u001B[1;32m    357\u001B[0m         \u001B[38;5;124mf\u001B[39m\u001B[38;5;124m\"\u001B[39m\u001B[38;5;124m'\u001B[39m\u001B[38;5;132;01m{\u001B[39;00mstan_file\u001B[38;5;132;01m}\u001B[39;00m\u001B[38;5;124m'\u001B[39m\u001B[38;5;124m. Console:\u001B[39m\u001B[38;5;130;01m\\n\u001B[39;00m\u001B[38;5;132;01m{\u001B[39;00mproc\u001B[38;5;241m.\u001B[39mstderr\u001B[38;5;132;01m}\u001B[39;00m\u001B[38;5;124m\"\u001B[39m\n\u001B[1;32m    358\u001B[0m     )\n\u001B[1;32m    359\u001B[0m result: Dict[\u001B[38;5;28mstr\u001B[39m, Any] \u001B[38;5;241m=\u001B[39m json\u001B[38;5;241m.\u001B[39mloads(proc\u001B[38;5;241m.\u001B[39mstdout)\n\u001B[1;32m    360\u001B[0m \u001B[38;5;28;01mreturn\u001B[39;00m result\n",
      "\u001B[0;31mValueError\u001B[0m: Failed to get source info for Stan model '/Users/j/PycharmProjects/pangolin/exploratory notebooks/.stan/model61eb7667.stan'. Console:\nSemantic error in '/Users/j/PycharmProjects/pangolin/exploratory notebooks/.stan/model61eb7667.stan', line 35, column 13 to column 17:\n   -------------------------------------------------\n    33:  v19[l0]=v17[1+v18[l0]];\n    34:  }\n    35:  for (i0 in 1:None){\n                      ^\n    36:      v20[i0] = (v9[i0]) + (v19[i0]);\n    37:  }\n   -------------------------------------------------\n\nIdentifier 'None' not in scope. Did you mean 'conj'?\n"
     ]
    }
   ],
   "source": [
    "from pangolin import *\n",
    "import numpy as np\n",
    "n_brood = 2\n",
    "n_location = 2\n",
    "g1 = makerv([0,1,0,1])\n",
    "g2 = makerv([1,1,0,0])\n",
    "year = makerv([1.,2,3,4])\n",
    "height = makerv([4.,2,2,4])\n",
    "m_brood = normal(0,1)\n",
    "s_brood = abs(normal(0,5))\n",
    "brood = vmap(normal,None,axis_size=n_brood)(m_brood,s_brood)\n",
    "m_location = normal(0,1)\n",
    "s_location = abs(normal(0,5))\n",
    "location = vmap(normal,(None,None),axis_size=n_location)(m_location,s_location)\n",
    "s_obs = abs(normal(0,5))\n",
    "y = normal(0,1)\n",
    "h = normal(0,1)\n",
    "scores = brood[g1]+location[g2] # + year*y + height*h\n",
    "print(f\"{scores.shape=}\")\n",
    "print(f\"{s_obs.shape=}\")\n",
    "x = vmap(normal,(0,None),axis_size=4)(scores, s_obs)\n",
    "x_obs = np.array([1.1,2.2,3.3,4.4])\n",
    "calc = Calculate(inference_stan,niter=1000)\n",
    "calc.E(scores)"
   ]
  },
  {
   "cell_type": "code",
   "execution_count": 47,
   "outputs": [
    {
     "name": "stdout",
     "output_type": "stream",
     "text": [
      "shape | statement\n",
      "----- | ---------\n",
      "()    | a = 0\n",
      "()    | b = 1\n",
      "()    | c ~ normal_scale(a,b)\n",
      "()    | d = 0\n",
      "()    | e = 5\n",
      "()    | f ~ normal_scale(d,e)\n",
      "()    | g = abs(f)\n",
      "(2,)  | h ~ vmap(normal_scale,[∅, ∅],2)(c,g)\n",
      "(4,)  | i = [0 1 0 1]\n",
      "(4,)  | j = index(∅)(h,i)\n",
      "()    | k = 0\n",
      "()    | l = 1\n",
      "()    | m ~ normal_scale(k,l)\n",
      "()    | n = 0\n",
      "()    | o = 5\n",
      "()    | p ~ normal_scale(n,o)\n",
      "()    | q = abs(p)\n",
      "(2,)  | r ~ vmap(normal_scale,[∅, ∅],2)(m,q)\n",
      "(4,)  | s = [1 1 0 0]\n",
      "(4,)  | t = index(∅)(r,s)\n",
      "(4,)  | u = vmap(add,[0, 0],None)(j,t)\n",
      "()    | v = 0\n",
      "()    | w = 5\n",
      "()    | x ~ normal_scale(v,w)\n",
      "()    | y = abs(x)\n",
      "(4,)  | z ~ vmap(normal_scale,[0, ∅],4)(u,y)\n"
     ]
    }
   ],
   "source": [
    "print_upstream(x)"
   ],
   "metadata": {
    "collapsed": false
   }
  },
  {
   "cell_type": "code",
   "execution_count": null,
   "outputs": [],
   "source": [],
   "metadata": {
    "collapsed": false
   }
  }
 ],
 "metadata": {
  "kernelspec": {
   "display_name": "Python 3",
   "language": "python",
   "name": "python3"
  },
  "language_info": {
   "codemirror_mode": {
    "name": "ipython",
    "version": 2
   },
   "file_extension": ".py",
   "mimetype": "text/x-python",
   "name": "python",
   "nbconvert_exporter": "python",
   "pygments_lexer": "ipython2",
   "version": "2.7.6"
  }
 },
 "nbformat": 4,
 "nbformat_minor": 0
}
