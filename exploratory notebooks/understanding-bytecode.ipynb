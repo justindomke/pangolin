{
 "cells": [
  {
   "cell_type": "code",
   "execution_count": 3,
   "metadata": {
    "collapsed": true
   },
   "outputs": [],
   "source": [
    "import dis\n",
    "import types"
   ]
  },
  {
   "cell_type": "code",
   "execution_count": 2,
   "outputs": [
    {
     "name": "stdout",
     "output_type": "stream",
     "text": [
      "  1           0 RESUME                   0\n",
      "\n",
      "  2           2 LOAD_CONST               1 (0)\n",
      "              4 STORE_FAST               1 (y)\n",
      "\n",
      "  3           6 LOAD_GLOBAL              1 (NULL + range)\n",
      "             16 LOAD_CONST               2 (10)\n",
      "             18 CALL                     1\n",
      "             26 GET_ITER\n",
      "        >>   28 FOR_ITER                 7 (to 46)\n",
      "             32 STORE_FAST               2 (i)\n",
      "\n",
      "  4          34 LOAD_FAST                1 (y)\n",
      "             36 LOAD_FAST                0 (x)\n",
      "             38 BINARY_OP               13 (+=)\n",
      "             42 STORE_FAST               1 (y)\n",
      "             44 JUMP_BACKWARD            9 (to 28)\n",
      "\n",
      "  3     >>   46 END_FOR\n",
      "\n",
      "  5          48 LOAD_FAST                1 (y)\n",
      "             50 RETURN_VALUE\n"
     ]
    }
   ],
   "source": [
    "def f(x):\n",
    "    y = 0\n",
    "    for i in range(10):\n",
    "        y += x\n",
    "    return y\n",
    "\n",
    "dis.dis(f)"
   ],
   "metadata": {
    "collapsed": false
   }
  },
  {
   "cell_type": "code",
   "execution_count": 5,
   "outputs": [
    {
     "data": {
      "text/plain": "True"
     },
     "execution_count": 5,
     "metadata": {},
     "output_type": "execute_result"
    }
   ],
   "source": [
    "isinstance(f,types.CodeType)\n",
    "isinstance(f,types.FunctionType)"
   ],
   "metadata": {
    "collapsed": false
   }
  },
  {
   "cell_type": "code",
   "execution_count": 6,
   "outputs": [
    {
     "data": {
      "text/plain": "{'__name__': '__main__',\n '__doc__': 'Automatically created module for IPython interactive environment',\n '__package__': None,\n '__loader__': None,\n '__spec__': None,\n '__builtin__': <module 'builtins' (built-in)>,\n '__builtins__': <module 'builtins' (built-in)>,\n '_ih': ['',\n  'import dis',\n  'def f(x):\\n    y = 0\\n    for i in range(10):\\n        y += x\\n    return y\\n\\ndis.dis(f)',\n  'import dis\\nimport types',\n  'isinstance(f,types.CodeType)',\n  'isinstance(f,types.CodeType)\\nisinstance(f,types.FunctionType)',\n  'f.__globals__'],\n '_oh': {4: False, 5: True},\n '_dh': [PosixPath('/Users/j/PycharmProjects/pangolin/exploratory notebooks')],\n 'In': ['',\n  'import dis',\n  'def f(x):\\n    y = 0\\n    for i in range(10):\\n        y += x\\n    return y\\n\\ndis.dis(f)',\n  'import dis\\nimport types',\n  'isinstance(f,types.CodeType)',\n  'isinstance(f,types.CodeType)\\nisinstance(f,types.FunctionType)',\n  'f.__globals__'],\n 'Out': {4: False, 5: True},\n 'get_ipython': <bound method InteractiveShell.get_ipython of <ipykernel.zmqshell.ZMQInteractiveShell object at 0x10e64d370>>,\n 'exit': <IPython.core.autocall.ZMQExitAutocall at 0x10e64c710>,\n 'quit': <IPython.core.autocall.ZMQExitAutocall at 0x10e64c710>,\n 'open': <function _io.open(file, mode='r', buffering=-1, encoding=None, errors=None, newline=None, closefd=True, opener=None)>,\n '_': True,\n '__': False,\n '___': '',\n '__session__': 'exploratory notebooks/understanding-bytecode.ipynb',\n '_i': 'isinstance(f,types.CodeType)\\nisinstance(f,types.FunctionType)',\n '_ii': 'isinstance(f,types.CodeType)',\n '_iii': 'import dis\\nimport types',\n '_i1': 'import dis',\n 'dis': <module 'dis' from '/opt/anaconda3/envs/pangolin-new/lib/python3.12/dis.py'>,\n 'sys': <module 'sys' (built-in)>,\n 'remove_imported_pydev_package': <function pydev_jupyter_utils.remove_imported_pydev_package()>,\n '_pydevd_bundle': <module '_pydevd_bundle' from '/Applications/PyCharm.app/Contents/plugins/python/helpers/pydev/_pydevd_bundle/__init__.py'>,\n 'pydev_jupyter_vars': <module 'pydev_jupyter_vars' from '/Applications/PyCharm.app/Contents/plugins/python/helpers-pro/jupyter_debug/pydev_jupyter_vars.py'>,\n 'DataFrame': pandas.core.frame.DataFrame,\n 'MultiIndex': pandas.core.indexes.multi.MultiIndex,\n '_i2': 'def f(x):\\n    y = 0\\n    for i in range(10):\\n        y += x\\n    return y\\n\\ndis.dis(f)',\n 'f': <function __main__.f(x)>,\n '_i3': 'import dis\\nimport types',\n 'types': <module 'types' from '/opt/anaconda3/envs/pangolin-new/lib/python3.12/types.py'>,\n '_i4': 'isinstance(f,types.CodeType)',\n '_4': False,\n '_i5': 'isinstance(f,types.CodeType)\\nisinstance(f,types.FunctionType)',\n '_5': True,\n '_i6': 'f.__globals__'}"
     },
     "execution_count": 6,
     "metadata": {},
     "output_type": "execute_result"
    }
   ],
   "source": [
    "f.__globals__"
   ],
   "metadata": {
    "collapsed": false
   }
  },
  {
   "cell_type": "code",
   "execution_count": 7,
   "outputs": [
    {
     "name": "stdout",
     "output_type": "stream",
     "text": [
      "  1           0 RESUME                   0\n",
      "\n",
      "  2           2 LOAD_GLOBAL              1 (NULL + g)\n",
      "             12 LOAD_FAST                0 (x)\n",
      "             14 CALL                     1\n",
      "             22 RETURN_VALUE\n"
     ]
    }
   ],
   "source": [
    "def f(x):\n",
    "    return g(x)\n",
    "\n",
    "dis.dis(f)"
   ],
   "metadata": {
    "collapsed": false
   }
  },
  {
   "cell_type": "code",
   "execution_count": 12,
   "outputs": [
    {
     "name": "stdout",
     "output_type": "stream",
     "text": [
      "  1           0 RESUME                   0\n",
      "\n",
      "  2           2 LOAD_GLOBAL              1 (NULL + g)\n",
      "             12 CALL                     0\n",
      "             20 STORE_FAST               0 (out)\n",
      "\n",
      "  3          22 LOAD_FAST                0 (out)\n",
      "             24 RETURN_VALUE\n"
     ]
    }
   ],
   "source": [
    "def f():\n",
    "    out = g()\n",
    "    return out\n",
    "\n",
    "dis.dis(f)"
   ],
   "metadata": {
    "collapsed": false
   }
  },
  {
   "cell_type": "code",
   "execution_count": 16,
   "outputs": [
    {
     "name": "stdout",
     "output_type": "stream",
     "text": [
      "  1           0 RESUME                   0\n",
      "\n",
      "  2           2 LOAD_GLOBAL              1 (NULL + g)\n",
      "             12 CALL                     0\n",
      "             20 STORE_FAST               0 (out)\n",
      "\n",
      "  3          22 LOAD_FAST                0 (out)\n",
      "             24 RETURN_VALUE\n"
     ]
    }
   ],
   "source": [
    "dis.dis(f,depth=5)"
   ],
   "metadata": {
    "collapsed": false
   }
  },
  {
   "cell_type": "code",
   "execution_count": null,
   "outputs": [],
   "source": [],
   "metadata": {
    "collapsed": false
   }
  }
 ],
 "metadata": {
  "kernelspec": {
   "display_name": "Python 3",
   "language": "python",
   "name": "python3"
  },
  "language_info": {
   "codemirror_mode": {
    "name": "ipython",
    "version": 2
   },
   "file_extension": ".py",
   "mimetype": "text/x-python",
   "name": "python",
   "nbconvert_exporter": "python",
   "pygments_lexer": "ipython2",
   "version": "2.7.6"
  }
 },
 "nbformat": 4,
 "nbformat_minor": 0
}
