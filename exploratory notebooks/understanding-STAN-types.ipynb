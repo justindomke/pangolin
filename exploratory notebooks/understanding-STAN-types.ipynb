{
 "cells": [
  {
   "cell_type": "code",
   "execution_count": 30,
   "metadata": {},
   "outputs": [
    {
     "name": "stdout",
     "output_type": "stream",
     "text": [
      "The autoreload extension is already loaded. To reload it, use:\n",
      "  %reload_ext autoreload\n"
     ]
    }
   ],
   "source": [
    "%load_ext autoreload\n",
    "%autoreload 2\n",
    "from pangolin import ezstan\n",
    "import numpy as np"
   ]
  },
  {
   "cell_type": "markdown",
   "metadata": {},
   "source": [
    "# Dirichlets\n",
    "\n",
    "Sat you want to execute this code:\n",
    "\n",
    "`z ~ dirichlet(a)`\n",
    "\n",
    "Then:\n",
    "\n",
    "* `a` can be of type `vector`\n",
    "* `a` can also be of type `row_vector`\n",
    "* `a` *cannot* be of type `array real` (code won't compile)\n",
    "you *must* have that:\n",
    "* `z` can be of type `simplex`\n",
    "* `z` cannot be of type `array real` (runtime error)\n",
    "* `z` cannot be of type `vector` (runtime error)"
   ]
  },
  {
   "cell_type": "code",
   "execution_count": 2,
   "metadata": {},
   "outputs": [
    {
     "data": {
      "text/plain": [
       "(10000, 3)"
      ]
     },
     "execution_count": 2,
     "metadata": {},
     "output_type": "execute_result"
    }
   ],
   "source": [
    "# vector a OK\n",
    "\n",
    "code = \"\"\"\n",
    "transformed data {\n",
    "    vector[3] a = [1, 2, 3]';\n",
    "}\n",
    "parameters {\n",
    "    simplex[3] z;\n",
    "}\n",
    "model {\n",
    "    z ~ dirichlet(a);\n",
    "}\n",
    "\"\"\"\n",
    "[zs] = ezstan.stan(code,['z'])\n",
    "zs.shape"
   ]
  },
  {
   "cell_type": "code",
   "execution_count": 3,
   "metadata": {},
   "outputs": [
    {
     "data": {
      "text/plain": [
       "(10000, 3)"
      ]
     },
     "execution_count": 3,
     "metadata": {},
     "output_type": "execute_result"
    }
   ],
   "source": [
    "# row vector z OK\n",
    "code = \"\"\"\n",
    "transformed data {\n",
    "    row_vector[3] a = [1, 2, 3];\n",
    "}\n",
    "parameters {\n",
    "    simplex[3] z;\n",
    "}\n",
    "model {\n",
    "    z ~ dirichlet(a);\n",
    "}\n",
    "\"\"\"\n",
    "[zs] = ezstan.stan(code,['z'])\n",
    "zs.shape"
   ]
  },
  {
   "cell_type": "code",
   "execution_count": 4,
   "metadata": {},
   "outputs": [
    {
     "name": "stdout",
     "output_type": "stream",
     "text": [
      "got ValueError as expected.\n"
     ]
    }
   ],
   "source": [
    "# array[] real a NOT OK\n",
    "\n",
    "code = \"\"\"\n",
    "transformed data {\n",
    "    array[3] real a = {1, 2, 3};\n",
    "}\n",
    "parameters {\n",
    "    simplex[3] z;\n",
    "}\n",
    "model {\n",
    "    z ~ dirichlet(a);\n",
    "}\n",
    "\"\"\"\n",
    "try:\n",
    "    [zs] = ezstan.stan(code,['z'])\n",
    "    zs.shape\n",
    "except ValueError as e:\n",
    "    print(\"got ValueError as expected.\")\n",
    "    #print(e)"
   ]
  },
  {
   "cell_type": "code",
   "execution_count": 5,
   "metadata": {},
   "outputs": [
    {
     "name": "stdout",
     "output_type": "stream",
     "text": [
      "got RuntimeError as expected.\n"
     ]
    }
   ],
   "source": [
    "# vector z NOT OK\n",
    "code = \"\"\"\n",
    "transformed data {\n",
    "    vector[3] alpha = [1, 2, 3]';\n",
    "}\n",
    "parameters {\n",
    "    vector[3] z;\n",
    "}\n",
    "model {\n",
    "    z ~ dirichlet(alpha);\n",
    "}\n",
    "\"\"\"\n",
    "try:\n",
    "    [zs] = ezstan.stan(code,['z'])\n",
    "    zs.shape\n",
    "except RuntimeError as e:\n",
    "    print(\"got RuntimeError as expected.\")\n",
    "    #print(e)"
   ]
  },
  {
   "cell_type": "markdown",
   "metadata": {},
   "source": [
    "# Indexing 1st dim\n",
    "\n",
    "Now say you want to execute this code:\n",
    "\n",
    "`z ~ dirichlet(a[1])`\n",
    "\n",
    "Then:\n",
    "\n",
    "* `a` can be of type `matrix[3,3]` \n",
    "* `a` can be of type `array[3] vector[3]`\n",
    "* `a` can be of type `array[3] row_vector[3]`\n",
    "* `a` cannot be of type `array[3,3] real` (compile error)"
   ]
  },
  {
   "cell_type": "code",
   "execution_count": 6,
   "metadata": {},
   "outputs": [
    {
     "name": "stdout",
     "output_type": "stream",
     "text": [
      "zs.shape=(10000, 3)\n"
     ]
    }
   ],
   "source": [
    "# matrix[3,3] a OK\n",
    "code = \"\"\"\n",
    "transformed data{\n",
    "    matrix[3,3] alpha = [[1, 2, 3],[4, 5, 6],[7, 8, 9]];\n",
    "}\n",
    "parameters{\n",
    "    simplex[3] z;\n",
    "}\n",
    "model{\n",
    "    z ~ dirichlet(alpha[1]);\n",
    "}\n",
    "\"\"\"\n",
    "\n",
    "[zs] = ezstan.stan(code,['z'])\n",
    "print(f\"{zs.shape=}\")"
   ]
  },
  {
   "cell_type": "code",
   "execution_count": 7,
   "metadata": {},
   "outputs": [
    {
     "name": "stdout",
     "output_type": "stream",
     "text": [
      "zs.shape=(10000, 3)\n"
     ]
    }
   ],
   "source": [
    "# array[3] vector[3] a OK\n",
    "code = \"\"\"\n",
    "transformed data{\n",
    "    array[3] vector[3] alpha = {[1, 2, 3]',[4, 5, 6]',[7, 8, 9]'};\n",
    "}\n",
    "parameters{\n",
    "    simplex[3] z;\n",
    "}\n",
    "model{\n",
    "    z ~ dirichlet(alpha[1]);\n",
    "}\n",
    "\"\"\"\n",
    "\n",
    "[zs] = ezstan.stan(code,['z'])\n",
    "print(f\"{zs.shape=}\")"
   ]
  },
  {
   "cell_type": "code",
   "execution_count": 8,
   "metadata": {},
   "outputs": [
    {
     "name": "stdout",
     "output_type": "stream",
     "text": [
      "zs.shape=(10000, 3)\n"
     ]
    }
   ],
   "source": [
    "# array[3] row_vector[3] a OK\n",
    "code = \"\"\"\n",
    "transformed data{\n",
    "    array[3] row_vector[3] alpha = {[1, 2, 3],[4, 5, 6],[7, 8, 9]};\n",
    "}\n",
    "parameters{\n",
    "    simplex[3] z;\n",
    "}\n",
    "model{\n",
    "    z ~ dirichlet(alpha[1]);\n",
    "}\n",
    "\"\"\"\n",
    "\n",
    "[zs] = ezstan.stan(code,['z'])\n",
    "print(f\"{zs.shape=}\")"
   ]
  },
  {
   "cell_type": "code",
   "execution_count": 26,
   "metadata": {},
   "outputs": [
    {
     "name": "stdout",
     "output_type": "stream",
     "text": [
      "zs.shape=(10000, 3)\n"
     ]
    }
   ],
   "source": [
    "# array[3] row_vector[3] a OK\n",
    "code = \"\"\"\n",
    "transformed data{\n",
    "    array[3] row_vector[3] alpha = {[1, 2, 3],[4, 5, 6],[7, 8, 9]};\n",
    "}\n",
    "parameters{\n",
    "    simplex[3] z;\n",
    "}\n",
    "model{\n",
    "    z ~ dirichlet(alpha[1]);\n",
    "}\n",
    "\"\"\"\n",
    "\n",
    "[zs] = ezstan.stan(code,['z'])\n",
    "print(f\"{zs.shape=}\")"
   ]
  },
  {
   "cell_type": "code",
   "execution_count": 10,
   "metadata": {},
   "outputs": [
    {
     "name": "stdout",
     "output_type": "stream",
     "text": [
      "Got ValueError as expected\n"
     ]
    }
   ],
   "source": [
    "# array[3,3] real a NOT OK\n",
    "code = \"\"\"\n",
    "transformed data{\n",
    "    array[3,3] real alpha = {{1, 2, 3},{4, 5, 6},{7, 8, 9}};\n",
    "}\n",
    "parameters{\n",
    "    simplex[3] z;\n",
    "}\n",
    "model{\n",
    "    z ~ dirichlet(alpha[1]);\n",
    "}\n",
    "\"\"\"\n",
    "\n",
    "try:\n",
    "    [zs] = ezstan.stan(code,['z'])\n",
    "    print(f\"{zs.shape=}\")\n",
    "except ValueError as e:\n",
    "    print(\"Got ValueError as expected\")\n",
    "    #print(e)"
   ]
  },
  {
   "cell_type": "markdown",
   "metadata": {},
   "source": [
    "# Indexing 1st dim differently\n",
    "\n",
    "Now say you want to execute this code (now slicing second dimension)\n",
    "\n",
    "`z ~ dirichlet(a[1,:])`\n",
    "\n",
    "Then exactly the same rules apply.\n",
    "\n",
    "* `a` can be of type `matrix[3,3]` \n",
    "* `a` can be of type `array[3] vector[3]`\n",
    "* `a` can be of type `array[3] row_vector[3]`\n",
    "* `a` cannot be of type `array[3,3] real` (compile error)"
   ]
  },
  {
   "cell_type": "code",
   "execution_count": 11,
   "metadata": {},
   "outputs": [
    {
     "name": "stdout",
     "output_type": "stream",
     "text": [
      "zs.shape=(10000, 3)\n"
     ]
    }
   ],
   "source": [
    "# matrix[3,3] a OK\n",
    "code = \"\"\"\n",
    "transformed data{\n",
    "    matrix[3,3] alpha = [[1, 2, 3],[4, 5, 6],[7, 8, 9]];\n",
    "}\n",
    "parameters{\n",
    "    simplex[3] z;\n",
    "}\n",
    "model{\n",
    "    z ~ dirichlet(alpha[1,:]);\n",
    "}\n",
    "\"\"\"\n",
    "\n",
    "[zs] = ezstan.stan(code,['z'])\n",
    "print(f\"{zs.shape=}\")"
   ]
  },
  {
   "cell_type": "code",
   "execution_count": 12,
   "metadata": {},
   "outputs": [
    {
     "name": "stdout",
     "output_type": "stream",
     "text": [
      "zs.shape=(10000, 3)\n"
     ]
    }
   ],
   "source": [
    "# array[3] vector[3] a OK\n",
    "code = \"\"\"\n",
    "transformed data{\n",
    "    array[3] vector[3] alpha = {[1, 2, 3]',[4, 5, 6]',[7, 8, 9]'};\n",
    "}\n",
    "parameters{\n",
    "    simplex[3] z;\n",
    "}\n",
    "model{\n",
    "    z ~ dirichlet(alpha[1,:]);\n",
    "}\n",
    "\"\"\"\n",
    "\n",
    "[zs] = ezstan.stan(code,['z'])\n",
    "print(f\"{zs.shape=}\")"
   ]
  },
  {
   "cell_type": "code",
   "execution_count": 13,
   "metadata": {},
   "outputs": [
    {
     "name": "stdout",
     "output_type": "stream",
     "text": [
      "zs.shape=(10000, 3)\n"
     ]
    }
   ],
   "source": [
    "# array[3] row_vector[3] a OK\n",
    "code = \"\"\"\n",
    "transformed data{\n",
    "    array[3] row_vector[3] alpha = {[1, 2, 3],[4, 5, 6],[7, 8, 9]};\n",
    "}\n",
    "parameters{\n",
    "    simplex[3] z;\n",
    "}\n",
    "model{\n",
    "    z ~ dirichlet(alpha[1,:]);\n",
    "}\n",
    "\"\"\"\n",
    "\n",
    "[zs] = ezstan.stan(code,['z'])\n",
    "print(f\"{zs.shape=}\")"
   ]
  },
  {
   "cell_type": "code",
   "execution_count": 14,
   "metadata": {},
   "outputs": [
    {
     "name": "stdout",
     "output_type": "stream",
     "text": [
      "Got ValueError as expected\n"
     ]
    }
   ],
   "source": [
    "# array[3,3] real a NOT OK\n",
    "code = \"\"\"\n",
    "transformed data{\n",
    "    array[3,3] real alpha = {{1, 2, 3},{4, 5, 6},{7, 8, 9}};\n",
    "}\n",
    "parameters{\n",
    "    simplex[3] z;\n",
    "}\n",
    "model{\n",
    "    z ~ dirichlet(alpha[1,:]);\n",
    "}\n",
    "\"\"\"\n",
    "\n",
    "try:\n",
    "    [zs] = ezstan.stan(code,['z'])\n",
    "    print(f\"{zs.shape=}\")\n",
    "except ValueError as e:\n",
    "    print(\"Got ValueError as expected\")\n",
    "    #print(e)"
   ]
  },
  {
   "cell_type": "markdown",
   "metadata": {},
   "source": [
    "# Indexing 2nd dim\n",
    "\n",
    "Now say you want to execute this code:\n",
    "\n",
    "`z ~ dirichlet(a[:,1])`\n",
    "\n",
    "Then:\n",
    "\n",
    "* `a` can be of type `matrix[3,3]` \n",
    "* `a` cannot be of type `array[3] vector[3]` (compile error)\n",
    "* `a` cannot be of type `array[3] row_vector[3]` (compile error)\n",
    "* `a` cannot be of type `array[3,3] real` (compile error)"
   ]
  },
  {
   "cell_type": "code",
   "execution_count": 15,
   "metadata": {},
   "outputs": [
    {
     "name": "stdout",
     "output_type": "stream",
     "text": [
      "zs.shape=(10000, 3)\n"
     ]
    }
   ],
   "source": [
    "# matrix[3,3] a OK\n",
    "code = \"\"\"\n",
    "transformed data{\n",
    "    matrix[3,3] alpha = [[1, 2, 3],[4, 5, 6],[7, 8, 9]];\n",
    "}\n",
    "parameters{\n",
    "    simplex[3] z;\n",
    "}\n",
    "model{\n",
    "    z ~ dirichlet(alpha[:,1]);\n",
    "}\n",
    "\"\"\"\n",
    "[zs] = ezstan.stan(code,['z'])\n",
    "print(f\"{zs.shape=}\")"
   ]
  },
  {
   "cell_type": "code",
   "execution_count": 16,
   "metadata": {},
   "outputs": [
    {
     "name": "stdout",
     "output_type": "stream",
     "text": [
      "Got ValueError as expected\n"
     ]
    }
   ],
   "source": [
    "# array[3] vector[3] a NOT OK\n",
    "code = \"\"\"\n",
    "transformed data{\n",
    "    array[3] vector[3] alpha = {[1, 2, 3]',[4, 5, 6]',[7, 8, 9]'};\n",
    "}\n",
    "parameters{\n",
    "    simplex[3] z;\n",
    "}\n",
    "model{\n",
    "    z ~ dirichlet(alpha[:,1]);\n",
    "}\n",
    "\"\"\"\n",
    "try:\n",
    "    [zs] = ezstan.stan(code,['z'])\n",
    "    print(f\"{zs.shape=}\")\n",
    "except ValueError as e:\n",
    "    print(\"Got ValueError as expected\")"
   ]
  },
  {
   "cell_type": "code",
   "execution_count": 17,
   "metadata": {},
   "outputs": [
    {
     "name": "stdout",
     "output_type": "stream",
     "text": [
      "Got ValueError as expected\n"
     ]
    }
   ],
   "source": [
    "# array[3] row_vector[3] NOT OK\n",
    "code = \"\"\"\n",
    "transformed data{\n",
    "    array[3] row_vector[3] alpha = {[1, 2, 3],[4, 5, 6],[7, 8, 9]};\n",
    "}\n",
    "parameters{\n",
    "    simplex[3] z;\n",
    "}\n",
    "model{\n",
    "    z ~ dirichlet(alpha[:,1]);\n",
    "}\n",
    "\"\"\"\n",
    "try:\n",
    "    [zs] = ezstan.stan(code,['z'])\n",
    "    print(f\"{zs.shape=}\")\n",
    "except ValueError as e:\n",
    "    print(\"Got ValueError as expected\")"
   ]
  },
  {
   "cell_type": "code",
   "execution_count": 18,
   "metadata": {},
   "outputs": [
    {
     "name": "stdout",
     "output_type": "stream",
     "text": [
      "Got ValueError as expected\n"
     ]
    }
   ],
   "source": [
    "# array[3,3] real a NOT OK\n",
    "code = \"\"\"\n",
    "transformed data{\n",
    "    array[3,3] real alpha = {{1, 2, 3},{4, 5, 6},{7, 8, 9}};\n",
    "}\n",
    "parameters{\n",
    "    simplex[3] z;\n",
    "}\n",
    "model{\n",
    "    z ~ dirichlet(alpha[:,1]);\n",
    "}\n",
    "\"\"\"\n",
    "\n",
    "try:\n",
    "    [zs] = ezstan.stan(code,['z'])\n",
    "    print(f\"{zs.shape=}\")\n",
    "except ValueError as e:\n",
    "    print(\"Got ValueError as expected\")\n",
    "    #print(e)"
   ]
  },
  {
   "cell_type": "markdown",
   "metadata": {},
   "source": [
    "# Filling vectors\n"
   ]
  },
  {
   "cell_type": "code",
   "execution_count": 19,
   "metadata": {},
   "outputs": [
    {
     "name": "stdout",
     "output_type": "stream",
     "text": [
      "zs.shape=(10000, 3)\n"
     ]
    }
   ],
   "source": [
    "code = \"\"\"\n",
    "parameters{\n",
    "    vector[3] a;\n",
    "    simplex[3] z;\n",
    "}\n",
    "model{\n",
    "    for (i in 1:3) {\n",
    "        a[i] ~ lognormal(0,1);\n",
    "    }\n",
    "    z ~ dirichlet(a);\n",
    "}\n",
    "\"\"\"\n",
    "\n",
    "[zs] = ezstan.stan(code,['z'])\n",
    "print(f\"{zs.shape=}\")"
   ]
  },
  {
   "cell_type": "code",
   "execution_count": 20,
   "metadata": {},
   "outputs": [
    {
     "name": "stdout",
     "output_type": "stream",
     "text": [
      "Got ValueError as expected\n"
     ]
    }
   ],
   "source": [
    "code = \"\"\"\n",
    "parameters{\n",
    "    array[3] real a;\n",
    "    simplex[3] z;\n",
    "}\n",
    "model{\n",
    "    for (i in 1:3) {\n",
    "        a[i] ~ lognormal(0,1);\n",
    "    }\n",
    "    z ~ dirichlet(a);\n",
    "}\n",
    "\"\"\"\n",
    "\n",
    "try:\n",
    "    [zs] = ezstan.stan(code,['z'])\n",
    "except ValueError as e:\n",
    "    print(\"Got ValueError as expected\")"
   ]
  },
  {
   "cell_type": "code",
   "execution_count": 21,
   "metadata": {},
   "outputs": [
    {
     "name": "stdout",
     "output_type": "stream",
     "text": [
      "zs.shape=(10000, 3)\n"
     ]
    }
   ],
   "source": [
    "code = \"\"\"\n",
    "parameters{\n",
    "    array[3] real a;\n",
    "    simplex[3] z;\n",
    "}\n",
    "transformed parameters {\n",
    "    vector[3] b;\n",
    "    for (i in 1:3){\n",
    "        b[i] = a[i];\n",
    "    }\n",
    "}\n",
    "model{\n",
    "    for (i in 1:3) {\n",
    "        a[i] ~ lognormal(0,1);\n",
    "    }\n",
    "    z ~ dirichlet(b);\n",
    "}\n",
    "\"\"\"\n",
    "\n",
    "[zs] = ezstan.stan(code,['z'])\n",
    "print(f\"{zs.shape=}\")\n",
    "# try:\n",
    "#     [zs] = ezstan.stan(code,['z'])\n",
    "# except ValueError as e:\n",
    "#     print(\"Got ValueError as expected\")"
   ]
  },
  {
   "cell_type": "code",
   "execution_count": 22,
   "metadata": {},
   "outputs": [],
   "source": [
    "code = \"\"\"\n",
    "parameters{\n",
    "    array[3] real a;\n",
    "    simplex[3] z;\n",
    "}\n",
    "model{\n",
    "    for (i in 1:3) {\n",
    "        a[i] ~ lognormal(0,1);\n",
    "    }\n",
    "    vector[3] b;\n",
    "    for (i in 1:3) {\n",
    "        b[i] = a[i];\n",
    "    }\n",
    "    z ~ dirichlet(b);\n",
    "}\n",
    "\"\"\"\n",
    "\n",
    "[zs] = ezstan.stan(code,['z'])"
   ]
  },
  {
   "cell_type": "code",
   "execution_count": null,
   "metadata": {},
   "outputs": [],
   "source": []
  },
  {
   "cell_type": "code",
   "execution_count": null,
   "metadata": {},
   "outputs": [],
   "source": []
  },
  {
   "cell_type": "code",
   "execution_count": null,
   "metadata": {},
   "outputs": [],
   "source": []
  },
  {
   "cell_type": "code",
   "execution_count": null,
   "metadata": {},
   "outputs": [],
   "source": []
  },
  {
   "cell_type": "code",
   "execution_count": null,
   "metadata": {},
   "outputs": [],
   "source": []
  },
  {
   "cell_type": "code",
   "execution_count": null,
   "metadata": {},
   "outputs": [],
   "source": []
  },
  {
   "cell_type": "code",
   "execution_count": 23,
   "metadata": {},
   "outputs": [
    {
     "name": "stdout",
     "output_type": "stream",
     "text": [
      "zs.shape=(10000, 5, 3)\n",
      "ys.shape=(10000,)\n"
     ]
    }
   ],
   "source": [
    "code = \"\"\"\n",
    "transformed data{\n",
    "    vector[3] alpha = [1, 2, 3]';\n",
    "}\n",
    "parameters{\n",
    "    array[5] simplex[3] z;\n",
    "}\n",
    "transformed parameters{\n",
    "    real y = z[1,2];\n",
    "}\n",
    "model{\n",
    "    for (i in 1:5){\n",
    "        z[i] ~ dirichlet(alpha);\n",
    "    }\n",
    "}\n",
    "\"\"\"\n",
    "\n",
    "[zs,ys] = ezstan.stan(code,['z','y'])\n",
    "print(f\"{zs.shape=}\")\n",
    "print(f\"{ys.shape=}\")"
   ]
  },
  {
   "cell_type": "code",
   "execution_count": 24,
   "metadata": {},
   "outputs": [
    {
     "name": "stdout",
     "output_type": "stream",
     "text": [
      "zs.shape=(10000, 5, 3)\n",
      "ys.shape=(10000, 3)\n"
     ]
    }
   ],
   "source": [
    "# get a single row\n",
    "\n",
    "code = \"\"\"\n",
    "transformed data{\n",
    "    vector[3] alpha = [1, 2, 3]';\n",
    "}\n",
    "parameters{\n",
    "    array[5] simplex[3] z;\n",
    "}\n",
    "transformed parameters{\n",
    "    vector[3] y = z[1];\n",
    "}\n",
    "model{\n",
    "    for (i in 1:5){\n",
    "        z[i] ~ dirichlet(alpha);\n",
    "    }\n",
    "}\n",
    "\"\"\"\n",
    "\n",
    "[zs,ys] = ezstan.stan(code,['z','y'])\n",
    "print(f\"{zs.shape=}\")\n",
    "print(f\"{ys.shape=}\")"
   ]
  },
  {
   "cell_type": "code",
   "execution_count": 25,
   "metadata": {},
   "outputs": [
    {
     "name": "stdout",
     "output_type": "stream",
     "text": [
      "zs.shape=(10000, 5, 3)\n",
      "ys.shape=(10000, 5)\n"
     ]
    }
   ],
   "source": [
    "# get a single column of z\n",
    "\n",
    "code = \"\"\"\n",
    "transformed data{\n",
    "    vector[3] alpha = [1, 2, 3]';\n",
    "}\n",
    "parameters{\n",
    "    array[5] simplex[3] z;\n",
    "}\n",
    "transformed parameters{\n",
    "    array[5] real y = z[:,1];\n",
    "}\n",
    "model{\n",
    "    for (i in 1:5){\n",
    "        z[i] ~ dirichlet(alpha);\n",
    "    }\n",
    "}\n",
    "\"\"\"\n",
    "\n",
    "[zs,ys] = ezstan.stan(code,['z','y'])\n",
    "print(f\"{zs.shape=}\")\n",
    "print(f\"{ys.shape=}\")"
   ]
  },
  {
   "cell_type": "markdown",
   "metadata": {},
   "source": [
    "# matmul"
   ]
  },
  {
   "cell_type": "code",
   "execution_count": 31,
   "metadata": {},
   "outputs": [],
   "source": [
    "code = \"\"\"\n",
    "transformed data{\n",
    "    row_vector[3] x = [1, 2, 3];\n",
    "    vector[3] y = [4, 5, 6]';\n",
    "}\n",
    "transformed parameters{\n",
    "    real z = x * y;\n",
    "}\n",
    "\"\"\"\n",
    "\n",
    "[zs] = ezstan.stan(code,['z'])\n",
    "assert zs[0] == np.inner([1,2,3],[4,5,6])"
   ]
  },
  {
   "cell_type": "markdown",
   "metadata": {},
   "source": [
    "# conversions"
   ]
  },
  {
   "cell_type": "code",
   "execution_count": null,
   "metadata": {},
   "outputs": [],
   "source": [
    "# convert array to vector\n",
    "code = \"\"\"\n",
    "transformed data{\n",
    "    array[3] real x = {1, 2, 3};\n",
    "}\n",
    "transformed parameters{\n",
    "    vector[3] z = to_vector(x);\n",
    "}\n",
    "\"\"\"\n",
    "\n",
    "[zs] = ezstan.stan(code,['z'])"
   ]
  },
  {
   "cell_type": "code",
   "execution_count": null,
   "metadata": {},
   "outputs": [],
   "source": [
    "# \"convert\" vector to vector\n",
    "code = \"\"\"\n",
    "transformed data{\n",
    "    vector[3] x = [1, 2, 3]';\n",
    "}\n",
    "transformed parameters{\n",
    "    vector[3] z = to_vector(x);\n",
    "}\n",
    "\"\"\"\n",
    "\n",
    "[zs] = ezstan.stan(code,['z'])"
   ]
  },
  {
   "cell_type": "code",
   "execution_count": null,
   "metadata": {},
   "outputs": [],
   "source": [
    "# slice 2d array into 1d array\n",
    "code = \"\"\"\n",
    "transformed data{\n",
    "    array[3,3] real x = {{1, 2, 3},{4,5,6},{7,8,9}};\n",
    "}\n",
    "transformed parameters{\n",
    "    array[3] real z = x[1,:];\n",
    "}\n",
    "\"\"\"\n",
    "\n",
    "[zs] = ezstan.stan(code,['z'])"
   ]
  },
  {
   "cell_type": "code",
   "execution_count": null,
   "metadata": {},
   "outputs": [],
   "source": [
    "# slice 2d array into 1d array\n",
    "code = \"\"\"\n",
    "transformed data{\n",
    "    array[3,3] real x = {{1, 2, 3},{4,5,6},{7,8,9}};\n",
    "}\n",
    "transformed parameters{\n",
    "    array[3] real z = x[:,1];\n",
    "}\n",
    "\"\"\"\n",
    "\n",
    "[zs] = ezstan.stan(code,['z'])"
   ]
  }
 ],
 "metadata": {
  "kernelspec": {
   "display_name": "Python 3 (ipykernel)",
   "language": "python",
   "name": "python3"
  },
  "language_info": {
   "codemirror_mode": {
    "name": "ipython",
    "version": 3
   },
   "file_extension": ".py",
   "mimetype": "text/x-python",
   "name": "python",
   "nbconvert_exporter": "python",
   "pygments_lexer": "ipython3",
   "version": "3.10.12"
  }
 },
 "nbformat": 4,
 "nbformat_minor": 1
}
