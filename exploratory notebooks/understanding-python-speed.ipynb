{
 "cells": [
  {
   "cell_type": "code",
   "execution_count": 75,
   "outputs": [
    {
     "name": "stdout",
     "output_type": "stream",
     "text": [
      "Created `%t` as an alias for `%timeit -r 10 -n 100`.\n",
      "Created `%%t` as an alias for `%%timeit -r 10 -n 100`.\n"
     ]
    }
   ],
   "source": [
    "%alias_magic t -p \"-r 10 -n 100\" timeit"
   ],
   "metadata": {
    "collapsed": false
   }
  },
  {
   "cell_type": "code",
   "execution_count": 76,
   "metadata": {
    "collapsed": true
   },
   "outputs": [
    {
     "name": "stdout",
     "output_type": "stream",
     "text": [
      "size=1 list comprehension 210 ns ± 8.89 ns per loop (mean ± std. dev. of 10 runs, 100 loops each)\n",
      "size=1 for loop           776 ns ± 17.8 ns per loop (mean ± std. dev. of 10 runs, 100 loops each)\n",
      "size=3 list comprehension 291 ns ± 10.3 ns per loop (mean ± std. dev. of 10 runs, 100 loops each)\n",
      "size=3 for loop           784 ns ± 10.5 ns per loop (mean ± std. dev. of 10 runs, 100 loops each)\n",
      "size=10 list comprehension 695 ns ± 28.3 ns per loop (mean ± std. dev. of 10 runs, 100 loops each)\n",
      "size=10 for loop           784 ns ± 8.99 ns per loop (mean ± std. dev. of 10 runs, 100 loops each)\n",
      "size=30 list comprehension 2.63 µs ± 1.64 µs per loop (mean ± std. dev. of 10 runs, 100 loops each)\n",
      "size=30 for loop           759 ns ± 8.75 ns per loop (mean ± std. dev. of 10 runs, 100 loops each)\n",
      "size=100 list comprehension 8.04 µs ± 926 ns per loop (mean ± std. dev. of 10 runs, 100 loops each)\n",
      "size=100 for loop           767 ns ± 12.8 ns per loop (mean ± std. dev. of 10 runs, 100 loops each)\n",
      "size=300 list comprehension 22.3 µs ± 1.75 µs per loop (mean ± std. dev. of 10 runs, 100 loops each)\n",
      "size=300 for loop           858 ns ± 289 ns per loop (mean ± std. dev. of 10 runs, 100 loops each)\n",
      "size=1000 list comprehension 71.3 µs ± 5.1 µs per loop (mean ± std. dev. of 10 runs, 100 loops each)\n",
      "size=1000 for loop           712 ns ± 32.6 ns per loop (mean ± std. dev. of 10 runs, 100 loops each)\n"
     ]
    }
   ],
   "source": [
    "# list comprehensions are faster\n",
    "\n",
    "def list_comp_vs_loop(size):\n",
    "    print(f\"{size=} list comprehension \",end='')\n",
    "    %t x = [a**2 for a in range(size)]\n",
    "\n",
    "    print(f\"{size=} for loop           \",end='')\n",
    "    def fun():\n",
    "        x = []\n",
    "        for a in range(size):\n",
    "            x.append(a**2)\n",
    "    %t fun()\n",
    "\n",
    "for size in [1,3,10,30,100,300,1000]:\n",
    "    list_comp_vs_loop(size)"
   ]
  },
  {
   "cell_type": "code",
   "execution_count": 77,
   "outputs": [
    {
     "name": "stdout",
     "output_type": "stream",
     "text": [
      "class member access size=1: 253 ns ± 30.6 ns per loop (mean ± std. dev. of 10 runs, 100 loops each)\n",
      "var access          size=1: 233 ns ± 9.46 ns per loop (mean ± std. dev. of 10 runs, 100 loops each)\n",
      "class member access size=3: 244 ns ± 6.88 ns per loop (mean ± std. dev. of 10 runs, 100 loops each)\n",
      "var access          size=3: 231 ns ± 10.8 ns per loop (mean ± std. dev. of 10 runs, 100 loops each)\n",
      "class member access size=10: 247 ns ± 8.32 ns per loop (mean ± std. dev. of 10 runs, 100 loops each)\n",
      "var access          size=10: 269 ns ± 69 ns per loop (mean ± std. dev. of 10 runs, 100 loops each)\n",
      "class member access size=30: 244 ns ± 6.63 ns per loop (mean ± std. dev. of 10 runs, 100 loops each)\n",
      "var access          size=30: 230 ns ± 6.25 ns per loop (mean ± std. dev. of 10 runs, 100 loops each)\n",
      "class member access size=100: 283 ns ± 60.1 ns per loop (mean ± std. dev. of 10 runs, 100 loops each)\n",
      "var access          size=100: 232 ns ± 6.81 ns per loop (mean ± std. dev. of 10 runs, 100 loops each)\n",
      "class member access size=300: 273 ns ± 9.8 ns per loop (mean ± std. dev. of 10 runs, 100 loops each)\n",
      "var access          size=300: 232 ns ± 4.96 ns per loop (mean ± std. dev. of 10 runs, 100 loops each)\n",
      "class member access size=1000: 243 ns ± 5.6 ns per loop (mean ± std. dev. of 10 runs, 100 loops each)\n",
      "var access          size=1000: 229 ns ± 5.66 ns per loop (mean ± std. dev. of 10 runs, 100 loops each)\n"
     ]
    }
   ],
   "source": [
    "# is accessing class members slow?\n",
    "\n",
    "class Cls:\n",
    "    def __init__(self):\n",
    "        self.x = 0\n",
    "\n",
    "def class_vs_native(size):\n",
    "    x = Cls()\n",
    "    def f():\n",
    "        for i in range(size):\n",
    "            x.x = i*2\n",
    "    def g():\n",
    "        for i in range(size):\n",
    "            y = i*2\n",
    "    print(f'class member access {size=}: ',end='')\n",
    "    %t f()\n",
    "    print(f'var access          {size=}: ',end='')\n",
    "    %t g()\n",
    "\n",
    "for size in [1,3,10,30,100,300,1000]:\n",
    "    class_vs_native(size)"
   ],
   "metadata": {
    "collapsed": false
   }
  },
  {
   "cell_type": "code",
   "execution_count": 78,
   "outputs": [
    {
     "name": "stdout",
     "output_type": "stream",
     "text": [
      "class member access size=1: 256 ns ± 35.5 ns per loop (mean ± std. dev. of 10 runs, 100 loops each)\n",
      "var access          size=1: 233 ns ± 11 ns per loop (mean ± std. dev. of 10 runs, 100 loops each)\n",
      "class member access size=3: 243 ns ± 6.85 ns per loop (mean ± std. dev. of 10 runs, 100 loops each)\n",
      "var access          size=3: 229 ns ± 5.25 ns per loop (mean ± std. dev. of 10 runs, 100 loops each)\n",
      "class member access size=10: 235 ns ± 5.1 ns per loop (mean ± std. dev. of 10 runs, 100 loops each)\n",
      "var access          size=10: 221 ns ± 4.35 ns per loop (mean ± std. dev. of 10 runs, 100 loops each)\n",
      "class member access size=30: 243 ns ± 5.37 ns per loop (mean ± std. dev. of 10 runs, 100 loops each)\n",
      "var access          size=30: 221 ns ± 4.57 ns per loop (mean ± std. dev. of 10 runs, 100 loops each)\n",
      "class member access size=100: 234 ns ± 4.6 ns per loop (mean ± std. dev. of 10 runs, 100 loops each)\n",
      "var access          size=100: 221 ns ± 4.93 ns per loop (mean ± std. dev. of 10 runs, 100 loops each)\n",
      "class member access size=300: 237 ns ± 6.24 ns per loop (mean ± std. dev. of 10 runs, 100 loops each)\n",
      "var access          size=300: 257 ns ± 69.3 ns per loop (mean ± std. dev. of 10 runs, 100 loops each)\n",
      "class member access size=1000: 260 ns ± 15.7 ns per loop (mean ± std. dev. of 10 runs, 100 loops each)\n",
      "var access          size=1000: 231 ns ± 9.47 ns per loop (mean ± std. dev. of 10 runs, 100 loops each)\n"
     ]
    }
   ],
   "source": [
    "# is accessing class members slow V2?\n",
    "\n",
    "class Cls:\n",
    "    def __init__(self):\n",
    "        self.x = 0\n",
    "\n",
    "def class_vs_native(size):\n",
    "    x = [Cls() for i in range(size)]\n",
    "    def f():\n",
    "        for i in range(size):\n",
    "            x[i].x = i*2\n",
    "    y = [0]*size\n",
    "    def g():\n",
    "        for i in range(size):\n",
    "            y[i] = i*2\n",
    "    print(f'class member access {size=}: ',end='')\n",
    "    %t f()\n",
    "    print(f'var access          {size=}: ',end='')\n",
    "    %t g()\n",
    "\n",
    "for size in [1,3,10,30,100,300,1000]:\n",
    "    class_vs_native(size)"
   ],
   "metadata": {
    "collapsed": false
   }
  },
  {
   "cell_type": "code",
   "execution_count": 79,
   "outputs": [
    {
     "name": "stdout",
     "output_type": "stream",
     "text": [
      "clever   size=1: 275 ns ± 79.8 ns per loop (mean ± std. dev. of 10 runs, 100 loops each)\n",
      "unclever size=1: 230 ns ± 9.19 ns per loop (mean ± std. dev. of 10 runs, 100 loops each)\n",
      "clever   size=3: 245 ns ± 6.54 ns per loop (mean ± std. dev. of 10 runs, 100 loops each)\n",
      "unclever size=3: 232 ns ± 8.88 ns per loop (mean ± std. dev. of 10 runs, 100 loops each)\n",
      "clever   size=10: 246 ns ± 12.7 ns per loop (mean ± std. dev. of 10 runs, 100 loops each)\n",
      "unclever size=10: 230 ns ± 6.98 ns per loop (mean ± std. dev. of 10 runs, 100 loops each)\n",
      "clever   size=30: 249 ns ± 18 ns per loop (mean ± std. dev. of 10 runs, 100 loops each)\n",
      "unclever size=30: 233 ns ± 15.5 ns per loop (mean ± std. dev. of 10 runs, 100 loops each)\n",
      "clever   size=100: 245 ns ± 13.8 ns per loop (mean ± std. dev. of 10 runs, 100 loops each)\n",
      "unclever size=100: 229 ns ± 4.9 ns per loop (mean ± std. dev. of 10 runs, 100 loops each)\n",
      "clever   size=300: 243 ns ± 5.19 ns per loop (mean ± std. dev. of 10 runs, 100 loops each)\n",
      "unclever size=300: 229 ns ± 4.85 ns per loop (mean ± std. dev. of 10 runs, 100 loops each)\n",
      "clever   size=1000: 244 ns ± 5.21 ns per loop (mean ± std. dev. of 10 runs, 100 loops each)\n",
      "unclever size=1000: 233 ns ± 18.5 ns per loop (mean ± std. dev. of 10 runs, 100 loops each)\n"
     ]
    }
   ],
   "source": [
    "# are multiple assignments good?\n",
    "\n",
    "def switching(size):\n",
    "    def clever(a,b):\n",
    "        for i in range(size):\n",
    "            a,b = b,a\n",
    "    def unclever(a,b):\n",
    "        for i in range(size):\n",
    "            tmp = a\n",
    "            a = b\n",
    "            b = tmp\n",
    "    print(f'clever   {size=}: ',end='')\n",
    "    %t f()\n",
    "    print(f'unclever {size=}: ',end='')\n",
    "    %t g()\n",
    "\n",
    "for size in [1,3,10,30,100,300,1000]:\n",
    "    switching(size)"
   ],
   "metadata": {
    "collapsed": false
   }
  },
  {
   "cell_type": "code",
   "execution_count": 80,
   "outputs": [
    {
     "name": "stdout",
     "output_type": "stream",
     "text": [
      "degrees\n",
      "84.7 µs ± 6.32 µs per loop (mean ± std. dev. of 10 runs, 100 loops each)\n",
      "75.2 µs ± 6.98 µs per loop (mean ± std. dev. of 10 runs, 100 loops each)\n",
      "sqrt\n",
      "58.9 ns ± 21.8 ns per loop (mean ± std. dev. of 10 runs, 100 loops each)\n",
      "45.3 ns ± 4.48 ns per loop (mean ± std. dev. of 10 runs, 100 loops each)\n",
      "sin\n",
      "74.1 ns ± 19.8 ns per loop (mean ± std. dev. of 10 runs, 100 loops each)\n",
      "59.8 ns ± 4.64 ns per loop (mean ± std. dev. of 10 runs, 100 loops each)\n",
      "prod\n",
      "208 ns ± 19.4 ns per loop (mean ± std. dev. of 10 runs, 100 loops each)\n",
      "198 ns ± 7.91 ns per loop (mean ± std. dev. of 10 runs, 100 loops each)\n"
     ]
    }
   ],
   "source": [
    "# are dots bad? (yes, a little)\n",
    "\n",
    "import math\n",
    "from math import sqrt, sin, prod, degrees\n",
    "\n",
    "print(\"degrees\", flush=True)\n",
    "%t [math.degrees(10.0) for i in range(size)]\n",
    "%t [degrees(10.0) for i in range(size)]\n",
    "\n",
    "print(\"sqrt\")\n",
    "%t math.sqrt(10.0)\n",
    "%t sqrt(10.0)\n",
    "\n",
    "print(\"sin\")\n",
    "%t math.sin(10.0)\n",
    "%t sin(10.0)\n",
    "\n",
    "print(\"prod\")\n",
    "%t math.prod([10.0,20.0])\n",
    "%t prod([10.0,20.0])\n",
    "\n",
    "# size = 10\n",
    "#\n",
    "# print(\"degrees\",flush=True)\n",
    "# %timeit [math.degrees(10.0) for i in range(size)]\n",
    "# %timeit [degrees(10.0) for i in range(size)]\n",
    "#\n",
    "# print(\"sqrt\")\n",
    "# %timeit [math.sqrt(10.0) for i in range(size)]\n",
    "# %timeit [sqrt(10.0) for i in range(size)]\n",
    "#\n",
    "# print(\"sin\")\n",
    "# %timeit [math.sin(10.0) for i in range(size)]\n",
    "# %timeit [sin(10.0) for i in range(size)]\n",
    "#\n",
    "# print(\"prod\")\n",
    "# %timeit [math.prod([10.0,20.0]) for i in range(size)]\n",
    "# %timeit [prod([10.0,20.0]) for i in range(size)]"
   ],
   "metadata": {
    "collapsed": false
   }
  },
  {
   "cell_type": "code",
   "execution_count": 81,
   "outputs": [
    {
     "name": "stdout",
     "output_type": "stream",
     "text": [
      "85.9 ns ± 7.62 ns per loop (mean ± std. dev. of 10 runs, 100 loops each)\n",
      "252 ns ± 13.6 ns per loop (mean ± std. dev. of 10 runs, 100 loops each)\n"
     ]
    }
   ],
   "source": [
    "# match vs isinstance\n",
    "class Cls:\n",
    "    def __init__(self,x):\n",
    "        self.x = x\n",
    "\n",
    "def naive(a):\n",
    "    if isinstance(a,Cls):\n",
    "        return a.x\n",
    "    else:\n",
    "        return 0\n",
    "\n",
    "def clever(a):\n",
    "    match a:\n",
    "        case Cls(x=x):\n",
    "            return x\n",
    "        case None:\n",
    "            return 0\n",
    "\n",
    "a = Cls(1.0)\n",
    "%t naive(a)\n",
    "%t clever(a)"
   ],
   "metadata": {
    "collapsed": false
   }
  },
  {
   "cell_type": "code",
   "execution_count": 82,
   "outputs": [
    {
     "name": "stdout",
     "output_type": "stream",
     "text": [
      "42.9 ns ± 5.61 ns per loop (mean ± std. dev. of 10 runs, 100 loops each)\n",
      "121 ns ± 62.4 ns per loop (mean ± std. dev. of 10 runs, 100 loops each)\n",
      "170 ns ± 10.5 ns per loop (mean ± std. dev. of 10 runs, 100 loops each)\n"
     ]
    }
   ],
   "source": [
    "# match vs isinstance (still slow)\n",
    "def naive(a):\n",
    "    if isinstance(a,list):\n",
    "        return a[0]\n",
    "    else:\n",
    "        return 0\n",
    "\n",
    "def clever(a):\n",
    "    match a:\n",
    "        case list():\n",
    "            return a[0]\n",
    "        case None:\n",
    "            return 0\n",
    "\n",
    "a = [1,2,3]\n",
    "%t isinstance(a,list)\n",
    "%t naive(a)\n",
    "%t clever(a)"
   ],
   "metadata": {
    "collapsed": false
   }
  },
  {
   "cell_type": "code",
   "execution_count": 83,
   "outputs": [
    {
     "name": "stdout",
     "output_type": "stream",
     "text": [
      "running on 2.0\n",
      "141 ns ± 41.3 ns per loop (mean ± std. dev. of 10 runs, 100 loops each)\n",
      "95.5 ns ± 15.6 ns per loop (mean ± std. dev. of 10 runs, 100 loops each)\n",
      "running on -1\n",
      "78.4 ns ± 4.18 ns per loop (mean ± std. dev. of 10 runs, 100 loops each)\n",
      "599 ns ± 176 ns per loop (mean ± std. dev. of 10 runs, 100 loops each)\n"
     ]
    }
   ],
   "source": [
    "# exceptions vs if/else\n",
    "\n",
    "def use_if_else(x):\n",
    "    if x<0:\n",
    "        return 0\n",
    "    else:\n",
    "        return math.sqrt(x)\n",
    "\n",
    "def use_try_catch(x):\n",
    "    try:\n",
    "        return math.sqrt(x)\n",
    "    except ValueError:\n",
    "        return 0\n",
    "\n",
    "val = 2.0\n",
    "print(f\"running on {val}\")\n",
    "%t use_if_else(2.0)\n",
    "%t use_try_catch(2.0)\n",
    "\n",
    "val = -1\n",
    "print(f\"running on {val}\")\n",
    "%t use_if_else(-1.0)\n",
    "%t use_try_catch(-1.0)"
   ],
   "metadata": {
    "collapsed": false
   }
  },
  {
   "cell_type": "code",
   "execution_count": 89,
   "outputs": [
    {
     "name": "stdout",
     "output_type": "stream",
     "text": [
      "no control flow on 2.0\n",
      "45.9 ns ± 7.02 ns per loop (mean ± std. dev. of 10 runs, 100 loops each)\n",
      "running on 2.0 (size=1)\n",
      "215 ns ± 11.1 ns per loop (mean ± std. dev. of 10 runs, 100 loops each)\n",
      "193 ns ± 8.17 ns per loop (mean ± std. dev. of 10 runs, 100 loops each)\n",
      "running on -1 (size=1)\n",
      "169 ns ± 6.03 ns per loop (mean ± std. dev. of 10 runs, 100 loops each)\n",
      "523 ns ± 14.7 ns per loop (mean ± std. dev. of 10 runs, 100 loops each)\n",
      "running on 2.0 (size=10)\n",
      "774 ns ± 8.74 ns per loop (mean ± std. dev. of 10 runs, 100 loops each)\n",
      "560 ns ± 6.28 ns per loop (mean ± std. dev. of 10 runs, 100 loops each)\n",
      "running on -1 (size=10)\n",
      "372 ns ± 27.8 ns per loop (mean ± std. dev. of 10 runs, 100 loops each)\n",
      "4.01 µs ± 1.34 µs per loop (mean ± std. dev. of 10 runs, 100 loops each)\n"
     ]
    }
   ],
   "source": [
    "# exceptions vs if/else (with loops insize function call)\n",
    "\n",
    "def use_if_else(x,size):\n",
    "    for i in range(size):\n",
    "        if x<0:\n",
    "            y=0\n",
    "        else:\n",
    "            y=math.sqrt(x)\n",
    "    return y\n",
    "\n",
    "def use_try_catch(x,size):\n",
    "    for i in range(size):\n",
    "        try:\n",
    "            y = math.sqrt(x)\n",
    "        except ValueError:\n",
    "            y = 0\n",
    "    return y\n",
    "\n",
    "val = 2.0\n",
    "print(f\"no control flow on {val}\")\n",
    "%t math.sqrt(val)\n",
    "\n",
    "size = 1\n",
    "val = 2.0\n",
    "print(f\"running on {val} ({size=})\")\n",
    "%t use_if_else(2.0,1)\n",
    "%t use_try_catch(2.0,1)\n",
    "\n",
    "size = 1\n",
    "val = -1\n",
    "print(f\"running on {val} ({size=})\")\n",
    "%t use_if_else(val,size)\n",
    "%t use_try_catch(val,size)\n",
    "\n",
    "size = 10\n",
    "val = 2.0\n",
    "print(f\"running on {val} ({size=})\")\n",
    "%t use_if_else(val,size)\n",
    "%t use_try_catch(val,size)\n",
    "\n",
    "size = 10\n",
    "val = -1\n",
    "print(f\"running on {val} ({size=})\")\n",
    "%t use_if_else(val,size)\n",
    "%t use_try_catch(val,size)"
   ],
   "metadata": {
    "collapsed": false
   }
  },
  {
   "cell_type": "code",
   "execution_count": null,
   "outputs": [],
   "source": [],
   "metadata": {
    "collapsed": false
   }
  }
 ],
 "metadata": {
  "kernelspec": {
   "display_name": "Python 3",
   "language": "python",
   "name": "python3"
  },
  "language_info": {
   "codemirror_mode": {
    "name": "ipython",
    "version": 2
   },
   "file_extension": ".py",
   "mimetype": "text/x-python",
   "name": "python",
   "nbconvert_exporter": "python",
   "pygments_lexer": "ipython2",
   "version": "2.7.6"
  }
 },
 "nbformat": 4,
 "nbformat_minor": 0
}
