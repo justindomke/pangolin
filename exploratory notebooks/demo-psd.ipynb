{
 "cells": [
  {
   "cell_type": "code",
   "execution_count": 1,
   "outputs": [],
   "source": [
    "%load_ext autoreload\n",
    "%autoreload 2\n",
    "\n",
    "from pangolin.interface import *\n",
    "#from matplotlib import pyplot as plt\n",
    "from pangolin.interface import *\n",
    "from pangolin.loops import VMapRV\n",
    "from pangolin import new_infer as infer"
   ],
   "metadata": {
    "collapsed": false
   }
  },
  {
   "cell_type": "code",
   "execution_count": 12,
   "outputs": [
    {
     "name": "stdout",
     "output_type": "stream",
     "text": [
      "qs.shape=(17, 10, 5)\n",
      "ps.shape=(17, 3, 5)\n",
      "gs.shape=(17, 10, 3)\n"
     ]
    }
   ],
   "source": [
    "# express model in numpyro\n",
    "import numpy as np\n",
    "import numpyro\n",
    "from numpyro import distributions as dist\n",
    "import jax\n",
    "\n",
    "N = 10 # num individuals\n",
    "L = 3 # number of locations/alleles\n",
    "K = 5 # number of groups\n",
    "\n",
    "# M = 3\n",
    "# K = 4\n",
    "# N = 5\n",
    "# V = 6\n",
    "α = np.ones(K)\n",
    "#β = np.ones(V)\n",
    "def model():\n",
    "    with numpyro.plate('N',N):\n",
    "        # each individual's distribution over ancestral populations\n",
    "        q = numpyro.sample('q',dist.Dirichlet(α))\n",
    "\n",
    "    with numpyro.plate('K',K):\n",
    "        with numpyro.plate('L',L):\n",
    "            p = numpyro.sample('p',dist.Uniform(0,1))\n",
    "\n",
    "    probs = q @ p.T\n",
    "\n",
    "    g = numpyro.sample('g',dist.Binomial(2,probs))\n",
    "\n",
    "    #with numpyro.plate('L'):\n",
    "    #    with numpyro.plate('N'):\n",
    "\n",
    "\n",
    "    #     φ = numpyro.sample('φ',dist.Dirichlet(β))\n",
    "    # with numpyro.plate('M',M,dim=-2):\n",
    "    #     θ = numpyro.sample('θ',dist.Dirichlet(α))\n",
    "    #     with numpyro.plate('N',N):\n",
    "    #         z = numpyro.sample('z',dist.Categorical(θ))\n",
    "    #         w = numpyro.sample('w',dist.Categorical(φ[z,:]))\n",
    "\n",
    "rng_key = jax.random.PRNGKey(0)\n",
    "predictive = numpyro.infer.Predictive(model, num_samples=17)\n",
    "samples = predictive(rng_key)\n",
    "\n",
    "qs = samples['q']\n",
    "ps = samples['p']\n",
    "gs = samples['g']\n",
    "# zs = samples['z']\n",
    "# ws = samples['w']\n",
    "#\n",
    "print(f\"{qs.shape=}\")\n",
    "print(f\"{ps.shape=}\")\n",
    "print(f\"{gs.shape=}\")\n",
    "# print(f\"{φs.shape=}\")\n",
    "# print(f\"{zs.shape=}\")\n",
    "# print(f\"{ws.shape=}\")\n"
   ],
   "metadata": {
    "collapsed": false
   }
  }
 ],
 "metadata": {
  "kernelspec": {
   "display_name": "Python 3",
   "language": "python",
   "name": "python3"
  },
  "language_info": {
   "codemirror_mode": {
    "name": "ipython",
    "version": 2
   },
   "file_extension": ".py",
   "mimetype": "text/x-python",
   "name": "python",
   "nbconvert_exporter": "python",
   "pygments_lexer": "ipython2",
   "version": "2.7.6"
  }
 },
 "nbformat": 4,
 "nbformat_minor": 0
}
