{
 "cells": [
  {
   "cell_type": "code",
   "execution_count": 23,
   "metadata": {
    "collapsed": true
   },
   "outputs": [],
   "source": [
    "import jax\n",
    "from jax import numpy as jnp\n",
    "import numpy as np\n",
    "\n",
    "def f(a,b):\n",
    "    c = a**2\n",
    "    d = b+a\n",
    "    return c*d"
   ]
  },
  {
   "cell_type": "code",
   "execution_count": 18,
   "outputs": [
    {
     "data": {
      "text/plain": "{ lambda ; a:i32[] b:i32[]. let\n    c:i32[] = integer_pow[y=2] a\n    d:i32[] = add b a\n    e:i32[] = mul c d\n  in (e,) }"
     },
     "execution_count": 18,
     "metadata": {},
     "output_type": "execute_result"
    }
   ],
   "source": [
    "jax.make_jaxpr(f)(2,3)"
   ],
   "metadata": {
    "collapsed": false
   }
  },
  {
   "cell_type": "code",
   "execution_count": 20,
   "outputs": [
    {
     "data": {
      "text/plain": "{ lambda ; a:i32[3] b:i32[3]. let\n    c:i32[3] = integer_pow[y=2] a\n    d:i32[3] = add b a\n    e:i32[3] = mul c d\n  in (e,) }"
     },
     "execution_count": 20,
     "metadata": {},
     "output_type": "execute_result"
    }
   ],
   "source": [
    "vec_f = jax.vmap(f)\n",
    "jax.make_jaxpr(vec_f)(jnp.array([1,2,3]),jnp.array([4,5,6]))"
   ],
   "metadata": {
    "collapsed": false
   }
  },
  {
   "cell_type": "code",
   "execution_count": 21,
   "outputs": [
    {
     "data": {
      "text/plain": "{ lambda ; a:i32[3] b:i32[]. let\n    c:i32[3] = integer_pow[y=2] a\n    d:i32[] = convert_element_type[new_dtype=int32 weak_type=False] b\n    e:i32[3] = add d a\n    f:i32[3] = mul c e\n  in (f,) }"
     },
     "execution_count": 21,
     "metadata": {},
     "output_type": "execute_result"
    }
   ],
   "source": [
    "vec_f = jax.vmap(f,[0,None])\n",
    "jax.make_jaxpr(vec_f)(jnp.array([1,2,3]),4)"
   ],
   "metadata": {
    "collapsed": false
   }
  },
  {
   "cell_type": "code",
   "execution_count": 22,
   "outputs": [
    {
     "data": {
      "text/plain": "{ lambda ; a:i32[] b:i32[3]. let\n    c:i32[] = integer_pow[y=2] a\n    d:i32[] = convert_element_type[new_dtype=int32 weak_type=False] a\n    e:i32[3] = add b d\n    f:i32[] = convert_element_type[new_dtype=int32 weak_type=False] c\n    g:i32[3] = mul f e\n  in (g,) }"
     },
     "execution_count": 22,
     "metadata": {},
     "output_type": "execute_result"
    }
   ],
   "source": [
    "vec_f = jax.vmap(f,[None,0])\n",
    "jax.make_jaxpr(vec_f)(1,jnp.array([2,3,4]))"
   ],
   "metadata": {
    "collapsed": false
   }
  },
  {
   "cell_type": "code",
   "execution_count": 28,
   "outputs": [
    {
     "data": {
      "text/plain": "{ lambda ; a:f32[2,3] b:f32[3,4]. let\n    c:f32[2,4] = dot_general[\n      dimension_numbers=(([1], [0]), ([], []))\n      preferred_element_type=float32\n    ] a b\n  in (c,) }"
     },
     "execution_count": 28,
     "metadata": {},
     "output_type": "execute_result"
    }
   ],
   "source": [
    "def f(a,b):\n",
    "    c = a @ b\n",
    "    return c\n",
    "\n",
    "jax.make_jaxpr(f)(np.random.randn(2,3),np.random.randn(3,4))"
   ],
   "metadata": {
    "collapsed": false
   }
  },
  {
   "cell_type": "code",
   "execution_count": 29,
   "outputs": [
    {
     "data": {
      "text/plain": "{ lambda ; a:f32[10,2,3] b:f32[10,3,4]. let\n    c:f32[10,2,4] = dot_general[\n      dimension_numbers=(([2], [1]), ([0], [0]))\n      preferred_element_type=float32\n    ] a b\n  in (c,) }"
     },
     "execution_count": 29,
     "metadata": {},
     "output_type": "execute_result"
    }
   ],
   "source": [
    "jax.make_jaxpr(jax.vmap(f))(np.random.randn(10,2,3),np.random.randn(10,3,4))"
   ],
   "metadata": {
    "collapsed": false
   }
  },
  {
   "cell_type": "code",
   "execution_count": 47,
   "outputs": [
    {
     "data": {
      "text/plain": "{ lambda ; a:f32[5,2,3] b:f32[6,3,4]. let\n    c:f32[2,3] = reduce_sum[axes=(0,)] a\n    d:f32[3,4] = reduce_sum[axes=(0,)] b\n    e:f32[2,4] = dot_general[\n      dimension_numbers=(([1], [0]), ([], []))\n      preferred_element_type=float32\n    ] c d\n  in (e,) }"
     },
     "execution_count": 47,
     "metadata": {},
     "output_type": "execute_result"
    }
   ],
   "source": [
    "def f(a,b):\n",
    "    c = jnp.sum(a,axis=0) @ jnp.sum(b,axis=0)\n",
    "    return c\n",
    "\n",
    "jax.make_jaxpr(f)(np.random.randn(5,2,3),np.random.randn(6,3,4))"
   ],
   "metadata": {
    "collapsed": false
   }
  },
  {
   "cell_type": "code",
   "execution_count": 46,
   "outputs": [
    {
     "ename": "TypeError",
     "evalue": "f() takes 1 positional argument but 2 were given",
     "output_type": "error",
     "traceback": [
      "\u001B[0;31m---------------------------------------------------------------------------\u001B[0m",
      "\u001B[0;31mTypeError\u001B[0m                                 Traceback (most recent call last)",
      "Cell \u001B[0;32mIn[46], line 1\u001B[0m\n\u001B[0;32m----> 1\u001B[0m jax\u001B[38;5;241m.\u001B[39mmake_jaxpr(jax\u001B[38;5;241m.\u001B[39mvmap(f,[\u001B[38;5;241m0\u001B[39m,\u001B[38;5;241m1\u001B[39m]))(np\u001B[38;5;241m.\u001B[39mrandom\u001B[38;5;241m.\u001B[39mrandn(\u001B[38;5;241m10\u001B[39m,\u001B[38;5;241m5\u001B[39m,\u001B[38;5;241m2\u001B[39m,\u001B[38;5;241m3\u001B[39m),np\u001B[38;5;241m.\u001B[39mrandom\u001B[38;5;241m.\u001B[39mrandn(\u001B[38;5;241m6\u001B[39m,\u001B[38;5;241m10\u001B[39m,\u001B[38;5;241m3\u001B[39m,\u001B[38;5;241m4\u001B[39m))\n",
      "    \u001B[0;31m[... skipping hidden 8 frame]\u001B[0m\n",
      "File \u001B[0;32m/opt/anaconda3/envs/pangolin-new/lib/python3.12/site-packages/jax/_src/linear_util.py:192\u001B[0m, in \u001B[0;36mWrappedFun.call_wrapped\u001B[0;34m(self, *args, **kwargs)\u001B[0m\n\u001B[1;32m    189\u001B[0m gen \u001B[38;5;241m=\u001B[39m gen_static_args \u001B[38;5;241m=\u001B[39m out_store \u001B[38;5;241m=\u001B[39m \u001B[38;5;28;01mNone\u001B[39;00m\n\u001B[1;32m    191\u001B[0m \u001B[38;5;28;01mtry\u001B[39;00m:\n\u001B[0;32m--> 192\u001B[0m   ans \u001B[38;5;241m=\u001B[39m \u001B[38;5;28mself\u001B[39m\u001B[38;5;241m.\u001B[39mf(\u001B[38;5;241m*\u001B[39margs, \u001B[38;5;241m*\u001B[39m\u001B[38;5;241m*\u001B[39m\u001B[38;5;28mdict\u001B[39m(\u001B[38;5;28mself\u001B[39m\u001B[38;5;241m.\u001B[39mparams, \u001B[38;5;241m*\u001B[39m\u001B[38;5;241m*\u001B[39mkwargs))\n\u001B[1;32m    193\u001B[0m \u001B[38;5;28;01mexcept\u001B[39;00m:\n\u001B[1;32m    194\u001B[0m   \u001B[38;5;66;03m# Some transformations yield from inside context managers, so we have to\u001B[39;00m\n\u001B[1;32m    195\u001B[0m   \u001B[38;5;66;03m# interrupt them before reraising the exception. Otherwise they will only\u001B[39;00m\n\u001B[1;32m    196\u001B[0m   \u001B[38;5;66;03m# get garbage-collected at some later time, running their cleanup tasks\u001B[39;00m\n\u001B[1;32m    197\u001B[0m   \u001B[38;5;66;03m# only after this exception is handled, which can corrupt the global\u001B[39;00m\n\u001B[1;32m    198\u001B[0m   \u001B[38;5;66;03m# state.\u001B[39;00m\n\u001B[1;32m    199\u001B[0m   \u001B[38;5;28;01mwhile\u001B[39;00m stack:\n",
      "\u001B[0;31mTypeError\u001B[0m: f() takes 1 positional argument but 2 were given"
     ]
    }
   ],
   "source": [
    "jax.make_jaxpr(jax.vmap(f,[0,1]))(np.random.randn(10,5,2,3),np.random.randn(6,10,3,4))"
   ],
   "metadata": {
    "collapsed": false
   }
  },
  {
   "cell_type": "code",
   "execution_count": 39,
   "outputs": [
    {
     "data": {
      "text/plain": "{ lambda ; a:f32[10]. let\n    b:f32[] c:f32[10] = scan[\n      jaxpr={ lambda ; d:f32[] e:f32[]. let\n          f:f32[] = add d e\n          g:f32[] = add d e\n        in (f, g) }\n      length=10\n      linear=(False, False)\n      num_carry=1\n      num_consts=0\n      reverse=False\n      unroll=1\n    ] 0.0 a\n  in (b, c) }"
     },
     "execution_count": 39,
     "metadata": {},
     "output_type": "execute_result"
    }
   ],
   "source": [
    "def f(x):\n",
    "    def g(carry, x):\n",
    "        return carry+x, carry+x\n",
    "    return jax.lax.scan(g,0,x)\n",
    "\n",
    "jax.make_jaxpr(f)(np.random.randn(10))"
   ],
   "metadata": {
    "collapsed": false
   }
  },
  {
   "cell_type": "code",
   "execution_count": 41,
   "outputs": [
    {
     "data": {
      "text/plain": "{ lambda ; a:f32[5,10]. let\n    b:f32[5] = broadcast_in_dim[broadcast_dimensions=() shape=(5,)] 0.0\n    c:f32[10,5] = transpose[permutation=(1, 0)] a\n    d:f32[5] e:f32[10,5] = scan[\n      jaxpr={ lambda ; f:f32[5] g:f32[5]. let\n          h:f32[5] = add f g\n          i:f32[5] = add f g\n        in (h, i) }\n      length=10\n      linear=(False, False)\n      num_carry=1\n      num_consts=0\n      reverse=False\n      unroll=1\n    ] b c\n    j:f32[5,10] = transpose[permutation=(1, 0)] e\n  in (d, j) }"
     },
     "execution_count": 41,
     "metadata": {},
     "output_type": "execute_result"
    }
   ],
   "source": [
    "jax.make_jaxpr(jax.vmap(f))(np.random.randn(5,10))"
   ],
   "metadata": {
    "collapsed": false
   }
  },
  {
   "cell_type": "code",
   "execution_count": 45,
   "outputs": [
    {
     "data": {
      "text/plain": "Array([0.9092974, 0.9092974, 0.9092974, 0.9092974, 0.9092974],      dtype=float32, weak_type=True)"
     },
     "execution_count": 45,
     "metadata": {},
     "output_type": "execute_result"
    }
   ],
   "source": [
    "jax.vmap(jnp.sin,None,axis_size=5)(2.0)"
   ],
   "metadata": {
    "collapsed": false
   }
  },
  {
   "cell_type": "code",
   "execution_count": 44,
   "outputs": [],
   "source": [
    "jax.vmap?"
   ],
   "metadata": {
    "collapsed": false
   }
  },
  {
   "cell_type": "code",
   "execution_count": null,
   "outputs": [],
   "source": [],
   "metadata": {
    "collapsed": false
   }
  }
 ],
 "metadata": {
  "kernelspec": {
   "display_name": "Python 3",
   "language": "python",
   "name": "python3"
  },
  "language_info": {
   "codemirror_mode": {
    "name": "ipython",
    "version": 2
   },
   "file_extension": ".py",
   "mimetype": "text/x-python",
   "name": "python",
   "nbconvert_exporter": "python",
   "pygments_lexer": "ipython2",
   "version": "2.7.6"
  }
 },
 "nbformat": 4,
 "nbformat_minor": 0
}
