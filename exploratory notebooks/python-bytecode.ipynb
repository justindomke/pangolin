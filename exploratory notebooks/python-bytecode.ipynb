{
 "cells": [
  {
   "cell_type": "code",
   "execution_count": 1,
   "metadata": {
    "collapsed": true
   },
   "outputs": [],
   "source": [
    "import dis"
   ]
  },
  {
   "cell_type": "code",
   "execution_count": 22,
   "outputs": [
    {
     "name": "stdout",
     "output_type": "stream",
     "text": [
      "  2           0 RESUME                   0\n",
      "\n",
      "  3           2 LOAD_FAST                0 (a)\n",
      "              4 LOAD_FAST                1 (b)\n",
      "              6 BINARY_OP                0 (+)\n",
      "             10 STORE_FAST               2 (tmp1)\n",
      "\n",
      "  4          12 LOAD_FAST                2 (tmp1)\n",
      "             14 LOAD_GLOBAL              0 (c)\n",
      "             24 BINARY_OP                0 (+)\n",
      "             28 STORE_FAST               3 (tmp2)\n",
      "\n",
      "  5          30 LOAD_FAST                3 (tmp2)\n",
      "             32 LOAD_CONST               1 (4)\n",
      "             34 BINARY_OP                0 (+)\n",
      "             38 STORE_FAST               4 (tmp3)\n",
      "\n",
      "  6          40 LOAD_FAST                4 (tmp3)\n",
      "             42 RETURN_VALUE\n",
      "fun.__code__.co_consts=(None, 4)\n",
      "fun.__code__.co_varnames=('a', 'b', 'tmp1', 'tmp2', 'tmp3')\n",
      "fun.__code__.co_names=('c',)\n"
     ]
    }
   ],
   "source": [
    "c = 3\n",
    "def fun(a,b):\n",
    "    tmp1 = a+b\n",
    "    tmp2 = tmp1+c\n",
    "    tmp3 = tmp2+4\n",
    "    return tmp3\n",
    "dis.dis(fun)\n",
    "\n",
    "print(f\"{fun.__code__.co_consts=}\")\n",
    "print(f\"{fun.__code__.co_varnames=}\")\n",
    "print(f\"{fun.__code__.co_names=}\")"
   ],
   "metadata": {
    "collapsed": false
   }
  },
  {
   "cell_type": "code",
   "execution_count": 32,
   "outputs": [
    {
     "name": "stdout",
     "output_type": "stream",
     "text": [
      "  1           0 RESUME                   0\n",
      "\n",
      "  2           2 LOAD_CONST               1 (0)\n",
      "              4 STORE_FAST               1 (val)\n",
      "\n",
      "  3           6 LOAD_GLOBAL              1 (NULL + range)\n",
      "             16 LOAD_CONST               2 (5)\n",
      "             18 CALL                     1\n",
      "             26 GET_ITER\n",
      "        >>   28 FOR_ITER                10 (to 52)\n",
      "             32 STORE_FAST               2 (i)\n",
      "\n",
      "  4          34 LOAD_FAST                1 (val)\n",
      "             36 LOAD_FAST                0 (a)\n",
      "             38 LOAD_FAST                2 (i)\n",
      "             40 BINARY_OP                8 (**)\n",
      "             44 BINARY_OP               13 (+=)\n",
      "             48 STORE_FAST               1 (val)\n",
      "             50 JUMP_BACKWARD           12 (to 28)\n",
      "\n",
      "  3     >>   52 END_FOR\n",
      "\n",
      "  5          54 LOAD_FAST                1 (val)\n",
      "             56 RETURN_VALUE\n"
     ]
    }
   ],
   "source": [
    "def fun(a):\n",
    "    val = 0\n",
    "    for i in range(5):\n",
    "        val += a**i\n",
    "    return val\n",
    "dis.dis(fun)"
   ],
   "metadata": {
    "collapsed": false
   }
  },
  {
   "cell_type": "code",
   "execution_count": 33,
   "outputs": [
    {
     "data": {
      "text/plain": "[151,\n 0,\n 100,\n 1,\n 125,\n 1,\n 116,\n 1,\n 0,\n 0,\n 0,\n 0,\n 0,\n 0,\n 0,\n 0,\n 100,\n 2,\n 171,\n 1,\n 0,\n 0,\n 0,\n 0,\n 0,\n 0,\n 68,\n 0,\n 93,\n 10,\n 0,\n 0,\n 125,\n 2,\n 124,\n 1,\n 124,\n 0,\n 124,\n 2,\n 122,\n 8,\n 0,\n 0,\n 122,\n 13,\n 0,\n 0,\n 125,\n 1,\n 140,\n 12,\n 4,\n 0,\n 124,\n 1,\n 83,\n 0]"
     },
     "execution_count": 33,
     "metadata": {},
     "output_type": "execute_result"
    }
   ],
   "source": [
    "list(fun.__code__.co_code)"
   ],
   "metadata": {
    "collapsed": false
   }
  },
  {
   "cell_type": "code",
   "execution_count": 34,
   "outputs": [
    {
     "name": "stdout",
     "output_type": "stream",
     "text": [
      "  1           0 RESUME                   0\n",
      "\n",
      "  2           2 LOAD_CONST               1 (0)\n",
      "              4 STORE_FAST               1 (val)\n",
      "\n",
      "  3           6 LOAD_GLOBAL              1 (NULL + range)\n",
      "             16 LOAD_CONST               2 (5)\n",
      "             18 CALL                     1\n",
      "             26 GET_ITER\n",
      "        >>   28 FOR_ITER                10 (to 52)\n",
      "             32 STORE_FAST               2 (i)\n",
      "\n",
      "  4          34 LOAD_FAST                1 (val)\n",
      "             36 LOAD_FAST                0 (a)\n",
      "             38 LOAD_FAST                2 (i)\n",
      "             40 BINARY_OP                8 (**)\n",
      "             44 BINARY_OP               13 (+=)\n",
      "             48 STORE_FAST               1 (val)\n",
      "             50 JUMP_BACKWARD           12 (to 28)\n",
      "\n",
      "  3     >>   52 END_FOR\n",
      "\n",
      "  5          54 LOAD_FAST                1 (val)\n",
      "             56 RETURN_VALUE\n"
     ]
    }
   ],
   "source": [
    "dis.dis(fun)"
   ],
   "metadata": {
    "collapsed": false
   }
  },
  {
   "cell_type": "code",
   "execution_count": 35,
   "outputs": [
    {
     "data": {
      "text/plain": "['__annotations__',\n '__builtins__',\n '__call__',\n '__class__',\n '__closure__',\n '__code__',\n '__defaults__',\n '__delattr__',\n '__dict__',\n '__dir__',\n '__doc__',\n '__eq__',\n '__format__',\n '__ge__',\n '__get__',\n '__getattribute__',\n '__getstate__',\n '__globals__',\n '__gt__',\n '__hash__',\n '__init__',\n '__init_subclass__',\n '__kwdefaults__',\n '__le__',\n '__lt__',\n '__module__',\n '__name__',\n '__ne__',\n '__new__',\n '__qualname__',\n '__reduce__',\n '__reduce_ex__',\n '__repr__',\n '__setattr__',\n '__sizeof__',\n '__str__',\n '__subclasshook__',\n '__type_params__']"
     },
     "execution_count": 35,
     "metadata": {},
     "output_type": "execute_result"
    }
   ],
   "source": [
    "dir(fun)"
   ],
   "metadata": {
    "collapsed": false
   }
  },
  {
   "cell_type": "code",
   "execution_count": null,
   "outputs": [],
   "source": [
    "dir(fun.__code__)"
   ],
   "metadata": {
    "collapsed": false
   }
  }
 ],
 "metadata": {
  "kernelspec": {
   "display_name": "Python 3",
   "language": "python",
   "name": "python3"
  },
  "language_info": {
   "codemirror_mode": {
    "name": "ipython",
    "version": 2
   },
   "file_extension": ".py",
   "mimetype": "text/x-python",
   "name": "python",
   "nbconvert_exporter": "python",
   "pygments_lexer": "ipython2",
   "version": "2.7.6"
  }
 },
 "nbformat": 4,
 "nbformat_minor": 0
}
