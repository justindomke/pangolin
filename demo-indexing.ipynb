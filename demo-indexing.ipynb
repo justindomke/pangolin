{
 "cells": [
  {
   "cell_type": "markdown",
   "source": [
    "How does indexing work in numpy exactly?"
   ],
   "metadata": {
    "collapsed": false
   }
  },
  {
   "cell_type": "code",
   "execution_count": 2,
   "metadata": {
    "collapsed": true
   },
   "outputs": [],
   "source": [
    "import numpy as np"
   ]
  },
  {
   "cell_type": "markdown",
   "source": [
    "The rule seems to be:\n",
    "1. If there are fewer indices than dimensions in the array, implicitly add full slices for the rest\n",
    "2. Henceforth, assume the *number of indices* is the same as the number of dimensions in the array\n",
    "3. Next, broadcast all the indices against each other to implicitly make them the same shape\n",
    "4. Now, compute the output shape like this:\n",
    "    - Loop over all the dimensions\n",
    "    - If the dimension is sliced, add the size of the slice\n",
    "    - If the dimension is not sliced, *and the indices have not already been added*, add the size of thie indices\n",
    "\n",
    "Notice in particular: **slices are not like passing in `np.arange(axis_size)`**. The sliced dimensions don't get broadcast with the other dimensions, and show up independently. SLICES ARE DIFFERENT."
   ],
   "metadata": {
    "collapsed": false
   }
  },
  {
   "cell_type": "code",
   "execution_count": 74,
   "outputs": [],
   "source": [
    "x = np.random.randn(10,11,12,13)\n",
    "assert x[0,1,2,3].shape == ()\n",
    "assert x[[0,1],[0,1],[0,1],[0,1]].shape == (2,)\n",
    "assert x[[0,1],[0,1],:,[0,1]].shape == (2,12)\n",
    "assert x[:,[0,1],[0,1],[0,1]].shape == (10,2)\n",
    "assert x[:,[0,1],[0,1],[[0,1],[2,3],[4,5]]].shape == (10,3,2)"
   ],
   "metadata": {
    "collapsed": false
   }
  },
  {
   "cell_type": "code",
   "execution_count": 75,
   "outputs": [
    {
     "name": "stdout",
     "output_type": "stream",
     "text": [
      "x \n",
      " [0.  0.1 0.2 0.3 0.4 0.5 0.6 0.7 0.8 0.9]\n",
      "idx \n",
      " [0 3 1 2]\n",
      "x[idx] \n",
      " [0.  0.3 0.1 0.2]\n"
     ]
    }
   ],
   "source": [
    "# 1d array 1d indexing\n",
    "x = np.arange(0,10,.1)[:10]\n",
    "idx = np.array([0,3,1,2])\n",
    "print(\"x\", \"\\n\", f\"{x}\")\n",
    "print(\"idx\", \"\\n\", f\"{idx}\")\n",
    "print(\"x[idx]\", \"\\n\", f\"{x[idx]}\")"
   ],
   "metadata": {
    "collapsed": false
   }
  },
  {
   "cell_type": "code",
   "execution_count": 76,
   "outputs": [
    {
     "name": "stdout",
     "output_type": "stream",
     "text": [
      "x \n",
      " [0.  0.1 0.2 0.3 0.4 0.5 0.6 0.7 0.8 0.9]\n",
      "idx \n",
      " [[0 1]\n",
      " [2 3]]\n",
      "x[idx] \n",
      " [[0.  0.1]\n",
      " [0.2 0.3]]\n"
     ]
    }
   ],
   "source": [
    "# 1d array 2d indexing\n",
    "x = np.arange(0,10,.1)[:10]\n",
    "idx = np.array([[0,1],[2,3]])\n",
    "print(\"x\", \"\\n\", f\"{x}\")\n",
    "print(\"idx\", \"\\n\", f\"{idx}\")\n",
    "print(\"x[idx]\", \"\\n\", f\"{x[idx]}\")"
   ],
   "metadata": {
    "collapsed": false
   }
  },
  {
   "cell_type": "code",
   "execution_count": 77,
   "outputs": [
    {
     "name": "stdout",
     "output_type": "stream",
     "text": [
      "x \n",
      " [[0.  0.1 0.2 0.3 0.4]\n",
      " [1.  1.1 1.2 1.3 1.4]\n",
      " [2.  2.1 2.2 2.3 2.4]\n",
      " [3.  3.1 3.2 3.3 3.4]\n",
      " [4.  4.1 4.2 4.3 4.4]]\n",
      "idx \n",
      " [0 3 2 1]\n",
      "x[idx] \n",
      " [[0.  0.1 0.2 0.3 0.4]\n",
      " [3.  3.1 3.2 3.3 3.4]\n",
      " [2.  2.1 2.2 2.3 2.4]\n",
      " [1.  1.1 1.2 1.3 1.4]]\n"
     ]
    }
   ],
   "source": [
    "# 2d array, single 1d index\n",
    "x = np.reshape(np.arange(0,10,.1),[10,10])[:5,:5]\n",
    "idx = np.array([0,3,2,1])\n",
    "print(\"x\", \"\\n\", f\"{x}\")\n",
    "print(\"idx\", \"\\n\", f\"{idx}\")\n",
    "print(\"x[idx]\", \"\\n\", f\"{x[idx]}\")"
   ],
   "metadata": {
    "collapsed": false
   }
  },
  {
   "cell_type": "code",
   "execution_count": 78,
   "outputs": [
    {
     "name": "stdout",
     "output_type": "stream",
     "text": [
      "x \n",
      " [[0.  0.1 0.2 0.3 0.4]\n",
      " [1.  1.1 1.2 1.3 1.4]\n",
      " [2.  2.1 2.2 2.3 2.4]\n",
      " [3.  3.1 3.2 3.3 3.4]]\n",
      "idx \n",
      " [[0 1]\n",
      " [2 3]]\n",
      "x[idx] \n",
      " [[[0.  0.1 0.2 0.3 0.4]\n",
      "  [1.  1.1 1.2 1.3 1.4]]\n",
      "\n",
      " [[2.  2.1 2.2 2.3 2.4]\n",
      "  [3.  3.1 3.2 3.3 3.4]]]\n"
     ]
    }
   ],
   "source": [
    "# 2d array, single 2d index\n",
    "x = np.reshape(np.arange(0,10,.1),[10,10])[:4,:5]\n",
    "idx = np.array([[0,1],[2,3]])\n",
    "print(\"x\", \"\\n\", f\"{x}\")\n",
    "print(\"idx\", \"\\n\", f\"{idx}\")\n",
    "print(\"x[idx]\", \"\\n\", f\"{x[idx]}\")\n",
    "z = x[idx]\n",
    "assert z.shape == idx.shape + x.shape[1:] # shape of index then shape of slice"
   ],
   "metadata": {
    "collapsed": false
   }
  },
  {
   "cell_type": "code",
   "execution_count": 79,
   "outputs": [
    {
     "name": "stdout",
     "output_type": "stream",
     "text": [
      "x \n",
      " [[0.  0.1 0.2 0.3 0.4]\n",
      " [1.  1.1 1.2 1.3 1.4]\n",
      " [2.  2.1 2.2 2.3 2.4]\n",
      " [3.  3.1 3.2 3.3 3.4]]\n",
      "idx \n",
      " [[0 1]\n",
      " [2 3]]\n",
      "x[:,idx] \n",
      " [[[0.  0.1]\n",
      "  [0.2 0.3]]\n",
      "\n",
      " [[1.  1.1]\n",
      "  [1.2 1.3]]\n",
      "\n",
      " [[2.  2.1]\n",
      "  [2.2 2.3]]\n",
      "\n",
      " [[3.  3.1]\n",
      "  [3.2 3.3]]]\n"
     ]
    }
   ],
   "source": [
    "# 2d array, single 2d index in second component\n",
    "x = np.reshape(np.arange(0,10,.1),[10,10])[:4,:5]\n",
    "idx = np.array([[0,1],[2,3]])\n",
    "print(\"x\", \"\\n\", f\"{x}\")\n",
    "print(\"idx\", \"\\n\", f\"{idx}\")\n",
    "print(\"x[:,idx]\", \"\\n\", f\"{x[:,idx]}\")\n",
    "z = x[:,idx]\n",
    "assert z.shape == x.shape[:1] + idx.shape # shape of slice then shape of index"
   ],
   "metadata": {
    "collapsed": false
   }
  },
  {
   "cell_type": "code",
   "execution_count": 86,
   "outputs": [],
   "source": [
    "x = np.random.randn(21,17,5,7,9)\n",
    "idx0 = np.random.randint(0,21,[4,3])\n",
    "idx2 = np.random.randint(0,5,[4,3])\n",
    "idx4 = np.array(2)\n",
    "y = x[idx0,:,idx2,:,idx4]\n",
    "assert y.shape == idx0.shape + x.shape[1:2] + x.shape[3:4] # look ma no idx2"
   ],
   "metadata": {
    "collapsed": false
   }
  },
  {
   "cell_type": "code",
   "execution_count": 93,
   "outputs": [],
   "source": [
    "x = np.random.randn(21,17,5,7,9)\n",
    "idx0 = np.random.randint(0,21,[4,3])\n",
    "idx2 = np.random.randint(0,5,[3])\n",
    "idx4 = np.array(2)\n",
    "y = x[idx0,:,idx2,:,idx4]\n",
    "assert y.shape == idx0.shape + x.shape[1:2] + x.shape[3:4]"
   ],
   "metadata": {
    "collapsed": false
   }
  },
  {
   "cell_type": "code",
   "execution_count": 97,
   "outputs": [
    {
     "data": {
      "text/plain": "(3,)"
     },
     "execution_count": 97,
     "metadata": {},
     "output_type": "execute_result"
    }
   ],
   "source": [
    "(3,) + ()"
   ],
   "metadata": {
    "collapsed": false
   }
  },
  {
   "cell_type": "code",
   "execution_count": null,
   "outputs": [],
   "source": [],
   "metadata": {
    "collapsed": false
   }
  }
 ],
 "metadata": {
  "kernelspec": {
   "display_name": "Python 3",
   "language": "python",
   "name": "python3"
  },
  "language_info": {
   "codemirror_mode": {
    "name": "ipython",
    "version": 2
   },
   "file_extension": ".py",
   "mimetype": "text/x-python",
   "name": "python",
   "nbconvert_exporter": "python",
   "pygments_lexer": "ipython2",
   "version": "2.7.6"
  }
 },
 "nbformat": 4,
 "nbformat_minor": 0
}
