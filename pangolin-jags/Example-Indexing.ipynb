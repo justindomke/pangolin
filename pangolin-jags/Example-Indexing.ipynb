{
 "cells": [
  {
   "cell_type": "markdown",
   "id": "2f2fde53",
   "metadata": {},
   "source": [
    "This is largely a set of tests of the different ways indexing can interact with other primatives."
   ]
  },
  {
   "cell_type": "code",
   "execution_count": 1,
   "id": "c4d6af2d",
   "metadata": {},
   "outputs": [],
   "source": [
    "from pangolin import Given, d, t, I, IID, vmap, sample, E, P, var, std, cov, corr, makerv, jags_code\n",
    "from matplotlib import pyplot as plt\n",
    "import numpy as np\n",
    "np.set_printoptions(formatter={'float': '{:6.2f}'.format}) # print nicely"
   ]
  },
  {
   "cell_type": "code",
   "execution_count": 2,
   "id": "10fb4a74",
   "metadata": {},
   "outputs": [
    {
     "name": "stdout",
     "output_type": "stream",
     "text": [
      "E(X[0])\n",
      "0.0\n",
      "0.0\n",
      "E(X[:])\n",
      "[  0.00   0.10   0.20   0.30   0.40   0.50   0.60   0.70   0.80   0.90]\n",
      "[  0.00   0.10   0.20   0.30   0.40   0.50   0.60   0.70   0.80   0.90]\n",
      "E(X[2:5])\n",
      "[  0.20   0.30   0.40]\n",
      "[  0.20   0.30   0.40]\n",
      "E(X[9:3:-2])\n",
      "[  0.90   0.70   0.50]\n",
      "[  0.90   0.70   0.50]\n"
     ]
    }
   ],
   "source": [
    "# Thoroughly test 1-D indexing (no random variables)\n",
    "X0 = np.arange(10)/10\n",
    "X = makerv(X0)\n",
    "print('E(X[0])')\n",
    "print(E(X[0]))\n",
    "print(X0[0])\n",
    "# print('E(X[-2])')\n",
    "# print(E(X[-2]))\n",
    "# print(X0[-2])\n",
    "print('E(X[:])')\n",
    "print(E(X[:]))\n",
    "print(X0[:])\n",
    "print('E(X[2:5])')\n",
    "print(E(X[2:5]))\n",
    "print(X0[2:5])\n",
    "print('E(X[9:3:-2])')\n",
    "print(E(X[9:3:-2]))\n",
    "print(X0[9:3:-2])"
   ]
  },
  {
   "cell_type": "code",
   "execution_count": 3,
   "id": "3c6f8eca",
   "metadata": {},
   "outputs": [
    {
     "name": "stdout",
     "output_type": "stream",
     "text": [
      "each group should be equal\n",
      "---\n",
      "E(x|y0=o0,y2=o2)        -1.0843617375\n",
      "E(x|y[(0,2)]=o[(0,2)])  -1.0843617375\n",
      "---\n",
      "E(x|y[0:2]=o[0:2])      2.175531537\n",
      "E(x|y[[0,1]]=o[[0,1]])  2.175531537\n",
      "---\n",
      "E(x|y[0:2]=o[0:2])      2.175531537\n",
      "E(x|y[[0,1]]=o[[0,1]])  2.175531537\n",
      "---\n",
      "E(x|y[::-2],o[::-2])    0.225841342434\n",
      "E(x|y4=o4,y2=o2,y0=o0)  0.225841342434\n"
     ]
    }
   ],
   "source": [
    "#x = d.norm(0,1)\n",
    "#y = IID(d.norm(x,1),4)\n",
    "x = d.norm(0,1)\n",
    "y = vmap(d.norm)(x*[1,2,3,4,5],[1,1,1,1,1])\n",
    "o = np.array([9,2,-7,3,4]) # observations\n",
    "\n",
    "#print('E(x|y0=o0)        ',E(x,Given(y[0]==o[0])))\n",
    "#print('E(x|y2=o2)        ',E(x,Given(y[2]==o[2])))\n",
    "print('each group should be equal')\n",
    "print('---')\n",
    "print('E(x|y0=o0,y2=o2)       ',E(x,Given(y[0]==o[0],y[2]==o[2])))\n",
    "print('E(x|y[(0,2)]=o[(0,2)]) ',E(x,Given(y[[0,2]]==o[[0,2]])))\n",
    "print('---')\n",
    "print('E(x|y[0:2]=o[0:2])     ',E(x,Given(y[0:2]==o[0:2])))\n",
    "print('E(x|y[[0,1]]=o[[0,1]]) ',E(x,Given(y[[0,1]]==o[[0,1]])))\n",
    "print('---')\n",
    "print('E(x|y[0:2]=o[0:2])     ',E(x,Given(y[0:2]==o[0:2])))\n",
    "print('E(x|y[[0,1]]=o[[0,1]]) ',E(x,Given(y[[0,1]]==o[[0,1]])))\n",
    "print('---')\n",
    "print('E(x|y[::-2],o[::-2])   ',E(x,Given(y[::-2]==o[::-2])))\n",
    "print('E(x|y4=o4,y2=o2,y0=o0) ',E(x,Given(y[4]==o[4],y[2]==o[2],y[0]==o[0])))"
   ]
  },
  {
   "cell_type": "code",
   "execution_count": 4,
   "id": "f3fd387a",
   "metadata": {},
   "outputs": [
    {
     "name": "stdout",
     "output_type": "stream",
     "text": [
      "E(g(A,B))\n",
      "[  8.00  15.00]\n",
      "expected\n",
      "[ 8 15]\n"
     ]
    }
   ],
   "source": [
    "# tracing and indexing\n",
    "def f(a,b):\n",
    "    return a[1]*b[2]\n",
    "g = vmap(f,[True,True])\n",
    "A = makerv([[0,2,0],[0,3,0]])\n",
    "B = makerv([[0,0,4],[0,0,5]])\n",
    "print('E(g(A,B))')\n",
    "print(E(g(A,B)))\n",
    "print('expected')\n",
    "print(A.value[:,1]*B.value[:,2])"
   ]
  },
  {
   "cell_type": "code",
   "execution_count": 5,
   "id": "f5bdca7f",
   "metadata": {},
   "outputs": [
    {
     "name": "stdout",
     "output_type": "stream",
     "text": [
      "E(g(A,B,N,M)) [  3.00   8.00]\n",
      "expected      [3.0, 8.0]\n",
      "expected      [3.0, 8.0]\n"
     ]
    }
   ],
   "source": [
    "# tracing and indexing\n",
    "def f(a,b,n,m):\n",
    "    return a[n]*b[m]\n",
    "g = vmap(f,[True,True,True,True])\n",
    "A0 = np.array([[1.,0,0],[0,0,2.]])\n",
    "B0 = np.array([[0,0,3.],[0,4.,0]])\n",
    "N0 = np.array([0,2])\n",
    "M0 = np.array([2,1])\n",
    "A = makerv(A0)\n",
    "B = makerv(B0)\n",
    "N = makerv(N0)\n",
    "M = makerv(M0)\n",
    "print('E(g(A,B,N,M))',E(g(A,B,N,M)))\n",
    "print('expected     ',[f(a,b,n,m) for (a,b,n,m) in zip(A0,B0,N0,M0)])\n",
    "print('expected     ',[A0[0,N0[0]]*B0[0,M0[0]],A0[1,N0[1]]*B0[1,M0[1]]])"
   ]
  },
  {
   "cell_type": "code",
   "execution_count": 6,
   "id": "5ad93c78",
   "metadata": {},
   "outputs": [
    {
     "name": "stdout",
     "output_type": "stream",
     "text": [
      "E(g(A,B,N,M)) [  4.00   6.00]\n",
      "expected      [4.0, 6.0]\n",
      "expected      [4.0, 6.0]\n"
     ]
    }
   ],
   "source": [
    "# partial vectorization\n",
    "def f(a,b,n,m):\n",
    "    return a[n]*b[m]\n",
    "g = vmap(f,[True,False,False,True])\n",
    "A0 = np.array([[0,0,1.],[0,0,2.]])\n",
    "B0 = np.array([3.,4.,0.])\n",
    "N0 = np.array(2)\n",
    "M0 = np.array([1,0])\n",
    "A = makerv(A0)\n",
    "B = makerv(B0)\n",
    "N = makerv(N0)\n",
    "M = makerv(M0)\n",
    "print('E(g(A,B,N,M))',E(g(A,B,N,M)))\n",
    "print('expected     ',[f(a,B0,N0,m) for (a,m) in zip(A0,M0)])\n",
    "print('expected     ',[A0[0,N0]*B0[M0[0]],A0[1,N0]*B0[M0[1]]])"
   ]
  },
  {
   "cell_type": "code",
   "execution_count": 7,
   "id": "bb5e14be",
   "metadata": {},
   "outputs": [
    {
     "name": "stdout",
     "output_type": "stream",
     "text": [
      "E(outer(x,y))\n",
      "[[  4.00   5.00   6.00]\n",
      " [  8.00  10.00  12.00]\n",
      " [ 12.00  15.00  18.00]]\n",
      "np.outer(x,y)\n",
      "[[ 4  5  6]\n",
      " [ 8 10 12]\n",
      " [12 15 18]]\n"
     ]
    }
   ],
   "source": [
    "# make an outer product via vectorization\n",
    "outer = vmap(vmap(lambda a,b:a*b,[False,True]),[True,False])\n",
    "x = np.array([1,2,3])\n",
    "y = np.array([4,5,6])\n",
    "print('E(outer(x,y))')\n",
    "print(E(outer(x,y)))\n",
    "print('np.outer(x,y)')\n",
    "print(np.outer(x,y))"
   ]
  }
 ],
 "metadata": {
  "kernelspec": {
   "display_name": "Python 3 (ipykernel)",
   "language": "python",
   "name": "python3"
  },
  "language_info": {
   "codemirror_mode": {
    "name": "ipython",
    "version": 3
   },
   "file_extension": ".py",
   "mimetype": "text/x-python",
   "name": "python",
   "nbconvert_exporter": "python",
   "pygments_lexer": "ipython3",
   "version": "3.9.7"
  }
 },
 "nbformat": 4,
 "nbformat_minor": 5
}
