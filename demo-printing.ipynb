{
 "cells": [
  {
   "cell_type": "code",
   "execution_count": 1,
   "metadata": {
    "collapsed": true
   },
   "outputs": [
    {
     "name": "stdout",
     "output_type": "stream",
     "text": [
      "Constant(0)\n",
      "0\n"
     ]
    }
   ],
   "source": [
    "%load_ext autoreload\n",
    "%autoreload 2\n",
    "\n",
    "from pangolin.interface import *\n",
    "\n",
    "x = Constant(0)\n",
    "print(repr(x))\n",
    "print(str(x))"
   ]
  },
  {
   "cell_type": "code",
   "execution_count": 2,
   "outputs": [
    {
     "name": "stdout",
     "output_type": "stream",
     "text": [
      "Constant([0,1,2])\n",
      "[0 1 2]\n"
     ]
    }
   ],
   "source": [
    "x = Constant([0,1,2])\n",
    "print(repr(x))\n",
    "print(str(x))"
   ],
   "metadata": {
    "collapsed": false
   }
  },
  {
   "cell_type": "code",
   "execution_count": 3,
   "outputs": [
    {
     "name": "stdout",
     "output_type": "stream",
     "text": [
      "Constant([0,1,2])\n",
      "[0 1 2]\n"
     ]
    }
   ],
   "source": [
    "x = Constant([0,1,2])\n",
    "print(repr(x))\n",
    "print(str(x))"
   ],
   "metadata": {
    "collapsed": false
   }
  },
  {
   "cell_type": "code",
   "execution_count": 19,
   "outputs": [
    {
     "name": "stdout",
     "output_type": "stream",
     "text": [
      "RV(Constant(0))\n",
      "0\n"
     ]
    }
   ],
   "source": [
    "x = RV(Constant(0))\n",
    "print(repr(x))\n",
    "print(str(x))"
   ],
   "metadata": {
    "collapsed": false
   }
  },
  {
   "cell_type": "code",
   "execution_count": 20,
   "outputs": [
    {
     "name": "stdout",
     "output_type": "stream",
     "text": [
      "normal_scale\n",
      "normal_scale\n"
     ]
    }
   ],
   "source": [
    "print(repr(normal_scale))\n",
    "print(str(normal_scale))"
   ],
   "metadata": {
    "collapsed": false
   }
  },
  {
   "cell_type": "code",
   "execution_count": 21,
   "outputs": [
    {
     "name": "stdout",
     "output_type": "stream",
     "text": [
      "RV(normal_scale, parents=[RV(Constant(0)),RV(Constant(1))])\n",
      "normal_scale(0,1)\n"
     ]
    }
   ],
   "source": [
    "x = normal(0,1)\n",
    "print(repr(x))\n",
    "print(str(x))"
   ],
   "metadata": {
    "collapsed": false
   }
  },
  {
   "cell_type": "code",
   "execution_count": 22,
   "outputs": [
    {
     "name": "stdout",
     "output_type": "stream",
     "text": [
      "RV(VMapDist(base_cond_dist=normal_scale), parents=[RV(normal_scale, parents=[RV(Constant(0)),RV(Constant(1))]),RV(Constant(1))])\n",
      "vmap(3, (∅, ∅), normal_scale)(normal_scale(0,1),1)\n"
     ]
    }
   ],
   "source": [
    "x = normal(0,1)\n",
    "y = vmap(lambda tmp: normal(tmp,1), None, 3)(x)\n",
    "print(repr(y))\n",
    "print(str(y))"
   ],
   "metadata": {
    "collapsed": false
   }
  },
  {
   "cell_type": "code",
   "execution_count": 8,
   "outputs": [
    {
     "name": "stdout",
     "output_type": "stream",
     "text": [
      "RV(VMapDist(base_cond_dist=normal_scale), parents=[RV(Constant(0)),RV(Constant(1))])\n",
      "vmap(3, (∅, ∅), normal_scale)(0,1)\n"
     ]
    }
   ],
   "source": [
    "y = vmap(lambda: normal(0,1), None, 3)()\n",
    "print(repr(y))\n",
    "print(str(y))"
   ],
   "metadata": {
    "collapsed": false
   }
  },
  {
   "cell_type": "code",
   "execution_count": 9,
   "outputs": [
    {
     "name": "stdout",
     "output_type": "stream",
     "text": [
      "RV(VMapDist(base_cond_dist=normal_scale), parents=[RV(Constant(2.3)),RV(Constant(1))])\n",
      "vmap(3, (∅, ∅), normal_scale)(2.3,1)\n"
     ]
    }
   ],
   "source": [
    "x = 2.3\n",
    "y = vmap(lambda: normal(x,1), None, 3)()\n",
    "print(repr(y))\n",
    "print(str(y))"
   ],
   "metadata": {
    "collapsed": false
   }
  },
  {
   "cell_type": "code",
   "execution_count": 10,
   "outputs": [
    {
     "name": "stdout",
     "output_type": "stream",
     "text": [
      "RV(VMapDist(base_cond_dist=normal_scale), parents=[RV(normal_scale, parents=[RV(Constant(1.1)),RV(Constant(2.2))]),RV(Constant(1))])\n",
      "vmap(3, (∅, ∅), normal_scale)(normal_scale(1.1,2.2),1)\n"
     ]
    }
   ],
   "source": [
    "x = normal(1.1,2.2)\n",
    "y = vmap(lambda: normal(x,1), None, 3)()\n",
    "print(repr(y))\n",
    "print(str(y))"
   ],
   "metadata": {
    "collapsed": false
   }
  },
  {
   "cell_type": "code",
   "execution_count": 11,
   "outputs": [
    {
     "data": {
      "text/plain": "'1'"
     },
     "execution_count": 11,
     "metadata": {},
     "output_type": "execute_result"
    }
   ],
   "source": [
    "str(y.parents[1])"
   ],
   "metadata": {
    "collapsed": false
   }
  },
  {
   "cell_type": "code",
   "execution_count": 12,
   "outputs": [
    {
     "data": {
      "text/plain": "'vmap(3, (∅, ∅), normal_scale)(normal_scale(1.1,2.2),1)'"
     },
     "execution_count": 12,
     "metadata": {},
     "output_type": "execute_result"
    }
   ],
   "source": [
    "str(y)"
   ],
   "metadata": {
    "collapsed": false
   }
  },
  {
   "cell_type": "code",
   "execution_count": 23,
   "outputs": [],
   "source": [
    "x = normal(0,1)\n",
    "y,z = vmap(\n",
    "    lambda: (yi := normal(x,2),\n",
    "             zi := vmap(\n",
    "                 lambda: normal(yi,3),\n",
    "                 None,\n",
    "                 5\n",
    "             )()\n",
    "             ),\n",
    "    None,\n",
    "    3\n",
    "    )()"
   ],
   "metadata": {
    "collapsed": false
   }
  },
  {
   "cell_type": "code",
   "execution_count": 24,
   "outputs": [
    {
     "data": {
      "text/plain": "(3,)"
     },
     "execution_count": 24,
     "metadata": {},
     "output_type": "execute_result"
    }
   ],
   "source": [
    "y.shape"
   ],
   "metadata": {
    "collapsed": false
   }
  },
  {
   "cell_type": "code",
   "execution_count": 25,
   "outputs": [
    {
     "name": "stdout",
     "output_type": "stream",
     "text": [
      "x.shape=()\n",
      "y.shape=(3,)\n"
     ]
    }
   ],
   "source": [
    "x = normal(0,1)\n",
    "y = plate(N=3)(lambda:\n",
    "    normal(x,1))\n",
    "print(f\"{x.shape=}\")\n",
    "print(f\"{y.shape=}\")"
   ],
   "metadata": {
    "collapsed": false
   }
  },
  {
   "cell_type": "code",
   "execution_count": 30,
   "outputs": [
    {
     "name": "stdout",
     "output_type": "stream",
     "text": [
      "x.shape=()\n",
      "y.shape=(3,)\n",
      "z.shape=(3, 5)\n",
      "a: ()     [   ] 0\n",
      "b: ()     [   ] 1\n",
      "c: ()     [a,b] normal_scale\n",
      "d: ()     [   ] 1\n",
      "e: (3,)   [c,d] vmap(3, (∅, ∅), normal_scale)\n",
      "f: ()     [   ] 1\n",
      "g: (3, 5) [e,f] vmap(3, (0, ∅), vmap(5, (∅, ∅), normal_scale))\n"
     ]
    }
   ],
   "source": [
    "x = normal(0,1)\n",
    "y,z = plate(N=3)(lambda:\n",
    "    (yi := normal(x,1),\n",
    "     zi := plate(N=5)(lambda:\n",
    "        normal(yi,1))))\n",
    "\n",
    "print(f\"{x.shape=}\")\n",
    "print(f\"{y.shape=}\")\n",
    "print(f\"{z.shape=}\")\n",
    "\n",
    "print_upstream(y,z)"
   ],
   "metadata": {
    "collapsed": false
   }
  },
  {
   "cell_type": "code",
   "execution_count": null,
   "outputs": [],
   "source": [],
   "metadata": {
    "collapsed": false
   }
  }
 ],
 "metadata": {
  "kernelspec": {
   "display_name": "Python 3",
   "language": "python",
   "name": "python3"
  },
  "language_info": {
   "codemirror_mode": {
    "name": "ipython",
    "version": 2
   },
   "file_extension": ".py",
   "mimetype": "text/x-python",
   "name": "python",
   "nbconvert_exporter": "python",
   "pygments_lexer": "ipython2",
   "version": "2.7.6"
  }
 },
 "nbformat": 4,
 "nbformat_minor": 0
}
