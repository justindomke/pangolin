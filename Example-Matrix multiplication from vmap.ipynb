{
 "cells": [
  {
   "cell_type": "markdown",
   "id": "3e69d9db",
   "metadata": {},
   "source": [
    "Lets go crazy and build matrix multiplication just from vmap\n",
    "\n",
    "Currently we need to do some manual transposes and stuff due to the fact that vmap always vectorizes over the first dimension."
   ]
  },
  {
   "cell_type": "code",
   "execution_count": 1,
   "id": "1d41b8ee",
   "metadata": {},
   "outputs": [
    {
     "name": "stdout",
     "output_type": "stream",
     "text": [
      "E(inner(x,y)) 50.0\n",
      "x @ y         50\n",
      "\n",
      "E(mat_times_vec(A,x)) [ 14.00  32.00  50.00]\n",
      "E(A @ x)              [ 14.00  32.00  50.00]\n",
      "A0 @ x0               [14 32 50]\n",
      "\n",
      "E(mat_times_mat(A,B))\n",
      " [[ 15.00  18.00  16.00]\n",
      " [ 42.00  45.00  43.00]\n",
      " [ 69.00  72.00  70.00]]\n",
      "E(A @ B              \n",
      " [[ 15.00  18.00  16.00]\n",
      " [ 42.00  45.00  43.00]\n",
      " [ 69.00  72.00  70.00]]\n",
      "A0 @ B0              \n",
      " [[15 18 16]\n",
      " [42 45 43]\n",
      " [69 72 70]]\n"
     ]
    }
   ],
   "source": [
    "from pangolin import Given, d, t, I, IID, vmap, sample, E, P, var, std, cov, corr, makerv, jags_code\n",
    "from matplotlib import pyplot as plt\n",
    "import numpy as np\n",
    "np.set_printoptions(formatter={'float': '{:6.2f}'.format}) # print nicely\n",
    "\n",
    "A0 = np.array([[1,2,3],[4,5,6],[7,8,9]])\n",
    "B0 = np.array([[5,2,2],[2,5,7],[2,2,0]])\n",
    "x0 = np.array([1,2,3])\n",
    "y0 = np.array([4,8,10])\n",
    "A = makerv(A0)\n",
    "B = makerv(B0)\n",
    "x = makerv(x0)\n",
    "y = makerv(y0)\n",
    "\n",
    "elementwise = vmap(lambda a,b:a*b,[True,True])\n",
    "inner = lambda a,b: t.sum(elementwise(a,b))\n",
    "print('E(inner(x,y))',E(inner(x,y)))\n",
    "print('x @ y        ',x0 @ y0)\n",
    "\n",
    "print('')\n",
    "mat_times_vec = vmap(inner,[True,False])\n",
    "print('E(mat_times_vec(A,x))',E(mat_times_vec(A,x)))\n",
    "print('E(A @ x)             ',E(A @ x))\n",
    "print('A0 @ x0              ',A0 @ x0)\n",
    "\n",
    "print('')\n",
    "matT_times_mat = vmap(mat_times_vec,[False,True])\n",
    "mat_times_mat  = lambda A,B: matT_times_mat(B.T,A) # vmap doesn't do things in right order\n",
    "print('E(mat_times_mat(A,B))\\n',E(mat_times_mat(A,B)))\n",
    "print('E(A @ B              \\n',E(A @ B))\n",
    "print('A0 @ B0              \\n',A0 @ B0)"
   ]
  },
  {
   "cell_type": "markdown",
   "id": "eec71f7c",
   "metadata": {},
   "source": [
    "It's interesting to look at what code is generated for these."
   ]
  },
  {
   "cell_type": "code",
   "execution_count": 2,
   "id": "51a775db",
   "metadata": {},
   "outputs": [
    {
     "name": "stdout",
     "output_type": "stream",
     "text": [
      "model{\n",
      "v31v<-(v2v[1:3])%*%(v3v[1:3]);\n",
      "}\n",
      "\n"
     ]
    }
   ],
   "source": [
    "# inner-product via JAGS native matrix multiplication\n",
    "\n",
    "print(jags_code(x @ y))"
   ]
  },
  {
   "cell_type": "code",
   "execution_count": 3,
   "id": "7c221cf0",
   "metadata": {},
   "outputs": [
    {
     "name": "stdout",
     "output_type": "stream",
     "text": [
      "model{\n",
      "for (i0 in 1:3){\n",
      "  v35v[i0]<-(v2v[i0])*(v3v[i0]);\n",
      "}\n",
      "v36v<-sum(v35v[1:3]);\n",
      "}\n",
      "\n"
     ]
    }
   ],
   "source": [
    "# inner-product via vmap\n",
    "\n",
    "print(jags_code(inner(x,y)))"
   ]
  },
  {
   "cell_type": "code",
   "execution_count": 4,
   "id": "dd994ac7",
   "metadata": {},
   "outputs": [
    {
     "name": "stdout",
     "output_type": "stream",
     "text": [
      "model{\n",
      "v37v[1:3]<-(v0v[1:3,1:3])%*%(v2v[1:3]);\n",
      "}\n",
      "\n"
     ]
    }
   ],
   "source": [
    "# mat times vector using JAGS native matrix multiplication\n",
    "\n",
    "print(jags_code(A @ x))"
   ]
  },
  {
   "cell_type": "code",
   "execution_count": 5,
   "id": "41c3ce04",
   "metadata": {},
   "outputs": [
    {
     "name": "stdout",
     "output_type": "stream",
     "text": [
      "model{\n",
      "for (i1 in 1:3){\n",
      "  for (i0 in 1:3){\n",
      "    v44v[i1,i0]<-(v0v[i1,i0])*(v2v[i0]);\n",
      "  }\n",
      "}\n",
      "for (i0 in 1:3){\n",
      "  v45v[i0]<-sum(v44v[i0,1:3]);\n",
      "}\n",
      "}\n",
      "\n"
     ]
    }
   ],
   "source": [
    "# mat times vector using vmap on top of vmap\n",
    "\n",
    "print(jags_code(mat_times_vec(A, x)))"
   ]
  },
  {
   "cell_type": "code",
   "execution_count": 6,
   "id": "4e7096f3",
   "metadata": {},
   "outputs": [
    {
     "name": "stdout",
     "output_type": "stream",
     "text": [
      "model{\n",
      "v46v[1:3,1:3]<-(v0v[1:3,1:3])%*%(v1v[1:3,1:3]);\n",
      "}\n",
      "\n"
     ]
    }
   ],
   "source": [
    "# mat times mat using jags native matrix multiplication\n",
    "\n",
    "print(jags_code(A @ B))"
   ]
  },
  {
   "cell_type": "code",
   "execution_count": 7,
   "id": "5264e938",
   "metadata": {},
   "outputs": [
    {
     "name": "stdout",
     "output_type": "stream",
     "text": [
      "model{\n",
      "v47v[1:3,1:3]<-t(v1v[1:3,1:3]);\n",
      "for (i2 in 1:3){\n",
      "  for (i1 in 1:3){\n",
      "    for (i0 in 1:3){\n",
      "      v57v[i2,i1,i0]<-(v47v[i1,i0])*(v0v[i2,i0]);\n",
      "    }\n",
      "  }\n",
      "}\n",
      "for (i1 in 1:3){\n",
      "  for (i0 in 1:3){\n",
      "    v58v[i1,i0]<-sum(v57v[i1,i0,1:3]);\n",
      "  }\n",
      "}\n",
      "}\n",
      "\n"
     ]
    }
   ],
   "source": [
    "# mat times mat using vmap on top of vmap on top of vmap\n",
    "\n",
    "print(jags_code(mat_times_mat(A,B)))"
   ]
  }
 ],
 "metadata": {
  "kernelspec": {
   "display_name": "Python 3 (ipykernel)",
   "language": "python",
   "name": "python3"
  },
  "language_info": {
   "codemirror_mode": {
    "name": "ipython",
    "version": 3
   },
   "file_extension": ".py",
   "mimetype": "text/x-python",
   "name": "python",
   "nbconvert_exporter": "python",
   "pygments_lexer": "ipython3",
   "version": "3.9.7"
  }
 },
 "nbformat": 4,
 "nbformat_minor": 5
}
